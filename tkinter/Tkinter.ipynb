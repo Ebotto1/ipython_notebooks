{
 "metadata": {
  "name": "Tkinter"
 },
 "nbformat": 3,
 "nbformat_minor": 0,
 "worksheets": [
  {
   "cells": [
    {
     "cell_type": "heading",
     "level": 3,
     "metadata": {},
     "source": "This is a Tkinter GUI application - Converts feet to meters"
    },
    {
     "cell_type": "code",
     "collapsed": false,
     "input": "from Tkinter import *\nimport ttk\n\ndef calculate(*args):\n    try:\n        value = float(feet.get())\n        meters.set((0.3048*value*10000.0+0.5)/10000.0)\n    except ValueError:\n        pass\n\nroot = Tk()\nroot.title(\"Feet to meters\")\n\nmainframe = ttk.Frame(root, padding=\"3 3 12 12\")\nmainframe.grid(column=0, row=0, sticky=(N,W,E,S))\nmainframe.columnconfigure(0, weight=1)\nmainframe.rowconfigure(0, weight=1)\n\nfeet = StringVar()\nfeet_entry = ttk.Entry(mainframe, width=7, textvariable=feet)\nfeet_entry.grid(column=2, row=1, sticky=(W,E))\n\nmeters = StringVar()\nttk.Label(mainframe, textvariable=meters).grid(column=2, row=2, sticky=(W,E))\nttk.Button(mainframe, text=\"Calculate\", command=calculate).grid(column=3, row=3, sticky=W)\n\nttk.Label(mainframe, text=\"feet\").grid(column=3, row=1, sticky=W)\nttk.Label(mainframe, text=\"is equivalent to\").grid(column=1, row=2, sticky=E)\nttk.Label(mainframe, text=\"meters\").grid(column=3, row=2, sticky=W)\n\nfor child in mainframe.winfo_children():\n    child.grid_configure(padx=5, pady=5)\n    \nfeet_entry.focus()\nroot.bind('<Return>', calculate)\n\nroot.mainloop()",
     "language": "python",
     "metadata": {},
     "outputs": [],
     "prompt_number": 13
    }
   ],
   "metadata": {}
  }
 ]
}