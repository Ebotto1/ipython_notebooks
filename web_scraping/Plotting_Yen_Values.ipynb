{
 "metadata": {
  "name": "",
  "signature": "sha256:d85122adc9c787ab99e64a2f21787b0dc56bb42a304cefe781acc6f0a8388b94"
 },
 "nbformat": 3,
 "nbformat_minor": 0,
 "worksheets": [
  {
   "cells": [
    {
     "cell_type": "markdown",
     "metadata": {},
     "source": [
      "<center><h2>Python Script to Plot Yen values versus US Dollars<h/2></center>"
     ]
    },
    {
     "cell_type": "markdown",
     "metadata": {},
     "source": [
      "I am getting the Yen to US dollar exchange rates from [here](http://research.stlouisfed.org/fred2/data/EXJPUS.txt) provided by the U.S. Federal Reserve."
     ]
    },
    {
     "cell_type": "code",
     "collapsed": false,
     "input": [
      "import pandas as pd\n",
      "import matplotlib.pyplot as plt\n",
      "from matplotlib.dates import YearLocator, MonthLocator, WeekdayLocator, DateFormatter, DayLocator\n",
      "from matplotlib.dates import MO, TU, WE, TH, FR, SA, SU\n",
      "\n",
      "from matplotlib.ticker import MultipleLocator\n",
      "from datetime import datetime\n",
      "\n",
      "############## Data metadata ############\n",
      "# Text file with actual yen data not starting until row 29. First 28 rows of data are just descriptions of the data\n",
      "# Data consists of 2 columns that are separated/delimited by white space:\n",
      "#    first column of the data is a string date in YYYY-mm-dd format, \n",
      "#    second column is the yen-US dollar exchange\n",
      "\n",
      "############## Data Retrieval ############\n",
      "# Using converters parameter, convert the string dates into Python datetime objects\n",
      "yen_data = pd.read_csv('http://research.stlouisfed.org/fred2/data/EXJPUS.txt', skiprows=28,\n",
      "                       index_col=0, delim_whitespace=True,\n",
      "                       converters={0: lambda x: datetime.strptime(x, \"%Y-%m-%d\")})\n",
      "    \n",
      "############## Creation of Top Chart ###########\n",
      "fig, axes = plt.subplots(2, 1)  # Create a grid of 2 rows and 1 column of charts (2 charts total)\n",
      "\n",
      "# Let's define x-axis date interval sizes: year, month, week, or day\n",
      "year   = YearLocator()\n",
      "month  = MonthLocator(bymonth=range(1,13),  bymonthday=1, interval=1)\n",
      "week   = WeekdayLocator(byweekday=MO)  # Every MOnday\n",
      "day    = DayLocator(bymonthday=range(1,32), interval=1)\n",
      "\n",
      "axes[0] = fig.add_axes([0, 1.3, 1.5, 1]) # left, bottom, width, height\n",
      "\n",
      "# Let's define x-axis formatting\n",
      "axes[0].xaxis.set_major_locator(year)\n",
      "axes[0].xaxis.grid(which='major')\n",
      "\n",
      "# Let's define y-axis formatting\n",
      "y_major_ticks = MultipleLocator(50)\n",
      "axes[0].yaxis.set_major_locator(y_major_ticks)\n",
      "axes[0].yaxis.set_ticks_position('right')   # Not sure why 'both' don't work\n",
      "axes[0].yaxis.set_label_position('right')\n",
      "axes[0].yaxis.grid(which='major')\n",
      "\n",
      "# Now plot the data...\n",
      "axes[0].plot_date(yen_data.index, yen_data.values, 'r')\n",
      "axes[0].set_title(\"Yen-to-US$ Exchange Rate Since 1971\", weight=\"bold\")\n",
      "axes[0].set_xlabel(\"Year\")\n",
      "axes[0].set_ylabel(\"Yen-US$\")\n",
      "#plt.setp(axes[0].get_xticklabels(), rotation=-90)\n",
      "\n",
      "############## Prepare 2nd data set for bottom chart ###########\n",
      "# http://pandas.pydata.org/pandas-docs/stable/timeseries.html#partial-string-indexing\n",
      "today = datetime.today()\n",
      "this_year = today.year\n",
      "last_year = this_year - 1\n",
      "yen2yrs = yen_data[str(last_year):str(this_year)]  # Filter our data set to just last 2 calendar years\n",
      "\n",
      "############## Creation of Bottom Chart ###########\n",
      "axes[1] = fig.add_axes([0, 0, 1.5, 1]) # left, bottom, width, height\n",
      "\n",
      "# Let's define x-axis formatting\n",
      "monthsFmt = DateFormatter(\"%b '%y\")\n",
      "axes[1].xaxis.set_major_locator(month)\n",
      "axes[1].xaxis.set_major_formatter(monthsFmt)\n",
      "axes[1].xaxis.grid(which='major')\n",
      "\n",
      "# Let's define y-axis formatting\n",
      "y_major_ticks = MultipleLocator(1)\n",
      "axes[1].yaxis.set_major_locator(y_major_ticks)\n",
      "axes[1].yaxis.set_ticks_position('right')   # Not sure why 'both' don't work\n",
      "axes[1].yaxis.set_label_position('right')\n",
      "axes[1].yaxis.grid(which='major')\n",
      "\n",
      "# Now plot the data...\n",
      "axes[1].plot_date(yen2yrs.index, yen2yrs.values, 'r')\n",
      "axes[1].set_title(\"Yen-to-US$ Exchange Rate of Last 2 Calendar Years\", weight=\"bold\")\n",
      "axes[1].set_xlabel(\"Year\")\n",
      "axes[1].set_ylabel(\"Yen-US$\")\n",
      "#plt.setp(axes[1].get_xticklabels(), rotation=-90)\n",
      "plt.show()"
     ],
     "language": "python",
     "metadata": {},
     "outputs": [
      {
       "metadata": {},
       "output_type": "display_data",
       "text": [
        "<matplotlib.figure.Figure at 0xb000e8cc>"
       ]
      }
     ],
     "prompt_number": 6
    }
   ],
   "metadata": {}
  }
 ]
}