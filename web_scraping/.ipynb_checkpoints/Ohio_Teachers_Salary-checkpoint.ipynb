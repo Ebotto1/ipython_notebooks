{
 "metadata": {
  "name": "",
  "signature": "sha256:ba6524bc0fb406fefc4799ab5f64e0ea32a0854312ad8e7e285e4d581f2ee51b"
 },
 "nbformat": 3,
 "nbformat_minor": 0,
 "worksheets": [
  {
   "cells": [
    {
     "cell_type": "markdown",
     "metadata": {},
     "source": [
      "# <center>Summarizing Ohio Teachers' Salary Using Python and Pandas Library</center>"
     ]
    },
    {
     "cell_type": "markdown",
     "metadata": {},
     "source": [
      "This IPython notebook demonstrates how to do basic data cleaning and analysis on a csv or Excel file containing salary information of Ohio's teachers.  We will be using the Python programming language and Pandas data analysis package to perform the data analysis."
     ]
    },
    {
     "cell_type": "markdown",
     "metadata": {},
     "source": [
      "I obtained Ohio teachers' salary information from Ohio's state treasurer's <a href='http://www.tos.ohio.gov/Transparency_Teacher.aspx'>web site</a>.&nbsp;&nbsp;<strong>NOTE:</strong> Teachers' salary information is public information!"
     ]
    },
    {
     "cell_type": "markdown",
     "metadata": {},
     "source": [
      "<a name='top'></a>"
     ]
    },
    {
     "cell_type": "markdown",
     "metadata": {},
     "source": [
      "## Sections"
     ]
    },
    {
     "cell_type": "markdown",
     "metadata": {},
     "source": [
      "- [Fetching the data](#fetch)\n",
      "- [Data clean-up](#clean)\n",
      "- [Basic summary counts](#basic_summary)\n",
      "- [Filtering data](#sql)\n",
      "- [Simple visualization and Top School Districts](#visualization)\n",
      "- [Merging data sets together](#merging)\n",
      "- [Top 25 Median Salaries by School Discricts](#top25)"
     ]
    },
    {
     "cell_type": "markdown",
     "metadata": {},
     "source": [
      "<a name='fetch'></a>"
     ]
    },
    {
     "cell_type": "heading",
     "level": 1,
     "metadata": {},
     "source": [
      "Fetching The Data"
     ]
    },
    {
     "cell_type": "markdown",
     "metadata": {},
     "source": [
      "You can get the data (xlsx file) directly from the Ohio treasurer's web site (*can take a few minutes*):"
     ]
    },
    {
     "cell_type": "code",
     "collapsed": false,
     "input": [
      "import pandas as pd\n",
      "\n",
      "ohio = pd.read_excel(\"http://www.tos.ohio.gov/Documents/Transparency/2012-2013%20School%20Year%20Staff%20Information.xlsx\",\n",
      "                  \"2012 - 2013 School Year Staff I\",index_col=None, na_values=['NA'])"
     ],
     "language": "python",
     "metadata": {},
     "outputs": [],
     "prompt_number": 1
    },
    {
     "cell_type": "heading",
     "level": 2,
     "metadata": {},
     "source": [
      "or"
     ]
    },
    {
     "cell_type": "heading",
     "level": 4,
     "metadata": {},
     "source": [
      "Download the data locally as a CSV file, then read it:"
     ]
    },
    {
     "cell_type": "code",
     "collapsed": false,
     "input": [
      "import pandas as pd\n",
      "# Let's read the data, but we need to remove commas and dollar signs from the PAY AMOUNT column\n",
      "# Otherwise it will be read as a string or text value.  We can't do statistics on text or string values!\n",
      "# 'ohio' is a data structure created by pandas that is similar to what a table would look like\n",
      "ohio = pd.read_csv('/home/pybokeh/Desktop/2012-2013_School_Year_Staff_Information.csv',\n",
      "                   converters={'PAY AMOUNT': lambda x: float(x.replace('$', '').replace(',',''))})"
     ],
     "language": "python",
     "metadata": {},
     "outputs": [],
     "prompt_number": 51
    },
    {
     "cell_type": "heading",
     "level": 4,
     "metadata": {},
     "source": [
      "Now let's take a peek at our data, but in doing so, we have to set certain display settings per the [documentation](http://pandas.pydata.org/pandas-docs/stable/options.html):"
     ]
    },
    {
     "cell_type": "code",
     "collapsed": false,
     "input": [
      "pd.set_option('large_repr','truncate')\n",
      "pd.set_option('max_columns',15)\n",
      "pd.set_option('max_rows',2000)\n",
      "ohio.head()"
     ],
     "language": "python",
     "metadata": {},
     "outputs": [
      {
       "html": [
        "<div style=\"max-height:1000px;max-width:1500px;overflow:auto;\">\n",
        "<table border=\"1\" class=\"dataframe\">\n",
        "  <thead>\n",
        "    <tr style=\"text-align: right;\">\n",
        "      <th></th>\n",
        "      <th>LAST NAME</th>\n",
        "      <th>FIRST NAME</th>\n",
        "      <th>EDUCATION LEVEL</th>\n",
        "      <th>JOB DESCRIPTION</th>\n",
        "      <th>DISTRICT NAME</th>\n",
        "      <th>COUNTY NAME</th>\n",
        "      <th>SCHOOL NAME</th>\n",
        "      <th>CITY NAME</th>\n",
        "      <th>DAYS WORKED</th>\n",
        "      <th>HOURS WORKED PER DAY</th>\n",
        "      <th>PAY AMOUNT</th>\n",
        "    </tr>\n",
        "  </thead>\n",
        "  <tbody>\n",
        "    <tr>\n",
        "      <th>0</th>\n",
        "      <td>    ROZELLE</td>\n",
        "      <td>    LINDA</td>\n",
        "      <td> Non-degree</td>\n",
        "      <td>                         Teaching Aide Assignment </td>\n",
        "      <td> A+ Arts Academy</td>\n",
        "      <td> Franklin</td>\n",
        "      <td> A+ Arts Academy</td>\n",
        "      <td> Columbus</td>\n",
        "      <td> 0</td>\n",
        "      <td> 4.00</td>\n",
        "      <td> 10.0</td>\n",
        "    </tr>\n",
        "    <tr>\n",
        "      <th>1</th>\n",
        "      <td>      BROWN</td>\n",
        "      <td>  MICHELL</td>\n",
        "      <td> Non-degree</td>\n",
        "      <td>                         Teaching Aide Assignment </td>\n",
        "      <td> A+ Arts Academy</td>\n",
        "      <td> Franklin</td>\n",
        "      <td> A+ Arts Academy</td>\n",
        "      <td> Columbus</td>\n",
        "      <td> 0</td>\n",
        "      <td> 0.00</td>\n",
        "      <td> 10.3</td>\n",
        "    </tr>\n",
        "    <tr>\n",
        "      <th>2</th>\n",
        "      <td>     WILDER</td>\n",
        "      <td>   GLORIA</td>\n",
        "      <td> Non-degree</td>\n",
        "      <td>                           Food Service Assignment</td>\n",
        "      <td> A+ Arts Academy</td>\n",
        "      <td> Franklin</td>\n",
        "      <td> A+ Arts Academy</td>\n",
        "      <td> Columbus</td>\n",
        "      <td> 0</td>\n",
        "      <td> 6.25</td>\n",
        "      <td> 11.0</td>\n",
        "    </tr>\n",
        "    <tr>\n",
        "      <th>3</th>\n",
        "      <td> NAZAROVECH</td>\n",
        "      <td> MICHELLE</td>\n",
        "      <td>  Bachelors</td>\n",
        "      <td>    Education Administrative Specialist Assignment</td>\n",
        "      <td> A+ Arts Academy</td>\n",
        "      <td> Franklin</td>\n",
        "      <td> A+ Arts Academy</td>\n",
        "      <td> Columbus</td>\n",
        "      <td> 0</td>\n",
        "      <td> 4.00</td>\n",
        "      <td> 15.0</td>\n",
        "    </tr>\n",
        "    <tr>\n",
        "      <th>4</th>\n",
        "      <td>       CADE</td>\n",
        "      <td>    DEREK</td>\n",
        "      <td>  Bachelors</td>\n",
        "      <td> Tutor/Small Group Instructor Assignment (Serve...</td>\n",
        "      <td> A+ Arts Academy</td>\n",
        "      <td> Franklin</td>\n",
        "      <td> A+ Arts Academy</td>\n",
        "      <td> Columbus</td>\n",
        "      <td> 0</td>\n",
        "      <td> 0.00</td>\n",
        "      <td> 20.0</td>\n",
        "    </tr>\n",
        "  </tbody>\n",
        "</table>\n",
        "</div>"
       ],
       "metadata": {},
       "output_type": "pyout",
       "prompt_number": 2,
       "text": [
        "    LAST NAME FIRST NAME EDUCATION LEVEL  \\\n",
        "0     ROZELLE      LINDA      Non-degree   \n",
        "1       BROWN    MICHELL      Non-degree   \n",
        "2      WILDER     GLORIA      Non-degree   \n",
        "3  NAZAROVECH   MICHELLE       Bachelors   \n",
        "4        CADE      DEREK       Bachelors   \n",
        "\n",
        "                                     JOB DESCRIPTION    DISTRICT NAME  \\\n",
        "0                          Teaching Aide Assignment   A+ Arts Academy   \n",
        "1                          Teaching Aide Assignment   A+ Arts Academy   \n",
        "2                            Food Service Assignment  A+ Arts Academy   \n",
        "3     Education Administrative Specialist Assignment  A+ Arts Academy   \n",
        "4  Tutor/Small Group Instructor Assignment (Serve...  A+ Arts Academy   \n",
        "\n",
        "  COUNTY NAME      SCHOOL NAME CITY NAME  DAYS WORKED  HOURS WORKED PER DAY  \\\n",
        "0    Franklin  A+ Arts Academy  Columbus            0                  4.00   \n",
        "1    Franklin  A+ Arts Academy  Columbus            0                  0.00   \n",
        "2    Franklin  A+ Arts Academy  Columbus            0                  6.25   \n",
        "3    Franklin  A+ Arts Academy  Columbus            0                  4.00   \n",
        "4    Franklin  A+ Arts Academy  Columbus            0                  0.00   \n",
        "\n",
        "   PAY AMOUNT  \n",
        "0        10.0  \n",
        "1        10.3  \n",
        "2        11.0  \n",
        "3        15.0  \n",
        "4        20.0  "
       ]
      }
     ],
     "prompt_number": 2
    },
    {
     "cell_type": "heading",
     "level": 4,
     "metadata": {},
     "source": [
      "I also like to see if there are any Null values in our dataframe.  So we need to change the view behavior to get what I call the summary view:"
     ]
    },
    {
     "cell_type": "code",
     "collapsed": false,
     "input": [
      "pd.set_option('large_repr','info')\n",
      "ohio.describe"
     ],
     "language": "python",
     "metadata": {},
     "outputs": [
      {
       "metadata": {},
       "output_type": "pyout",
       "prompt_number": 3,
       "text": [
        "<bound method DataFrame.describe of <class 'pandas.core.frame.DataFrame'>\n",
        "Int64Index: 338809 entries, 0 to 338808\n",
        "Data columns (total 11 columns):\n",
        "LAST NAME               338792 non-null object\n",
        "FIRST NAME              338715 non-null object\n",
        "EDUCATION LEVEL         338809 non-null object\n",
        "JOB DESCRIPTION         338809 non-null object\n",
        "DISTRICT NAME           338754 non-null object\n",
        "COUNTY NAME             338501 non-null object\n",
        "SCHOOL NAME             325879 non-null object\n",
        "CITY NAME               325786 non-null object\n",
        "DAYS WORKED             338809 non-null int64\n",
        "HOURS WORKED PER DAY    338809 non-null float64\n",
        "PAY AMOUNT              338809 non-null float64\n",
        "dtypes: float64(2), int64(1), object(8)\n",
        "memory usage: 20.7 MB\n",
        ">"
       ]
      }
     ],
     "prompt_number": 3
    },
    {
     "cell_type": "markdown",
     "metadata": {},
     "source": [
      "# Data Clean-Up"
     ]
    },
    {
     "cell_type": "markdown",
     "metadata": {},
     "source": [
      "[[back to top](#top)]"
     ]
    },
    {
     "cell_type": "markdown",
     "metadata": {},
     "source": [
      "#### There are apparently some blank/null values in some of the columns.  We are going to use the fillna() function to fill missing values with whatever we want.  I will fill them with 'missing'.  Since the missing values are from columns that do not contain numeric values, this is not a concern for us normally."
     ]
    },
    {
     "cell_type": "code",
     "collapsed": false,
     "input": [
      "# Fill in missing values with \"missing\".  Use inplace=True so that we don't need to create a new data set\n",
      "ohio.fillna({'LAST NAME':'missing','FIRST NAME':'missing','DISTRICT NAME':'missing','COUNTY NAME':'missing',\n",
      "             'SCHOOL NAME':'missing','CITY NAME':'missing'}, inplace=True)\n",
      "ohio.describe"
     ],
     "language": "python",
     "metadata": {},
     "outputs": [
      {
       "metadata": {},
       "output_type": "pyout",
       "prompt_number": 4,
       "text": [
        "<bound method DataFrame.describe of <class 'pandas.core.frame.DataFrame'>\n",
        "Int64Index: 338809 entries, 0 to 338808\n",
        "Data columns (total 11 columns):\n",
        "LAST NAME               338809 non-null object\n",
        "FIRST NAME              338809 non-null object\n",
        "EDUCATION LEVEL         338809 non-null object\n",
        "JOB DESCRIPTION         338809 non-null object\n",
        "DISTRICT NAME           338809 non-null object\n",
        "COUNTY NAME             338809 non-null object\n",
        "SCHOOL NAME             338809 non-null object\n",
        "CITY NAME               338809 non-null object\n",
        "DAYS WORKED             338809 non-null int64\n",
        "HOURS WORKED PER DAY    338809 non-null float64\n",
        "PAY AMOUNT              338809 non-null float64\n",
        "dtypes: float64(2), int64(1), object(8)\n",
        "memory usage: 20.7 MB\n",
        ">"
       ]
      }
     ],
     "prompt_number": 4
    },
    {
     "cell_type": "markdown",
     "metadata": {},
     "source": [
      "#### Now, none of our columns have missing values.  It is important to fill in missing values or else they may not be included in counts we do later on.  But since none of the missing values were numeric values, we are ok anyway."
     ]
    },
    {
     "cell_type": "markdown",
     "metadata": {},
     "source": [
      "#### Another way to find out what the data type is for each of our columns in our dataframe is to use the dtypes attribute:"
     ]
    },
    {
     "cell_type": "code",
     "collapsed": false,
     "input": [
      "ohio.dtypes"
     ],
     "language": "python",
     "metadata": {},
     "outputs": [
      {
       "metadata": {},
       "output_type": "pyout",
       "prompt_number": 5,
       "text": [
        "LAST NAME                object\n",
        "FIRST NAME               object\n",
        "EDUCATION LEVEL          object\n",
        "JOB DESCRIPTION          object\n",
        "DISTRICT NAME            object\n",
        "COUNTY NAME              object\n",
        "SCHOOL NAME              object\n",
        "CITY NAME                object\n",
        "DAYS WORKED               int64\n",
        "HOURS WORKED PER DAY    float64\n",
        "PAY AMOUNT              float64\n",
        "dtype: object"
       ]
      }
     ],
     "prompt_number": 5
    },
    {
     "cell_type": "markdown",
     "metadata": {},
     "source": [
      "<a name='basic_summary'></a>"
     ]
    },
    {
     "cell_type": "markdown",
     "metadata": {},
     "source": [
      "# Basic Summary Counts"
     ]
    },
    {
     "cell_type": "markdown",
     "metadata": {},
     "source": [
      "[[back to top](#top)]"
     ]
    },
    {
     "cell_type": "markdown",
     "metadata": {},
     "source": [
      "#### Let's see what kind and how many school-related jobs are there in Ohio using pandas groupby function.  The groupby function allows us to perform similar data slicing and dicing that you can do with Excel's pivot tables or SQL's count(*)/group by:"
     ]
    },
    {
     "cell_type": "code",
     "collapsed": false,
     "input": [
      "job_description = ohio.groupby('JOB DESCRIPTION').size().order(ascending=False)\n",
      "job_description[:20]"
     ],
     "language": "python",
     "metadata": {},
     "outputs": [
      {
       "metadata": {},
       "output_type": "pyout",
       "prompt_number": 6,
       "text": [
        "JOB DESCRIPTION\n",
        "Teacher Assignment                                              108686\n",
        "Coaching Assignment                                              40449\n",
        "Advisor Assignment                                               26549\n",
        "Vehicle Operating (Bus) Assignment                               13956\n",
        "Food Service Assignment                                          13926\n",
        "Custodian Assignment                                             12178\n",
        "Teaching Aide Assignment                                         11818\n",
        "Clerical Assignment                                              11762\n",
        "Other Extra/Intra \u0013 Curricular Activities Assignment             11404\n",
        "Instructional Paraprofessional Assignment                         9270\n",
        "Supplemental Service Teaching Assignment (Serves Students with Disability Conditions Only)      7565\n",
        "Other Professional \u0013 Educational Assignment                       6693\n",
        "Monitoring Assignment                                             5018\n",
        "Tutor/Small Group Instructor Assignment (Serves Students Without Disability Conditions Only)       4609\n",
        "Counseling Assignment                                             4033\n",
        "Principal Assignment                                              3541\n",
        "Remedial Specialist Assignment                                    3512\n",
        "Speech and Language Therapist Assignment                          2765\n",
        "Psychologist Assignment                                           2276\n",
        "Coordinator Assignment                                            2232\n",
        "dtype: int64"
       ]
      }
     ],
     "prompt_number": 6
    },
    {
     "cell_type": "heading",
     "level": 4,
     "metadata": {},
     "source": [
      "As expected, overwhelmingly, most of the jobs at schools are teachers (\"Teacher Assignment\")."
     ]
    },
    {
     "cell_type": "markdown",
     "metadata": {},
     "source": [
      "#### There is also a nifty value_counts() method which does the same thing above, but with with less flexibility:"
     ]
    },
    {
     "cell_type": "code",
     "collapsed": false,
     "input": [
      "ohio['JOB DESCRIPTION'].value_counts()[:20]"
     ],
     "language": "python",
     "metadata": {},
     "outputs": [
      {
       "metadata": {},
       "output_type": "pyout",
       "prompt_number": 7,
       "text": [
        "Teacher Assignment                                              108686\n",
        "Coaching Assignment                                              40449\n",
        "Advisor Assignment                                               26549\n",
        "Vehicle Operating (Bus) Assignment                               13956\n",
        "Food Service Assignment                                          13926\n",
        "Custodian Assignment                                             12178\n",
        "Teaching Aide Assignment                                         11818\n",
        "Clerical Assignment                                              11762\n",
        "Other Extra/Intra \u0013 Curricular Activities Assignment             11404\n",
        "Instructional Paraprofessional Assignment                         9270\n",
        "Supplemental Service Teaching Assignment (Serves Students with Disability Conditions Only)      7565\n",
        "Other Professional \u0013 Educational Assignment                       6693\n",
        "Monitoring Assignment                                             5018\n",
        "Tutor/Small Group Instructor Assignment (Serves Students Without Disability Conditions Only)       4609\n",
        "Counseling Assignment                                             4033\n",
        "Principal Assignment                                              3541\n",
        "Remedial Specialist Assignment                                    3512\n",
        "Speech and Language Therapist Assignment                          2765\n",
        "Psychologist Assignment                                           2276\n",
        "Coordinator Assignment                                            2232\n",
        "dtype: int64"
       ]
      }
     ],
     "prompt_number": 7
    },
    {
     "cell_type": "markdown",
     "metadata": {},
     "source": [
      "<a name='sql'></a>"
     ]
    },
    {
     "cell_type": "markdown",
     "metadata": {},
     "source": [
      "# Filtering Data Sets Using SQL-like Criteria"
     ]
    },
    {
     "cell_type": "markdown",
     "metadata": {},
     "source": [
      "[[back to top](#top)]"
     ]
    },
    {
     "cell_type": "markdown",
     "metadata": {},
     "source": [
      "#### Let's assume, I'm only interested in a certain school district and teaching positions like in Dublin, Ohio, pay amount greater than zero, and are full-time teachers (worked a least 6 months and work 8-hour days):"
     ]
    },
    {
     "cell_type": "code",
     "collapsed": false,
     "input": [
      "criterion1 = ohio['DISTRICT NAME'].str.contains('Dublin')\n",
      "criterion2 = ohio['PAY AMOUNT'] > 0\n",
      "criterion3 = ohio['JOB DESCRIPTION'] == 'Teacher Assignment'\n",
      "criterion4 = ohio['DAYS WORKED'] > 180\n",
      "criterion5 = ohio['HOURS WORKED PER DAY'] >=8\n",
      "dublin_teachers = ohio[criterion1 & criterion2 & criterion3 & criterion4 & criterion5]\n",
      "print(\"There are:\", str(len(dublin_teachers)), \"teachers that met the criteria.\")"
     ],
     "language": "python",
     "metadata": {},
     "outputs": [
      {
       "output_type": "stream",
       "stream": "stdout",
       "text": [
        "There are: 813 teachers that met the criteria.\n"
       ]
      }
     ],
     "prompt_number": 8
    },
    {
     "cell_type": "heading",
     "level": 4,
     "metadata": {},
     "source": [
      "Let's look at some sample data by using panda's head() function (by default, it shows first 5 rows of data):"
     ]
    },
    {
     "cell_type": "code",
     "collapsed": false,
     "input": [
      "pd.set_option('large_repr','truncate')  # Earlier we invoked pd.set_option('large_repr','info'), so need to override this\n",
      "dublin_teachers.head()"
     ],
     "language": "python",
     "metadata": {},
     "outputs": [
      {
       "html": [
        "<div style=\"max-height:1000px;max-width:1500px;overflow:auto;\">\n",
        "<table border=\"1\" class=\"dataframe\">\n",
        "  <thead>\n",
        "    <tr style=\"text-align: right;\">\n",
        "      <th></th>\n",
        "      <th>LAST NAME</th>\n",
        "      <th>FIRST NAME</th>\n",
        "      <th>EDUCATION LEVEL</th>\n",
        "      <th>JOB DESCRIPTION</th>\n",
        "      <th>DISTRICT NAME</th>\n",
        "      <th>COUNTY NAME</th>\n",
        "      <th>SCHOOL NAME</th>\n",
        "      <th>CITY NAME</th>\n",
        "      <th>DAYS WORKED</th>\n",
        "      <th>HOURS WORKED PER DAY</th>\n",
        "      <th>PAY AMOUNT</th>\n",
        "    </tr>\n",
        "  </thead>\n",
        "  <tbody>\n",
        "    <tr>\n",
        "      <th>94270</th>\n",
        "      <td>     YUEN</td>\n",
        "      <td>   AMBER</td>\n",
        "      <td> Masters</td>\n",
        "      <td> Teacher Assignment</td>\n",
        "      <td> Dublin City</td>\n",
        "      <td> Franklin</td>\n",
        "      <td>       Dublin Scioto High School</td>\n",
        "      <td>   Dublin</td>\n",
        "      <td> 185</td>\n",
        "      <td> 8</td>\n",
        "      <td> 27862</td>\n",
        "    </tr>\n",
        "    <tr>\n",
        "      <th>94291</th>\n",
        "      <td>     KECK</td>\n",
        "      <td> WHITNEY</td>\n",
        "      <td> Masters</td>\n",
        "      <td> Teacher Assignment</td>\n",
        "      <td> Dublin City</td>\n",
        "      <td> Franklin</td>\n",
        "      <td>  Willard Grizzell Middle School</td>\n",
        "      <td>   Dublin</td>\n",
        "      <td> 185</td>\n",
        "      <td> 8</td>\n",
        "      <td> 28927</td>\n",
        "    </tr>\n",
        "    <tr>\n",
        "      <th>94292</th>\n",
        "      <td>  SANZONE</td>\n",
        "      <td> CATHRYN</td>\n",
        "      <td> Masters</td>\n",
        "      <td> Teacher Assignment</td>\n",
        "      <td> Dublin City</td>\n",
        "      <td> Franklin</td>\n",
        "      <td>      Dublin Coffman High School</td>\n",
        "      <td>   Dublin</td>\n",
        "      <td> 185</td>\n",
        "      <td> 8</td>\n",
        "      <td> 28927</td>\n",
        "    </tr>\n",
        "    <tr>\n",
        "      <th>94333</th>\n",
        "      <td>   ROGERS</td>\n",
        "      <td>    TARA</td>\n",
        "      <td> Masters</td>\n",
        "      <td> Teacher Assignment</td>\n",
        "      <td> Dublin City</td>\n",
        "      <td> Franklin</td>\n",
        "      <td>      Dublin Coffman High School</td>\n",
        "      <td>   Dublin</td>\n",
        "      <td> 185</td>\n",
        "      <td> 8</td>\n",
        "      <td> 30976</td>\n",
        "    </tr>\n",
        "    <tr>\n",
        "      <th>94334</th>\n",
        "      <td> CHAMBERS</td>\n",
        "      <td> KRISTEN</td>\n",
        "      <td> Masters</td>\n",
        "      <td> Teacher Assignment</td>\n",
        "      <td> Dublin City</td>\n",
        "      <td> Franklin</td>\n",
        "      <td> Daniel Wright Elementary School</td>\n",
        "      <td> Columbus</td>\n",
        "      <td> 185</td>\n",
        "      <td> 8</td>\n",
        "      <td> 31058</td>\n",
        "    </tr>\n",
        "  </tbody>\n",
        "</table>\n",
        "</div>"
       ],
       "metadata": {},
       "output_type": "pyout",
       "prompt_number": 9,
       "text": [
        "      LAST NAME FIRST NAME EDUCATION LEVEL     JOB DESCRIPTION DISTRICT NAME  \\\n",
        "94270      YUEN      AMBER         Masters  Teacher Assignment   Dublin City   \n",
        "94291      KECK    WHITNEY         Masters  Teacher Assignment   Dublin City   \n",
        "94292   SANZONE    CATHRYN         Masters  Teacher Assignment   Dublin City   \n",
        "94333    ROGERS       TARA         Masters  Teacher Assignment   Dublin City   \n",
        "94334  CHAMBERS    KRISTEN         Masters  Teacher Assignment   Dublin City   \n",
        "\n",
        "      COUNTY NAME                      SCHOOL NAME CITY NAME  DAYS WORKED  \\\n",
        "94270    Franklin        Dublin Scioto High School    Dublin          185   \n",
        "94291    Franklin   Willard Grizzell Middle School    Dublin          185   \n",
        "94292    Franklin       Dublin Coffman High School    Dublin          185   \n",
        "94333    Franklin       Dublin Coffman High School    Dublin          185   \n",
        "94334    Franklin  Daniel Wright Elementary School  Columbus          185   \n",
        "\n",
        "       HOURS WORKED PER DAY  PAY AMOUNT  \n",
        "94270                     8       27862  \n",
        "94291                     8       28927  \n",
        "94292                     8       28927  \n",
        "94333                     8       30976  \n",
        "94334                     8       31058  "
       ]
      }
     ],
     "prompt_number": 9
    },
    {
     "cell_type": "heading",
     "level": 1,
     "metadata": {},
     "source": [
      "Basic Summary Statistics"
     ]
    },
    {
     "cell_type": "heading",
     "level": 4,
     "metadata": {},
     "source": [
      "Summary statistics on columns containing numeric values using pandas describe() function:"
     ]
    },
    {
     "cell_type": "code",
     "collapsed": false,
     "input": [
      "dublin_teachers.describe()"
     ],
     "language": "python",
     "metadata": {},
     "outputs": [
      {
       "html": [
        "<div style=\"max-height:1000px;max-width:1500px;overflow:auto;\">\n",
        "<table border=\"1\" class=\"dataframe\">\n",
        "  <thead>\n",
        "    <tr style=\"text-align: right;\">\n",
        "      <th></th>\n",
        "      <th>DAYS WORKED</th>\n",
        "      <th>HOURS WORKED PER DAY</th>\n",
        "      <th>PAY AMOUNT</th>\n",
        "    </tr>\n",
        "  </thead>\n",
        "  <tbody>\n",
        "    <tr>\n",
        "      <th>count</th>\n",
        "      <td> 813.000000</td>\n",
        "      <td> 813</td>\n",
        "      <td>   813.000000</td>\n",
        "    </tr>\n",
        "    <tr>\n",
        "      <th>mean</th>\n",
        "      <td> 185.029520</td>\n",
        "      <td>   8</td>\n",
        "      <td> 74544.772448</td>\n",
        "    </tr>\n",
        "    <tr>\n",
        "      <th>std</th>\n",
        "      <td>   0.453899</td>\n",
        "      <td>   0</td>\n",
        "      <td> 15850.050199</td>\n",
        "    </tr>\n",
        "    <tr>\n",
        "      <th>min</th>\n",
        "      <td> 183.000000</td>\n",
        "      <td>   8</td>\n",
        "      <td> 27862.000000</td>\n",
        "    </tr>\n",
        "    <tr>\n",
        "      <th>25%</th>\n",
        "      <td> 185.000000</td>\n",
        "      <td>   8</td>\n",
        "      <td> 62115.000000</td>\n",
        "    </tr>\n",
        "    <tr>\n",
        "      <th>50%</th>\n",
        "      <td> 185.000000</td>\n",
        "      <td>   8</td>\n",
        "      <td> 76947.000000</td>\n",
        "    </tr>\n",
        "    <tr>\n",
        "      <th>75%</th>\n",
        "      <td> 185.000000</td>\n",
        "      <td>   8</td>\n",
        "      <td> 88932.000000</td>\n",
        "    </tr>\n",
        "    <tr>\n",
        "      <th>max</th>\n",
        "      <td> 195.000000</td>\n",
        "      <td>   8</td>\n",
        "      <td> 95857.000000</td>\n",
        "    </tr>\n",
        "  </tbody>\n",
        "</table>\n",
        "</div>"
       ],
       "metadata": {},
       "output_type": "pyout",
       "prompt_number": 10,
       "text": [
        "       DAYS WORKED  HOURS WORKED PER DAY    PAY AMOUNT\n",
        "count   813.000000                   813    813.000000\n",
        "mean    185.029520                     8  74544.772448\n",
        "std       0.453899                     0  15850.050199\n",
        "min     183.000000                     8  27862.000000\n",
        "25%     185.000000                     8  62115.000000\n",
        "50%     185.000000                     8  76947.000000\n",
        "75%     185.000000                     8  88932.000000\n",
        "max     195.000000                     8  95857.000000"
       ]
      }
     ],
     "prompt_number": 10
    },
    {
     "cell_type": "markdown",
     "metadata": {},
     "source": [
      "Wow, Dublin city teachers are paid pretty well on average."
     ]
    },
    {
     "cell_type": "markdown",
     "metadata": {},
     "source": [
      "<a name='visualization'></a>"
     ]
    },
    {
     "cell_type": "markdown",
     "metadata": {},
     "source": [
      "## Simple Visualization"
     ]
    },
    {
     "cell_type": "markdown",
     "metadata": {},
     "source": [
      "[[back top top](#top)]"
     ]
    },
    {
     "cell_type": "heading",
     "level": 4,
     "metadata": {},
     "source": [
      "Let's create a histogram of Dublin City Teachers Salary"
     ]
    },
    {
     "cell_type": "code",
     "collapsed": false,
     "input": [
      "import matplotlib.pyplot as plt\n",
      "\n",
      "dublin_teachers['PAY AMOUNT'].hist()\n",
      "plt.title(\"Dublin City Teachers Salary Histogram\", weight='bold')\n",
      "plt.xlabel(\"Salary\")\n",
      "plt.ylabel(\"Frequency/Qty\")\n",
      "plt.show()"
     ],
     "language": "python",
     "metadata": {},
     "outputs": [
      {
       "metadata": {},
       "output_type": "display_data",
       "png": "[encoded data removed]",
       "text": [
        "<matplotlib.figure.Figure at 0xadc7c0ec>"
       ]
      }
     ],
     "prompt_number": 11
    },
    {
     "cell_type": "heading",
     "level": 4,
     "metadata": {},
     "source": [
      "Now, let's create a list of highest median teacher salaries by district and city across all of Ohio.<br>\n",
      "But, before we do, we should probably check if there are sample sizes that are too low:"
     ]
    },
    {
     "cell_type": "code",
     "collapsed": false,
     "input": [
      "c1 = ohio['PAY AMOUNT'] > 0\n",
      "c2 = ohio['JOB DESCRIPTION'] == 'Teacher Assignment'\n",
      "c3 = ohio['DAYS WORKED'] > 180\n",
      "c4 = ohio['HOURS WORKED PER DAY'] >=8\n",
      "\n",
      "ohio_teachers = ohio[c1 & c2 & c3 & c4]\n",
      "ohio_teachers_counts = ohio_teachers.groupby(['DISTRICT NAME','CITY NAME']).size()\n",
      "print(ohio_teachers_counts.order(ascending=True)[:20])"
     ],
     "language": "python",
     "metadata": {},
     "outputs": [
      {
       "output_type": "stream",
       "stream": "stdout",
       "text": [
        "DISTRICT NAME                                      CITY NAME       \n",
        "missing                                            missing             1\n",
        "North Fork Local                                   Utica               1\n",
        "Constellation Schools: Mansfield Community Middle  Mansfield           1\n",
        "Life Skills Ctr Of Cincinnati                      Cincinnati          1\n",
        "Life Skills Center of Elyria                       Elyria              1\n",
        "Oak Hills Local                                    Cincinnati          1\n",
        "Great Western Academy                              Columbus            1\n",
        "Greater Ohio Virtual School                        Lebanon             1\n",
        "Oregon City                                        Oregon              1\n",
        "Cuyahoga Heights Local                             Cuyahoga Heights    1\n",
        "Life Skills Center of Columbus Southeast           Columbus            1\n",
        "Cliff Park High School                             Springfield         1\n",
        "Groveport Community School                         Groveport           1\n",
        "Pioneer Career & Technology                        Shelby              1\n",
        "Lorain City                                        Lorain              1\n",
        "Pschtecin Public School                            Columbus            1\n",
        "Quest Community School                             Parma               1\n",
        "Hamilton County ESC                                Cincinnati          1\n",
        "Hamilton Local                                     Columbus            1\n",
        "Parma City                                         Parma               1\n",
        "dtype: int64\n"
       ]
      }
     ],
     "prompt_number": 12
    },
    {
     "cell_type": "markdown",
     "metadata": {},
     "source": [
      "<a name='merging'></a>"
     ]
    },
    {
     "cell_type": "markdown",
     "metadata": {},
     "source": [
      "# Merging Data Sets"
     ]
    },
    {
     "cell_type": "markdown",
     "metadata": {},
     "source": [
      "[[back to top](#top)]"
     ]
    },
    {
     "cell_type": "heading",
     "level": 4,
     "metadata": {},
     "source": [
      "As you can see, we have school districts with just one teacher for some reason.  We need to filter them out if we want make a list of top median salaries statistically meaningful.  First, we need to make a data set containing the median salaries and then merge it with the teacher counts data set above using the concat() function:"
     ]
    },
    {
     "cell_type": "code",
     "collapsed": false,
     "input": [
      "c1 = ohio['PAY AMOUNT'] > 0\n",
      "c2 = ohio['JOB DESCRIPTION'] == 'Teacher Assignment'\n",
      "c3 = ohio['DAYS WORKED'] > 180\n",
      "c4 = ohio['HOURS WORKED PER DAY'] >=8\n",
      "\n",
      "ohio_teachers = ohio[c1 & c2 & c3 & c4]\n",
      "median_pay = ohio_teachers.groupby(by=['DISTRICT NAME', 'CITY NAME'])['PAY AMOUNT'].median()\n",
      "top_districts = median_pay.order(ascending=False)\n",
      "# Let's just get the top 25 school districts\n",
      "top_districts.head(25)"
     ],
     "language": "python",
     "metadata": {},
     "outputs": [
      {
       "metadata": {},
       "output_type": "pyout",
       "prompt_number": 13,
       "text": [
        "DISTRICT NAME                       CITY NAME        \n",
        "Oak Hills Local                     Cincinnati           104625.0\n",
        "Cuyahoga Heights Local              Cuyahoga Heights      91375.0\n",
        "Lakewood City                       Lakewood              87080.0\n",
        "Brecksville-Broadview Heights City  Brecksville           84704.0\n",
        "Upper Arlington City                Upper Arlington       83209.0\n",
        "Brecksville-Broadview Heights City  Broadview Heights     82548.0\n",
        "Shaker Heights City                 Shaker Heights        80133.0\n",
        "Revere Local                        Bath                  79901.5\n",
        "Perry Local                         Perry                 79686.0\n",
        "Parma City                          Parma                 78887.0\n",
        "Bay Village City                    missing               78741.0\n",
        "Van Wert City                       Van Wert              78469.0\n",
        "Lorain City                         Lorain                77773.0\n",
        "Dublin City                         Dublin                77029.0\n",
        "Independence Local                  Independence          76998.0\n",
        "Great Oaks Inst Of Technology       Wilmington            76723.0\n",
        "                                    missing               75853.5\n",
        "Revere Local                        Akron                 75451.0\n",
        "                                    Richfield             75451.0\n",
        "Dublin City                         Powell                74981.0\n",
        "Warrensville Heights City           missing               74589.0\n",
        "Great Oaks Inst Of Technology       Milford               73877.5\n",
        "Mentor Exempted Village             Mentor                72965.0\n",
        "Trotwood-Madison City               Trotwood              72162.0\n",
        "Upper Valley Career Center          Piqua                 71325.0\n",
        "Name: PAY AMOUNT, dtype: float64"
       ]
      }
     ],
     "prompt_number": 13
    },
    {
     "cell_type": "markdown",
     "metadata": {},
     "source": [
      "#### Above, we have the median salaries.  Hmmm, Oak Hills Local has a median salary of over $100,000.  But, I wonder how many teachers are in that school district?  Next, we are going to merge this data set with the teacher counts data set using the concat() function to find out:"
     ]
    },
    {
     "cell_type": "code",
     "collapsed": false,
     "input": [
      "# Concatenate the 2 data sets along the column axis (axis=1) and label the 2 columns as median and count\n",
      "top_median_salary = pd.concat([top_districts, ohio_teachers_counts], axis=1, keys=['median','count'])\n",
      "top_median_salary.sort(columns='median', ascending=False, inplace=True)\n",
      "top_median_salary.head(50)"
     ],
     "language": "python",
     "metadata": {},
     "outputs": [
      {
       "html": [
        "<div style=\"max-height:1000px;max-width:1500px;overflow:auto;\">\n",
        "<table border=\"1\" class=\"dataframe\">\n",
        "  <thead>\n",
        "    <tr style=\"text-align: right;\">\n",
        "      <th></th>\n",
        "      <th></th>\n",
        "      <th>median</th>\n",
        "      <th>count</th>\n",
        "    </tr>\n",
        "    <tr>\n",
        "      <th>DISTRICT NAME</th>\n",
        "      <th>CITY NAME</th>\n",
        "      <th></th>\n",
        "      <th></th>\n",
        "    </tr>\n",
        "  </thead>\n",
        "  <tbody>\n",
        "    <tr>\n",
        "      <th>Oak Hills Local </th>\n",
        "      <th>Cincinnati</th>\n",
        "      <td> 104625.0</td>\n",
        "      <td>   1</td>\n",
        "    </tr>\n",
        "    <tr>\n",
        "      <th>Cuyahoga Heights Local</th>\n",
        "      <th>Cuyahoga Heights</th>\n",
        "      <td>  91375.0</td>\n",
        "      <td>   1</td>\n",
        "    </tr>\n",
        "    <tr>\n",
        "      <th>Lakewood City</th>\n",
        "      <th>Lakewood</th>\n",
        "      <td>  87080.0</td>\n",
        "      <td>   1</td>\n",
        "    </tr>\n",
        "    <tr>\n",
        "      <th>Brecksville-Broadview Heights City</th>\n",
        "      <th>Brecksville</th>\n",
        "      <td>  84704.0</td>\n",
        "      <td>  69</td>\n",
        "    </tr>\n",
        "    <tr>\n",
        "      <th>Upper Arlington City</th>\n",
        "      <th>Upper Arlington</th>\n",
        "      <td>  83209.0</td>\n",
        "      <td> 315</td>\n",
        "    </tr>\n",
        "    <tr>\n",
        "      <th>Brecksville-Broadview Heights City</th>\n",
        "      <th>Broadview Heights</th>\n",
        "      <td>  82548.0</td>\n",
        "      <td> 116</td>\n",
        "    </tr>\n",
        "    <tr>\n",
        "      <th>Shaker Heights City</th>\n",
        "      <th>Shaker Heights</th>\n",
        "      <td>  80133.0</td>\n",
        "      <td> 160</td>\n",
        "    </tr>\n",
        "    <tr>\n",
        "      <th>Revere Local</th>\n",
        "      <th>Bath</th>\n",
        "      <td>  79901.5</td>\n",
        "      <td>   2</td>\n",
        "    </tr>\n",
        "    <tr>\n",
        "      <th>Perry Local</th>\n",
        "      <th>Perry</th>\n",
        "      <td>  79686.0</td>\n",
        "      <td>  87</td>\n",
        "    </tr>\n",
        "    <tr>\n",
        "      <th>Parma City</th>\n",
        "      <th>Parma</th>\n",
        "      <td>  78887.0</td>\n",
        "      <td>   1</td>\n",
        "    </tr>\n",
        "    <tr>\n",
        "      <th>Bay Village City</th>\n",
        "      <th>missing</th>\n",
        "      <td>  78741.0</td>\n",
        "      <td>   5</td>\n",
        "    </tr>\n",
        "    <tr>\n",
        "      <th>Van Wert City</th>\n",
        "      <th>Van Wert</th>\n",
        "      <td>  78469.0</td>\n",
        "      <td>   1</td>\n",
        "    </tr>\n",
        "    <tr>\n",
        "      <th>Lorain City</th>\n",
        "      <th>Lorain</th>\n",
        "      <td>  77773.0</td>\n",
        "      <td>   1</td>\n",
        "    </tr>\n",
        "    <tr>\n",
        "      <th>Dublin City</th>\n",
        "      <th>Dublin</th>\n",
        "      <td>  77029.0</td>\n",
        "      <td> 727</td>\n",
        "    </tr>\n",
        "    <tr>\n",
        "      <th>Independence Local</th>\n",
        "      <th>Independence</th>\n",
        "      <td>  76998.0</td>\n",
        "      <td>  62</td>\n",
        "    </tr>\n",
        "    <tr>\n",
        "      <th rowspan=\"2\" valign=\"top\">Great Oaks Inst Of Technology</th>\n",
        "      <th>Wilmington</th>\n",
        "      <td>  76723.0</td>\n",
        "      <td>  35</td>\n",
        "    </tr>\n",
        "    <tr>\n",
        "      <th>missing</th>\n",
        "      <td>  75853.5</td>\n",
        "      <td>  78</td>\n",
        "    </tr>\n",
        "    <tr>\n",
        "      <th rowspan=\"2\" valign=\"top\">Revere Local</th>\n",
        "      <th>Akron</th>\n",
        "      <td>  75451.0</td>\n",
        "      <td>  59</td>\n",
        "    </tr>\n",
        "    <tr>\n",
        "      <th>Richfield</th>\n",
        "      <td>  75451.0</td>\n",
        "      <td>  81</td>\n",
        "    </tr>\n",
        "    <tr>\n",
        "      <th>Dublin City</th>\n",
        "      <th>Powell</th>\n",
        "      <td>  74981.0</td>\n",
        "      <td>  27</td>\n",
        "    </tr>\n",
        "    <tr>\n",
        "      <th>Warrensville Heights City</th>\n",
        "      <th>missing</th>\n",
        "      <td>  74589.0</td>\n",
        "      <td>  36</td>\n",
        "    </tr>\n",
        "    <tr>\n",
        "      <th>Great Oaks Inst Of Technology</th>\n",
        "      <th>Milford</th>\n",
        "      <td>  73877.5</td>\n",
        "      <td>  34</td>\n",
        "    </tr>\n",
        "    <tr>\n",
        "      <th>Mentor Exempted Village</th>\n",
        "      <th>Mentor</th>\n",
        "      <td>  72965.0</td>\n",
        "      <td>   2</td>\n",
        "    </tr>\n",
        "    <tr>\n",
        "      <th>Trotwood-Madison City</th>\n",
        "      <th>Trotwood</th>\n",
        "      <td>  72162.0</td>\n",
        "      <td>   1</td>\n",
        "    </tr>\n",
        "    <tr>\n",
        "      <th>Upper Valley Career Center</th>\n",
        "      <th>Piqua</th>\n",
        "      <td>  71325.0</td>\n",
        "      <td>  15</td>\n",
        "    </tr>\n",
        "    <tr>\n",
        "      <th>Princeton City</th>\n",
        "      <th>Cincinnati</th>\n",
        "      <td>  71150.0</td>\n",
        "      <td> 250</td>\n",
        "    </tr>\n",
        "    <tr>\n",
        "      <th>Great Oaks Inst Of Technology</th>\n",
        "      <th>Cincinnati</th>\n",
        "      <td>  70880.5</td>\n",
        "      <td>  98</td>\n",
        "    </tr>\n",
        "    <tr>\n",
        "      <th>Berea City</th>\n",
        "      <th>Berea</th>\n",
        "      <td>  70656.0</td>\n",
        "      <td> 142</td>\n",
        "    </tr>\n",
        "    <tr>\n",
        "      <th>Hamilton County ESC</th>\n",
        "      <th>Cincinnati</th>\n",
        "      <td>  70393.0</td>\n",
        "      <td>   1</td>\n",
        "    </tr>\n",
        "    <tr>\n",
        "      <th>Avon Lake City</th>\n",
        "      <th>Avon Lake</th>\n",
        "      <td>  70138.0</td>\n",
        "      <td> 200</td>\n",
        "    </tr>\n",
        "    <tr>\n",
        "      <th>Bay Village City</th>\n",
        "      <th>Bay Village</th>\n",
        "      <td>  68736.0</td>\n",
        "      <td> 139</td>\n",
        "    </tr>\n",
        "    <tr>\n",
        "      <th>Dublin City</th>\n",
        "      <th>missing</th>\n",
        "      <td>  68343.0</td>\n",
        "      <td>  27</td>\n",
        "    </tr>\n",
        "    <tr>\n",
        "      <th>Lakota Local</th>\n",
        "      <th>missing</th>\n",
        "      <td>  68048.0</td>\n",
        "      <td>   1</td>\n",
        "    </tr>\n",
        "    <tr>\n",
        "      <th>Big Walnut Local</th>\n",
        "      <th>Galena</th>\n",
        "      <td>  67709.0</td>\n",
        "      <td>   1</td>\n",
        "    </tr>\n",
        "    <tr>\n",
        "      <th>South-Western City</th>\n",
        "      <th>Galloway</th>\n",
        "      <td>  67526.0</td>\n",
        "      <td> 175</td>\n",
        "    </tr>\n",
        "    <tr>\n",
        "      <th>Berea City</th>\n",
        "      <th>Middleburg Heights</th>\n",
        "      <td>  67384.0</td>\n",
        "      <td>  54</td>\n",
        "    </tr>\n",
        "    <tr>\n",
        "      <th>Dublin City</th>\n",
        "      <th>Columbus</th>\n",
        "      <td>  67277.5</td>\n",
        "      <td>  32</td>\n",
        "    </tr>\n",
        "    <tr>\n",
        "      <th>Warrensville Heights City</th>\n",
        "      <th>Warrensville Heights</th>\n",
        "      <td>  65538.0</td>\n",
        "      <td>  62</td>\n",
        "    </tr>\n",
        "    <tr>\n",
        "      <th>Marion Local</th>\n",
        "      <th>Maria Stein</th>\n",
        "      <td>  65234.0</td>\n",
        "      <td>   1</td>\n",
        "    </tr>\n",
        "    <tr>\n",
        "      <th>Elyria City Schools</th>\n",
        "      <th>Elyria</th>\n",
        "      <td>  65119.0</td>\n",
        "      <td>   1</td>\n",
        "    </tr>\n",
        "    <tr>\n",
        "      <th>Big Walnut Local</th>\n",
        "      <th>Sunbury</th>\n",
        "      <td>  65118.0</td>\n",
        "      <td>  13</td>\n",
        "    </tr>\n",
        "    <tr>\n",
        "      <th>Green Local</th>\n",
        "      <th>Uniontown</th>\n",
        "      <td>  64697.0</td>\n",
        "      <td>   2</td>\n",
        "    </tr>\n",
        "    <tr>\n",
        "      <th>South-Western City</th>\n",
        "      <th>Grove City</th>\n",
        "      <td>  64310.0</td>\n",
        "      <td> 568</td>\n",
        "    </tr>\n",
        "    <tr>\n",
        "      <th>Montpelier Exempted Village</th>\n",
        "      <th>Montpelier</th>\n",
        "      <td>  64306.0</td>\n",
        "      <td>   1</td>\n",
        "    </tr>\n",
        "    <tr>\n",
        "      <th>Olentangy Local</th>\n",
        "      <th>Galena</th>\n",
        "      <td>  64070.0</td>\n",
        "      <td>  27</td>\n",
        "    </tr>\n",
        "    <tr>\n",
        "      <th>Scioto County Career Technical Center</th>\n",
        "      <th>Lucasville</th>\n",
        "      <td>  63918.0</td>\n",
        "      <td>   1</td>\n",
        "    </tr>\n",
        "    <tr>\n",
        "      <th>Stow-Munroe Falls City School District</th>\n",
        "      <th>Stow</th>\n",
        "      <td>  63698.0</td>\n",
        "      <td>   2</td>\n",
        "    </tr>\n",
        "    <tr>\n",
        "      <th>Buckeye Local</th>\n",
        "      <th>Kingsville</th>\n",
        "      <td>  63564.0</td>\n",
        "      <td>  19</td>\n",
        "    </tr>\n",
        "    <tr>\n",
        "      <th>Olentangy Local</th>\n",
        "      <th>Lewis Center</th>\n",
        "      <td>  62797.0</td>\n",
        "      <td> 242</td>\n",
        "    </tr>\n",
        "    <tr>\n",
        "      <th>Tecumseh Local</th>\n",
        "      <th>New Carlisle</th>\n",
        "      <td>  62364.0</td>\n",
        "      <td>   1</td>\n",
        "    </tr>\n",
        "  </tbody>\n",
        "</table>\n",
        "</div>"
       ],
       "metadata": {},
       "output_type": "pyout",
       "prompt_number": 14,
       "text": [
        "                                                               median  count\n",
        "DISTRICT NAME                          CITY NAME                            \n",
        "Oak Hills Local                        Cincinnati            104625.0      1\n",
        "Cuyahoga Heights Local                 Cuyahoga Heights       91375.0      1\n",
        "Lakewood City                          Lakewood               87080.0      1\n",
        "Brecksville-Broadview Heights City     Brecksville            84704.0     69\n",
        "Upper Arlington City                   Upper Arlington        83209.0    315\n",
        "Brecksville-Broadview Heights City     Broadview Heights      82548.0    116\n",
        "Shaker Heights City                    Shaker Heights         80133.0    160\n",
        "Revere Local                           Bath                   79901.5      2\n",
        "Perry Local                            Perry                  79686.0     87\n",
        "Parma City                             Parma                  78887.0      1\n",
        "Bay Village City                       missing                78741.0      5\n",
        "Van Wert City                          Van Wert               78469.0      1\n",
        "Lorain City                            Lorain                 77773.0      1\n",
        "Dublin City                            Dublin                 77029.0    727\n",
        "Independence Local                     Independence           76998.0     62\n",
        "Great Oaks Inst Of Technology          Wilmington             76723.0     35\n",
        "                                       missing                75853.5     78\n",
        "Revere Local                           Akron                  75451.0     59\n",
        "                                       Richfield              75451.0     81\n",
        "Dublin City                            Powell                 74981.0     27\n",
        "Warrensville Heights City              missing                74589.0     36\n",
        "Great Oaks Inst Of Technology          Milford                73877.5     34\n",
        "Mentor Exempted Village                Mentor                 72965.0      2\n",
        "Trotwood-Madison City                  Trotwood               72162.0      1\n",
        "Upper Valley Career Center             Piqua                  71325.0     15\n",
        "Princeton City                         Cincinnati             71150.0    250\n",
        "Great Oaks Inst Of Technology          Cincinnati             70880.5     98\n",
        "Berea City                             Berea                  70656.0    142\n",
        "Hamilton County ESC                    Cincinnati             70393.0      1\n",
        "Avon Lake City                         Avon Lake              70138.0    200\n",
        "Bay Village City                       Bay Village            68736.0    139\n",
        "Dublin City                            missing                68343.0     27\n",
        "Lakota Local                           missing                68048.0      1\n",
        "Big Walnut Local                       Galena                 67709.0      1\n",
        "South-Western City                     Galloway               67526.0    175\n",
        "Berea City                             Middleburg Heights     67384.0     54\n",
        "Dublin City                            Columbus               67277.5     32\n",
        "Warrensville Heights City              Warrensville Heights   65538.0     62\n",
        "Marion Local                           Maria Stein            65234.0      1\n",
        "Elyria City Schools                    Elyria                 65119.0      1\n",
        "Big Walnut Local                       Sunbury                65118.0     13\n",
        "Green Local                            Uniontown              64697.0      2\n",
        "South-Western City                     Grove City             64310.0    568\n",
        "Montpelier Exempted Village            Montpelier             64306.0      1\n",
        "Olentangy Local                        Galena                 64070.0     27\n",
        "Scioto County Career Technical Center  Lucasville             63918.0      1\n",
        "Stow-Munroe Falls City School District Stow                   63698.0      2\n",
        "Buckeye Local                          Kingsville             63564.0     19\n",
        "Olentangy Local                        Lewis Center           62797.0    242\n",
        "Tecumseh Local                         New Carlisle           62364.0      1"
       ]
      }
     ],
     "prompt_number": 14
    },
    {
     "cell_type": "heading",
     "level": 4,
     "metadata": {},
     "source": [
      "Looks like the merge worked, but next we need to filter out the districts with low teacher counts.  There are school districts with high median salaries, but they had only 1 teacher!  So to make our top list meaningful, we should probably make our data set contain districts with at least 10 teachers:"
     ]
    },
    {
     "cell_type": "markdown",
     "metadata": {},
     "source": [
      "<a name='top25'></a>"
     ]
    },
    {
     "cell_type": "markdown",
     "metadata": {},
     "source": [
      "## Top 25 Highest Median Salaries of Ohio School Teachers by District and City"
     ]
    },
    {
     "cell_type": "markdown",
     "metadata": {},
     "source": [
      "[[back to top](#top)]"
     ]
    },
    {
     "cell_type": "code",
     "collapsed": false,
     "input": [
      "criteria1 = top_median_salary['count'] >= 10\n",
      "top_median_salary = top_median_salary[criteria1]\n",
      "top_median_salary.head(25)"
     ],
     "language": "python",
     "metadata": {},
     "outputs": [
      {
       "html": [
        "<div style=\"max-height:1000px;max-width:1500px;overflow:auto;\">\n",
        "<table border=\"1\" class=\"dataframe\">\n",
        "  <thead>\n",
        "    <tr style=\"text-align: right;\">\n",
        "      <th></th>\n",
        "      <th></th>\n",
        "      <th>median</th>\n",
        "      <th>count</th>\n",
        "    </tr>\n",
        "    <tr>\n",
        "      <th>DISTRICT NAME</th>\n",
        "      <th>CITY NAME</th>\n",
        "      <th></th>\n",
        "      <th></th>\n",
        "    </tr>\n",
        "  </thead>\n",
        "  <tbody>\n",
        "    <tr>\n",
        "      <th>Brecksville-Broadview Heights City</th>\n",
        "      <th>Brecksville</th>\n",
        "      <td> 84704.0</td>\n",
        "      <td>  69</td>\n",
        "    </tr>\n",
        "    <tr>\n",
        "      <th>Upper Arlington City</th>\n",
        "      <th>Upper Arlington</th>\n",
        "      <td> 83209.0</td>\n",
        "      <td> 315</td>\n",
        "    </tr>\n",
        "    <tr>\n",
        "      <th>Brecksville-Broadview Heights City</th>\n",
        "      <th>Broadview Heights</th>\n",
        "      <td> 82548.0</td>\n",
        "      <td> 116</td>\n",
        "    </tr>\n",
        "    <tr>\n",
        "      <th>Shaker Heights City</th>\n",
        "      <th>Shaker Heights</th>\n",
        "      <td> 80133.0</td>\n",
        "      <td> 160</td>\n",
        "    </tr>\n",
        "    <tr>\n",
        "      <th>Perry Local</th>\n",
        "      <th>Perry</th>\n",
        "      <td> 79686.0</td>\n",
        "      <td>  87</td>\n",
        "    </tr>\n",
        "    <tr>\n",
        "      <th>Dublin City</th>\n",
        "      <th>Dublin</th>\n",
        "      <td> 77029.0</td>\n",
        "      <td> 727</td>\n",
        "    </tr>\n",
        "    <tr>\n",
        "      <th>Independence Local</th>\n",
        "      <th>Independence</th>\n",
        "      <td> 76998.0</td>\n",
        "      <td>  62</td>\n",
        "    </tr>\n",
        "    <tr>\n",
        "      <th rowspan=\"2\" valign=\"top\">Great Oaks Inst Of Technology</th>\n",
        "      <th>Wilmington</th>\n",
        "      <td> 76723.0</td>\n",
        "      <td>  35</td>\n",
        "    </tr>\n",
        "    <tr>\n",
        "      <th>missing</th>\n",
        "      <td> 75853.5</td>\n",
        "      <td>  78</td>\n",
        "    </tr>\n",
        "    <tr>\n",
        "      <th rowspan=\"2\" valign=\"top\">Revere Local</th>\n",
        "      <th>Akron</th>\n",
        "      <td> 75451.0</td>\n",
        "      <td>  59</td>\n",
        "    </tr>\n",
        "    <tr>\n",
        "      <th>Richfield</th>\n",
        "      <td> 75451.0</td>\n",
        "      <td>  81</td>\n",
        "    </tr>\n",
        "    <tr>\n",
        "      <th>Dublin City</th>\n",
        "      <th>Powell</th>\n",
        "      <td> 74981.0</td>\n",
        "      <td>  27</td>\n",
        "    </tr>\n",
        "    <tr>\n",
        "      <th>Warrensville Heights City</th>\n",
        "      <th>missing</th>\n",
        "      <td> 74589.0</td>\n",
        "      <td>  36</td>\n",
        "    </tr>\n",
        "    <tr>\n",
        "      <th>Great Oaks Inst Of Technology</th>\n",
        "      <th>Milford</th>\n",
        "      <td> 73877.5</td>\n",
        "      <td>  34</td>\n",
        "    </tr>\n",
        "    <tr>\n",
        "      <th>Upper Valley Career Center</th>\n",
        "      <th>Piqua</th>\n",
        "      <td> 71325.0</td>\n",
        "      <td>  15</td>\n",
        "    </tr>\n",
        "    <tr>\n",
        "      <th>Princeton City</th>\n",
        "      <th>Cincinnati</th>\n",
        "      <td> 71150.0</td>\n",
        "      <td> 250</td>\n",
        "    </tr>\n",
        "    <tr>\n",
        "      <th>Great Oaks Inst Of Technology</th>\n",
        "      <th>Cincinnati</th>\n",
        "      <td> 70880.5</td>\n",
        "      <td>  98</td>\n",
        "    </tr>\n",
        "    <tr>\n",
        "      <th>Berea City</th>\n",
        "      <th>Berea</th>\n",
        "      <td> 70656.0</td>\n",
        "      <td> 142</td>\n",
        "    </tr>\n",
        "    <tr>\n",
        "      <th>Avon Lake City</th>\n",
        "      <th>Avon Lake</th>\n",
        "      <td> 70138.0</td>\n",
        "      <td> 200</td>\n",
        "    </tr>\n",
        "    <tr>\n",
        "      <th>Bay Village City</th>\n",
        "      <th>Bay Village</th>\n",
        "      <td> 68736.0</td>\n",
        "      <td> 139</td>\n",
        "    </tr>\n",
        "    <tr>\n",
        "      <th>Dublin City</th>\n",
        "      <th>missing</th>\n",
        "      <td> 68343.0</td>\n",
        "      <td>  27</td>\n",
        "    </tr>\n",
        "    <tr>\n",
        "      <th>South-Western City</th>\n",
        "      <th>Galloway</th>\n",
        "      <td> 67526.0</td>\n",
        "      <td> 175</td>\n",
        "    </tr>\n",
        "    <tr>\n",
        "      <th>Berea City</th>\n",
        "      <th>Middleburg Heights</th>\n",
        "      <td> 67384.0</td>\n",
        "      <td>  54</td>\n",
        "    </tr>\n",
        "    <tr>\n",
        "      <th>Dublin City</th>\n",
        "      <th>Columbus</th>\n",
        "      <td> 67277.5</td>\n",
        "      <td>  32</td>\n",
        "    </tr>\n",
        "    <tr>\n",
        "      <th>Warrensville Heights City</th>\n",
        "      <th>Warrensville Heights</th>\n",
        "      <td> 65538.0</td>\n",
        "      <td>  62</td>\n",
        "    </tr>\n",
        "  </tbody>\n",
        "</table>\n",
        "</div>"
       ],
       "metadata": {},
       "output_type": "pyout",
       "prompt_number": 15,
       "text": [
        "                                                          median  count\n",
        "DISTRICT NAME                      CITY NAME                           \n",
        "Brecksville-Broadview Heights City Brecksville           84704.0     69\n",
        "Upper Arlington City               Upper Arlington       83209.0    315\n",
        "Brecksville-Broadview Heights City Broadview Heights     82548.0    116\n",
        "Shaker Heights City                Shaker Heights        80133.0    160\n",
        "Perry Local                        Perry                 79686.0     87\n",
        "Dublin City                        Dublin                77029.0    727\n",
        "Independence Local                 Independence          76998.0     62\n",
        "Great Oaks Inst Of Technology      Wilmington            76723.0     35\n",
        "                                   missing               75853.5     78\n",
        "Revere Local                       Akron                 75451.0     59\n",
        "                                   Richfield             75451.0     81\n",
        "Dublin City                        Powell                74981.0     27\n",
        "Warrensville Heights City          missing               74589.0     36\n",
        "Great Oaks Inst Of Technology      Milford               73877.5     34\n",
        "Upper Valley Career Center         Piqua                 71325.0     15\n",
        "Princeton City                     Cincinnati            71150.0    250\n",
        "Great Oaks Inst Of Technology      Cincinnati            70880.5     98\n",
        "Berea City                         Berea                 70656.0    142\n",
        "Avon Lake City                     Avon Lake             70138.0    200\n",
        "Bay Village City                   Bay Village           68736.0    139\n",
        "Dublin City                        missing               68343.0     27\n",
        "South-Western City                 Galloway              67526.0    175\n",
        "Berea City                         Middleburg Heights    67384.0     54\n",
        "Dublin City                        Columbus              67277.5     32\n",
        "Warrensville Heights City          Warrensville Heights  65538.0     62"
       ]
      }
     ],
     "prompt_number": 15
    },
    {
     "cell_type": "heading",
     "level": 4,
     "metadata": {},
     "source": [
      "So now, we have our list of top 25 median salaries by school districts in all of the state of Ohio with at least 10 teachers.<br>\n",
      "We're done!"
     ]
    },
    {
     "cell_type": "markdown",
     "metadata": {},
     "source": [
      "[[back to top](#top)]"
     ]
    }
   ],
   "metadata": {}
  }
 ]
}