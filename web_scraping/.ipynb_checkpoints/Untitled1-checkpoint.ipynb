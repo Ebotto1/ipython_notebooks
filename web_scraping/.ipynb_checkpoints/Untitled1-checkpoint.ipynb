{
 "metadata": {
  "name": "",
  "signature": "sha256:55afb13ab0402e30294cfdb6deb2f4e1e571d11c63516b8ae1507dbc0f3aab41"
 },
 "nbformat": 3,
 "nbformat_minor": 0,
 "worksheets": [
  {
   "cells": [
    {
     "cell_type": "code",
     "collapsed": false,
     "input": [
      "import pandas as pd\n",
      "import urllib.request as request\n",
      "from bs4 import BeautifulSoup\n",
      "import re\n",
      "\n",
      "base_url = 'http://espn.go.com'\n",
      "\n",
      "teams_url = 'http://espn.go.com/nba/teams'\n",
      "html_teams = request.urlopen(teams_url)\n",
      "\n",
      "soup_teams = BeautifulSoup(html_teams)"
     ],
     "language": "python",
     "metadata": {},
     "outputs": []
    },
    {
     "cell_type": "code",
     "collapsed": false,
     "input": [
      "urls = soup_teams.find_all(href=re.compile('/nba/teams/stats'))\n",
      "urls"
     ],
     "language": "python",
     "metadata": {},
     "outputs": []
    },
    {
     "cell_type": "code",
     "collapsed": false,
     "input": [
      "team_name_dict = {'bos':'Boston Celtics',\n",
      "                  'bkn':'Brooklyn Nets',\n",
      "                  'nyk':'New York Knicks',\n",
      "                  'phi':'Philadelphia 76ers',\n",
      "                  'tor':'Toronto Raptors',\n",
      "                  'gsw':'Golden State Warriors',\n",
      "                  'lac':'Los Angeles Clippers',\n",
      "                  'lal':'Los Angeles Lakers',\n",
      "                  'pho':'Phoenix Suns',\n",
      "                  'sac':'Sacramento Kings',\n",
      "                  'chi':'Chicago Bulls',\n",
      "                  'cle':'Cleveland Cavaliers',\n",
      "                  'det':'Detroit Pistons',\n",
      "                  'ind':'Indiana Pacers',\n",
      "                  'mil':'Milwaukee Bucks',\n",
      "                  'dal':'Dallas Mavericks',\n",
      "                  'hou':'Houston Rockets',\n",
      "                  'mem':'Memphis Grizzlies',\n",
      "                  'nor':'New Orleans Pelicans',\n",
      "                  'sas':'San Antonio Spurs',\n",
      "                  'atl':'Atlanta Hawks',\n",
      "                  'cha':'Charlotte Hornets',\n",
      "                  'mia':'Miami Heat',\n",
      "                  'orl':'Orlando Magic',\n",
      "                  'was':'Washington Wizards',\n",
      "                  'den':'Denver Nuggets',\n",
      "                  'min':'Minnesota Timberwolves',\n",
      "                  'okc':'Oklahoma City Thunder',\n",
      "                  'por':'Portland Trail Blazers',\n",
      "                  'uth':'Utah Jazz'\n",
      "                  }"
     ],
     "language": "python",
     "metadata": {},
     "outputs": []
    },
    {
     "cell_type": "code",
     "collapsed": false,
     "input": [
      "team_urls = [base_url+url['href'] for url in urls]\n",
      "team_urls"
     ],
     "language": "python",
     "metadata": {},
     "outputs": []
    },
    {
     "cell_type": "code",
     "collapsed": false,
     "input": [
      "url_team = 'http://espn.go.com/nba/teams/stats?team=bos'\n",
      "team_code = url_team[-3:]\n",
      "html_team = request.urlopen(url_team)\n",
      "\n",
      "soup_team = BeautifulSoup(html_team)\n",
      "\n",
      "roster = soup_team.find_all('tr', class_=re.compile('player'))"
     ],
     "language": "python",
     "metadata": {},
     "outputs": []
    },
    {
     "cell_type": "code",
     "collapsed": false,
     "input": [
      "roster_game_stats = roster[:int(len(roster)/2)]\n",
      "roster_shooting_stats = roster[-int(len(roster)/2):]"
     ],
     "language": "python",
     "metadata": {},
     "outputs": []
    },
    {
     "cell_type": "code",
     "collapsed": false,
     "input": [
      "for player in roster_game_stats:\n",
      "    print(player.get_text())"
     ],
     "language": "python",
     "metadata": {},
     "outputs": []
    },
    {
     "cell_type": "code",
     "collapsed": false,
     "input": [
      "for player in roster_shooting_stats:\n",
      "    print(player.get_text())"
     ],
     "language": "python",
     "metadata": {},
     "outputs": []
    },
    {
     "cell_type": "code",
     "collapsed": false,
     "input": [
      "players = []\n",
      "for row in roster_game_stats:\n",
      "    for data in row:\n",
      "        players.append(data.get_text())\n",
      "        \n",
      "player_ids = [player.a['href'].split('/')[7] for player in roster_game_stats]"
     ],
     "language": "python",
     "metadata": {},
     "outputs": []
    },
    {
     "cell_type": "code",
     "collapsed": false,
     "input": [
      "for player in players:\n",
      "    print(player)"
     ],
     "language": "python",
     "metadata": {},
     "outputs": []
    },
    {
     "cell_type": "code",
     "collapsed": false,
     "input": [
      "index = 0\n",
      "increment = 0\n",
      "for id in player_ids:\n",
      "    players.insert(index + increment, id)\n",
      "    index = index + 15\n",
      "    increment = increment + 1"
     ],
     "language": "python",
     "metadata": {},
     "outputs": []
    }
   ],
   "metadata": {}
  }
 ]
}