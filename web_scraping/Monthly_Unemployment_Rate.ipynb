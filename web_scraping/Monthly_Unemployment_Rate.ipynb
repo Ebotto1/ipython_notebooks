{
 "metadata": {
  "name": ""
 },
 "nbformat": 3,
 "nbformat_minor": 0,
 "worksheets": [
  {
   "cells": [
    {
     "cell_type": "heading",
     "level": 2,
     "metadata": {},
     "source": [
      "<center>Python Web Scraping using BeautifulSoup</center>"
     ]
    },
    {
     "cell_type": "markdown",
     "metadata": {},
     "source": [
      "<strong><p>In this example, we will be getting yearly U.S. unemployment rates from the Bureau of Labor Statisticis web site</p></strong>"
     ]
    },
    {
     "cell_type": "code",
     "collapsed": false,
     "input": [
      "from bs4 import BeautifulSoup\n",
      "from urllib import request\n",
      "import numpy as np\n",
      "\n",
      "monthly_unemployment_data = request.urlopen('http://www.bls.gov/web/empsit/cpseea03.htm')\n",
      "lines_list = monthly_unemployment_data.readlines()\n",
      "\n",
      "index = 0\n",
      "for line in lines_list:\n",
      "    index = index + 1\n",
      "    if \"cps_eande_m03.r.2 cps_eande_m03.r.2.1 cps_eande_m03.r.2.1.3\" in line.decode(\"utf-8\"):\n",
      "        break\n",
      "\n",
      "start_index = index\n",
      "print(\"start index:\", start_index)\n",
      "        \n",
      "for line in lines_list[index:]:\n",
      "    index = index + 1\n",
      "    if \"</tr>\" in line.decode(\"utf-8\"):\n",
      "        break\n",
      "\n",
      "end_index = index\n",
      "print(\"End index:\", end_index)\n",
      "\n",
      "data_string = \"\"\n",
      "for data in lines_list[start_index:end_index-1]:\n",
      "    data_string = data_string + data.decode(\"utf-8\")\n",
      "\n",
      "print(\"data string:\")    \n",
      "print(data_string)"
     ],
     "language": "python",
     "metadata": {},
     "outputs": [
      {
       "output_type": "stream",
       "stream": "stdout",
       "text": [
        "start index: 792\n",
        "End index: 806\n",
        "data string:\n",
        "\t<td><span class=\"datavalue\">7.9</span></td>\n",
        "\t<td><span class=\"datavalue\">7.9</span></td>\n",
        "\t<td><span class=\"datavalue\">7.7</span></td>\n",
        "\t<td><span class=\"datavalue\">7.5</span></td>\n",
        "\t<td><span class=\"datavalue\">7.5</span></td>\n",
        "\t<td><span class=\"datavalue\">7.5</span></td>\n",
        "\t<td><span class=\"datavalue\">7.5</span></td>\n",
        "\t<td><span class=\"datavalue\">7.3</span></td>\n",
        "\t<td><span class=\"datavalue\">7.2</span></td>\n",
        "\t<td><span class=\"datavalue\">7.2</span></td>\n",
        "\t<td><span class=\"datavalue\">7.2</span></td>\n",
        "\t<td><span class=\"datavalue\">7.0</span></td>\n",
        "\t<td><span class=\"datavalue\">6.7</span></td>\n",
        "\n"
       ]
      }
     ],
     "prompt_number": 1
    },
    {
     "cell_type": "code",
     "collapsed": false,
     "input": [
      "soup = BeautifulSoup(data_string)\n",
      "data = soup.find_all(class_=\"datavalue\")\n",
      "\n",
      "unemploy_rate = [float(rate.text) for rate in data]\n",
      "print(unemploy_rate)\n",
      "\n",
      "bar(np.arange(len(unemploy_rate)),unemploy_rate)\n",
      "show()"
     ],
     "language": "python",
     "metadata": {},
     "outputs": [
      {
       "output_type": "stream",
       "stream": "stdout",
       "text": [
        "[7.9, 7.9, 7.7, 7.5, 7.5, 7.5, 7.5, 7.3, 7.2, 7.2, 7.2, 7.0, 6.7]\n"
       ]
      },
      {
       "metadata": {},
       "output_type": "display_data",
       "png": "[encoded data removed]",
       "text": [
        "<matplotlib.figure.Figure at 0x40e6750>"
       ]
      }
     ],
     "prompt_number": 2
    }
   ],
   "metadata": {}
  }
 ]
}