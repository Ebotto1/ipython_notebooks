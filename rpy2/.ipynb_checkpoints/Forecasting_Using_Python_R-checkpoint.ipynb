{
 "metadata": {
  "name": "",
  "signature": "sha256:8d8e2a78bb64557cb5e29698a5b07a04d420d2c35674f97496e76004d01eeb7b"
 },
 "nbformat": 3,
 "nbformat_minor": 0,
 "worksheets": [
  {
   "cells": [
    {
     "cell_type": "code",
     "collapsed": false,
     "input": [
      "import pandas.io.data as web\n",
      "from datetime import datetime\n",
      "import pandas as pd\n",
      "\n",
      "ticker = 'HMC'\n",
      "start = datetime(2014, 1, 1)\n",
      "end = datetime(2014, 12, 19)\n",
      "\n",
      "df=web.DataReader(ticker, 'yahoo', start, end)\n",
      "df.reset_index(level=0, inplace=True)  # R's data frame doesn't like it when the index is a date so convert date to column"
     ],
     "language": "python",
     "metadata": {},
     "outputs": [],
     "prompt_number": 71
    },
    {
     "cell_type": "code",
     "collapsed": false,
     "input": [
      "df.head()"
     ],
     "language": "python",
     "metadata": {},
     "outputs": [
      {
       "html": [
        "<div style=\"max-height:1000px;max-width:1500px;overflow:auto;\">\n",
        "<table border=\"1\" class=\"dataframe\">\n",
        "  <thead>\n",
        "    <tr style=\"text-align: right;\">\n",
        "      <th></th>\n",
        "      <th>Date</th>\n",
        "      <th>Open</th>\n",
        "      <th>High</th>\n",
        "      <th>Low</th>\n",
        "      <th>Close</th>\n",
        "      <th>Volume</th>\n",
        "      <th>Adj Close</th>\n",
        "    </tr>\n",
        "  </thead>\n",
        "  <tbody>\n",
        "    <tr>\n",
        "      <th>0</th>\n",
        "      <td>2014-01-02</td>\n",
        "      <td> 41.10</td>\n",
        "      <td> 41.13</td>\n",
        "      <td> 40.60</td>\n",
        "      <td> 40.69</td>\n",
        "      <td> 179400</td>\n",
        "      <td> 40.69</td>\n",
        "    </tr>\n",
        "    <tr>\n",
        "      <th>1</th>\n",
        "      <td>2014-01-03</td>\n",
        "      <td> 40.68</td>\n",
        "      <td> 40.82</td>\n",
        "      <td> 40.50</td>\n",
        "      <td> 40.69</td>\n",
        "      <td> 191900</td>\n",
        "      <td> 40.69</td>\n",
        "    </tr>\n",
        "    <tr>\n",
        "      <th>2</th>\n",
        "      <td>2014-01-06</td>\n",
        "      <td> 41.08</td>\n",
        "      <td> 41.38</td>\n",
        "      <td> 40.66</td>\n",
        "      <td> 40.80</td>\n",
        "      <td> 277000</td>\n",
        "      <td> 40.80</td>\n",
        "    </tr>\n",
        "    <tr>\n",
        "      <th>3</th>\n",
        "      <td>2014-01-07</td>\n",
        "      <td> 40.67</td>\n",
        "      <td> 40.81</td>\n",
        "      <td> 40.56</td>\n",
        "      <td> 40.71</td>\n",
        "      <td> 207000</td>\n",
        "      <td> 40.71</td>\n",
        "    </tr>\n",
        "    <tr>\n",
        "      <th>4</th>\n",
        "      <td>2014-01-08</td>\n",
        "      <td> 40.72</td>\n",
        "      <td> 40.72</td>\n",
        "      <td> 40.50</td>\n",
        "      <td> 40.65</td>\n",
        "      <td> 258100</td>\n",
        "      <td> 40.65</td>\n",
        "    </tr>\n",
        "  </tbody>\n",
        "</table>\n",
        "</div>"
       ],
       "metadata": {},
       "output_type": "pyout",
       "prompt_number": 72,
       "text": [
        "        Date   Open   High    Low  Close  Volume  Adj Close\n",
        "0 2014-01-02  41.10  41.13  40.60  40.69  179400      40.69\n",
        "1 2014-01-03  40.68  40.82  40.50  40.69  191900      40.69\n",
        "2 2014-01-06  41.08  41.38  40.66  40.80  277000      40.80\n",
        "3 2014-01-07  40.67  40.81  40.56  40.71  207000      40.71\n",
        "4 2014-01-08  40.72  40.72  40.50  40.65  258100      40.65"
       ]
      }
     ],
     "prompt_number": 72
    },
    {
     "cell_type": "code",
     "collapsed": false,
     "input": [
      "df.to_csv('/home/pybokeh/Downloads/hmc.csv')"
     ],
     "language": "python",
     "metadata": {},
     "outputs": [],
     "prompt_number": 73
    },
    {
     "cell_type": "code",
     "collapsed": false,
     "input": [
      "%load_ext rpy2.ipython"
     ],
     "language": "python",
     "metadata": {},
     "outputs": [
      {
       "output_type": "stream",
       "stream": "stdout",
       "text": [
        "The rpy2.ipython extension is already loaded. To reload it, use:\n",
        "  %reload_ext rpy2.ipython\n"
       ]
      }
     ],
     "prompt_number": 74
    },
    {
     "cell_type": "code",
     "collapsed": false,
     "input": [
      "%R -i df"
     ],
     "language": "python",
     "metadata": {},
     "outputs": [],
     "prompt_number": 75
    },
    {
     "cell_type": "code",
     "collapsed": false,
     "input": [
      "%%R -w 480 -h 300 -u px # instead of px, you can also choose 'in', 'cm', or 'mm'\n",
      "library(ggplot2)\n",
      "p = ggplot(df, aes(df$Date, df$Close))\n",
      "p = p + \n",
      "    geom_line() +\n",
      "    ggtitle(\"HMC Closing Price\") +\n",
      "    xlab(\"Date\") +\n",
      "    ylab(\"Price\")\n",
      "print(p)"
     ],
     "language": "python",
     "metadata": {},
     "outputs": [
      {
       "metadata": {},
       "output_type": "display_data",
       "png": "[encoded data removed]"
      }
     ],
     "prompt_number": 163
    },
    {
     "cell_type": "code",
     "collapsed": false,
     "input": [
      "%%R\n",
      "library(forecast)\n",
      "HoltWinters(df$Close)"
     ],
     "language": "python",
     "metadata": {},
     "outputs": [
      {
       "output_type": "stream",
       "stream": "stdout",
       "text": [
        "Error in decompose(ts(x[1L:wind], start = start(x), frequency = f), seasonal) : \n",
        "  time series has no or less than 2 periods\n"
       ]
      }
     ],
     "prompt_number": 164
    },
    {
     "cell_type": "code",
     "collapsed": false,
     "input": [
      "%%R\n",
      "hwm = HoltWinters(df$Close, gamma=FALSE)\n",
      "hwf = forecast.HoltWinters(hwm, h=30)\n",
      "summary(hwf)"
     ],
     "language": "python",
     "metadata": {},
     "outputs": [
      {
       "metadata": {},
       "output_type": "display_data",
       "text": [
        "\n",
        "Forecast method: HoltWinters\n",
        "\n",
        "Model Information:\n",
        "Holt-Winters exponential smoothing with trend and without seasonal component.\n",
        "\n",
        "Call:\n",
        "HoltWinters(x = df$Close, gamma = FALSE)\n",
        "\n",
        "Smoothing parameters:\n",
        " alpha: 1\n",
        " beta : 0.00304037\n",
        " gamma: FALSE\n",
        "\n",
        "Coefficients:\n",
        "         [,1]\n",
        "a 30.33000000\n",
        "b -0.02080309\n",
        "\n",
        "Error measures:\n",
        "                      ME     RMSE       MAE         MPE      MAPE     MASE\n",
        "Training set -0.02815757 0.402769 0.2993184 -0.07050029 0.8803395 1.000761\n",
        "                    ACF1\n",
        "Training set 0.005950758\n",
        "\n",
        "Forecasts:\n",
        "    Point Forecast    Lo 80    Hi 80    Lo 95    Hi 95\n",
        "246       30.30920 29.79323 30.82517 29.52009 31.09830\n",
        "247       30.28839 29.55759 31.01919 29.17073 31.40606\n",
        "248       30.26759 29.37119 31.16400 28.89666 31.63852\n",
        "249       30.24679 29.21014 31.28344 28.66137 31.83221\n",
        "250       30.22598 29.06522 31.38675 28.45074 32.00123\n",
        "251       30.20518 28.93170 31.47867 28.25756 32.15281\n",
        "252       30.18438 28.80678 31.56198 28.07752 32.29124\n",
        "253       30.16358 28.68863 31.63852 27.90784 32.41931\n",
        "254       30.14277 28.57599 31.70955 27.74659 32.53895\n",
        "255       30.12197 28.46795 31.77599 27.59236 32.65158\n",
        "256       30.10117 28.36380 31.83853 27.44409 32.75824\n",
        "257       30.08036 28.26301 31.89772 27.30096 32.85977\n",
        "258       30.05956 28.16515 31.95397 27.16231 32.95681\n",
        "259       30.03876 28.06988 32.00763 27.02762 33.04989\n",
        "260       30.01795 27.97692 32.05899 26.89645 33.13945\n",
        "261       29.99715 27.88601 32.10829 26.76845 33.22586\n",
        "262       29.97635 27.79698 32.15572 26.64329 33.30941\n",
        "263       29.95554 27.70964 32.20145 26.52072 33.39037\n",
        "264       29.93474 27.62384 32.24564 26.40052 33.46896\n",
        "265       29.91394 27.53946 32.28841 26.28249 33.54539\n",
        "266       29.89314 27.45639 32.32988 26.16646 33.61981\n",
        "267       29.87233 27.37453 32.37014 26.05227 33.69240\n",
        "268       29.85153 27.29378 32.40927 25.93980 33.76326\n",
        "269       29.83073 27.21408 32.44737 25.82892 33.83254\n",
        "270       29.80992 27.13535 32.48449 25.71952 33.90032\n",
        "271       29.78912 27.05754 32.52070 25.61152 33.96672\n",
        "272       29.76832 26.98057 32.55606 25.50483 34.03180\n",
        "273       29.74751 26.90441 32.59062 25.39936 34.09567\n",
        "274       29.72671 26.82900 32.62442 25.29504 34.15838\n",
        "275       29.70591 26.75430 32.65751 25.19182 34.22000\n"
       ]
      }
     ],
     "prompt_number": 165
    },
    {
     "cell_type": "code",
     "collapsed": false,
     "input": [
      "%%R\n",
      "plot.forecast(hwf)"
     ],
     "language": "python",
     "metadata": {},
     "outputs": [
      {
       "metadata": {},
       "output_type": "display_data",
       "png": "[encoded data removed]"
      }
     ],
     "prompt_number": 80
    }
   ],
   "metadata": {}
  }
 ]
}