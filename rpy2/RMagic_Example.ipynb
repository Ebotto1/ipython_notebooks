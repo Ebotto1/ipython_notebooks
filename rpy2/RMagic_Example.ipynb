{
 "metadata": {
  "name": "",
  "signature": "sha256:06606dd131f3e7f421e202083b29587c5da1f546962cc7c6f834beab0c4e61b5"
 },
 "nbformat": 3,
 "nbformat_minor": 0,
 "worksheets": [
  {
   "cells": [
    {
     "cell_type": "markdown",
     "metadata": {},
     "source": [
      "### Load the R magic extention"
     ]
    },
    {
     "cell_type": "code",
     "collapsed": false,
     "input": [
      "%load_ext rpy2.ipython"
     ],
     "language": "python",
     "metadata": {},
     "outputs": [],
     "prompt_number": 1
    },
    {
     "cell_type": "markdown",
     "metadata": {},
     "source": [
      "### Create a Python pandas dataframe"
     ]
    },
    {
     "cell_type": "code",
     "collapsed": false,
     "input": [
      "import pandas as pd\n",
      "\n",
      "df = pd.DataFrame({'A': [1, 2, 3], 'B': [4, 5, 6], 'C':[7,8,9]},index=[\"one\", \"two\", \"three\"])"
     ],
     "language": "python",
     "metadata": {},
     "outputs": [],
     "prompt_number": 2
    },
    {
     "cell_type": "markdown",
     "metadata": {},
     "source": [
      "### Pass the dataframe to R"
     ]
    },
    {
     "cell_type": "code",
     "collapsed": false,
     "input": [
      "%R -i df"
     ],
     "language": "python",
     "metadata": {},
     "outputs": [],
     "prompt_number": 3
    },
    {
     "cell_type": "markdown",
     "metadata": {},
     "source": [
      "### Within R sandbox, plot the dataframe using ggplot2 plotting packing"
     ]
    },
    {
     "cell_type": "code",
     "collapsed": false,
     "input": [
      "%%R\n",
      "df <- as.data.frame(df)\n",
      "library(ggplot2)\n",
      "p <- ggplot(df, aes(A, B))\n",
      "p <- p + \n",
      "    geom_point()\n",
      "print(p)"
     ],
     "language": "python",
     "metadata": {},
     "outputs": [
      {
       "metadata": {},
       "output_type": "display_data",
       "png": "[encoded data removed]"
      }
     ],
     "prompt_number": 5
    },
    {
     "cell_type": "markdown",
     "metadata": {},
     "source": [
      "### You can specify size of the chart"
     ]
    },
    {
     "cell_type": "code",
     "collapsed": false,
     "input": [
      "%%R -w 480 -h 300 -u px # instead of px, you can also choose 'in', 'cm', or 'mm'\n",
      "df <- as.data.frame(df)\n",
      "library(ggplot2)\n",
      "p <- ggplot(df, aes(A, B))\n",
      "p <- p + \n",
      "    geom_point()\n",
      "print(p)"
     ],
     "language": "python",
     "metadata": {},
     "outputs": [
      {
       "metadata": {},
       "output_type": "display_data",
       "png": "[encoded data removed]"
      }
     ],
     "prompt_number": 16
    },
    {
     "cell_type": "markdown",
     "metadata": {},
     "source": [
      "#### Assuming you have Shiny installed in your R environment, if you run this code below, a separate browser will launch and display the hello shiny app!"
     ]
    },
    {
     "cell_type": "code",
     "collapsed": false,
     "input": [
      "%%R\n",
      "library(shiny)\n",
      "runExample(\"01_hello\")"
     ],
     "language": "python",
     "metadata": {},
     "outputs": []
    }
   ],
   "metadata": {}
  }
 ]
}