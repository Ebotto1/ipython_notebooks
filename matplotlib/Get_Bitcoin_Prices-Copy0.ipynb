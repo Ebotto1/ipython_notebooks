{
 "metadata": {
  "name": "",
  "signature": "sha256:a7175c0e33cc9f7836a789de1bd897b34af4f12983e515ef92e6910f7cd0bdc9"
 },
 "nbformat": 3,
 "nbformat_minor": 0,
 "worksheets": [
  {
   "cells": [
    {
     "cell_type": "markdown",
     "metadata": {},
     "source": [
      "<center><h2>Python Script that charts bitcoin prices in US dollars</h2></center>"
     ]
    },
    {
     "cell_type": "code",
     "collapsed": false,
     "input": [
      "import pandas as pd\n",
      "import matplotlib.pyplot as plt\n",
      "from matplotlib.dates import YearLocator, MonthLocator, WeekdayLocator, DayLocator, DateFormatter\n",
      "import dateutil\n",
      "from matplotlib.ticker import MultipleLocator\n",
      "from datetime import datetime\n",
      "from datetime import date\n",
      "\n",
      "# Data metadata:\n",
      "# CSV file where first column is string date in dd/mm/YYYY H:M:S format and second column is the bitcoin price in US dollars\n",
      "# Pandas.read_csv has an awesome converters parameter that allows us to convert or modify a column's data on the fly!\n",
      "# Therefore, we can read the first column as an actual Python datetime object instead of as a string.\n",
      "# Because there is time info with the date, it causes the x-axis ticks to not correspond with the data.\n",
      "# As a workaround, I stripped the time from the date values by invoking datetime.date()\n",
      "bitcoin_data = pd.read_csv(\"http://blockchain.info/charts/market-price?showDataPoints=false&timespan=&show_header=true&daysAverageString=1&scale=0&format=csv&address=\",\n",
      "                 index_col=0, names=['price'], converters={0: lambda x: datetime.date(datetime.strptime(x, '%d/%m/%Y %H:%M:%S'))})"
     ],
     "language": "python",
     "metadata": {},
     "outputs": [],
     "prompt_number": 3
    },
    {
     "cell_type": "heading",
     "level": 4,
     "metadata": {},
     "source": [
      "Let's view just the last 5 rows of the bitcoin data:"
     ]
    },
    {
     "cell_type": "code",
     "collapsed": false,
     "input": [
      "bitcoin_data.tail()"
     ],
     "language": "python",
     "metadata": {},
     "outputs": [
      {
       "html": [
        "<div style=\"max-height:1000px;max-width:1500px;overflow:auto;\">\n",
        "<table border=\"1\" class=\"dataframe\">\n",
        "  <thead>\n",
        "    <tr style=\"text-align: right;\">\n",
        "      <th></th>\n",
        "      <th>price</th>\n",
        "    </tr>\n",
        "  </thead>\n",
        "  <tbody>\n",
        "    <tr>\n",
        "      <th>2014-10-22</th>\n",
        "      <td> 385.10</td>\n",
        "    </tr>\n",
        "    <tr>\n",
        "      <th>2014-10-23</th>\n",
        "      <td> 363.99</td>\n",
        "    </tr>\n",
        "    <tr>\n",
        "      <th>2014-10-24</th>\n",
        "      <td> 358.46</td>\n",
        "    </tr>\n",
        "    <tr>\n",
        "      <th>2014-10-25</th>\n",
        "      <td> 348.89</td>\n",
        "    </tr>\n",
        "    <tr>\n",
        "      <th>2014-10-26</th>\n",
        "      <td> 354.79</td>\n",
        "    </tr>\n",
        "  </tbody>\n",
        "</table>\n",
        "</div>"
       ],
       "metadata": {},
       "output_type": "pyout",
       "prompt_number": 2,
       "text": [
        "             price\n",
        "2014-10-22  385.10\n",
        "2014-10-23  363.99\n",
        "2014-10-24  358.46\n",
        "2014-10-25  348.89\n",
        "2014-10-26  354.79"
       ]
      }
     ],
     "prompt_number": 2
    },
    {
     "cell_type": "heading",
     "level": 4,
     "metadata": {},
     "source": [
      "Now, let's plot the data.  Top chart will be all data available in monthly x-ticks intervals, bottom chart will be just last 2 calendar months of data, with daily x-ticks intervals."
     ]
    },
    {
     "cell_type": "code",
     "collapsed": false,
     "input": [
      "fig, axes = plt.subplots(2, 1)  # Make 2 rows and 1 column of plots (2 plots total)\n",
      "\n",
      "# These are just time intervals we can use to format our X axis tick intervals\n",
      "year   = YearLocator()\n",
      "month  = MonthLocator(bymonth=range(1,13),  bymonthday=1, interval=1)\n",
      "week   = WeekdayLocator(byweekday=0)  # Every MOnday or WeekdayLocator(byweekday=0) works too\n",
      "day    = DayLocator(bymonthday=range(1,32), interval=1)\n",
      "\n",
      "####################### Let's make the top plot ######################\n",
      "# Use trial and error to get the size you want\n",
      "axes[0] = fig.add_axes([0, 1.4, 1.5, 1])  # left, bottom, width, height\n",
      "\n",
      "# Format the x-axis, set tick labels as Month 'Yr format, turn on grid for major ticks\n",
      "monthsFmt = DateFormatter(\"%b '%y\")\n",
      "axes[0].xaxis.set_major_formatter(monthsFmt)\n",
      "axes[0].xaxis.set_major_locator(month)       # Make the x-axis tick interval to be monthly interval size\n",
      "axes[0].xaxis.grid(which='major')\n",
      "\n",
      "# Format the y-axis\n",
      "y_major_ticks = MultipleLocator(200)\n",
      "axes[0].yaxis.set_major_locator(y_major_ticks)\n",
      "axes[0].yaxis.set_ticks_position('right')   # Not sure why 'both' don't work\n",
      "axes[0].yaxis.set_label_position('right')\n",
      "axes[0].yaxis.grid(which='major')\n",
      "\n",
      "# Plot the data...\n",
      "axes[0].plot_date(bitcoin_data.index, bitcoin_data.values, 'r')\n",
      "axes[0].set_title(\"Bitcoin Value in US$\", weight=\"bold\")\n",
      "axes[0].set_xlabel(\"Month - Year\")\n",
      "axes[0].set_ylabel(\"US$\")\n",
      "plt.setp(axes[0].get_xticklabels(), rotation=-90)\n",
      "\n",
      "############# Let's get last 2 calendar months' worth of bitcoin prices ###########\n",
      "# But first, we must account for situation where current month is January\n",
      "today = datetime.today()\n",
      "this_month = today.month\n",
      "if this_month==1:\n",
      "    last_year = today.year - 1   # if month is January, then year will be one less than current year\n",
      "    last_month = 12              # if month is January, then previous month is Dec (12)\n",
      "else:\n",
      "    last_year = today.year       # Otherwise, last year is really same as current year and\n",
      "    last_month = this_month - 1  # last month will equal current month minus 1\n",
      "\n",
      "this_year = today.year\n",
      "\n",
      "# Pandas' filtering by date ranges only work if the dates are of type datetime.datetime\n",
      "# Unfortunately, the data parsed from the CSV file, was parsed as datetime.date\n",
      "# So we will convert bitcoin_data.index to datetime.datetime:\n",
      "bitcoin_data.index = pd.to_datetime(bitcoin_data.index)\n",
      "\n",
      "# Now I will take advantage of Pandas partial string indexing described below to get just 2 months of data:\n",
      "# http://pandas.pydata.org/pandas-docs/stable/timeseries.html#partial-string-indexing\n",
      "last2months = bitcoin_data[str(last_month)+'-'+str(last_year):str(this_month)+'-'+str(this_year)]\n",
      "idx = [datetime.date(data) for data in last2months.index]\n",
      "\n",
      "# Get current price and also the current date, convert it to a datetime.date, then make a string from it in mm/dd/YYYY format\n",
      "current_price = last2months[-1:].values[0][0]\n",
      "last_date = last2months[-1:].index\n",
      "current_date_unformatted = date(last_date.year[0], last_date.month[0], last_date.day[0])\n",
      "current_date = datetime.strftime(current_date_unformatted, \"%m/%d/%Y\")\n",
      "\n",
      "####################### Let's make the bottom plot ######################\n",
      "axes[1] = fig.add_axes([0, 0, 1.5, 1])   # left, bottom, width, height\n",
      "\n",
      "# Format the x-axis tick labels as mm/dd/YYYY format, turn on grid for major ticks\n",
      "dayFmt = DateFormatter(\"%b-%d-%Y\")\n",
      "axes[1].xaxis.set_major_locator(day)  # Make x-axis tick interval to be daily interval size\n",
      "axes[1].xaxis.set_major_formatter(dayFmt)\n",
      "axes[1].xaxis.grid(which='major')\n",
      "\n",
      "# Format the y-axis\n",
      "y_major_ticks = MultipleLocator(20)\n",
      "axes[1].yaxis.set_major_locator(y_major_ticks)\n",
      "axes[1].yaxis.set_ticks_position('right')  # Not sure why 'both' don't work\n",
      "axes[1].yaxis.set_label_position('right')\n",
      "axes[1].yaxis.grid(which='major')\n",
      "\n",
      "# Plot the data...\n",
      "axes[1].plot_date(idx, last2months.values, 'r')\n",
      "axes[1].set_title(\"Current Value@\"+current_date+\": \"+str(current_price), weight=\"bold\", size=10)\n",
      "# MATPLOTLIB does not have a good way of creating a title with 2 rows of text with different font sizes\n",
      "# Below is a workaround(http://matplotlib.org/users/text_intro.html), sort of \"hackish\" and requires trial and error (x,y)\n",
      "axes[1].text(.22,1.07, \"Last 2 Calendar Months of Bitcoin Values in US$\", transform=axes[1].transAxes,\n",
      "             weight=\"bold\", size=14)\n",
      "axes[1].set_xlabel(\"Month - Day - Year\")\n",
      "axes[1].set_ylabel(\"US$\")\n",
      "plt.setp(axes[1].get_xticklabels(), rotation=-90, size=8)\n",
      "plt.setp(axes[1].get_yticklabels(), size=9)\n",
      "plt.show()"
     ],
     "language": "python",
     "metadata": {},
     "outputs": [
      {
       "ename": "OverflowError",
       "evalue": "Python int too large to convert to C long",
       "output_type": "pyerr",
       "traceback": [
        "\u001b[1;31m---------------------------------------------------------------------------\u001b[0m\n\u001b[1;31mOverflowError\u001b[0m                             Traceback (most recent call last)",
        "\u001b[1;32m<ipython-input-6-c776a495769f>\u001b[0m in \u001b[0;36m<module>\u001b[1;34m()\u001b[0m\n\u001b[0;32m     29\u001b[0m \u001b[0maxes\u001b[0m\u001b[1;33m[\u001b[0m\u001b[1;36m0\u001b[0m\u001b[1;33m]\u001b[0m\u001b[1;33m.\u001b[0m\u001b[0mset_xlabel\u001b[0m\u001b[1;33m(\u001b[0m\u001b[1;34m\"Month - Year\"\u001b[0m\u001b[1;33m)\u001b[0m\u001b[1;33m\u001b[0m\u001b[0m\n\u001b[0;32m     30\u001b[0m \u001b[0maxes\u001b[0m\u001b[1;33m[\u001b[0m\u001b[1;36m0\u001b[0m\u001b[1;33m]\u001b[0m\u001b[1;33m.\u001b[0m\u001b[0mset_ylabel\u001b[0m\u001b[1;33m(\u001b[0m\u001b[1;34m\"US$\"\u001b[0m\u001b[1;33m)\u001b[0m\u001b[1;33m\u001b[0m\u001b[0m\n\u001b[1;32m---> 31\u001b[1;33m \u001b[0mplt\u001b[0m\u001b[1;33m.\u001b[0m\u001b[0msetp\u001b[0m\u001b[1;33m(\u001b[0m\u001b[0maxes\u001b[0m\u001b[1;33m[\u001b[0m\u001b[1;36m0\u001b[0m\u001b[1;33m]\u001b[0m\u001b[1;33m.\u001b[0m\u001b[0mget_xticklabels\u001b[0m\u001b[1;33m(\u001b[0m\u001b[1;33m)\u001b[0m\u001b[1;33m,\u001b[0m \u001b[0mrotation\u001b[0m\u001b[1;33m=\u001b[0m\u001b[1;33m-\u001b[0m\u001b[1;36m90\u001b[0m\u001b[1;33m)\u001b[0m\u001b[1;33m\u001b[0m\u001b[0m\n\u001b[0m\u001b[0;32m     32\u001b[0m \u001b[1;33m\u001b[0m\u001b[0m\n\u001b[0;32m     33\u001b[0m \u001b[1;31m############# Let's get last 2 calendar months' worth of bitcoin prices ###########\u001b[0m\u001b[1;33m\u001b[0m\u001b[1;33m\u001b[0m\u001b[0m\n",
        "\u001b[1;32m/home/pybokeh/miniconda3/envs/ipynb3/lib/python3.4/site-packages/matplotlib/axes/_base.py\u001b[0m in \u001b[0;36mget_xticklabels\u001b[1;34m(self, minor, which)\u001b[0m\n\u001b[0;32m   2641\u001b[0m         return cbook.silent_list('Text xticklabel',\n\u001b[0;32m   2642\u001b[0m                                  self.xaxis.get_ticklabels(minor=minor,\n\u001b[1;32m-> 2643\u001b[1;33m                                                            which=which))\n\u001b[0m\u001b[0;32m   2644\u001b[0m \u001b[1;33m\u001b[0m\u001b[0m\n\u001b[0;32m   2645\u001b[0m     \u001b[1;33m@\u001b[0m\u001b[0mdocstring\u001b[0m\u001b[1;33m.\u001b[0m\u001b[0mdedent_interpd\u001b[0m\u001b[1;33m\u001b[0m\u001b[0m\n",
        "\u001b[1;32m/home/pybokeh/miniconda3/envs/ipynb3/lib/python3.4/site-packages/matplotlib/axis.py\u001b[0m in \u001b[0;36mget_ticklabels\u001b[1;34m(self, minor, which)\u001b[0m\n\u001b[0;32m   1201\u001b[0m         \u001b[1;32mif\u001b[0m \u001b[0mminor\u001b[0m\u001b[1;33m:\u001b[0m\u001b[1;33m\u001b[0m\u001b[0m\n\u001b[0;32m   1202\u001b[0m             \u001b[1;32mreturn\u001b[0m \u001b[0mself\u001b[0m\u001b[1;33m.\u001b[0m\u001b[0mget_minorticklabels\u001b[0m\u001b[1;33m(\u001b[0m\u001b[1;33m)\u001b[0m\u001b[1;33m\u001b[0m\u001b[0m\n\u001b[1;32m-> 1203\u001b[1;33m         \u001b[1;32mreturn\u001b[0m \u001b[0mself\u001b[0m\u001b[1;33m.\u001b[0m\u001b[0mget_majorticklabels\u001b[0m\u001b[1;33m(\u001b[0m\u001b[1;33m)\u001b[0m\u001b[1;33m\u001b[0m\u001b[0m\n\u001b[0m\u001b[0;32m   1204\u001b[0m \u001b[1;33m\u001b[0m\u001b[0m\n\u001b[0;32m   1205\u001b[0m     \u001b[1;32mdef\u001b[0m \u001b[0mget_majorticklines\u001b[0m\u001b[1;33m(\u001b[0m\u001b[0mself\u001b[0m\u001b[1;33m)\u001b[0m\u001b[1;33m:\u001b[0m\u001b[1;33m\u001b[0m\u001b[0m\n",
        "\u001b[1;32m/home/pybokeh/miniconda3/envs/ipynb3/lib/python3.4/site-packages/matplotlib/axis.py\u001b[0m in \u001b[0;36mget_majorticklabels\u001b[1;34m(self)\u001b[0m\n\u001b[0;32m   1155\u001b[0m     \u001b[1;32mdef\u001b[0m \u001b[0mget_majorticklabels\u001b[0m\u001b[1;33m(\u001b[0m\u001b[0mself\u001b[0m\u001b[1;33m)\u001b[0m\u001b[1;33m:\u001b[0m\u001b[1;33m\u001b[0m\u001b[0m\n\u001b[0;32m   1156\u001b[0m         \u001b[1;34m'Return a list of Text instances for the major ticklabels'\u001b[0m\u001b[1;33m\u001b[0m\u001b[0m\n\u001b[1;32m-> 1157\u001b[1;33m         \u001b[0mticks\u001b[0m \u001b[1;33m=\u001b[0m \u001b[0mself\u001b[0m\u001b[1;33m.\u001b[0m\u001b[0mget_major_ticks\u001b[0m\u001b[1;33m(\u001b[0m\u001b[1;33m)\u001b[0m\u001b[1;33m\u001b[0m\u001b[0m\n\u001b[0m\u001b[0;32m   1158\u001b[0m         \u001b[0mlabels1\u001b[0m \u001b[1;33m=\u001b[0m \u001b[1;33m[\u001b[0m\u001b[0mtick\u001b[0m\u001b[1;33m.\u001b[0m\u001b[0mlabel1\u001b[0m \u001b[1;32mfor\u001b[0m \u001b[0mtick\u001b[0m \u001b[1;32min\u001b[0m \u001b[0mticks\u001b[0m \u001b[1;32mif\u001b[0m \u001b[0mtick\u001b[0m\u001b[1;33m.\u001b[0m\u001b[0mlabel1On\u001b[0m\u001b[1;33m]\u001b[0m\u001b[1;33m\u001b[0m\u001b[0m\n\u001b[0;32m   1159\u001b[0m         \u001b[0mlabels2\u001b[0m \u001b[1;33m=\u001b[0m \u001b[1;33m[\u001b[0m\u001b[0mtick\u001b[0m\u001b[1;33m.\u001b[0m\u001b[0mlabel2\u001b[0m \u001b[1;32mfor\u001b[0m \u001b[0mtick\u001b[0m \u001b[1;32min\u001b[0m \u001b[0mticks\u001b[0m \u001b[1;32mif\u001b[0m \u001b[0mtick\u001b[0m\u001b[1;33m.\u001b[0m\u001b[0mlabel2On\u001b[0m\u001b[1;33m]\u001b[0m\u001b[1;33m\u001b[0m\u001b[0m\n",
        "\u001b[1;32m/home/pybokeh/miniconda3/envs/ipynb3/lib/python3.4/site-packages/matplotlib/axis.py\u001b[0m in \u001b[0;36mget_major_ticks\u001b[1;34m(self, numticks)\u001b[0m\n\u001b[0;32m   1284\u001b[0m         \u001b[1;34m'get the tick instances; grow as necessary'\u001b[0m\u001b[1;33m\u001b[0m\u001b[0m\n\u001b[0;32m   1285\u001b[0m         \u001b[1;32mif\u001b[0m \u001b[0mnumticks\u001b[0m \u001b[1;32mis\u001b[0m \u001b[1;32mNone\u001b[0m\u001b[1;33m:\u001b[0m\u001b[1;33m\u001b[0m\u001b[0m\n\u001b[1;32m-> 1286\u001b[1;33m             \u001b[0mnumticks\u001b[0m \u001b[1;33m=\u001b[0m \u001b[0mlen\u001b[0m\u001b[1;33m(\u001b[0m\u001b[0mself\u001b[0m\u001b[1;33m.\u001b[0m\u001b[0mget_major_locator\u001b[0m\u001b[1;33m(\u001b[0m\u001b[1;33m)\u001b[0m\u001b[1;33m(\u001b[0m\u001b[1;33m)\u001b[0m\u001b[1;33m)\u001b[0m\u001b[1;33m\u001b[0m\u001b[0m\n\u001b[0m\u001b[0;32m   1287\u001b[0m         \u001b[1;32mif\u001b[0m \u001b[0mlen\u001b[0m\u001b[1;33m(\u001b[0m\u001b[0mself\u001b[0m\u001b[1;33m.\u001b[0m\u001b[0mmajorTicks\u001b[0m\u001b[1;33m)\u001b[0m \u001b[1;33m<\u001b[0m \u001b[0mnumticks\u001b[0m\u001b[1;33m:\u001b[0m\u001b[1;33m\u001b[0m\u001b[0m\n\u001b[0;32m   1288\u001b[0m             \u001b[1;31m# update the new tick label properties from the old\u001b[0m\u001b[1;33m\u001b[0m\u001b[1;33m\u001b[0m\u001b[0m\n",
        "\u001b[1;32m/home/pybokeh/miniconda3/envs/ipynb3/lib/python3.4/site-packages/matplotlib/dates.py\u001b[0m in \u001b[0;36m__call__\u001b[1;34m(self)\u001b[0m\n\u001b[0;32m    663\u001b[0m         \u001b[1;31m# if no data have been set, this will tank with a ValueError\u001b[0m\u001b[1;33m\u001b[0m\u001b[1;33m\u001b[0m\u001b[0m\n\u001b[0;32m    664\u001b[0m         \u001b[1;32mtry\u001b[0m\u001b[1;33m:\u001b[0m\u001b[1;33m\u001b[0m\u001b[0m\n\u001b[1;32m--> 665\u001b[1;33m             \u001b[0mdmin\u001b[0m\u001b[1;33m,\u001b[0m \u001b[0mdmax\u001b[0m \u001b[1;33m=\u001b[0m \u001b[0mself\u001b[0m\u001b[1;33m.\u001b[0m\u001b[0mviewlim_to_dt\u001b[0m\u001b[1;33m(\u001b[0m\u001b[1;33m)\u001b[0m\u001b[1;33m\u001b[0m\u001b[0m\n\u001b[0m\u001b[0;32m    666\u001b[0m         \u001b[1;32mexcept\u001b[0m \u001b[0mValueError\u001b[0m\u001b[1;33m:\u001b[0m\u001b[1;33m\u001b[0m\u001b[0m\n\u001b[0;32m    667\u001b[0m             \u001b[1;32mreturn\u001b[0m \u001b[1;33m[\u001b[0m\u001b[1;33m]\u001b[0m\u001b[1;33m\u001b[0m\u001b[0m\n",
        "\u001b[1;32m/home/pybokeh/miniconda3/envs/ipynb3/lib/python3.4/site-packages/matplotlib/dates.py\u001b[0m in \u001b[0;36mviewlim_to_dt\u001b[1;34m(self)\u001b[0m\n\u001b[0;32m    624\u001b[0m     \u001b[1;32mdef\u001b[0m \u001b[0mviewlim_to_dt\u001b[0m\u001b[1;33m(\u001b[0m\u001b[0mself\u001b[0m\u001b[1;33m)\u001b[0m\u001b[1;33m:\u001b[0m\u001b[1;33m\u001b[0m\u001b[0m\n\u001b[0;32m    625\u001b[0m         \u001b[0mvmin\u001b[0m\u001b[1;33m,\u001b[0m \u001b[0mvmax\u001b[0m \u001b[1;33m=\u001b[0m \u001b[0mself\u001b[0m\u001b[1;33m.\u001b[0m\u001b[0maxis\u001b[0m\u001b[1;33m.\u001b[0m\u001b[0mget_view_interval\u001b[0m\u001b[1;33m(\u001b[0m\u001b[1;33m)\u001b[0m\u001b[1;33m\u001b[0m\u001b[0m\n\u001b[1;32m--> 626\u001b[1;33m         \u001b[1;32mreturn\u001b[0m \u001b[0mnum2date\u001b[0m\u001b[1;33m(\u001b[0m\u001b[0mvmin\u001b[0m\u001b[1;33m,\u001b[0m \u001b[0mself\u001b[0m\u001b[1;33m.\u001b[0m\u001b[0mtz\u001b[0m\u001b[1;33m)\u001b[0m\u001b[1;33m,\u001b[0m \u001b[0mnum2date\u001b[0m\u001b[1;33m(\u001b[0m\u001b[0mvmax\u001b[0m\u001b[1;33m,\u001b[0m \u001b[0mself\u001b[0m\u001b[1;33m.\u001b[0m\u001b[0mtz\u001b[0m\u001b[1;33m)\u001b[0m\u001b[1;33m\u001b[0m\u001b[0m\n\u001b[0m\u001b[0;32m    627\u001b[0m \u001b[1;33m\u001b[0m\u001b[0m\n\u001b[0;32m    628\u001b[0m     \u001b[1;32mdef\u001b[0m \u001b[0m_get_unit\u001b[0m\u001b[1;33m(\u001b[0m\u001b[0mself\u001b[0m\u001b[1;33m)\u001b[0m\u001b[1;33m:\u001b[0m\u001b[1;33m\u001b[0m\u001b[0m\n",
        "\u001b[1;32m/home/pybokeh/miniconda3/envs/ipynb3/lib/python3.4/site-packages/matplotlib/dates.py\u001b[0m in \u001b[0;36mnum2date\u001b[1;34m(x, tz)\u001b[0m\n\u001b[0;32m    343\u001b[0m         \u001b[0mtz\u001b[0m \u001b[1;33m=\u001b[0m \u001b[0m_get_rc_timezone\u001b[0m\u001b[1;33m(\u001b[0m\u001b[1;33m)\u001b[0m\u001b[1;33m\u001b[0m\u001b[0m\n\u001b[0;32m    344\u001b[0m     \u001b[1;32mif\u001b[0m \u001b[1;32mnot\u001b[0m \u001b[0mcbook\u001b[0m\u001b[1;33m.\u001b[0m\u001b[0miterable\u001b[0m\u001b[1;33m(\u001b[0m\u001b[0mx\u001b[0m\u001b[1;33m)\u001b[0m\u001b[1;33m:\u001b[0m\u001b[1;33m\u001b[0m\u001b[0m\n\u001b[1;32m--> 345\u001b[1;33m         \u001b[1;32mreturn\u001b[0m \u001b[0m_from_ordinalf\u001b[0m\u001b[1;33m(\u001b[0m\u001b[0mx\u001b[0m\u001b[1;33m,\u001b[0m \u001b[0mtz\u001b[0m\u001b[1;33m)\u001b[0m\u001b[1;33m\u001b[0m\u001b[0m\n\u001b[0m\u001b[0;32m    346\u001b[0m     \u001b[1;32melse\u001b[0m\u001b[1;33m:\u001b[0m\u001b[1;33m\u001b[0m\u001b[0m\n\u001b[0;32m    347\u001b[0m         \u001b[0mx\u001b[0m \u001b[1;33m=\u001b[0m \u001b[0mnp\u001b[0m\u001b[1;33m.\u001b[0m\u001b[0masarray\u001b[0m\u001b[1;33m(\u001b[0m\u001b[0mx\u001b[0m\u001b[1;33m)\u001b[0m\u001b[1;33m\u001b[0m\u001b[0m\n",
        "\u001b[1;32m/home/pybokeh/miniconda3/envs/ipynb3/lib/python3.4/site-packages/matplotlib/dates.py\u001b[0m in \u001b[0;36m_from_ordinalf\u001b[1;34m(x, tz)\u001b[0m\n\u001b[0;32m    223\u001b[0m         \u001b[0mtz\u001b[0m \u001b[1;33m=\u001b[0m \u001b[0m_get_rc_timezone\u001b[0m\u001b[1;33m(\u001b[0m\u001b[1;33m)\u001b[0m\u001b[1;33m\u001b[0m\u001b[0m\n\u001b[0;32m    224\u001b[0m     \u001b[0mix\u001b[0m \u001b[1;33m=\u001b[0m \u001b[0mint\u001b[0m\u001b[1;33m(\u001b[0m\u001b[0mx\u001b[0m\u001b[1;33m)\u001b[0m\u001b[1;33m\u001b[0m\u001b[0m\n\u001b[1;32m--> 225\u001b[1;33m     \u001b[0mdt\u001b[0m \u001b[1;33m=\u001b[0m \u001b[0mdatetime\u001b[0m\u001b[1;33m.\u001b[0m\u001b[0mdatetime\u001b[0m\u001b[1;33m.\u001b[0m\u001b[0mfromordinal\u001b[0m\u001b[1;33m(\u001b[0m\u001b[0mix\u001b[0m\u001b[1;33m)\u001b[0m\u001b[1;33m\u001b[0m\u001b[0m\n\u001b[0m\u001b[0;32m    226\u001b[0m     \u001b[0mremainder\u001b[0m \u001b[1;33m=\u001b[0m \u001b[0mfloat\u001b[0m\u001b[1;33m(\u001b[0m\u001b[0mx\u001b[0m\u001b[1;33m)\u001b[0m \u001b[1;33m-\u001b[0m \u001b[0mix\u001b[0m\u001b[1;33m\u001b[0m\u001b[0m\n\u001b[0;32m    227\u001b[0m     \u001b[0mhour\u001b[0m\u001b[1;33m,\u001b[0m \u001b[0mremainder\u001b[0m \u001b[1;33m=\u001b[0m \u001b[0mdivmod\u001b[0m\u001b[1;33m(\u001b[0m\u001b[1;36m24\u001b[0m \u001b[1;33m*\u001b[0m \u001b[0mremainder\u001b[0m\u001b[1;33m,\u001b[0m \u001b[1;36m1\u001b[0m\u001b[1;33m)\u001b[0m\u001b[1;33m\u001b[0m\u001b[0m\n",
        "\u001b[1;31mOverflowError\u001b[0m: Python int too large to convert to C long"
       ]
      },
      {
       "metadata": {},
       "output_type": "display_data",
       "text": [
        "<matplotlib.figure.Figure at 0xae4442ec>"
       ]
      }
     ],
     "prompt_number": 6
    }
   ],
   "metadata": {}
  }
 ]
}