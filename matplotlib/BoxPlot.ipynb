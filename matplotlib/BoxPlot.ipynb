{
 "metadata": {
  "name": ""
 },
 "nbformat": 3,
 "nbformat_minor": 0,
 "worksheets": [
  {
   "cells": [
    {
     "cell_type": "code",
     "collapsed": false,
     "input": [
      "import pandas as pd\n",
      "import matplotlib.pyplot as plt\n",
      "\n",
      "xls = pd.ExcelFile('path_to_file')\n",
      "df = xls.parse('Claims', index_col=['CLM_SK'], na_values=['NA'])"
     ],
     "language": "python",
     "metadata": {},
     "outputs": [],
     "prompt_number": 16
    },
    {
     "cell_type": "code",
     "collapsed": false,
     "input": [
      "df = df[['DAYS_TO_FAIL_MINZERO','MILES_TO_FAIL']]\n",
      "dtf = df['DAYS_TO_FAIL_MINZERO'].values\n",
      "mtf = df['MILES_TO_FAIL'].values"
     ],
     "language": "python",
     "metadata": {},
     "outputs": [],
     "prompt_number": 20
    },
    {
     "cell_type": "code",
     "collapsed": false,
     "input": [
      "stats = df['DAYS_TO_FAIL_MINZERO'].describe()\n",
      "count = int(stats[0])\n",
      "mean = stats[1]\n",
      "std = stats[2]\n",
      "min = int(stats[3])\n",
      "pct25 = stats[4]\n",
      "pct50 = stats[5]\n",
      "pct75 = stats[6]\n",
      "max = int(stats[7])\n",
      "\n",
      "stats_label = \"count: \" + str(count) + \"\\n\" + \"min: \" + str(min) + \"\\n\" + \"max: \" + str(max) + \"\\n\" + \"median: \" + str(pct50)"
     ],
     "language": "python",
     "metadata": {},
     "outputs": [],
     "prompt_number": 70
    },
    {
     "cell_type": "code",
     "collapsed": false,
     "input": [
      "# http://matplotlib.org/users/text_intro.html\n",
      "fig = plt.figure()\n",
      "ax = fig.add_subplot(111)\n",
      "plt.boxplot(dtf, vert=False)\n",
      "plt.grid(True)\n",
      "plt.xlabel(\"DTF\")\n",
      "axis = plt.gca()\n",
      "axis.yaxis.set_ticklabels(['DTF'])\n",
      "ax.text(100, 1.2, stats_label, style='italic',\n",
      "        bbox={'facecolor':'red', 'alpha':0.5, 'pad':10})\n",
      "plt.show()"
     ],
     "language": "python",
     "metadata": {},
     "outputs": [
      {
       "metadata": {},
       "output_type": "display_data",
       "png": "[encoded data removed]",
       "text": [
        "<matplotlib.figure.Figure at 0x72d4210>"
       ]
      }
     ],
     "prompt_number": 72
    },
    {
     "cell_type": "code",
     "collapsed": false,
     "input": [
      "stats = df['MILES_TO_FAIL'].describe()\n",
      "count = int(stats[0])\n",
      "mean = stats[1]\n",
      "std = stats[2]\n",
      "min = int(stats[3])\n",
      "pct25 = stats[4]\n",
      "pct50 = stats[5]\n",
      "pct75 = stats[6]\n",
      "max = int(stats[7])\n",
      "\n",
      "stats_label = \"count: \" + str(count) + \"\\n\" + \"min: \" + str(min) + \"\\n\" + \"max: \" + str(max) + \"\\n\" + \"median: \" + str(pct50)"
     ],
     "language": "python",
     "metadata": {},
     "outputs": [],
     "prompt_number": 73
    },
    {
     "cell_type": "code",
     "collapsed": false,
     "input": [
      "#http://matplotlib.org/users/text_intro.html\n",
      "fig = plt.figure()\n",
      "ax = fig.add_subplot(111)\n",
      "plt.boxplot(mtf, vert=False)\n",
      "axis = plt.gca()\n",
      "axis.yaxis.set_ticklabels(['MTF'])\n",
      "plt.grid(True)\n",
      "plt.xlabel(\"MTF\")\n",
      "ax.text(5000, 1.2, stats_label, style='italic',\n",
      "        bbox={'facecolor':'red', 'alpha':0.5, 'pad':10})\n",
      "plt.show()"
     ],
     "language": "python",
     "metadata": {},
     "outputs": [
      {
       "metadata": {},
       "output_type": "display_data",
       "png": "[encoded data removed]",
       "text": [
        "<matplotlib.figure.Figure at 0x71d0b10>"
       ]
      }
     ],
     "prompt_number": 78
    }
   ],
   "metadata": {}
  }
 ]
}