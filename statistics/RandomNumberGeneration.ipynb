{
 "metadata": {
  "name": "",
  "signature": "sha256:13a02a2d16608d8b190e6f915a01601f2332d7d70d1894dacb083c3e53c6c3ac"
 },
 "nbformat": 3,
 "nbformat_minor": 0,
 "worksheets": [
  {
   "cells": [
    {
     "cell_type": "heading",
     "level": 3,
     "metadata": {},
     "source": [
      "I will show 2 ways to generate random numbers"
     ]
    },
    {
     "cell_type": "markdown",
     "metadata": {},
     "source": [
      "<strong>Using Python's built-in random class(less efficient)</strong>"
     ]
    },
    {
     "cell_type": "code",
     "collapsed": false,
     "input": [
      "import random"
     ],
     "language": "python",
     "metadata": {},
     "outputs": [],
     "prompt_number": 5
    },
    {
     "cell_type": "code",
     "collapsed": false,
     "input": [
      "help(random.normalvariate)"
     ],
     "language": "python",
     "metadata": {},
     "outputs": [
      {
       "output_type": "stream",
       "stream": "stdout",
       "text": [
        "Help on method normalvariate in module random:\n",
        "\n",
        "normalvariate(self, mu, sigma) method of random.Random instance\n",
        "    Normal distribution.\n",
        "    \n",
        "    mu is the mean, and sigma is the standard deviation.\n",
        "\n"
       ]
      }
     ],
     "prompt_number": 3
    },
    {
     "cell_type": "code",
     "collapsed": false,
     "input": [
      "dir(random)"
     ],
     "language": "python",
     "metadata": {},
     "outputs": [
      {
       "metadata": {},
       "output_type": "pyout",
       "prompt_number": 27,
       "text": [
        "['BPF',\n",
        " 'LOG4',\n",
        " 'NV_MAGICCONST',\n",
        " 'RECIP_BPF',\n",
        " 'Random',\n",
        " 'SG_MAGICCONST',\n",
        " 'SystemRandom',\n",
        " 'TWOPI',\n",
        " '_BuiltinMethodType',\n",
        " '_MethodType',\n",
        " '_Sequence',\n",
        " '_Set',\n",
        " '__all__',\n",
        " '__builtins__',\n",
        " '__cached__',\n",
        " '__doc__',\n",
        " '__file__',\n",
        " '__initializing__',\n",
        " '__loader__',\n",
        " '__name__',\n",
        " '__package__',\n",
        " '_acos',\n",
        " '_ceil',\n",
        " '_cos',\n",
        " '_e',\n",
        " '_exp',\n",
        " '_inst',\n",
        " '_log',\n",
        " '_pi',\n",
        " '_random',\n",
        " '_sha512',\n",
        " '_sin',\n",
        " '_sqrt',\n",
        " '_test',\n",
        " '_test_generator',\n",
        " '_urandom',\n",
        " '_warn',\n",
        " 'betavariate',\n",
        " 'choice',\n",
        " 'expovariate',\n",
        " 'gammavariate',\n",
        " 'gauss',\n",
        " 'getrandbits',\n",
        " 'getstate',\n",
        " 'lognormvariate',\n",
        " 'normalvariate',\n",
        " 'paretovariate',\n",
        " 'randint',\n",
        " 'random',\n",
        " 'randrange',\n",
        " 'sample',\n",
        " 'seed',\n",
        " 'setstate',\n",
        " 'shuffle',\n",
        " 'triangular',\n",
        " 'uniform',\n",
        " 'vonmisesvariate',\n",
        " 'weibullvariate']"
       ]
      }
     ],
     "prompt_number": 27
    },
    {
     "cell_type": "code",
     "collapsed": false,
     "input": [
      "help(random.gauss)"
     ],
     "language": "python",
     "metadata": {},
     "outputs": [
      {
       "output_type": "stream",
       "stream": "stdout",
       "text": [
        "Help on method gauss in module random:\n",
        "\n",
        "gauss(self, mu, sigma) method of random.Random instance\n",
        "    Gaussian distribution.\n",
        "    \n",
        "    mu is the mean, and sigma is the standard deviation.  This is\n",
        "    slightly faster than the normalvariate() function.\n",
        "    \n",
        "    Not thread-safe without a lock around calls.\n",
        "\n"
       ]
      }
     ],
     "prompt_number": 28
    },
    {
     "cell_type": "code",
     "collapsed": false,
     "input": [
      "mu, sigma = 0, 1\n",
      "data = []\n",
      "for i in range(0,1000):\n",
      "    data.append(random.gauss(mu, sigma))"
     ],
     "language": "python",
     "metadata": {},
     "outputs": [],
     "prompt_number": 6
    },
    {
     "cell_type": "code",
     "collapsed": false,
     "input": [
      "import seaborn as sns\n",
      "sns.set(font=\"serif\") # http://stackoverflow.com/questions/23207516/matplotlib-not-listening-to-font-choices\n",
      "\n",
      "count, bins, patches = hist(data,bins=30,normed=True)\n",
      "plot(bins, 1/(sigma * np.sqrt(2 * np.pi)) * np.exp( - (bins - mu)**2 / (2 * sigma**2) ), linewidth=2, color='r')\n",
      "title(\"Histogram\")\n",
      "xlabel(\"bin\")\n",
      "ylabel(\"Frequency\")\n",
      "grid(True)\n",
      "show()"
     ],
     "language": "python",
     "metadata": {},
     "outputs": [
      {
       "metadata": {},
       "output_type": "display_data",
       "png": "[encoded data removed]",
       "text": [
        "<matplotlib.figure.Figure at 0xa9abe42c>"
       ]
      }
     ],
     "prompt_number": 7
    },
    {
     "cell_type": "markdown",
     "metadata": {},
     "source": [
      "<strong>Using numpy's random class (more efficient)</strong>"
     ]
    },
    {
     "cell_type": "code",
     "collapsed": false,
     "input": [
      "from numpy import random as nprandom"
     ],
     "language": "python",
     "metadata": {},
     "outputs": [],
     "prompt_number": 1
    },
    {
     "cell_type": "code",
     "collapsed": false,
     "input": [
      "dir(nprandom)"
     ],
     "language": "python",
     "metadata": {},
     "outputs": [
      {
       "metadata": {},
       "output_type": "pyout",
       "prompt_number": 2,
       "text": [
        "['RandomState',\n",
        " 'Tester',\n",
        " '__RandomState_ctor',\n",
        " '__all__',\n",
        " '__builtins__',\n",
        " '__cached__',\n",
        " '__doc__',\n",
        " '__file__',\n",
        " '__loader__',\n",
        " '__name__',\n",
        " '__package__',\n",
        " '__path__',\n",
        " '__spec__',\n",
        " 'absolute_import',\n",
        " 'bench',\n",
        " 'beta',\n",
        " 'binomial',\n",
        " 'bytes',\n",
        " 'chisquare',\n",
        " 'choice',\n",
        " 'dirichlet',\n",
        " 'division',\n",
        " 'exponential',\n",
        " 'f',\n",
        " 'gamma',\n",
        " 'geometric',\n",
        " 'get_state',\n",
        " 'gumbel',\n",
        " 'hypergeometric',\n",
        " 'info',\n",
        " 'laplace',\n",
        " 'logistic',\n",
        " 'lognormal',\n",
        " 'logseries',\n",
        " 'mtrand',\n",
        " 'multinomial',\n",
        " 'multivariate_normal',\n",
        " 'negative_binomial',\n",
        " 'noncentral_chisquare',\n",
        " 'noncentral_f',\n",
        " 'normal',\n",
        " 'np',\n",
        " 'operator',\n",
        " 'pareto',\n",
        " 'permutation',\n",
        " 'poisson',\n",
        " 'power',\n",
        " 'print_function',\n",
        " 'rand',\n",
        " 'randint',\n",
        " 'randn',\n",
        " 'random',\n",
        " 'random_integers',\n",
        " 'random_sample',\n",
        " 'ranf',\n",
        " 'rayleigh',\n",
        " 'sample',\n",
        " 'seed',\n",
        " 'set_state',\n",
        " 'shuffle',\n",
        " 'standard_cauchy',\n",
        " 'standard_exponential',\n",
        " 'standard_gamma',\n",
        " 'standard_normal',\n",
        " 'standard_t',\n",
        " 'test',\n",
        " 'triangular',\n",
        " 'uniform',\n",
        " 'vonmises',\n",
        " 'wald',\n",
        " 'warnings',\n",
        " 'weibull',\n",
        " 'zipf']"
       ]
      }
     ],
     "prompt_number": 2
    },
    {
     "cell_type": "code",
     "collapsed": false,
     "input": [
      "help(nprandom.normal)"
     ],
     "language": "python",
     "metadata": {},
     "outputs": [
      {
       "output_type": "stream",
       "stream": "stdout",
       "text": [
        "Help on built-in function normal:\n",
        "\n",
        "normal(...) method of mtrand.RandomState instance\n",
        "    normal(loc=0.0, scale=1.0, size=None)\n",
        "    \n",
        "    Draw random samples from a normal (Gaussian) distribution.\n",
        "    \n",
        "    The probability density function of the normal distribution, first\n",
        "    derived by De Moivre and 200 years later by both Gauss and Laplace\n",
        "    independently [2]_, is often called the bell curve because of\n",
        "    its characteristic shape (see the example below).\n",
        "    \n",
        "    The normal distributions occurs often in nature.  For example, it\n",
        "    describes the commonly occurring distribution of samples influenced\n",
        "    by a large number of tiny, random disturbances, each with its own\n",
        "    unique distribution [2]_.\n",
        "    \n",
        "    Parameters\n",
        "    ----------\n",
        "    loc : float\n",
        "        Mean (\"centre\") of the distribution.\n",
        "    scale : float\n",
        "        Standard deviation (spread or \"width\") of the distribution.\n",
        "    size : tuple of ints\n",
        "        Output shape.  If the given shape is, e.g., ``(m, n, k)``, then\n",
        "        ``m * n * k`` samples are drawn.\n",
        "    \n",
        "    See Also\n",
        "    --------\n",
        "    scipy.stats.distributions.norm : probability density function,\n",
        "        distribution or cumulative density function, etc.\n",
        "    \n",
        "    Notes\n",
        "    -----\n",
        "    The probability density for the Gaussian distribution is\n",
        "    \n",
        "    .. math:: p(x) = \\frac{1}{\\sqrt{ 2 \\pi \\sigma^2 }}\n",
        "                     e^{ - \\frac{ (x - \\mu)^2 } {2 \\sigma^2} },\n",
        "    \n",
        "    where :math:`\\mu` is the mean and :math:`\\sigma` the standard deviation.\n",
        "    The square of the standard deviation, :math:`\\sigma^2`, is called the\n",
        "    variance.\n",
        "    \n",
        "    The function has its peak at the mean, and its \"spread\" increases with\n",
        "    the standard deviation (the function reaches 0.607 times its maximum at\n",
        "    :math:`x + \\sigma` and :math:`x - \\sigma` [2]_).  This implies that\n",
        "    `numpy.random.normal` is more likely to return samples lying close to the\n",
        "    mean, rather than those far away.\n",
        "    \n",
        "    References\n",
        "    ----------\n",
        "    .. [1] Wikipedia, \"Normal distribution\",\n",
        "           http://en.wikipedia.org/wiki/Normal_distribution\n",
        "    .. [2] P. R. Peebles Jr., \"Central Limit Theorem\" in \"Probability, Random\n",
        "           Variables and Random Signal Principles\", 4th ed., 2001,\n",
        "           pp. 51, 51, 125.\n",
        "    \n",
        "    Examples\n",
        "    --------\n",
        "    Draw samples from the distribution:\n",
        "    \n",
        "    >>> mu, sigma = 0, 0.1 # mean and standard deviation\n",
        "    >>> s = np.random.normal(mu, sigma, 1000)\n",
        "    \n",
        "    Verify the mean and the variance:\n",
        "    \n",
        "    >>> abs(mu - np.mean(s)) < 0.01\n",
        "    True\n",
        "    \n",
        "    >>> abs(sigma - np.std(s, ddof=1)) < 0.01\n",
        "    True\n",
        "    \n",
        "    Display the histogram of the samples, along with\n",
        "    the probability density function:\n",
        "    \n",
        "    >>> import matplotlib.pyplot as plt\n",
        "    >>> count, bins, ignored = plt.hist(s, 30, normed=True)\n",
        "    >>> plt.plot(bins, 1/(sigma * np.sqrt(2 * np.pi)) *\n",
        "    ...                np.exp( - (bins - mu)**2 / (2 * sigma**2) ),\n",
        "    ...          linewidth=2, color='r')\n",
        "    >>> plt.show()\n",
        "\n"
       ]
      }
     ],
     "prompt_number": 3
    },
    {
     "cell_type": "code",
     "collapsed": false,
     "input": [
      "mu, sigma = 0, 1\n",
      "variates = nprandom.normal(mu,sigma,1000)"
     ],
     "language": "python",
     "metadata": {},
     "outputs": [],
     "prompt_number": 2
    },
    {
     "cell_type": "code",
     "collapsed": false,
     "input": [
      "import seaborn as sns\n",
      "sns.set(font=\"serif\") # http://stackoverflow.com/questions/23207516/matplotlib-not-listening-to-font-choices\n",
      "count, bins, ignored = plt.hist(variates, 30, normed=True)\n",
      "plot(bins, 1/(sigma * np.sqrt(2 * np.pi)) * np.exp( - (bins - mu)**2 / (2 * sigma**2) ), linewidth=2, color='r')\n",
      "title(\"Histogram\")\n",
      "xlabel(\"bins\")\n",
      "ylabel(\"Frequency\")\n",
      "grid(True)\n",
      "show()"
     ],
     "language": "python",
     "metadata": {},
     "outputs": [
      {
       "metadata": {},
       "output_type": "display_data",
       "png": "[encoded data removed]",
       "text": [
        "<matplotlib.figure.Figure at 0xa998bacc>"
       ]
      }
     ],
     "prompt_number": 4
    }
   ],
   "metadata": {}
  }
 ]
}