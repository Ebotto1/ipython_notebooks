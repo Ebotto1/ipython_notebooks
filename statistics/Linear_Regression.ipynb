{
 "metadata": {
  "name": ""
 },
 "nbformat": 3,
 "nbformat_minor": 0,
 "worksheets": [
  {
   "cells": [
    {
     "cell_type": "code",
     "collapsed": false,
     "input": [
      "x = [5,10,20,8,4,6,12,15]\n",
      "y = [27,46,73,40,30,28,46,59]\n",
      "\n",
      "data_list = [tpl for tpl in zip(x,y)]"
     ],
     "language": "python",
     "metadata": {},
     "outputs": [],
     "prompt_number": 40
    },
    {
     "cell_type": "code",
     "collapsed": false,
     "input": [
      "import numpy as np\n",
      "\n",
      "income = []\n",
      "sales = []\n",
      "for x,y in sorted(data_list):\n",
      "    income.append(x)\n",
      "    sales.append(y)\n",
      "    \n",
      "income = np.array(income)\n",
      "sales = np.array(sales)"
     ],
     "language": "python",
     "metadata": {},
     "outputs": [],
     "prompt_number": 62
    },
    {
     "cell_type": "code",
     "collapsed": false,
     "input": [
      "income"
     ],
     "language": "python",
     "metadata": {},
     "outputs": [
      {
       "metadata": {},
       "output_type": "pyout",
       "prompt_number": 63,
       "text": [
        "array([ 4,  5,  6,  8, 10, 12, 15, 20])"
       ]
      }
     ],
     "prompt_number": 63
    },
    {
     "cell_type": "code",
     "collapsed": false,
     "input": [
      "sales"
     ],
     "language": "python",
     "metadata": {},
     "outputs": [
      {
       "metadata": {},
       "output_type": "pyout",
       "prompt_number": 64,
       "text": [
        "array([30, 27, 28, 40, 46, 46, 59, 73])"
       ]
      }
     ],
     "prompt_number": 64
    },
    {
     "cell_type": "code",
     "collapsed": false,
     "input": [
      "import matplotlib.pyplot as plt\n",
      "import scipy.stats as stats\n",
      "\n",
      "fig = plt.figure()\n",
      "\n",
      "slope, intercept, r_value, p_value, std_err = stats.linregress(income,sales)\n",
      "x = range(0,26)\n",
      "y = slope * x + intercept\n",
      "\n",
      "axes = fig.add_axes([0, 0, 1, 1]) # left, bottom, width, height (range 0 to 1)\n",
      "axes.scatter(income, sales)\n",
      "axes.plot(x,y)\n",
      "plt.show()"
     ],
     "language": "python",
     "metadata": {},
     "outputs": [
      {
       "metadata": {},
       "output_type": "display_data",
       "png": "[encoded data removed]",
       "text": [
        "<matplotlib.figure.Figure at 0x7f3fd411b8d0>"
       ]
      }
     ],
     "prompt_number": 65
    },
    {
     "cell_type": "code",
     "collapsed": false,
     "input": [
      "y = slope * income + intercept"
     ],
     "language": "python",
     "metadata": {},
     "outputs": [],
     "prompt_number": 66
    },
    {
     "cell_type": "code",
     "collapsed": false,
     "input": [
      "y"
     ],
     "language": "python",
     "metadata": {},
     "outputs": [
      {
       "metadata": {},
       "output_type": "pyout",
       "prompt_number": 67,
       "text": [
        "array([ 26.19642857,  29.10119048,  32.00595238,  37.81547619,\n",
        "        43.625     ,  49.43452381,  58.14880952,  72.67261905])"
       ]
      }
     ],
     "prompt_number": 67
    },
    {
     "cell_type": "code",
     "collapsed": false,
     "input": [
      "residual = sales - y"
     ],
     "language": "python",
     "metadata": {},
     "outputs": [],
     "prompt_number": 68
    },
    {
     "cell_type": "code",
     "collapsed": false,
     "input": [
      "residual"
     ],
     "language": "python",
     "metadata": {},
     "outputs": [
      {
       "metadata": {},
       "output_type": "pyout",
       "prompt_number": 69,
       "text": [
        "array([ 3.80357143, -2.10119048, -4.00595238,  2.18452381,  2.375     ,\n",
        "       -3.43452381,  0.85119048,  0.32738095])"
       ]
      }
     ],
     "prompt_number": 69
    },
    {
     "cell_type": "code",
     "collapsed": false,
     "input": [
      "fig = plt.figure()\n",
      "axes = fig.add_axes([0, 0, 1, 1]) # left, bottom, width, height (range 0 to 1)\n",
      "\n",
      "axes.spines['right'].set_color('none')\n",
      "axes.spines['top'].set_color('none')\n",
      "\n",
      "axes.xaxis.set_ticks_position('bottom')\n",
      "axes.spines['bottom'].set_position(('data',0)) # set position of x spine to x=0\n",
      "\n",
      "axes.yaxis.set_ticks_position('left')\n",
      "axes.spines['left'].set_position(('data',0))   # set position of y spine to y=0\n",
      "\n",
      "axes.scatter(income, residual)\n",
      "axes.grid(True)\n",
      "plt.show()"
     ],
     "language": "python",
     "metadata": {},
     "outputs": [
      {
       "metadata": {},
       "output_type": "display_data",
       "png": "[encoded data removed]",
       "text": [
        "<matplotlib.figure.Figure at 0x7f3fd416a5d0>"
       ]
      }
     ],
     "prompt_number": 70
    }
   ],
   "metadata": {}
  }
 ]
}