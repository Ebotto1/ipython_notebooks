{
 "metadata": {
  "name": "",
  "signature": "sha256:c732550920ed2ade23caf95bdd4efb03665dfe897641513dc9d21e91886bec26"
 },
 "nbformat": 3,
 "nbformat_minor": 0,
 "worksheets": [
  {
   "cells": [
    {
     "cell_type": "code",
     "collapsed": false,
     "input": [
      "import pandas.io.data as web"
     ],
     "language": "python",
     "metadata": {},
     "outputs": []
    }
   ],
   "metadata": {}
  }
 ]
}