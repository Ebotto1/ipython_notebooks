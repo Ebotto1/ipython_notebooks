{
 "metadata": {
  "name": "",
  "signature": "sha256:9b4f508406a263e960e811c32a5e46682802900d0bb8e971dac4d513e69a82b4"
 },
 "nbformat": 3,
 "nbformat_minor": 0,
 "worksheets": [
  {
   "cells": [
    {
     "cell_type": "markdown",
     "metadata": {},
     "source": [
      "# Analyzing Supercar Data using Python using Pandas"
     ]
    },
    {
     "cell_type": "markdown",
     "metadata": {},
     "source": [
      "Data sets were provided by [www.sharpsightlabs.com](http://www.sharpsightlabs.com/data-analysis-example-r-supercars-part1/)"
     ]
    },
    {
     "cell_type": "code",
     "collapsed": false,
     "input": [
      "import pandas as pd\n",
      "\n",
      "car_torque = pd.read_csv('http://www.sharpsightlabs.com/wp-content/uploads/2014/11/auto-snout_torque_DATA.txt')\n",
      "car_0_60_times = pd.read_csv('http://www.sharpsightlabs.com/wp-content/uploads/2014/11/auto-snout_0-60-times_DATA.txt')\n",
      "# The engine size data set has an extra comma in row 713, so saved a local copy and removed the extra comma\n",
      "car_engine_size = pd.read_csv('/home/pybokeh/Dropbox/data_sets/supercar/car_engine_size.csv')\n",
      "# car_engine_size = pd.read_csv('http://www.sharpsightlabs.com/wp-content/uploads/2014/11/auto-snout_engine-size_DATA.txt')\n",
      "car_horsepower = pd.read_csv('http://www.sharpsightlabs.com/wp-content/uploads/2014/11/auto-snout_horsepower_DATA.txt')\n",
      "car_top_speed = pd.read_csv('http://www.sharpsightlabs.com/wp-content/uploads/2014/11/auto-snout_top-speed_DATA.txt')\n",
      "car_power_to_weight = pd.read_csv('http://www.sharpsightlabs.com/wp-content/uploads/2014/11/auto-snout_power-to-weight_DATA.txt')"
     ],
     "language": "python",
     "metadata": {},
     "outputs": [],
     "prompt_number": 5
    },
    {
     "cell_type": "code",
     "collapsed": false,
     "input": [
      "car_torque.head()"
     ],
     "language": "python",
     "metadata": {},
     "outputs": [
      {
       "html": [
        "<div style=\"max-height:1000px;max-width:1500px;overflow:auto;\">\n",
        "<table border=\"1\" class=\"dataframe\">\n",
        "  <thead>\n",
        "    <tr style=\"text-align: right;\">\n",
        "      <th></th>\n",
        "      <th>car_full_nm</th>\n",
        "      <th>torque_lb_ft</th>\n",
        "      <th>rpm_torque_measure_point</th>\n",
        "    </tr>\n",
        "  </thead>\n",
        "  <tbody>\n",
        "    <tr>\n",
        "      <th>0</th>\n",
        "      <td> Bugatti Veyron 16.4 Grand Sport Vitesse - [2012]</td>\n",
        "      <td> 1106</td>\n",
        "      <td> 3000</td>\n",
        "    </tr>\n",
        "    <tr>\n",
        "      <th>1</th>\n",
        "      <td>                    SSC Ultimate Aero TT - [2008]</td>\n",
        "      <td> 1094</td>\n",
        "      <td> 6150</td>\n",
        "    </tr>\n",
        "    <tr>\n",
        "      <th>2</th>\n",
        "      <td>          SSC Tuatara 6.9L V8 Twin Turbo - [2011]</td>\n",
        "      <td> 1042</td>\n",
        "      <td> 5000</td>\n",
        "    </tr>\n",
        "    <tr>\n",
        "      <th>3</th>\n",
        "      <td>                     Fisker Karma Hybrid - [2011]</td>\n",
        "      <td>  981</td>\n",
        "      <td>    1</td>\n",
        "    </tr>\n",
        "    <tr>\n",
        "      <th>4</th>\n",
        "      <td>                      Hennessey Venom GT - [2010]</td>\n",
        "      <td>  972</td>\n",
        "      <td> 4200</td>\n",
        "    </tr>\n",
        "  </tbody>\n",
        "</table>\n",
        "</div>"
       ],
       "metadata": {},
       "output_type": "pyout",
       "prompt_number": 3,
       "text": [
        "                                        car_full_nm  torque_lb_ft  \\\n",
        "0  Bugatti Veyron 16.4 Grand Sport Vitesse - [2012]          1106   \n",
        "1                     SSC Ultimate Aero TT - [2008]          1094   \n",
        "2           SSC Tuatara 6.9L V8 Twin Turbo - [2011]          1042   \n",
        "3                      Fisker Karma Hybrid - [2011]           981   \n",
        "4                       Hennessey Venom GT - [2010]           972   \n",
        "\n",
        "   rpm_torque_measure_point  \n",
        "0                      3000  \n",
        "1                      6150  \n",
        "2                      5000  \n",
        "3                         1  \n",
        "4                      4200  "
       ]
      }
     ],
     "prompt_number": 3
    },
    {
     "cell_type": "code",
     "collapsed": false,
     "input": [
      "car_0_60_times.head()"
     ],
     "language": "python",
     "metadata": {},
     "outputs": [
      {
       "html": [
        "<div style=\"max-height:1000px;max-width:1500px;overflow:auto;\">\n",
        "<table border=\"1\" class=\"dataframe\">\n",
        "  <thead>\n",
        "    <tr style=\"text-align: right;\">\n",
        "      <th></th>\n",
        "      <th>car_full_nm</th>\n",
        "      <th>car_0_60_time_seconds</th>\n",
        "    </tr>\n",
        "  </thead>\n",
        "  <tbody>\n",
        "    <tr>\n",
        "      <th>0</th>\n",
        "      <td>                        Ariel Atom V8 500 - [2008]</td>\n",
        "      <td> 2.3</td>\n",
        "    </tr>\n",
        "    <tr>\n",
        "      <th>1</th>\n",
        "      <td>  Bugatti Veyron 16.4 Grand Sport Vitesse - [2012]</td>\n",
        "      <td> 2.5</td>\n",
        "    </tr>\n",
        "    <tr>\n",
        "      <th>2</th>\n",
        "      <td> Bugatti Veyron 8.0 litre W16 Super Sport - [2010]</td>\n",
        "      <td> 2.5</td>\n",
        "    </tr>\n",
        "    <tr>\n",
        "      <th>3</th>\n",
        "      <td>                         Caparo T1 2.4 V8 - [2006]</td>\n",
        "      <td> 2.5</td>\n",
        "    </tr>\n",
        "    <tr>\n",
        "      <th>4</th>\n",
        "      <td>                        Caparo T1 3.5l V8 - [2007]</td>\n",
        "      <td> 2.5</td>\n",
        "    </tr>\n",
        "  </tbody>\n",
        "</table>\n",
        "</div>"
       ],
       "metadata": {},
       "output_type": "pyout",
       "prompt_number": 6,
       "text": [
        "                                         car_full_nm  car_0_60_time_seconds\n",
        "0                         Ariel Atom V8 500 - [2008]                    2.3\n",
        "1   Bugatti Veyron 16.4 Grand Sport Vitesse - [2012]                    2.5\n",
        "2  Bugatti Veyron 8.0 litre W16 Super Sport - [2010]                    2.5\n",
        "3                          Caparo T1 2.4 V8 - [2006]                    2.5\n",
        "4                         Caparo T1 3.5l V8 - [2007]                    2.5"
       ]
      }
     ],
     "prompt_number": 6
    },
    {
     "cell_type": "code",
     "collapsed": false,
     "input": [
      "car_engine_size.head()"
     ],
     "language": "python",
     "metadata": {},
     "outputs": [
      {
       "html": [
        "<div style=\"max-height:1000px;max-width:1500px;overflow:auto;\">\n",
        "<table border=\"1\" class=\"dataframe\">\n",
        "  <thead>\n",
        "    <tr style=\"text-align: right;\">\n",
        "      <th></th>\n",
        "      <th>car_full_nm</th>\n",
        "      <th>engine_size_cc</th>\n",
        "      <th>engine_size_ci</th>\n",
        "    </tr>\n",
        "  </thead>\n",
        "  <tbody>\n",
        "    <tr>\n",
        "      <th>0</th>\n",
        "      <td>       Dodge Viper SRT10 ACR - [2007]</td>\n",
        "      <td> 8382</td>\n",
        "      <td> 511.5</td>\n",
        "    </tr>\n",
        "    <tr>\n",
        "      <th>1</th>\n",
        "      <td>  Dodge Viper SRT-10 8.3 V10 - [2005]</td>\n",
        "      <td> 8285</td>\n",
        "      <td> 505.5</td>\n",
        "    </tr>\n",
        "    <tr>\n",
        "      <th>2</th>\n",
        "      <td>  Dodge Viper SRT-10 8.3 V10 - [2003]</td>\n",
        "      <td> 8285</td>\n",
        "      <td> 505.5</td>\n",
        "    </tr>\n",
        "    <tr>\n",
        "      <th>3</th>\n",
        "      <td> Dodge Viper SRT/10 8.0L V10 - [1992]</td>\n",
        "      <td> 7997</td>\n",
        "      <td> 488.0</td>\n",
        "    </tr>\n",
        "    <tr>\n",
        "      <th>4</th>\n",
        "      <td>        Dodge Viper 8.0L V10 - [1989]</td>\n",
        "      <td> 7994</td>\n",
        "      <td> 487.8</td>\n",
        "    </tr>\n",
        "  </tbody>\n",
        "</table>\n",
        "</div>"
       ],
       "metadata": {},
       "output_type": "pyout",
       "prompt_number": 7,
       "text": [
        "                            car_full_nm  engine_size_cc  engine_size_ci\n",
        "0        Dodge Viper SRT10 ACR - [2007]            8382           511.5\n",
        "1   Dodge Viper SRT-10 8.3 V10 - [2005]            8285           505.5\n",
        "2   Dodge Viper SRT-10 8.3 V10 - [2003]            8285           505.5\n",
        "3  Dodge Viper SRT/10 8.0L V10 - [1992]            7997           488.0\n",
        "4         Dodge Viper 8.0L V10 - [1989]            7994           487.8"
       ]
      }
     ],
     "prompt_number": 7
    },
    {
     "cell_type": "code",
     "collapsed": false,
     "input": [
      "car_horsepower.head()"
     ],
     "language": "python",
     "metadata": {},
     "outputs": [
      {
       "html": [
        "<div style=\"max-height:1000px;max-width:1500px;overflow:auto;\">\n",
        "<table border=\"1\" class=\"dataframe\">\n",
        "  <thead>\n",
        "    <tr style=\"text-align: right;\">\n",
        "      <th></th>\n",
        "      <th>car_full_nm</th>\n",
        "      <th>horsepower_bhp</th>\n",
        "      <th>rpm_horsepower_measure_point</th>\n",
        "    </tr>\n",
        "  </thead>\n",
        "  <tbody>\n",
        "    <tr>\n",
        "      <th>0</th>\n",
        "      <td> Bugatti Veyron 8.0 litre W16 Super Sport - [2010]</td>\n",
        "      <td> 1184</td>\n",
        "      <td> 6400</td>\n",
        "    </tr>\n",
        "    <tr>\n",
        "      <th>1</th>\n",
        "      <td>  Bugatti Veyron 16.4 Grand Sport Vitesse - [2012]</td>\n",
        "      <td> 1184</td>\n",
        "      <td> 6400</td>\n",
        "    </tr>\n",
        "    <tr>\n",
        "      <th>2</th>\n",
        "      <td>                     SSC Ultimate Aero TT - [2008]</td>\n",
        "      <td> 1183</td>\n",
        "      <td> 6950</td>\n",
        "    </tr>\n",
        "    <tr>\n",
        "      <th>3</th>\n",
        "      <td>                Koenigsegg Agera R 5.0 V8 - [2012]</td>\n",
        "      <td> 1124</td>\n",
        "      <td> 7100</td>\n",
        "    </tr>\n",
        "    <tr>\n",
        "      <th>4</th>\n",
        "      <td>                         Porsche 9FF GT9R - [2009]</td>\n",
        "      <td> 1120</td>\n",
        "      <td> 7850</td>\n",
        "    </tr>\n",
        "  </tbody>\n",
        "</table>\n",
        "</div>"
       ],
       "metadata": {},
       "output_type": "pyout",
       "prompt_number": 8,
       "text": [
        "                                         car_full_nm  horsepower_bhp  \\\n",
        "0  Bugatti Veyron 8.0 litre W16 Super Sport - [2010]            1184   \n",
        "1   Bugatti Veyron 16.4 Grand Sport Vitesse - [2012]            1184   \n",
        "2                      SSC Ultimate Aero TT - [2008]            1183   \n",
        "3                 Koenigsegg Agera R 5.0 V8 - [2012]            1124   \n",
        "4                          Porsche 9FF GT9R - [2009]            1120   \n",
        "\n",
        "   rpm_horsepower_measure_point  \n",
        "0                          6400  \n",
        "1                          6400  \n",
        "2                          6950  \n",
        "3                          7100  \n",
        "4                          7850  "
       ]
      }
     ],
     "prompt_number": 8
    },
    {
     "cell_type": "code",
     "collapsed": false,
     "input": [
      "car_top_speed.head()"
     ],
     "language": "python",
     "metadata": {},
     "outputs": [
      {
       "html": [
        "<div style=\"max-height:1000px;max-width:1500px;overflow:auto;\">\n",
        "<table border=\"1\" class=\"dataframe\">\n",
        "  <thead>\n",
        "    <tr style=\"text-align: right;\">\n",
        "      <th></th>\n",
        "      <th>car_full_nm</th>\n",
        "      <th>top_speed_mph</th>\n",
        "      <th>top_speed_kph</th>\n",
        "    </tr>\n",
        "  </thead>\n",
        "  <tbody>\n",
        "    <tr>\n",
        "      <th>0</th>\n",
        "      <td> SSC Tuatara 6.9L V8 Twin Turbo - [2011]</td>\n",
        "      <td> 276</td>\n",
        "      <td> 444</td>\n",
        "    </tr>\n",
        "    <tr>\n",
        "      <th>1</th>\n",
        "      <td>      Koenigsegg Agera R 5.0 V8 - [2012]</td>\n",
        "      <td> 273</td>\n",
        "      <td> 439</td>\n",
        "    </tr>\n",
        "    <tr>\n",
        "      <th>2</th>\n",
        "      <td>           SSC Ultimate Aero TT - [2008]</td>\n",
        "      <td> 273</td>\n",
        "      <td> 439</td>\n",
        "    </tr>\n",
        "    <tr>\n",
        "      <th>3</th>\n",
        "      <td>         Koenigsegg Agera 5L V8 - [2011]</td>\n",
        "      <td> 261</td>\n",
        "      <td> 420</td>\n",
        "    </tr>\n",
        "    <tr>\n",
        "      <th>4</th>\n",
        "      <td>             Hennessey Venom GT - [2010]</td>\n",
        "      <td> 260</td>\n",
        "      <td> 418</td>\n",
        "    </tr>\n",
        "  </tbody>\n",
        "</table>\n",
        "</div>"
       ],
       "metadata": {},
       "output_type": "pyout",
       "prompt_number": 9,
       "text": [
        "                               car_full_nm  top_speed_mph  top_speed_kph\n",
        "0  SSC Tuatara 6.9L V8 Twin Turbo - [2011]            276            444\n",
        "1       Koenigsegg Agera R 5.0 V8 - [2012]            273            439\n",
        "2            SSC Ultimate Aero TT - [2008]            273            439\n",
        "3          Koenigsegg Agera 5L V8 - [2011]            261            420\n",
        "4              Hennessey Venom GT - [2010]            260            418"
       ]
      }
     ],
     "prompt_number": 9
    },
    {
     "cell_type": "code",
     "collapsed": false,
     "input": [
      "car_power_to_weight.head()"
     ],
     "language": "python",
     "metadata": {},
     "outputs": [
      {
       "html": [
        "<div style=\"max-height:1000px;max-width:1500px;overflow:auto;\">\n",
        "<table border=\"1\" class=\"dataframe\">\n",
        "  <thead>\n",
        "    <tr style=\"text-align: right;\">\n",
        "      <th></th>\n",
        "      <th>car_full_nm</th>\n",
        "      <th>horsepower_per_ton_bhp</th>\n",
        "    </tr>\n",
        "  </thead>\n",
        "  <tbody>\n",
        "    <tr>\n",
        "      <th>0</th>\n",
        "      <td>         Caparo T1 3.5l V8 - [2007]</td>\n",
        "      <td> 1045.4</td>\n",
        "    </tr>\n",
        "    <tr>\n",
        "      <th>1</th>\n",
        "      <td>          Caparo T1 2.4 V8 - [2006]</td>\n",
        "      <td> 1021.2</td>\n",
        "    </tr>\n",
        "    <tr>\n",
        "      <th>2</th>\n",
        "      <td> Caterham 7 RST-V8 Levante - [2008]</td>\n",
        "      <td>  961.5</td>\n",
        "    </tr>\n",
        "    <tr>\n",
        "      <th>3</th>\n",
        "      <td>      SSC Ultimate Aero TT - [2008]</td>\n",
        "      <td>  946.4</td>\n",
        "    </tr>\n",
        "    <tr>\n",
        "      <th>4</th>\n",
        "      <td>         Ariel Atom V8 500 - [2008]</td>\n",
        "      <td>  863.6</td>\n",
        "    </tr>\n",
        "  </tbody>\n",
        "</table>\n",
        "</div>"
       ],
       "metadata": {},
       "output_type": "pyout",
       "prompt_number": 10,
       "text": [
        "                          car_full_nm  horsepower_per_ton_bhp\n",
        "0          Caparo T1 3.5l V8 - [2007]                  1045.4\n",
        "1           Caparo T1 2.4 V8 - [2006]                  1021.2\n",
        "2  Caterham 7 RST-V8 Levante - [2008]                   961.5\n",
        "3       SSC Ultimate Aero TT - [2008]                   946.4\n",
        "4          Ariel Atom V8 500 - [2008]                   863.6"
       ]
      }
     ],
     "prompt_number": 10
    }
   ],
   "metadata": {}
  }
 ]
}