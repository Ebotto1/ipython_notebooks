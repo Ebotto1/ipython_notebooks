{
 "metadata": {
  "name": "",
  "signature": "sha256:c8f7ec1759f12b35b4ad36041071d8a8b7eaadf411bdcea7b28344c05aedbb1e"
 },
 "nbformat": 3,
 "nbformat_minor": 0,
 "worksheets": [
  {
   "cells": [
    {
     "cell_type": "markdown",
     "metadata": {},
     "source": [
      "<a id=\"top\"></a>"
     ]
    },
    {
     "cell_type": "markdown",
     "metadata": {},
     "source": [
      "# <center>Python [Pandas](http://pandas.pydata.org/pandas-docs/stable/) Cheat Sheet</center>"
     ]
    },
    {
     "cell_type": "markdown",
     "metadata": {},
     "source": [
      "As a data analyst, these are common tasks I perform using Pandas"
     ]
    },
    {
     "cell_type": "markdown",
     "metadata": {},
     "source": [
      "- [Pandas display output options](#options)\n",
      "- [Sorting More Than One Columns](#sorting)\n",
      "- [Removing duplicates](#removing_duplicates)\n",
      "- [Creating a column based on values from another column](#map)\n",
      "- [Removing a column](#remove_column)\n",
      "- [Replacing values in a series](#replacing_values)\n",
      "- [Reading CSV or Excel files](http://pandas.pydata.org/pandas-docs/stable/io.html)\n",
      "- [Renaming axis](#renaming_axis)\n",
      "- [Renaming indexes or columns](#renaming_indexes_columns)\n",
      "- [Binning data into intervals](#binning)\n",
      "- [Grouping data](#group)\n",
      "- [Sub-selecting or Slicing a DataFrame](#slicing)\n",
      "- [Boolean indexing](#boolean)\n",
      "- [Obtaining columns with partial column labels](#partial_column_labels)\n",
      "- [Getting value counts](#value_counts)\n",
      "- [Getting cumulative sum](#cum_sum)\n",
      "- [Pivot table](#pivot_table)\n",
      "- [Pivot table Percent of Rows](#perc_rows)\n",
      "- [Pivot table Percent of Columns](#perc_columns)\n",
      "- [Transpose a dataframe](#transpose)\n",
      "- [Converting index to a column](#index2column)\n",
      "- [How to add or fill in missing dates](#missing_dates)\n",
      "- [How to connect to an ODBC data source (Windows)](#database)\n",
      "- [How to convert data in wide format to long format using melt()](#melt)\n",
      "- [How to convert data in long format data to wide format using pivot()](#pivot)\n",
      "- [Using category data type to control sort order](#category)\n",
      "- [Merging 2 dataframes using merge()](#merge)\n",
      "- [Finding rows containing data with missing values](#missing)\n",
      "- [Converting a data type of a column in a dataframe](#convert_type)\n",
      "- [Sending Pandas dataframe to R using rpy2 IPython notebook extension](#rpy2)"
     ]
    },
    {
     "cell_type": "markdown",
     "metadata": {},
     "source": [
      "<a id='options'></a>"
     ]
    },
    {
     "cell_type": "markdown",
     "metadata": {},
     "source": [
      "### Setting display output [options](http://pandas.pydata.org/pandas-docs/stable/generated/pandas.set_option.html)"
     ]
    },
    {
     "cell_type": "markdown",
     "metadata": {},
     "source": [
      "[[back to top](#top)]"
     ]
    },
    {
     "cell_type": "code",
     "collapsed": false,
     "input": [
      "import pandas as pd\n",
      "pd.set_option(\"display.max_rows\",1000)\n",
      "pd.set_option(\"display.max_columns\",20)\n",
      "pd.set_option('precision',7)\n",
      "pd.set_option('large_repr', 'truncate')"
     ],
     "language": "python",
     "metadata": {},
     "outputs": [],
     "prompt_number": 70
    },
    {
     "cell_type": "markdown",
     "metadata": {},
     "source": [
      "<a id='sorting'></a>"
     ]
    },
    {
     "cell_type": "markdown",
     "metadata": {},
     "source": [
      "### Sorting More Than One Column"
     ]
    },
    {
     "cell_type": "markdown",
     "metadata": {},
     "source": [
      "[[back to top]](#top)"
     ]
    },
    {
     "cell_type": "code",
     "collapsed": false,
     "input": [
      "import pandas as pd\n",
      "data = pd.DataFrame({'group': ['a', 'a', 'a', 'b','b', 'b', 'c', 'c','c'],\n",
      "                 'ounces': [4, 3, 12, 6, 7.5, 8, 3, 5, 6]})\n",
      "data"
     ],
     "language": "python",
     "metadata": {},
     "outputs": [
      {
       "html": [
        "<div style=\"max-height:1000px;max-width:1500px;overflow:auto;\">\n",
        "<table border=\"1\" class=\"dataframe\">\n",
        "  <thead>\n",
        "    <tr style=\"text-align: right;\">\n",
        "      <th></th>\n",
        "      <th>group</th>\n",
        "      <th>ounces</th>\n",
        "    </tr>\n",
        "  </thead>\n",
        "  <tbody>\n",
        "    <tr>\n",
        "      <th>0</th>\n",
        "      <td> a</td>\n",
        "      <td>  4.0</td>\n",
        "    </tr>\n",
        "    <tr>\n",
        "      <th>1</th>\n",
        "      <td> a</td>\n",
        "      <td>  3.0</td>\n",
        "    </tr>\n",
        "    <tr>\n",
        "      <th>2</th>\n",
        "      <td> a</td>\n",
        "      <td> 12.0</td>\n",
        "    </tr>\n",
        "    <tr>\n",
        "      <th>3</th>\n",
        "      <td> b</td>\n",
        "      <td>  6.0</td>\n",
        "    </tr>\n",
        "    <tr>\n",
        "      <th>4</th>\n",
        "      <td> b</td>\n",
        "      <td>  7.5</td>\n",
        "    </tr>\n",
        "    <tr>\n",
        "      <th>5</th>\n",
        "      <td> b</td>\n",
        "      <td>  8.0</td>\n",
        "    </tr>\n",
        "    <tr>\n",
        "      <th>6</th>\n",
        "      <td> c</td>\n",
        "      <td>  3.0</td>\n",
        "    </tr>\n",
        "    <tr>\n",
        "      <th>7</th>\n",
        "      <td> c</td>\n",
        "      <td>  5.0</td>\n",
        "    </tr>\n",
        "    <tr>\n",
        "      <th>8</th>\n",
        "      <td> c</td>\n",
        "      <td>  6.0</td>\n",
        "    </tr>\n",
        "  </tbody>\n",
        "</table>\n",
        "</div>"
       ],
       "metadata": {},
       "output_type": "pyout",
       "prompt_number": 8,
       "text": [
        "  group  ounces\n",
        "0     a     4.0\n",
        "1     a     3.0\n",
        "2     a    12.0\n",
        "3     b     6.0\n",
        "4     b     7.5\n",
        "5     b     8.0\n",
        "6     c     3.0\n",
        "7     c     5.0\n",
        "8     c     6.0"
       ]
      }
     ],
     "prompt_number": 8
    },
    {
     "cell_type": "markdown",
     "metadata": {},
     "source": [
      "**Just pass a list of columns you want to sort and pass corresponding list of True/False to the ascending parameter**"
     ]
    },
    {
     "cell_type": "code",
     "collapsed": false,
     "input": [
      "data.sort(columns=['group','ounces'], ascending=[False, True], inplace=True)\n",
      "data"
     ],
     "language": "python",
     "metadata": {},
     "outputs": [
      {
       "html": [
        "<div style=\"max-height:1000px;max-width:1500px;overflow:auto;\">\n",
        "<table border=\"1\" class=\"dataframe\">\n",
        "  <thead>\n",
        "    <tr style=\"text-align: right;\">\n",
        "      <th></th>\n",
        "      <th>group</th>\n",
        "      <th>ounces</th>\n",
        "    </tr>\n",
        "  </thead>\n",
        "  <tbody>\n",
        "    <tr>\n",
        "      <th>6</th>\n",
        "      <td> c</td>\n",
        "      <td>  3.0</td>\n",
        "    </tr>\n",
        "    <tr>\n",
        "      <th>7</th>\n",
        "      <td> c</td>\n",
        "      <td>  5.0</td>\n",
        "    </tr>\n",
        "    <tr>\n",
        "      <th>8</th>\n",
        "      <td> c</td>\n",
        "      <td>  6.0</td>\n",
        "    </tr>\n",
        "    <tr>\n",
        "      <th>3</th>\n",
        "      <td> b</td>\n",
        "      <td>  6.0</td>\n",
        "    </tr>\n",
        "    <tr>\n",
        "      <th>4</th>\n",
        "      <td> b</td>\n",
        "      <td>  7.5</td>\n",
        "    </tr>\n",
        "    <tr>\n",
        "      <th>5</th>\n",
        "      <td> b</td>\n",
        "      <td>  8.0</td>\n",
        "    </tr>\n",
        "    <tr>\n",
        "      <th>1</th>\n",
        "      <td> a</td>\n",
        "      <td>  3.0</td>\n",
        "    </tr>\n",
        "    <tr>\n",
        "      <th>0</th>\n",
        "      <td> a</td>\n",
        "      <td>  4.0</td>\n",
        "    </tr>\n",
        "    <tr>\n",
        "      <th>2</th>\n",
        "      <td> a</td>\n",
        "      <td> 12.0</td>\n",
        "    </tr>\n",
        "  </tbody>\n",
        "</table>\n",
        "</div>"
       ],
       "metadata": {},
       "output_type": "pyout",
       "prompt_number": 11,
       "text": [
        "  group  ounces\n",
        "6     c     3.0\n",
        "7     c     5.0\n",
        "8     c     6.0\n",
        "3     b     6.0\n",
        "4     b     7.5\n",
        "5     b     8.0\n",
        "1     a     3.0\n",
        "0     a     4.0\n",
        "2     a    12.0"
       ]
      }
     ],
     "prompt_number": 11
    },
    {
     "cell_type": "markdown",
     "metadata": {},
     "source": [
      "<a id='removing_duplicates'></a>"
     ]
    },
    {
     "cell_type": "markdown",
     "metadata": {},
     "source": [
      "### Removing duplicates"
     ]
    },
    {
     "cell_type": "markdown",
     "metadata": {},
     "source": [
      "[[back to top](#top)]"
     ]
    },
    {
     "cell_type": "code",
     "collapsed": false,
     "input": [
      "import pandas as pd\n",
      "data = pd.DataFrame({'k1': ['one'] * 3 + ['two'] * 4, 'k2': [3, 2, 1, 3, 3, 4, 4]})"
     ],
     "language": "python",
     "metadata": {},
     "outputs": [],
     "prompt_number": 7
    },
    {
     "cell_type": "code",
     "collapsed": false,
     "input": [
      "data.sort(columns='k2')\n",
      "data"
     ],
     "language": "python",
     "metadata": {},
     "outputs": [
      {
       "html": [
        "<div style=\"max-height:1000px;max-width:1500px;overflow:auto;\">\n",
        "<table border=\"1\" class=\"dataframe\">\n",
        "  <thead>\n",
        "    <tr style=\"text-align: right;\">\n",
        "      <th></th>\n",
        "      <th>k1</th>\n",
        "      <th>k2</th>\n",
        "    </tr>\n",
        "  </thead>\n",
        "  <tbody>\n",
        "    <tr>\n",
        "      <th>0</th>\n",
        "      <td> one</td>\n",
        "      <td> 3</td>\n",
        "    </tr>\n",
        "    <tr>\n",
        "      <th>1</th>\n",
        "      <td> one</td>\n",
        "      <td> 2</td>\n",
        "    </tr>\n",
        "    <tr>\n",
        "      <th>2</th>\n",
        "      <td> one</td>\n",
        "      <td> 1</td>\n",
        "    </tr>\n",
        "    <tr>\n",
        "      <th>3</th>\n",
        "      <td> two</td>\n",
        "      <td> 3</td>\n",
        "    </tr>\n",
        "    <tr>\n",
        "      <th>4</th>\n",
        "      <td> two</td>\n",
        "      <td> 3</td>\n",
        "    </tr>\n",
        "    <tr>\n",
        "      <th>5</th>\n",
        "      <td> two</td>\n",
        "      <td> 4</td>\n",
        "    </tr>\n",
        "    <tr>\n",
        "      <th>6</th>\n",
        "      <td> two</td>\n",
        "      <td> 4</td>\n",
        "    </tr>\n",
        "  </tbody>\n",
        "</table>\n",
        "</div>"
       ],
       "metadata": {},
       "output_type": "pyout",
       "prompt_number": 8,
       "text": [
        "    k1  k2\n",
        "0  one   3\n",
        "1  one   2\n",
        "2  one   1\n",
        "3  two   3\n",
        "4  two   3\n",
        "5  two   4\n",
        "6  two   4"
       ]
      }
     ],
     "prompt_number": 8
    },
    {
     "cell_type": "code",
     "collapsed": false,
     "input": [
      "data.drop_duplicates()  # by default, duplicate is defined by all columns"
     ],
     "language": "python",
     "metadata": {},
     "outputs": [
      {
       "html": [
        "<div style=\"max-height:1000px;max-width:1500px;overflow:auto;\">\n",
        "<table border=\"1\" class=\"dataframe\">\n",
        "  <thead>\n",
        "    <tr style=\"text-align: right;\">\n",
        "      <th></th>\n",
        "      <th>k1</th>\n",
        "      <th>k2</th>\n",
        "    </tr>\n",
        "  </thead>\n",
        "  <tbody>\n",
        "    <tr>\n",
        "      <th>0</th>\n",
        "      <td> one</td>\n",
        "      <td> 3</td>\n",
        "    </tr>\n",
        "    <tr>\n",
        "      <th>1</th>\n",
        "      <td> one</td>\n",
        "      <td> 2</td>\n",
        "    </tr>\n",
        "    <tr>\n",
        "      <th>2</th>\n",
        "      <td> one</td>\n",
        "      <td> 1</td>\n",
        "    </tr>\n",
        "    <tr>\n",
        "      <th>3</th>\n",
        "      <td> two</td>\n",
        "      <td> 3</td>\n",
        "    </tr>\n",
        "    <tr>\n",
        "      <th>5</th>\n",
        "      <td> two</td>\n",
        "      <td> 4</td>\n",
        "    </tr>\n",
        "  </tbody>\n",
        "</table>\n",
        "</div>"
       ],
       "metadata": {},
       "output_type": "pyout",
       "prompt_number": 9,
       "text": [
        "    k1  k2\n",
        "0  one   3\n",
        "1  one   2\n",
        "2  one   1\n",
        "3  two   3\n",
        "5  two   4"
       ]
      }
     ],
     "prompt_number": 9
    },
    {
     "cell_type": "markdown",
     "metadata": {},
     "source": [
      "### Define duplicates by column name(s):"
     ]
    },
    {
     "cell_type": "code",
     "collapsed": false,
     "input": [
      "data.drop_duplicates(subset='k1')  # duplicate in column k1 only"
     ],
     "language": "python",
     "metadata": {},
     "outputs": [
      {
       "html": [
        "<div style=\"max-height:1000px;max-width:1500px;overflow:auto;\">\n",
        "<table border=\"1\" class=\"dataframe\">\n",
        "  <thead>\n",
        "    <tr style=\"text-align: right;\">\n",
        "      <th></th>\n",
        "      <th>k1</th>\n",
        "      <th>k2</th>\n",
        "    </tr>\n",
        "  </thead>\n",
        "  <tbody>\n",
        "    <tr>\n",
        "      <th>0</th>\n",
        "      <td> one</td>\n",
        "      <td> 3</td>\n",
        "    </tr>\n",
        "    <tr>\n",
        "      <th>3</th>\n",
        "      <td> two</td>\n",
        "      <td> 3</td>\n",
        "    </tr>\n",
        "  </tbody>\n",
        "</table>\n",
        "</div>"
       ],
       "metadata": {},
       "output_type": "pyout",
       "prompt_number": 10,
       "text": [
        "    k1  k2\n",
        "0  one   3\n",
        "3  two   3"
       ]
      }
     ],
     "prompt_number": 10
    },
    {
     "cell_type": "markdown",
     "metadata": {},
     "source": [
      "<a id=\"map\"></a>"
     ]
    },
    {
     "cell_type": "markdown",
     "metadata": {},
     "source": [
      "### Creating a new column based on values from another column"
     ]
    },
    {
     "cell_type": "markdown",
     "metadata": {},
     "source": [
      "[[back to top](#top)]"
     ]
    },
    {
     "cell_type": "code",
     "collapsed": false,
     "input": [
      "import pandas as pd\n",
      "data = pd.DataFrame({'food': ['bacon', 'pulled pork', 'bacon', 'Pastrami','corned beef', 'Bacon', 'pastrami', 'honey ham','nova lox'],\n",
      "                 'ounces': [4, 3, 12, 6, 7.5, 8, 3, 5, 6]})\n",
      "data"
     ],
     "language": "python",
     "metadata": {},
     "outputs": [
      {
       "html": [
        "<div style=\"max-height:1000px;max-width:1500px;overflow:auto;\">\n",
        "<table border=\"1\" class=\"dataframe\">\n",
        "  <thead>\n",
        "    <tr style=\"text-align: right;\">\n",
        "      <th></th>\n",
        "      <th>food</th>\n",
        "      <th>ounces</th>\n",
        "    </tr>\n",
        "  </thead>\n",
        "  <tbody>\n",
        "    <tr>\n",
        "      <th>0</th>\n",
        "      <td>       bacon</td>\n",
        "      <td>  4.0</td>\n",
        "    </tr>\n",
        "    <tr>\n",
        "      <th>1</th>\n",
        "      <td> pulled pork</td>\n",
        "      <td>  3.0</td>\n",
        "    </tr>\n",
        "    <tr>\n",
        "      <th>2</th>\n",
        "      <td>       bacon</td>\n",
        "      <td> 12.0</td>\n",
        "    </tr>\n",
        "    <tr>\n",
        "      <th>3</th>\n",
        "      <td>    Pastrami</td>\n",
        "      <td>  6.0</td>\n",
        "    </tr>\n",
        "    <tr>\n",
        "      <th>4</th>\n",
        "      <td> corned beef</td>\n",
        "      <td>  7.5</td>\n",
        "    </tr>\n",
        "    <tr>\n",
        "      <th>5</th>\n",
        "      <td>       Bacon</td>\n",
        "      <td>  8.0</td>\n",
        "    </tr>\n",
        "    <tr>\n",
        "      <th>6</th>\n",
        "      <td>    pastrami</td>\n",
        "      <td>  3.0</td>\n",
        "    </tr>\n",
        "    <tr>\n",
        "      <th>7</th>\n",
        "      <td>   honey ham</td>\n",
        "      <td>  5.0</td>\n",
        "    </tr>\n",
        "    <tr>\n",
        "      <th>8</th>\n",
        "      <td>    nova lox</td>\n",
        "      <td>  6.0</td>\n",
        "    </tr>\n",
        "  </tbody>\n",
        "</table>\n",
        "</div>"
       ],
       "metadata": {},
       "output_type": "pyout",
       "prompt_number": 18,
       "text": [
        "          food  ounces\n",
        "0        bacon     4.0\n",
        "1  pulled pork     3.0\n",
        "2        bacon    12.0\n",
        "3     Pastrami     6.0\n",
        "4  corned beef     7.5\n",
        "5        Bacon     8.0\n",
        "6     pastrami     3.0\n",
        "7    honey ham     5.0\n",
        "8     nova lox     6.0"
       ]
      }
     ],
     "prompt_number": 18
    },
    {
     "cell_type": "markdown",
     "metadata": {},
     "source": [
      "### Suppose you wanted to add a column indicating the type of animal that each food came from. Let\u2019s write down a mapping of each distinct meat type to the kind of animal using a dictionary and a function:"
     ]
    },
    {
     "cell_type": "code",
     "collapsed": false,
     "input": [
      "meat_to_animal = {\n",
      "'bacon': 'pig',\n",
      "'pulled pork': 'pig',\n",
      "'pastrami': 'cow',\n",
      "'corned beef': 'cow',\n",
      "'honey ham': 'pig',\n",
      "'nova lox': 'salmon'\n",
      "}\n",
      "\n",
      "def meat2animal(series):\n",
      "    if series[\"food\"]=='bacon':\n",
      "        return 'pig'\n",
      "    elif series[\"food\"]=='pulled pork':\n",
      "        return 'pig'\n",
      "    elif series[\"food\"]=='pastrami':\n",
      "        return 'cow'\n",
      "    elif series[\"food\"]=='corned beef':\n",
      "        return 'cow'\n",
      "    elif series[\"food\"]=='honey ham':\n",
      "        return 'pig'\n",
      "    else:\n",
      "        return 'salmon'"
     ],
     "language": "python",
     "metadata": {},
     "outputs": [],
     "prompt_number": 19
    },
    {
     "cell_type": "code",
     "collapsed": false,
     "input": [
      "data['animal'] = data['food'].map(str.lower).map(meat_to_animal)\n",
      "data"
     ],
     "language": "python",
     "metadata": {},
     "outputs": [
      {
       "html": [
        "<div style=\"max-height:1000px;max-width:1500px;overflow:auto;\">\n",
        "<table border=\"1\" class=\"dataframe\">\n",
        "  <thead>\n",
        "    <tr style=\"text-align: right;\">\n",
        "      <th></th>\n",
        "      <th>food</th>\n",
        "      <th>ounces</th>\n",
        "      <th>animal</th>\n",
        "    </tr>\n",
        "  </thead>\n",
        "  <tbody>\n",
        "    <tr>\n",
        "      <th>0</th>\n",
        "      <td>       bacon</td>\n",
        "      <td>  4.0</td>\n",
        "      <td>    pig</td>\n",
        "    </tr>\n",
        "    <tr>\n",
        "      <th>1</th>\n",
        "      <td> pulled pork</td>\n",
        "      <td>  3.0</td>\n",
        "      <td>    pig</td>\n",
        "    </tr>\n",
        "    <tr>\n",
        "      <th>2</th>\n",
        "      <td>       bacon</td>\n",
        "      <td> 12.0</td>\n",
        "      <td>    pig</td>\n",
        "    </tr>\n",
        "    <tr>\n",
        "      <th>3</th>\n",
        "      <td>    Pastrami</td>\n",
        "      <td>  6.0</td>\n",
        "      <td>    cow</td>\n",
        "    </tr>\n",
        "    <tr>\n",
        "      <th>4</th>\n",
        "      <td> corned beef</td>\n",
        "      <td>  7.5</td>\n",
        "      <td>    cow</td>\n",
        "    </tr>\n",
        "    <tr>\n",
        "      <th>5</th>\n",
        "      <td>       Bacon</td>\n",
        "      <td>  8.0</td>\n",
        "      <td>    pig</td>\n",
        "    </tr>\n",
        "    <tr>\n",
        "      <th>6</th>\n",
        "      <td>    pastrami</td>\n",
        "      <td>  3.0</td>\n",
        "      <td>    cow</td>\n",
        "    </tr>\n",
        "    <tr>\n",
        "      <th>7</th>\n",
        "      <td>   honey ham</td>\n",
        "      <td>  5.0</td>\n",
        "      <td>    pig</td>\n",
        "    </tr>\n",
        "    <tr>\n",
        "      <th>8</th>\n",
        "      <td>    nova lox</td>\n",
        "      <td>  6.0</td>\n",
        "      <td> salmon</td>\n",
        "    </tr>\n",
        "  </tbody>\n",
        "</table>\n",
        "</div>"
       ],
       "metadata": {},
       "output_type": "pyout",
       "prompt_number": 20,
       "text": [
        "          food  ounces  animal\n",
        "0        bacon     4.0     pig\n",
        "1  pulled pork     3.0     pig\n",
        "2        bacon    12.0     pig\n",
        "3     Pastrami     6.0     cow\n",
        "4  corned beef     7.5     cow\n",
        "5        Bacon     8.0     pig\n",
        "6     pastrami     3.0     cow\n",
        "7    honey ham     5.0     pig\n",
        "8     nova lox     6.0  salmon"
       ]
      }
     ],
     "prompt_number": 20
    },
    {
     "cell_type": "markdown",
     "metadata": {},
     "source": [
      "#### Or we could use apply() and apply the meat2animal() function to the new column:"
     ]
    },
    {
     "cell_type": "code",
     "collapsed": false,
     "input": [
      "data['animal2'] = data.apply(meat2animal,axis=1)  # axis=1 means to apply the function down the column, not across the row\n",
      "data"
     ],
     "language": "python",
     "metadata": {},
     "outputs": [
      {
       "html": [
        "<div style=\"max-height:1000px;max-width:1500px;overflow:auto;\">\n",
        "<table border=\"1\" class=\"dataframe\">\n",
        "  <thead>\n",
        "    <tr style=\"text-align: right;\">\n",
        "      <th></th>\n",
        "      <th>food</th>\n",
        "      <th>ounces</th>\n",
        "      <th>animal</th>\n",
        "      <th>animal2</th>\n",
        "    </tr>\n",
        "  </thead>\n",
        "  <tbody>\n",
        "    <tr>\n",
        "      <th>0</th>\n",
        "      <td>       bacon</td>\n",
        "      <td>  4.0</td>\n",
        "      <td>    pig</td>\n",
        "      <td>    pig</td>\n",
        "    </tr>\n",
        "    <tr>\n",
        "      <th>1</th>\n",
        "      <td> pulled pork</td>\n",
        "      <td>  3.0</td>\n",
        "      <td>    pig</td>\n",
        "      <td>    pig</td>\n",
        "    </tr>\n",
        "    <tr>\n",
        "      <th>2</th>\n",
        "      <td>       bacon</td>\n",
        "      <td> 12.0</td>\n",
        "      <td>    pig</td>\n",
        "      <td>    pig</td>\n",
        "    </tr>\n",
        "    <tr>\n",
        "      <th>3</th>\n",
        "      <td>    Pastrami</td>\n",
        "      <td>  6.0</td>\n",
        "      <td>    cow</td>\n",
        "      <td> salmon</td>\n",
        "    </tr>\n",
        "    <tr>\n",
        "      <th>4</th>\n",
        "      <td> corned beef</td>\n",
        "      <td>  7.5</td>\n",
        "      <td>    cow</td>\n",
        "      <td>    cow</td>\n",
        "    </tr>\n",
        "    <tr>\n",
        "      <th>5</th>\n",
        "      <td>       Bacon</td>\n",
        "      <td>  8.0</td>\n",
        "      <td>    pig</td>\n",
        "      <td> salmon</td>\n",
        "    </tr>\n",
        "    <tr>\n",
        "      <th>6</th>\n",
        "      <td>    pastrami</td>\n",
        "      <td>  3.0</td>\n",
        "      <td>    cow</td>\n",
        "      <td>    cow</td>\n",
        "    </tr>\n",
        "    <tr>\n",
        "      <th>7</th>\n",
        "      <td>   honey ham</td>\n",
        "      <td>  5.0</td>\n",
        "      <td>    pig</td>\n",
        "      <td>    pig</td>\n",
        "    </tr>\n",
        "    <tr>\n",
        "      <th>8</th>\n",
        "      <td>    nova lox</td>\n",
        "      <td>  6.0</td>\n",
        "      <td> salmon</td>\n",
        "      <td> salmon</td>\n",
        "    </tr>\n",
        "  </tbody>\n",
        "</table>\n",
        "</div>"
       ],
       "metadata": {},
       "output_type": "pyout",
       "prompt_number": 21,
       "text": [
        "          food  ounces  animal animal2\n",
        "0        bacon     4.0     pig     pig\n",
        "1  pulled pork     3.0     pig     pig\n",
        "2        bacon    12.0     pig     pig\n",
        "3     Pastrami     6.0     cow  salmon\n",
        "4  corned beef     7.5     cow     cow\n",
        "5        Bacon     8.0     pig  salmon\n",
        "6     pastrami     3.0     cow     cow\n",
        "7    honey ham     5.0     pig     pig\n",
        "8     nova lox     6.0  salmon  salmon"
       ]
      }
     ],
     "prompt_number": 21
    },
    {
     "cell_type": "markdown",
     "metadata": {},
     "source": [
      "<a id='remove_column'></a>"
     ]
    },
    {
     "cell_type": "markdown",
     "metadata": {},
     "source": [
      "### Removing or dropping a column"
     ]
    },
    {
     "cell_type": "markdown",
     "metadata": {},
     "source": [
      "[[back top top](#top)]"
     ]
    },
    {
     "cell_type": "code",
     "collapsed": false,
     "input": [
      "data.drop('animal2', axis=1, inplace=True)  # dropping/removing a column\n",
      "data"
     ],
     "language": "python",
     "metadata": {},
     "outputs": [
      {
       "html": [
        "<div style=\"max-height:1000px;max-width:1500px;overflow:auto;\">\n",
        "<table border=\"1\" class=\"dataframe\">\n",
        "  <thead>\n",
        "    <tr style=\"text-align: right;\">\n",
        "      <th></th>\n",
        "      <th>food</th>\n",
        "      <th>ounces</th>\n",
        "      <th>animal</th>\n",
        "    </tr>\n",
        "  </thead>\n",
        "  <tbody>\n",
        "    <tr>\n",
        "      <th>0</th>\n",
        "      <td>       bacon</td>\n",
        "      <td>  4.0</td>\n",
        "      <td>    pig</td>\n",
        "    </tr>\n",
        "    <tr>\n",
        "      <th>1</th>\n",
        "      <td> pulled pork</td>\n",
        "      <td>  3.0</td>\n",
        "      <td>    pig</td>\n",
        "    </tr>\n",
        "    <tr>\n",
        "      <th>2</th>\n",
        "      <td>       bacon</td>\n",
        "      <td> 12.0</td>\n",
        "      <td>    pig</td>\n",
        "    </tr>\n",
        "    <tr>\n",
        "      <th>3</th>\n",
        "      <td>    Pastrami</td>\n",
        "      <td>  6.0</td>\n",
        "      <td>    cow</td>\n",
        "    </tr>\n",
        "    <tr>\n",
        "      <th>4</th>\n",
        "      <td> corned beef</td>\n",
        "      <td>  7.5</td>\n",
        "      <td>    cow</td>\n",
        "    </tr>\n",
        "    <tr>\n",
        "      <th>5</th>\n",
        "      <td>       Bacon</td>\n",
        "      <td>  8.0</td>\n",
        "      <td>    pig</td>\n",
        "    </tr>\n",
        "    <tr>\n",
        "      <th>6</th>\n",
        "      <td>    pastrami</td>\n",
        "      <td>  3.0</td>\n",
        "      <td>    cow</td>\n",
        "    </tr>\n",
        "    <tr>\n",
        "      <th>7</th>\n",
        "      <td>   honey ham</td>\n",
        "      <td>  5.0</td>\n",
        "      <td>    pig</td>\n",
        "    </tr>\n",
        "    <tr>\n",
        "      <th>8</th>\n",
        "      <td>    nova lox</td>\n",
        "      <td>  6.0</td>\n",
        "      <td> salmon</td>\n",
        "    </tr>\n",
        "  </tbody>\n",
        "</table>\n",
        "</div>"
       ],
       "metadata": {},
       "output_type": "pyout",
       "prompt_number": 23,
       "text": [
        "          food  ounces  animal\n",
        "0        bacon     4.0     pig\n",
        "1  pulled pork     3.0     pig\n",
        "2        bacon    12.0     pig\n",
        "3     Pastrami     6.0     cow\n",
        "4  corned beef     7.5     cow\n",
        "5        Bacon     8.0     pig\n",
        "6     pastrami     3.0     cow\n",
        "7    honey ham     5.0     pig\n",
        "8     nova lox     6.0  salmon"
       ]
      }
     ],
     "prompt_number": 23
    },
    {
     "cell_type": "markdown",
     "metadata": {},
     "source": [
      "<a id=\"replacing_values\"></a>"
     ]
    },
    {
     "cell_type": "markdown",
     "metadata": {},
     "source": [
      "### Replacing Values in a Series"
     ]
    },
    {
     "cell_type": "markdown",
     "metadata": {},
     "source": [
      "[[back to top](#top)]"
     ]
    },
    {
     "cell_type": "code",
     "collapsed": false,
     "input": [
      "import pandas as pd\n",
      "data = pd.Series([1., -999., 2., -999., -1000., 3.])\n",
      "data"
     ],
     "language": "python",
     "metadata": {},
     "outputs": [
      {
       "metadata": {},
       "output_type": "pyout",
       "prompt_number": 30,
       "text": [
        "0       1\n",
        "1    -999\n",
        "2       2\n",
        "3    -999\n",
        "4   -1000\n",
        "5       3\n",
        "dtype: float64"
       ]
      }
     ],
     "prompt_number": 30
    },
    {
     "cell_type": "markdown",
     "metadata": {},
     "source": [
      "#### If you want to replace -999 with NaN:"
     ]
    },
    {
     "cell_type": "code",
     "collapsed": false,
     "input": [
      "data.replace(-999, np.nan, inplace=True)\n",
      "data"
     ],
     "language": "python",
     "metadata": {},
     "outputs": [
      {
       "metadata": {},
       "output_type": "pyout",
       "prompt_number": 32,
       "text": [
        "0       1\n",
        "1     NaN\n",
        "2       2\n",
        "3     NaN\n",
        "4   -1000\n",
        "5       3\n",
        "dtype: float64"
       ]
      }
     ],
     "prompt_number": 32
    },
    {
     "cell_type": "markdown",
     "metadata": {},
     "source": [
      "#### If you want to replace multiple values at once, you instead pass a list then the substitute value:"
     ]
    },
    {
     "cell_type": "code",
     "collapsed": false,
     "input": [
      "import pandas as pd\n",
      "data = pd.Series([1., -999., 2., -999., -1000., 3.])\n",
      "data"
     ],
     "language": "python",
     "metadata": {},
     "outputs": [
      {
       "metadata": {},
       "output_type": "pyout",
       "prompt_number": 35,
       "text": [
        "0       1\n",
        "1    -999\n",
        "2       2\n",
        "3    -999\n",
        "4   -1000\n",
        "5       3\n",
        "dtype: float64"
       ]
      }
     ],
     "prompt_number": 35
    },
    {
     "cell_type": "code",
     "collapsed": false,
     "input": [
      "data.replace([-999, -1000], np.nan, inplace=True)\n",
      "data"
     ],
     "language": "python",
     "metadata": {},
     "outputs": [
      {
       "metadata": {},
       "output_type": "pyout",
       "prompt_number": 37,
       "text": [
        "0     1\n",
        "1   NaN\n",
        "2     2\n",
        "3   NaN\n",
        "4   NaN\n",
        "5     3\n",
        "dtype: float64"
       ]
      }
     ],
     "prompt_number": 37
    },
    {
     "cell_type": "markdown",
     "metadata": {},
     "source": [
      "<a name=\"renaming_axis\"></a>\n",
      "<br>\n",
      "<br>"
     ]
    },
    {
     "cell_type": "markdown",
     "metadata": {},
     "source": [
      "### Renaming Axis Indexes"
     ]
    },
    {
     "cell_type": "markdown",
     "metadata": {},
     "source": [
      "[[back to top](#top)]"
     ]
    },
    {
     "cell_type": "code",
     "collapsed": false,
     "input": [
      "import pandas as pd\n",
      "data = pd.DataFrame(np.arange(12).reshape((3, 4)),index=['Ohio', 'Colorado', 'New York'],columns=['one', 'two', 'three', 'four'])\n",
      "data"
     ],
     "language": "python",
     "metadata": {},
     "outputs": [
      {
       "html": [
        "<div style=\"max-height:1000px;max-width:1500px;overflow:auto;\">\n",
        "<table border=\"1\" class=\"dataframe\">\n",
        "  <thead>\n",
        "    <tr style=\"text-align: right;\">\n",
        "      <th></th>\n",
        "      <th>one</th>\n",
        "      <th>two</th>\n",
        "      <th>three</th>\n",
        "      <th>four</th>\n",
        "    </tr>\n",
        "  </thead>\n",
        "  <tbody>\n",
        "    <tr>\n",
        "      <th>Ohio</th>\n",
        "      <td> 0</td>\n",
        "      <td> 1</td>\n",
        "      <td>  2</td>\n",
        "      <td>  3</td>\n",
        "    </tr>\n",
        "    <tr>\n",
        "      <th>Colorado</th>\n",
        "      <td> 4</td>\n",
        "      <td> 5</td>\n",
        "      <td>  6</td>\n",
        "      <td>  7</td>\n",
        "    </tr>\n",
        "    <tr>\n",
        "      <th>New York</th>\n",
        "      <td> 8</td>\n",
        "      <td> 9</td>\n",
        "      <td> 10</td>\n",
        "      <td> 11</td>\n",
        "    </tr>\n",
        "  </tbody>\n",
        "</table>\n",
        "<p>3 rows \u00d7 4 columns</p>\n",
        "</div>"
       ],
       "metadata": {},
       "output_type": "pyout",
       "prompt_number": 47,
       "text": [
        "          one  two  three  four\n",
        "Ohio        0    1      2     3\n",
        "Colorado    4    5      6     7\n",
        "New York    8    9     10    11\n",
        "\n",
        "[3 rows x 4 columns]"
       ]
      }
     ],
     "prompt_number": 47
    },
    {
     "cell_type": "code",
     "collapsed": false,
     "input": [
      "data.index.map(str.upper)"
     ],
     "language": "python",
     "metadata": {},
     "outputs": [
      {
       "metadata": {},
       "output_type": "pyout",
       "prompt_number": 48,
       "text": [
        "array(['OHIO', 'COLORADO', 'NEW YORK'], dtype=object)"
       ]
      }
     ],
     "prompt_number": 48
    },
    {
     "cell_type": "code",
     "collapsed": false,
     "input": [
      "data.index = data.index.map(str.upper)\n",
      "data"
     ],
     "language": "python",
     "metadata": {},
     "outputs": [
      {
       "html": [
        "<div style=\"max-height:1000px;max-width:1500px;overflow:auto;\">\n",
        "<table border=\"1\" class=\"dataframe\">\n",
        "  <thead>\n",
        "    <tr style=\"text-align: right;\">\n",
        "      <th></th>\n",
        "      <th>one</th>\n",
        "      <th>two</th>\n",
        "      <th>three</th>\n",
        "      <th>four</th>\n",
        "    </tr>\n",
        "  </thead>\n",
        "  <tbody>\n",
        "    <tr>\n",
        "      <th>OHIO</th>\n",
        "      <td> 0</td>\n",
        "      <td> 1</td>\n",
        "      <td>  2</td>\n",
        "      <td>  3</td>\n",
        "    </tr>\n",
        "    <tr>\n",
        "      <th>COLORADO</th>\n",
        "      <td> 4</td>\n",
        "      <td> 5</td>\n",
        "      <td>  6</td>\n",
        "      <td>  7</td>\n",
        "    </tr>\n",
        "    <tr>\n",
        "      <th>NEW YORK</th>\n",
        "      <td> 8</td>\n",
        "      <td> 9</td>\n",
        "      <td> 10</td>\n",
        "      <td> 11</td>\n",
        "    </tr>\n",
        "  </tbody>\n",
        "</table>\n",
        "<p>3 rows \u00d7 4 columns</p>\n",
        "</div>"
       ],
       "metadata": {},
       "output_type": "pyout",
       "prompt_number": 51,
       "text": [
        "          one  two  three  four\n",
        "OHIO        0    1      2     3\n",
        "COLORADO    4    5      6     7\n",
        "NEW YORK    8    9     10    11\n",
        "\n",
        "[3 rows x 4 columns]"
       ]
      }
     ],
     "prompt_number": 51
    },
    {
     "cell_type": "markdown",
     "metadata": {},
     "source": [
      "#### If you want to create a transformed version of a data set without modifying the original, a useful method is rename:"
     ]
    },
    {
     "cell_type": "code",
     "collapsed": false,
     "input": [
      "data.rename(index=str.title, columns=str.upper, inplace=True)  # str.title means to make the 1st letter capitalized only\n",
      "data"
     ],
     "language": "python",
     "metadata": {},
     "outputs": [
      {
       "html": [
        "<div style=\"max-height:1000px;max-width:1500px;overflow:auto;\">\n",
        "<table border=\"1\" class=\"dataframe\">\n",
        "  <thead>\n",
        "    <tr style=\"text-align: right;\">\n",
        "      <th></th>\n",
        "      <th>ONE</th>\n",
        "      <th>TWO</th>\n",
        "      <th>THREE</th>\n",
        "      <th>FOUR</th>\n",
        "    </tr>\n",
        "  </thead>\n",
        "  <tbody>\n",
        "    <tr>\n",
        "      <th>Ohio</th>\n",
        "      <td> 0</td>\n",
        "      <td> 1</td>\n",
        "      <td>  2</td>\n",
        "      <td>  3</td>\n",
        "    </tr>\n",
        "    <tr>\n",
        "      <th>Colorado</th>\n",
        "      <td> 4</td>\n",
        "      <td> 5</td>\n",
        "      <td>  6</td>\n",
        "      <td>  7</td>\n",
        "    </tr>\n",
        "    <tr>\n",
        "      <th>New York</th>\n",
        "      <td> 8</td>\n",
        "      <td> 9</td>\n",
        "      <td> 10</td>\n",
        "      <td> 11</td>\n",
        "    </tr>\n",
        "  </tbody>\n",
        "</table>\n",
        "<p>3 rows \u00d7 4 columns</p>\n",
        "</div>"
       ],
       "metadata": {},
       "output_type": "pyout",
       "prompt_number": 65,
       "text": [
        "          ONE  TWO  THREE  FOUR\n",
        "Ohio        0    1      2     3\n",
        "Colorado    4    5      6     7\n",
        "New York    8    9     10    11\n",
        "\n",
        "[3 rows x 4 columns]"
       ]
      }
     ],
     "prompt_number": 65
    },
    {
     "cell_type": "markdown",
     "metadata": {},
     "source": [
      "<a id=\"renaming_indexes_columns\"></a>"
     ]
    },
    {
     "cell_type": "markdown",
     "metadata": {},
     "source": [
      "### Renaming Indexes or Columns"
     ]
    },
    {
     "cell_type": "markdown",
     "metadata": {},
     "source": [
      "[[back to top](#top)]"
     ]
    },
    {
     "cell_type": "markdown",
     "metadata": {},
     "source": [
      "#### <i>rename()</i> can be used in conjunction with a dict-like object providing new values for a subset of the axis labels:"
     ]
    },
    {
     "cell_type": "code",
     "collapsed": false,
     "input": [
      "import pandas as pd\n",
      "data = pd.DataFrame(np.arange(12).reshape((3, 4)),index=['Ohio', 'Colorado', 'New York'],columns=['one', 'two', 'three', 'four'])\n",
      "data"
     ],
     "language": "python",
     "metadata": {},
     "outputs": [
      {
       "html": [
        "<div style=\"max-height:1000px;max-width:1500px;overflow:auto;\">\n",
        "<table border=\"1\" class=\"dataframe\">\n",
        "  <thead>\n",
        "    <tr style=\"text-align: right;\">\n",
        "      <th></th>\n",
        "      <th>one</th>\n",
        "      <th>two</th>\n",
        "      <th>three</th>\n",
        "      <th>four</th>\n",
        "    </tr>\n",
        "  </thead>\n",
        "  <tbody>\n",
        "    <tr>\n",
        "      <th>Ohio</th>\n",
        "      <td> 0</td>\n",
        "      <td> 1</td>\n",
        "      <td>  2</td>\n",
        "      <td>  3</td>\n",
        "    </tr>\n",
        "    <tr>\n",
        "      <th>Colorado</th>\n",
        "      <td> 4</td>\n",
        "      <td> 5</td>\n",
        "      <td>  6</td>\n",
        "      <td>  7</td>\n",
        "    </tr>\n",
        "    <tr>\n",
        "      <th>New York</th>\n",
        "      <td> 8</td>\n",
        "      <td> 9</td>\n",
        "      <td> 10</td>\n",
        "      <td> 11</td>\n",
        "    </tr>\n",
        "  </tbody>\n",
        "</table>\n",
        "</div>"
       ],
       "metadata": {},
       "output_type": "pyout",
       "prompt_number": 46,
       "text": [
        "          one  two  three  four\n",
        "Ohio        0    1      2     3\n",
        "Colorado    4    5      6     7\n",
        "New York    8    9     10    11"
       ]
      }
     ],
     "prompt_number": 46
    },
    {
     "cell_type": "code",
     "collapsed": false,
     "input": [
      "data.rename(index={'Ohio': 'INDIANA'},columns={'three': 'peekaboo'},inplace=True)\n",
      "data"
     ],
     "language": "python",
     "metadata": {},
     "outputs": [
      {
       "html": [
        "<div style=\"max-height:1000px;max-width:1500px;overflow:auto;\">\n",
        "<table border=\"1\" class=\"dataframe\">\n",
        "  <thead>\n",
        "    <tr style=\"text-align: right;\">\n",
        "      <th></th>\n",
        "      <th>one</th>\n",
        "      <th>two</th>\n",
        "      <th>peekaboo</th>\n",
        "      <th>four</th>\n",
        "    </tr>\n",
        "  </thead>\n",
        "  <tbody>\n",
        "    <tr>\n",
        "      <th>INDIANA</th>\n",
        "      <td> 0</td>\n",
        "      <td> 1</td>\n",
        "      <td>  2</td>\n",
        "      <td>  3</td>\n",
        "    </tr>\n",
        "    <tr>\n",
        "      <th>Colorado</th>\n",
        "      <td> 4</td>\n",
        "      <td> 5</td>\n",
        "      <td>  6</td>\n",
        "      <td>  7</td>\n",
        "    </tr>\n",
        "    <tr>\n",
        "      <th>New York</th>\n",
        "      <td> 8</td>\n",
        "      <td> 9</td>\n",
        "      <td> 10</td>\n",
        "      <td> 11</td>\n",
        "    </tr>\n",
        "  </tbody>\n",
        "</table>\n",
        "</div>"
       ],
       "metadata": {},
       "output_type": "pyout",
       "prompt_number": 47,
       "text": [
        "          one  two  peekaboo  four\n",
        "INDIANA     0    1         2     3\n",
        "Colorado    4    5         6     7\n",
        "New York    8    9        10    11"
       ]
      }
     ],
     "prompt_number": 47
    },
    {
     "cell_type": "markdown",
     "metadata": {},
     "source": [
      "You can also apply str functions to modify the index or column labels"
     ]
    },
    {
     "cell_type": "code",
     "collapsed": false,
     "input": [
      "data.rename(index=str.title, columns=str.upper, inplace=True)  # str.title means to make the 1st letter capitalized only\n",
      "data"
     ],
     "language": "python",
     "metadata": {},
     "outputs": [
      {
       "html": [
        "<div style=\"max-height:1000px;max-width:1500px;overflow:auto;\">\n",
        "<table border=\"1\" class=\"dataframe\">\n",
        "  <thead>\n",
        "    <tr style=\"text-align: right;\">\n",
        "      <th></th>\n",
        "      <th>ONE</th>\n",
        "      <th>TWO</th>\n",
        "      <th>PEEKABOO</th>\n",
        "      <th>FOUR</th>\n",
        "    </tr>\n",
        "  </thead>\n",
        "  <tbody>\n",
        "    <tr>\n",
        "      <th>Indiana</th>\n",
        "      <td> 0</td>\n",
        "      <td> 1</td>\n",
        "      <td>  2</td>\n",
        "      <td>  3</td>\n",
        "    </tr>\n",
        "    <tr>\n",
        "      <th>Colorado</th>\n",
        "      <td> 4</td>\n",
        "      <td> 5</td>\n",
        "      <td>  6</td>\n",
        "      <td>  7</td>\n",
        "    </tr>\n",
        "    <tr>\n",
        "      <th>New York</th>\n",
        "      <td> 8</td>\n",
        "      <td> 9</td>\n",
        "      <td> 10</td>\n",
        "      <td> 11</td>\n",
        "    </tr>\n",
        "  </tbody>\n",
        "</table>\n",
        "</div>"
       ],
       "metadata": {},
       "output_type": "pyout",
       "prompt_number": 48,
       "text": [
        "          ONE  TWO  PEEKABOO  FOUR\n",
        "Indiana     0    1         2     3\n",
        "Colorado    4    5         6     7\n",
        "New York    8    9        10    11"
       ]
      }
     ],
     "prompt_number": 48
    },
    {
     "cell_type": "markdown",
     "metadata": {},
     "source": [
      "<a id=\"binning\"></a>"
     ]
    },
    {
     "cell_type": "markdown",
     "metadata": {},
     "source": [
      "### Binning Data Into Intervals"
     ]
    },
    {
     "cell_type": "markdown",
     "metadata": {},
     "source": [
      "[[back to top](#top)]"
     ]
    },
    {
     "cell_type": "code",
     "collapsed": false,
     "input": [
      "ages = [20, 22, 25, 27, 21, 23, 37, 31, 61, 45, 41, 32]"
     ],
     "language": "python",
     "metadata": {},
     "outputs": [],
     "prompt_number": 71
    },
    {
     "cell_type": "markdown",
     "metadata": {},
     "source": [
      "#### Let\u2019s divide these into bins of 18 to 25, 26 to 35, 35 to 60, and finally 60 and older. To do so, you have to use <i>cut()</i>, a function in pandas:"
     ]
    },
    {
     "cell_type": "code",
     "collapsed": false,
     "input": [
      "bins = [18, 25, 35, 60, 100]"
     ],
     "language": "python",
     "metadata": {},
     "outputs": [],
     "prompt_number": 73
    },
    {
     "cell_type": "code",
     "collapsed": false,
     "input": [
      "cats = pd.cut(ages, bins)\n",
      "cats"
     ],
     "language": "python",
     "metadata": {},
     "outputs": [
      {
       "metadata": {},
       "output_type": "pyout",
       "prompt_number": 75,
       "text": [
        "  (18, 25]\n",
        "  (18, 25]\n",
        "  (18, 25]\n",
        "  (25, 35]\n",
        "  (18, 25]\n",
        "  (18, 25]\n",
        "  (35, 60]\n",
        "  (25, 35]\n",
        " (60, 100]\n",
        "  (35, 60]\n",
        "  (35, 60]\n",
        "  (25, 35]\n",
        "Levels (4): Index(['(18, 25]', '(25, 35]', '(35, 60]', '(60, 100]'], dtype=object)"
       ]
      }
     ],
     "prompt_number": 75
    },
    {
     "cell_type": "code",
     "collapsed": false,
     "input": [
      "cats.labels"
     ],
     "language": "python",
     "metadata": {},
     "outputs": [
      {
       "metadata": {},
       "output_type": "pyout",
       "prompt_number": 77,
       "text": [
        "array([0, 0, 0, 1, 0, 0, 2, 1, 3, 2, 2, 1], dtype=int32)"
       ]
      }
     ],
     "prompt_number": 77
    },
    {
     "cell_type": "code",
     "collapsed": false,
     "input": [
      "cats.levels"
     ],
     "language": "python",
     "metadata": {},
     "outputs": [
      {
       "metadata": {},
       "output_type": "pyout",
       "prompt_number": 78,
       "text": [
        "Index(['(18, 25]', '(25, 35]', '(35, 60]', '(60, 100]'], dtype='object')"
       ]
      }
     ],
     "prompt_number": 78
    },
    {
     "cell_type": "code",
     "collapsed": false,
     "input": [
      "pd.value_counts(cats)"
     ],
     "language": "python",
     "metadata": {},
     "outputs": [
      {
       "metadata": {},
       "output_type": "pyout",
       "prompt_number": 79,
       "text": [
        "(18, 25]     5\n",
        "(35, 60]     3\n",
        "(25, 35]     3\n",
        "(60, 100]    1\n",
        "dtype: int64"
       ]
      }
     ],
     "prompt_number": 79
    },
    {
     "cell_type": "markdown",
     "metadata": {},
     "source": [
      "#### If you want the right value to be exclusive in the intervals:"
     ]
    },
    {
     "cell_type": "code",
     "collapsed": false,
     "input": [
      "pd.cut(ages, [18, 26, 36, 61, 100], right=False)"
     ],
     "language": "python",
     "metadata": {},
     "outputs": [
      {
       "metadata": {},
       "output_type": "pyout",
       "prompt_number": 80,
       "text": [
        "  [18, 26)\n",
        "  [18, 26)\n",
        "  [18, 26)\n",
        "  [26, 36)\n",
        "  [18, 26)\n",
        "  [18, 26)\n",
        "  [36, 61)\n",
        "  [26, 36)\n",
        " [61, 100)\n",
        "  [36, 61)\n",
        "  [36, 61)\n",
        "  [26, 36)\n",
        "Levels (4): Index(['[18, 26)', '[26, 36)', '[36, 61)', '[61, 100)'], dtype=object)"
       ]
      }
     ],
     "prompt_number": 80
    },
    {
     "cell_type": "markdown",
     "metadata": {},
     "source": [
      "#### You can also pass your own bin names by passing a list or array to the labels option:"
     ]
    },
    {
     "cell_type": "code",
     "collapsed": false,
     "input": [
      "group_names = ['Youth', 'YoungAdult', 'MiddleAged', 'Senior']\n",
      "pd.cut(ages, bins, labels=group_names)\n",
      "pd.value_counts(pd.cut(ages, bins, labels=group_names))"
     ],
     "language": "python",
     "metadata": {},
     "outputs": [
      {
       "metadata": {},
       "output_type": "pyout",
       "prompt_number": 83,
       "text": [
        "Youth         5\n",
        "YoungAdult    3\n",
        "MiddleAged    3\n",
        "Senior        1\n",
        "dtype: int64"
       ]
      }
     ],
     "prompt_number": 83
    },
    {
     "cell_type": "markdown",
     "metadata": {},
     "source": [
      "[[back to top](#top)]"
     ]
    },
    {
     "cell_type": "markdown",
     "metadata": {},
     "source": [
      "<a id=\"group\"></a>"
     ]
    },
    {
     "cell_type": "markdown",
     "metadata": {},
     "source": [
      "## Grouping Data"
     ]
    },
    {
     "cell_type": "markdown",
     "metadata": {},
     "source": [
      "[[back to top](#top)]"
     ]
    },
    {
     "cell_type": "code",
     "collapsed": false,
     "input": [
      "import pandas as pd\n",
      "\n",
      "df = pd.DataFrame({'key1' : ['a', 'a', 'b', 'b', 'a'],\n",
      "                   'key2' : ['one', 'two', 'one', 'two', 'one'],\n",
      "                   'data1' : np.random.randn(5),\n",
      "                   'data2' : np.random.randn(5)})\n",
      "df"
     ],
     "language": "python",
     "metadata": {},
     "outputs": [
      {
       "html": [
        "<div style=\"max-height:1000px;max-width:1500px;overflow:auto;\">\n",
        "<table border=\"1\" class=\"dataframe\">\n",
        "  <thead>\n",
        "    <tr style=\"text-align: right;\">\n",
        "      <th></th>\n",
        "      <th>data1</th>\n",
        "      <th>data2</th>\n",
        "      <th>key1</th>\n",
        "      <th>key2</th>\n",
        "    </tr>\n",
        "  </thead>\n",
        "  <tbody>\n",
        "    <tr>\n",
        "      <th>0</th>\n",
        "      <td>-1.206295</td>\n",
        "      <td> 0.277025</td>\n",
        "      <td> a</td>\n",
        "      <td> one</td>\n",
        "    </tr>\n",
        "    <tr>\n",
        "      <th>1</th>\n",
        "      <td>-0.210670</td>\n",
        "      <td> 1.700554</td>\n",
        "      <td> a</td>\n",
        "      <td> two</td>\n",
        "    </tr>\n",
        "    <tr>\n",
        "      <th>2</th>\n",
        "      <td> 1.090656</td>\n",
        "      <td> 0.141390</td>\n",
        "      <td> b</td>\n",
        "      <td> one</td>\n",
        "    </tr>\n",
        "    <tr>\n",
        "      <th>3</th>\n",
        "      <td>-0.755093</td>\n",
        "      <td> 1.402054</td>\n",
        "      <td> b</td>\n",
        "      <td> two</td>\n",
        "    </tr>\n",
        "    <tr>\n",
        "      <th>4</th>\n",
        "      <td> 0.251278</td>\n",
        "      <td> 0.767201</td>\n",
        "      <td> a</td>\n",
        "      <td> one</td>\n",
        "    </tr>\n",
        "  </tbody>\n",
        "</table>\n",
        "<p>5 rows \u00d7 4 columns</p>\n",
        "</div>"
       ],
       "metadata": {},
       "output_type": "pyout",
       "prompt_number": 1,
       "text": [
        "      data1     data2 key1 key2\n",
        "0 -1.206295  0.277025    a  one\n",
        "1 -0.210670  1.700554    a  two\n",
        "2  1.090656  0.141390    b  one\n",
        "3 -0.755093  1.402054    b  two\n",
        "4  0.251278  0.767201    a  one\n",
        "\n",
        "[5 rows x 4 columns]"
       ]
      }
     ],
     "prompt_number": 1
    },
    {
     "cell_type": "code",
     "collapsed": false,
     "input": [
      "grouped = df['data1'].groupby(df['key1'])\n",
      "grouped.mean()"
     ],
     "language": "python",
     "metadata": {},
     "outputs": [
      {
       "metadata": {},
       "output_type": "pyout",
       "prompt_number": 3,
       "text": [
        "key1\n",
        "a      -0.388562\n",
        "b       0.167782\n",
        "dtype: float64"
       ]
      }
     ],
     "prompt_number": 3
    },
    {
     "cell_type": "markdown",
     "metadata": {},
     "source": [
      "<a id='slicing'></a>"
     ]
    },
    {
     "cell_type": "markdown",
     "metadata": {},
     "source": [
      "## Sub-selecting or Slicing a DataFrame"
     ]
    },
    {
     "cell_type": "markdown",
     "metadata": {},
     "source": [
      "[[back to top](#top)]"
     ]
    },
    {
     "cell_type": "markdown",
     "metadata": {},
     "source": [
      "Filtering by label name: [[loc](#loc)]<br>\n",
      "Filtering by index row and/or column: [[iloc](#iloc)]"
     ]
    },
    {
     "cell_type": "markdown",
     "metadata": {},
     "source": [
      "<a id='df'></a>"
     ]
    },
    {
     "cell_type": "code",
     "collapsed": false,
     "input": [
      "import numpy as np\n",
      "import pandas as pd\n",
      "\n",
      "dates = pd.date_range('20130101',periods=6)\n",
      "df = pd.DataFrame(np.random.randn(6,4),index=dates,columns=list('ABCD'))\n",
      "df"
     ],
     "language": "python",
     "metadata": {},
     "outputs": [
      {
       "html": [
        "<div style=\"max-height:1000px;max-width:1500px;overflow:auto;\">\n",
        "<table border=\"1\" class=\"dataframe\">\n",
        "  <thead>\n",
        "    <tr style=\"text-align: right;\">\n",
        "      <th></th>\n",
        "      <th>A</th>\n",
        "      <th>B</th>\n",
        "      <th>C</th>\n",
        "      <th>D</th>\n",
        "    </tr>\n",
        "  </thead>\n",
        "  <tbody>\n",
        "    <tr>\n",
        "      <th>2013-01-01</th>\n",
        "      <td> 1.495158</td>\n",
        "      <td> 2.136794</td>\n",
        "      <td> 0.034707</td>\n",
        "      <td>-0.128909</td>\n",
        "    </tr>\n",
        "    <tr>\n",
        "      <th>2013-01-02</th>\n",
        "      <td> 0.562039</td>\n",
        "      <td>-1.150613</td>\n",
        "      <td> 0.265513</td>\n",
        "      <td> 0.093981</td>\n",
        "    </tr>\n",
        "    <tr>\n",
        "      <th>2013-01-03</th>\n",
        "      <td> 0.973170</td>\n",
        "      <td> 0.877070</td>\n",
        "      <td> 0.682884</td>\n",
        "      <td>-0.026271</td>\n",
        "    </tr>\n",
        "    <tr>\n",
        "      <th>2013-01-04</th>\n",
        "      <td>-1.146283</td>\n",
        "      <td> 1.350325</td>\n",
        "      <td>-0.040049</td>\n",
        "      <td> 1.069154</td>\n",
        "    </tr>\n",
        "    <tr>\n",
        "      <th>2013-01-05</th>\n",
        "      <td> 0.919800</td>\n",
        "      <td>-0.058590</td>\n",
        "      <td> 0.083294</td>\n",
        "      <td> 0.156124</td>\n",
        "    </tr>\n",
        "    <tr>\n",
        "      <th>2013-01-06</th>\n",
        "      <td> 1.286808</td>\n",
        "      <td>-0.357197</td>\n",
        "      <td>-0.205763</td>\n",
        "      <td>-0.316696</td>\n",
        "    </tr>\n",
        "  </tbody>\n",
        "</table>\n",
        "</div>"
       ],
       "metadata": {},
       "output_type": "pyout",
       "prompt_number": 1,
       "text": [
        "                   A         B         C         D\n",
        "2013-01-01  1.495158  2.136794  0.034707 -0.128909\n",
        "2013-01-02  0.562039 -1.150613  0.265513  0.093981\n",
        "2013-01-03  0.973170  0.877070  0.682884 -0.026271\n",
        "2013-01-04 -1.146283  1.350325 -0.040049  1.069154\n",
        "2013-01-05  0.919800 -0.058590  0.083294  0.156124\n",
        "2013-01-06  1.286808 -0.357197 -0.205763 -0.316696"
       ]
      }
     ],
     "prompt_number": 1
    },
    {
     "cell_type": "markdown",
     "metadata": {},
     "source": [
      "### Getting first n rows of dataframe using index slicing syntax"
     ]
    },
    {
     "cell_type": "code",
     "collapsed": false,
     "input": [
      "df[0:3]  # get first 3 rows of the dataframe"
     ],
     "language": "python",
     "metadata": {},
     "outputs": [
      {
       "html": [
        "<div style=\"max-height:1000px;max-width:1500px;overflow:auto;\">\n",
        "<table border=\"1\" class=\"dataframe\">\n",
        "  <thead>\n",
        "    <tr style=\"text-align: right;\">\n",
        "      <th></th>\n",
        "      <th>A</th>\n",
        "      <th>B</th>\n",
        "      <th>C</th>\n",
        "      <th>D</th>\n",
        "    </tr>\n",
        "  </thead>\n",
        "  <tbody>\n",
        "    <tr>\n",
        "      <th>2013-01-01</th>\n",
        "      <td> 1.495158</td>\n",
        "      <td> 2.136794</td>\n",
        "      <td> 0.034707</td>\n",
        "      <td>-0.128909</td>\n",
        "    </tr>\n",
        "    <tr>\n",
        "      <th>2013-01-02</th>\n",
        "      <td> 0.562039</td>\n",
        "      <td>-1.150613</td>\n",
        "      <td> 0.265513</td>\n",
        "      <td> 0.093981</td>\n",
        "    </tr>\n",
        "    <tr>\n",
        "      <th>2013-01-03</th>\n",
        "      <td> 0.973170</td>\n",
        "      <td> 0.877070</td>\n",
        "      <td> 0.682884</td>\n",
        "      <td>-0.026271</td>\n",
        "    </tr>\n",
        "  </tbody>\n",
        "</table>\n",
        "</div>"
       ],
       "metadata": {},
       "output_type": "pyout",
       "prompt_number": 2,
       "text": [
        "                   A         B         C         D\n",
        "2013-01-01  1.495158  2.136794  0.034707 -0.128909\n",
        "2013-01-02  0.562039 -1.150613  0.265513  0.093981\n",
        "2013-01-03  0.973170  0.877070  0.682884 -0.026271"
       ]
      }
     ],
     "prompt_number": 2
    },
    {
     "cell_type": "markdown",
     "metadata": {},
     "source": [
      "### Slicing based on dataframe's index range"
     ]
    },
    {
     "cell_type": "code",
     "collapsed": false,
     "input": [
      "df['20130102':'20130104'] # get rows by index range"
     ],
     "language": "python",
     "metadata": {},
     "outputs": [
      {
       "html": [
        "<div style=\"max-height:1000px;max-width:1500px;overflow:auto;\">\n",
        "<table border=\"1\" class=\"dataframe\">\n",
        "  <thead>\n",
        "    <tr style=\"text-align: right;\">\n",
        "      <th></th>\n",
        "      <th>A</th>\n",
        "      <th>B</th>\n",
        "      <th>C</th>\n",
        "      <th>D</th>\n",
        "    </tr>\n",
        "  </thead>\n",
        "  <tbody>\n",
        "    <tr>\n",
        "      <th>2013-01-02</th>\n",
        "      <td> 0.562039</td>\n",
        "      <td>-1.150613</td>\n",
        "      <td> 0.265513</td>\n",
        "      <td> 0.093981</td>\n",
        "    </tr>\n",
        "    <tr>\n",
        "      <th>2013-01-03</th>\n",
        "      <td> 0.973170</td>\n",
        "      <td> 0.877070</td>\n",
        "      <td> 0.682884</td>\n",
        "      <td>-0.026271</td>\n",
        "    </tr>\n",
        "    <tr>\n",
        "      <th>2013-01-04</th>\n",
        "      <td>-1.146283</td>\n",
        "      <td> 1.350325</td>\n",
        "      <td>-0.040049</td>\n",
        "      <td> 1.069154</td>\n",
        "    </tr>\n",
        "  </tbody>\n",
        "</table>\n",
        "</div>"
       ],
       "metadata": {},
       "output_type": "pyout",
       "prompt_number": 3,
       "text": [
        "                   A         B         C         D\n",
        "2013-01-02  0.562039 -1.150613  0.265513  0.093981\n",
        "2013-01-03  0.973170  0.877070  0.682884 -0.026271\n",
        "2013-01-04 -1.146283  1.350325 -0.040049  1.069154"
       ]
      }
     ],
     "prompt_number": 3
    },
    {
     "cell_type": "markdown",
     "metadata": {},
     "source": [
      "<a id='loc'></a>"
     ]
    },
    {
     "cell_type": "markdown",
     "metadata": {},
     "source": [
      "### Slicing based on column labels/names using loc"
     ]
    },
    {
     "cell_type": "markdown",
     "metadata": {},
     "source": [
      "[[view df](#slicing)]"
     ]
    },
    {
     "cell_type": "code",
     "collapsed": false,
     "input": [
      "df.loc[:,['A','B']]  # syntax is: df.loc[rows_index, cols_index]"
     ],
     "language": "python",
     "metadata": {},
     "outputs": [
      {
       "html": [
        "<div style=\"max-height:1000px;max-width:1500px;overflow:auto;\">\n",
        "<table border=\"1\" class=\"dataframe\">\n",
        "  <thead>\n",
        "    <tr style=\"text-align: right;\">\n",
        "      <th></th>\n",
        "      <th>A</th>\n",
        "      <th>B</th>\n",
        "    </tr>\n",
        "  </thead>\n",
        "  <tbody>\n",
        "    <tr>\n",
        "      <th>2013-01-01</th>\n",
        "      <td> 1.495158</td>\n",
        "      <td> 2.136794</td>\n",
        "    </tr>\n",
        "    <tr>\n",
        "      <th>2013-01-02</th>\n",
        "      <td> 0.562039</td>\n",
        "      <td>-1.150613</td>\n",
        "    </tr>\n",
        "    <tr>\n",
        "      <th>2013-01-03</th>\n",
        "      <td> 0.973170</td>\n",
        "      <td> 0.877070</td>\n",
        "    </tr>\n",
        "    <tr>\n",
        "      <th>2013-01-04</th>\n",
        "      <td>-1.146283</td>\n",
        "      <td> 1.350325</td>\n",
        "    </tr>\n",
        "    <tr>\n",
        "      <th>2013-01-05</th>\n",
        "      <td> 0.919800</td>\n",
        "      <td>-0.058590</td>\n",
        "    </tr>\n",
        "    <tr>\n",
        "      <th>2013-01-06</th>\n",
        "      <td> 1.286808</td>\n",
        "      <td>-0.357197</td>\n",
        "    </tr>\n",
        "  </tbody>\n",
        "</table>\n",
        "</div>"
       ],
       "metadata": {},
       "output_type": "pyout",
       "prompt_number": 4,
       "text": [
        "                   A         B\n",
        "2013-01-01  1.495158  2.136794\n",
        "2013-01-02  0.562039 -1.150613\n",
        "2013-01-03  0.973170  0.877070\n",
        "2013-01-04 -1.146283  1.350325\n",
        "2013-01-05  0.919800 -0.058590\n",
        "2013-01-06  1.286808 -0.357197"
       ]
      }
     ],
     "prompt_number": 4
    },
    {
     "cell_type": "markdown",
     "metadata": {},
     "source": [
      "### Slicing based on row index label and column label combined using loc"
     ]
    },
    {
     "cell_type": "code",
     "collapsed": false,
     "input": [
      "df.loc['20130102':'20130104',['A','B']]"
     ],
     "language": "python",
     "metadata": {},
     "outputs": [
      {
       "html": [
        "<div style=\"max-height:1000px;max-width:1500px;overflow:auto;\">\n",
        "<table border=\"1\" class=\"dataframe\">\n",
        "  <thead>\n",
        "    <tr style=\"text-align: right;\">\n",
        "      <th></th>\n",
        "      <th>A</th>\n",
        "      <th>B</th>\n",
        "    </tr>\n",
        "  </thead>\n",
        "  <tbody>\n",
        "    <tr>\n",
        "      <th>2013-01-02</th>\n",
        "      <td> 0.562039</td>\n",
        "      <td>-1.150613</td>\n",
        "    </tr>\n",
        "    <tr>\n",
        "      <th>2013-01-03</th>\n",
        "      <td> 0.973170</td>\n",
        "      <td> 0.877070</td>\n",
        "    </tr>\n",
        "    <tr>\n",
        "      <th>2013-01-04</th>\n",
        "      <td>-1.146283</td>\n",
        "      <td> 1.350325</td>\n",
        "    </tr>\n",
        "  </tbody>\n",
        "</table>\n",
        "</div>"
       ],
       "metadata": {},
       "output_type": "pyout",
       "prompt_number": 5,
       "text": [
        "                   A         B\n",
        "2013-01-02  0.562039 -1.150613\n",
        "2013-01-03  0.973170  0.877070\n",
        "2013-01-04 -1.146283  1.350325"
       ]
      }
     ],
     "prompt_number": 5
    },
    {
     "cell_type": "markdown",
     "metadata": {},
     "source": [
      "<a id='iloc'></a>"
     ]
    },
    {
     "cell_type": "markdown",
     "metadata": {},
     "source": [
      "### Slicing based on index position of the row or column using iloc"
     ]
    },
    {
     "cell_type": "markdown",
     "metadata": {},
     "source": [
      "[[view df](#slicing)]"
     ]
    },
    {
     "cell_type": "code",
     "collapsed": false,
     "input": [
      "df.iloc[3]  # returns 4th row (index=3) of the dataframe"
     ],
     "language": "python",
     "metadata": {},
     "outputs": [
      {
       "metadata": {},
       "output_type": "pyout",
       "prompt_number": 6,
       "text": [
        "A   -1.146283\n",
        "B    1.350325\n",
        "C   -0.040049\n",
        "D    1.069154\n",
        "Name: 2013-01-04 00:00:00, dtype: float64"
       ]
      }
     ],
     "prompt_number": 6
    },
    {
     "cell_type": "code",
     "collapsed": false,
     "input": [
      "df.iloc[3:5,0:2]  # returns specific range of rows and columns of the dataframe"
     ],
     "language": "python",
     "metadata": {},
     "outputs": [
      {
       "html": [
        "<div style=\"max-height:1000px;max-width:1500px;overflow:auto;\">\n",
        "<table border=\"1\" class=\"dataframe\">\n",
        "  <thead>\n",
        "    <tr style=\"text-align: right;\">\n",
        "      <th></th>\n",
        "      <th>A</th>\n",
        "      <th>B</th>\n",
        "    </tr>\n",
        "  </thead>\n",
        "  <tbody>\n",
        "    <tr>\n",
        "      <th>2013-01-04</th>\n",
        "      <td>-1.146283</td>\n",
        "      <td> 1.350325</td>\n",
        "    </tr>\n",
        "    <tr>\n",
        "      <th>2013-01-05</th>\n",
        "      <td> 0.919800</td>\n",
        "      <td>-0.058590</td>\n",
        "    </tr>\n",
        "  </tbody>\n",
        "</table>\n",
        "</div>"
       ],
       "metadata": {},
       "output_type": "pyout",
       "prompt_number": 7,
       "text": [
        "                   A         B\n",
        "2013-01-04 -1.146283  1.350325\n",
        "2013-01-05  0.919800 -0.058590"
       ]
      }
     ],
     "prompt_number": 7
    },
    {
     "cell_type": "code",
     "collapsed": false,
     "input": [
      "df.iloc[[1,5],[0,2]] # returns specific rows and columns using lists containing columns or row indexes"
     ],
     "language": "python",
     "metadata": {},
     "outputs": [
      {
       "html": [
        "<div style=\"max-height:1000px;max-width:1500px;overflow:auto;\">\n",
        "<table border=\"1\" class=\"dataframe\">\n",
        "  <thead>\n",
        "    <tr style=\"text-align: right;\">\n",
        "      <th></th>\n",
        "      <th>A</th>\n",
        "      <th>C</th>\n",
        "    </tr>\n",
        "  </thead>\n",
        "  <tbody>\n",
        "    <tr>\n",
        "      <th>2013-01-02</th>\n",
        "      <td> 0.562039</td>\n",
        "      <td> 0.265513</td>\n",
        "    </tr>\n",
        "    <tr>\n",
        "      <th>2013-01-06</th>\n",
        "      <td> 1.286808</td>\n",
        "      <td>-0.205763</td>\n",
        "    </tr>\n",
        "  </tbody>\n",
        "</table>\n",
        "</div>"
       ],
       "metadata": {},
       "output_type": "pyout",
       "prompt_number": 9,
       "text": [
        "                   A         C\n",
        "2013-01-02  0.562039  0.265513\n",
        "2013-01-06  1.286808 -0.205763"
       ]
      }
     ],
     "prompt_number": 9
    },
    {
     "cell_type": "code",
     "collapsed": false,
     "input": [
      "df.iloc[1:3,:]  # returning specific rows and returning all columns"
     ],
     "language": "python",
     "metadata": {},
     "outputs": [
      {
       "html": [
        "<div style=\"max-height:1000px;max-width:1500px;overflow:auto;\">\n",
        "<table border=\"1\" class=\"dataframe\">\n",
        "  <thead>\n",
        "    <tr style=\"text-align: right;\">\n",
        "      <th></th>\n",
        "      <th>A</th>\n",
        "      <th>B</th>\n",
        "      <th>C</th>\n",
        "      <th>D</th>\n",
        "    </tr>\n",
        "  </thead>\n",
        "  <tbody>\n",
        "    <tr>\n",
        "      <th>2013-01-02</th>\n",
        "      <td> 0.562039</td>\n",
        "      <td>-1.150613</td>\n",
        "      <td> 0.265513</td>\n",
        "      <td> 0.093981</td>\n",
        "    </tr>\n",
        "    <tr>\n",
        "      <th>2013-01-03</th>\n",
        "      <td> 0.973170</td>\n",
        "      <td> 0.877070</td>\n",
        "      <td> 0.682884</td>\n",
        "      <td>-0.026271</td>\n",
        "    </tr>\n",
        "  </tbody>\n",
        "</table>\n",
        "</div>"
       ],
       "metadata": {},
       "output_type": "pyout",
       "prompt_number": 10,
       "text": [
        "                   A         B         C         D\n",
        "2013-01-02  0.562039 -1.150613  0.265513  0.093981\n",
        "2013-01-03  0.973170  0.877070  0.682884 -0.026271"
       ]
      }
     ],
     "prompt_number": 10
    },
    {
     "cell_type": "code",
     "collapsed": false,
     "input": [
      "df.iloc[:,1:3]  # returning all rows and specific columns"
     ],
     "language": "python",
     "metadata": {},
     "outputs": [
      {
       "html": [
        "<div style=\"max-height:1000px;max-width:1500px;overflow:auto;\">\n",
        "<table border=\"1\" class=\"dataframe\">\n",
        "  <thead>\n",
        "    <tr style=\"text-align: right;\">\n",
        "      <th></th>\n",
        "      <th>B</th>\n",
        "      <th>C</th>\n",
        "    </tr>\n",
        "  </thead>\n",
        "  <tbody>\n",
        "    <tr>\n",
        "      <th>2013-01-01</th>\n",
        "      <td> 2.136794</td>\n",
        "      <td> 0.034707</td>\n",
        "    </tr>\n",
        "    <tr>\n",
        "      <th>2013-01-02</th>\n",
        "      <td>-1.150613</td>\n",
        "      <td> 0.265513</td>\n",
        "    </tr>\n",
        "    <tr>\n",
        "      <th>2013-01-03</th>\n",
        "      <td> 0.877070</td>\n",
        "      <td> 0.682884</td>\n",
        "    </tr>\n",
        "    <tr>\n",
        "      <th>2013-01-04</th>\n",
        "      <td> 1.350325</td>\n",
        "      <td>-0.040049</td>\n",
        "    </tr>\n",
        "    <tr>\n",
        "      <th>2013-01-05</th>\n",
        "      <td>-0.058590</td>\n",
        "      <td> 0.083294</td>\n",
        "    </tr>\n",
        "    <tr>\n",
        "      <th>2013-01-06</th>\n",
        "      <td>-0.357197</td>\n",
        "      <td>-0.205763</td>\n",
        "    </tr>\n",
        "  </tbody>\n",
        "</table>\n",
        "</div>"
       ],
       "metadata": {},
       "output_type": "pyout",
       "prompt_number": 11,
       "text": [
        "                   B         C\n",
        "2013-01-01  2.136794  0.034707\n",
        "2013-01-02 -1.150613  0.265513\n",
        "2013-01-03  0.877070  0.682884\n",
        "2013-01-04  1.350325 -0.040049\n",
        "2013-01-05 -0.058590  0.083294\n",
        "2013-01-06 -0.357197 -0.205763"
       ]
      }
     ],
     "prompt_number": 11
    },
    {
     "cell_type": "code",
     "collapsed": false,
     "input": [
      "df.iloc[1,1]  # getting secific scalar/single value"
     ],
     "language": "python",
     "metadata": {},
     "outputs": [
      {
       "metadata": {},
       "output_type": "pyout",
       "prompt_number": 12,
       "text": [
        "-1.1506133975623973"
       ]
      }
     ],
     "prompt_number": 12
    },
    {
     "cell_type": "markdown",
     "metadata": {},
     "source": [
      "<a id='boolean'></a>"
     ]
    },
    {
     "cell_type": "markdown",
     "metadata": {},
     "source": [
      "## [Boolean Indexing](http://pandas.pydata.org/pandas-docs/stable/indexing.html#boolean-indexing)"
     ]
    },
    {
     "cell_type": "markdown",
     "metadata": {},
     "source": [
      "[[view df](#df)]"
     ]
    },
    {
     "cell_type": "markdown",
     "metadata": {},
     "source": [
      "The boolean operators are: **|** for or, <strong>&</strong> for and, and **~** for not. These **must** be grouped by using parentheses."
     ]
    },
    {
     "cell_type": "code",
     "collapsed": false,
     "input": [
      "df[df.A > -0.5]  # or df[df[\"A\"] > -0.5], this syntax works when there is a space in the column name"
     ],
     "language": "python",
     "metadata": {},
     "outputs": [
      {
       "html": [
        "<div style=\"max-height:1000px;max-width:1500px;overflow:auto;\">\n",
        "<table border=\"1\" class=\"dataframe\">\n",
        "  <thead>\n",
        "    <tr style=\"text-align: right;\">\n",
        "      <th></th>\n",
        "      <th>A</th>\n",
        "      <th>B</th>\n",
        "      <th>C</th>\n",
        "      <th>D</th>\n",
        "    </tr>\n",
        "  </thead>\n",
        "  <tbody>\n",
        "    <tr>\n",
        "      <th>2013-01-03</th>\n",
        "      <td> 2.351035</td>\n",
        "      <td> 0.085318</td>\n",
        "      <td>-2.265766</td>\n",
        "      <td> 0.432268</td>\n",
        "    </tr>\n",
        "    <tr>\n",
        "      <th>2013-01-04</th>\n",
        "      <td> 0.447390</td>\n",
        "      <td> 0.205224</td>\n",
        "      <td>-0.614702</td>\n",
        "      <td> 0.212125</td>\n",
        "    </tr>\n",
        "    <tr>\n",
        "      <th>2013-01-05</th>\n",
        "      <td>-0.455682</td>\n",
        "      <td>-2.765288</td>\n",
        "      <td> 0.475253</td>\n",
        "      <td> 0.432910</td>\n",
        "    </tr>\n",
        "    <tr>\n",
        "      <th>2013-01-06</th>\n",
        "      <td> 1.000494</td>\n",
        "      <td>-0.462591</td>\n",
        "      <td>-0.638053</td>\n",
        "      <td> 0.481087</td>\n",
        "    </tr>\n",
        "  </tbody>\n",
        "</table>\n",
        "</div>"
       ],
       "metadata": {},
       "output_type": "pyout",
       "prompt_number": 33,
       "text": [
        "                   A         B         C         D\n",
        "2013-01-03  2.351035  0.085318 -2.265766  0.432268\n",
        "2013-01-04  0.447390  0.205224 -0.614702  0.212125\n",
        "2013-01-05 -0.455682 -2.765288  0.475253  0.432910\n",
        "2013-01-06  1.000494 -0.462591 -0.638053  0.481087"
       ]
      }
     ],
     "prompt_number": 33
    },
    {
     "cell_type": "markdown",
     "metadata": {},
     "source": [
      "or I've seen some people do boolean filtering by passing \"criteria\" variable to the dataframe like so:"
     ]
    },
    {
     "cell_type": "code",
     "collapsed": false,
     "input": [
      "criteria = df.A > -0.5\n",
      "df[criteria]"
     ],
     "language": "python",
     "metadata": {},
     "outputs": [
      {
       "html": [
        "<div style=\"max-height:1000px;max-width:1500px;overflow:auto;\">\n",
        "<table border=\"1\" class=\"dataframe\">\n",
        "  <thead>\n",
        "    <tr style=\"text-align: right;\">\n",
        "      <th></th>\n",
        "      <th>A</th>\n",
        "      <th>B</th>\n",
        "      <th>C</th>\n",
        "      <th>D</th>\n",
        "    </tr>\n",
        "  </thead>\n",
        "  <tbody>\n",
        "    <tr>\n",
        "      <th>2013-01-03</th>\n",
        "      <td> 2.351035</td>\n",
        "      <td> 0.085318</td>\n",
        "      <td>-2.265766</td>\n",
        "      <td> 0.432268</td>\n",
        "    </tr>\n",
        "    <tr>\n",
        "      <th>2013-01-04</th>\n",
        "      <td> 0.447390</td>\n",
        "      <td> 0.205224</td>\n",
        "      <td>-0.614702</td>\n",
        "      <td> 0.212125</td>\n",
        "    </tr>\n",
        "    <tr>\n",
        "      <th>2013-01-05</th>\n",
        "      <td>-0.455682</td>\n",
        "      <td>-2.765288</td>\n",
        "      <td> 0.475253</td>\n",
        "      <td> 0.432910</td>\n",
        "    </tr>\n",
        "    <tr>\n",
        "      <th>2013-01-06</th>\n",
        "      <td> 1.000494</td>\n",
        "      <td>-0.462591</td>\n",
        "      <td>-0.638053</td>\n",
        "      <td> 0.481087</td>\n",
        "    </tr>\n",
        "  </tbody>\n",
        "</table>\n",
        "</div>"
       ],
       "metadata": {},
       "output_type": "pyout",
       "prompt_number": 34,
       "text": [
        "                   A         B         C         D\n",
        "2013-01-03  2.351035  0.085318 -2.265766  0.432268\n",
        "2013-01-04  0.447390  0.205224 -0.614702  0.212125\n",
        "2013-01-05 -0.455682 -2.765288  0.475253  0.432910\n",
        "2013-01-06  1.000494 -0.462591 -0.638053  0.481087"
       ]
      }
     ],
     "prompt_number": 34
    },
    {
     "cell_type": "code",
     "collapsed": false,
     "input": [
      "df2 = df.copy()\n",
      "df2['E']=['one', 'one','two','three','four','three']\n",
      "df2"
     ],
     "language": "python",
     "metadata": {},
     "outputs": [
      {
       "html": [
        "<div style=\"max-height:1000px;max-width:1500px;overflow:auto;\">\n",
        "<table border=\"1\" class=\"dataframe\">\n",
        "  <thead>\n",
        "    <tr style=\"text-align: right;\">\n",
        "      <th></th>\n",
        "      <th>A</th>\n",
        "      <th>B</th>\n",
        "      <th>C</th>\n",
        "      <th>D</th>\n",
        "      <th>E</th>\n",
        "    </tr>\n",
        "  </thead>\n",
        "  <tbody>\n",
        "    <tr>\n",
        "      <th>2013-01-01</th>\n",
        "      <td>-0.564503</td>\n",
        "      <td>-1.195000</td>\n",
        "      <td> 0.441140</td>\n",
        "      <td>-0.291384</td>\n",
        "      <td>   one</td>\n",
        "    </tr>\n",
        "    <tr>\n",
        "      <th>2013-01-02</th>\n",
        "      <td>-0.893038</td>\n",
        "      <td>-0.372430</td>\n",
        "      <td>-0.436048</td>\n",
        "      <td>-0.545141</td>\n",
        "      <td>   one</td>\n",
        "    </tr>\n",
        "    <tr>\n",
        "      <th>2013-01-03</th>\n",
        "      <td> 2.351035</td>\n",
        "      <td> 0.085318</td>\n",
        "      <td>-2.265766</td>\n",
        "      <td> 0.432268</td>\n",
        "      <td>   two</td>\n",
        "    </tr>\n",
        "    <tr>\n",
        "      <th>2013-01-04</th>\n",
        "      <td> 0.447390</td>\n",
        "      <td> 0.205224</td>\n",
        "      <td>-0.614702</td>\n",
        "      <td> 0.212125</td>\n",
        "      <td> three</td>\n",
        "    </tr>\n",
        "    <tr>\n",
        "      <th>2013-01-05</th>\n",
        "      <td>-0.455682</td>\n",
        "      <td>-2.765288</td>\n",
        "      <td> 0.475253</td>\n",
        "      <td> 0.432910</td>\n",
        "      <td>  four</td>\n",
        "    </tr>\n",
        "    <tr>\n",
        "      <th>2013-01-06</th>\n",
        "      <td> 1.000494</td>\n",
        "      <td>-0.462591</td>\n",
        "      <td>-0.638053</td>\n",
        "      <td> 0.481087</td>\n",
        "      <td> three</td>\n",
        "    </tr>\n",
        "  </tbody>\n",
        "</table>\n",
        "</div>"
       ],
       "metadata": {},
       "output_type": "pyout",
       "prompt_number": 35,
       "text": [
        "                   A         B         C         D      E\n",
        "2013-01-01 -0.564503 -1.195000  0.441140 -0.291384    one\n",
        "2013-01-02 -0.893038 -0.372430 -0.436048 -0.545141    one\n",
        "2013-01-03  2.351035  0.085318 -2.265766  0.432268    two\n",
        "2013-01-04  0.447390  0.205224 -0.614702  0.212125  three\n",
        "2013-01-05 -0.455682 -2.765288  0.475253  0.432910   four\n",
        "2013-01-06  1.000494 -0.462591 -0.638053  0.481087  three"
       ]
      }
     ],
     "prompt_number": 35
    },
    {
     "cell_type": "code",
     "collapsed": false,
     "input": [
      "df2[df2['E'].isin(['two','four'])]  # read as \"return rows where column E contains two or four\""
     ],
     "language": "python",
     "metadata": {},
     "outputs": [
      {
       "html": [
        "<div style=\"max-height:1000px;max-width:1500px;overflow:auto;\">\n",
        "<table border=\"1\" class=\"dataframe\">\n",
        "  <thead>\n",
        "    <tr style=\"text-align: right;\">\n",
        "      <th></th>\n",
        "      <th>A</th>\n",
        "      <th>B</th>\n",
        "      <th>C</th>\n",
        "      <th>D</th>\n",
        "      <th>E</th>\n",
        "    </tr>\n",
        "  </thead>\n",
        "  <tbody>\n",
        "    <tr>\n",
        "      <th>2013-01-03</th>\n",
        "      <td> 2.351035</td>\n",
        "      <td> 0.085318</td>\n",
        "      <td>-2.265766</td>\n",
        "      <td> 0.432268</td>\n",
        "      <td>  two</td>\n",
        "    </tr>\n",
        "    <tr>\n",
        "      <th>2013-01-05</th>\n",
        "      <td>-0.455682</td>\n",
        "      <td>-2.765288</td>\n",
        "      <td> 0.475253</td>\n",
        "      <td> 0.432910</td>\n",
        "      <td> four</td>\n",
        "    </tr>\n",
        "  </tbody>\n",
        "</table>\n",
        "</div>"
       ],
       "metadata": {},
       "output_type": "pyout",
       "prompt_number": 36,
       "text": [
        "                   A         B         C         D     E\n",
        "2013-01-03  2.351035  0.085318 -2.265766  0.432268   two\n",
        "2013-01-05 -0.455682 -2.765288  0.475253  0.432910  four"
       ]
      }
     ],
     "prompt_number": 36
    },
    {
     "cell_type": "markdown",
     "metadata": {},
     "source": [
      "#### Using ~ to do a \"NOT\""
     ]
    },
    {
     "cell_type": "code",
     "collapsed": false,
     "input": [
      "df2[~df2['E'].isin(['two','four'])]  # column E containing values not in two or four"
     ],
     "language": "python",
     "metadata": {},
     "outputs": [
      {
       "html": [
        "<div style=\"max-height:1000px;max-width:1500px;overflow:auto;\">\n",
        "<table border=\"1\" class=\"dataframe\">\n",
        "  <thead>\n",
        "    <tr style=\"text-align: right;\">\n",
        "      <th></th>\n",
        "      <th>A</th>\n",
        "      <th>B</th>\n",
        "      <th>C</th>\n",
        "      <th>D</th>\n",
        "      <th>E</th>\n",
        "    </tr>\n",
        "  </thead>\n",
        "  <tbody>\n",
        "    <tr>\n",
        "      <th>2013-01-01</th>\n",
        "      <td>-0.564503</td>\n",
        "      <td>-1.195000</td>\n",
        "      <td> 0.441140</td>\n",
        "      <td>-0.291384</td>\n",
        "      <td>   one</td>\n",
        "    </tr>\n",
        "    <tr>\n",
        "      <th>2013-01-02</th>\n",
        "      <td>-0.893038</td>\n",
        "      <td>-0.372430</td>\n",
        "      <td>-0.436048</td>\n",
        "      <td>-0.545141</td>\n",
        "      <td>   one</td>\n",
        "    </tr>\n",
        "    <tr>\n",
        "      <th>2013-01-04</th>\n",
        "      <td> 0.447390</td>\n",
        "      <td> 0.205224</td>\n",
        "      <td>-0.614702</td>\n",
        "      <td> 0.212125</td>\n",
        "      <td> three</td>\n",
        "    </tr>\n",
        "    <tr>\n",
        "      <th>2013-01-06</th>\n",
        "      <td> 1.000494</td>\n",
        "      <td>-0.462591</td>\n",
        "      <td>-0.638053</td>\n",
        "      <td> 0.481087</td>\n",
        "      <td> three</td>\n",
        "    </tr>\n",
        "  </tbody>\n",
        "</table>\n",
        "</div>"
       ],
       "metadata": {},
       "output_type": "pyout",
       "prompt_number": 38,
       "text": [
        "                   A         B         C         D      E\n",
        "2013-01-01 -0.564503 -1.195000  0.441140 -0.291384    one\n",
        "2013-01-02 -0.893038 -0.372430 -0.436048 -0.545141    one\n",
        "2013-01-04  0.447390  0.205224 -0.614702  0.212125  three\n",
        "2013-01-06  1.000494 -0.462591 -0.638053  0.481087  three"
       ]
      }
     ],
     "prompt_number": 38
    },
    {
     "cell_type": "markdown",
     "metadata": {},
     "source": [
      "#### Filtering using query() method"
     ]
    },
    {
     "cell_type": "code",
     "collapsed": false,
     "input": [
      "import numpy as np\n",
      "import pandas as pd\n",
      "\n",
      "dates = pd.date_range('20130101',periods=6)\n",
      "df = pd.DataFrame(np.random.randn(6,4),index=dates,columns=list('ABCD'))\n",
      "df"
     ],
     "language": "python",
     "metadata": {},
     "outputs": [
      {
       "html": [
        "<div style=\"max-height:1000px;max-width:1500px;overflow:auto;\">\n",
        "<table border=\"1\" class=\"dataframe\">\n",
        "  <thead>\n",
        "    <tr style=\"text-align: right;\">\n",
        "      <th></th>\n",
        "      <th>A</th>\n",
        "      <th>B</th>\n",
        "      <th>C</th>\n",
        "      <th>D</th>\n",
        "    </tr>\n",
        "  </thead>\n",
        "  <tbody>\n",
        "    <tr>\n",
        "      <th>2013-01-01</th>\n",
        "      <td>-0.683630</td>\n",
        "      <td>-0.961407</td>\n",
        "      <td> 1.052018</td>\n",
        "      <td> 0.512382</td>\n",
        "    </tr>\n",
        "    <tr>\n",
        "      <th>2013-01-02</th>\n",
        "      <td>-0.755844</td>\n",
        "      <td> 1.672273</td>\n",
        "      <td> 0.365384</td>\n",
        "      <td> 1.030149</td>\n",
        "    </tr>\n",
        "    <tr>\n",
        "      <th>2013-01-03</th>\n",
        "      <td>-0.532466</td>\n",
        "      <td> 0.616725</td>\n",
        "      <td> 1.066731</td>\n",
        "      <td>-1.056756</td>\n",
        "    </tr>\n",
        "    <tr>\n",
        "      <th>2013-01-04</th>\n",
        "      <td> 0.153878</td>\n",
        "      <td>-1.270198</td>\n",
        "      <td> 0.346587</td>\n",
        "      <td> 0.150570</td>\n",
        "    </tr>\n",
        "    <tr>\n",
        "      <th>2013-01-05</th>\n",
        "      <td> 1.645820</td>\n",
        "      <td> 0.817894</td>\n",
        "      <td> 0.168950</td>\n",
        "      <td>-0.833291</td>\n",
        "    </tr>\n",
        "    <tr>\n",
        "      <th>2013-01-06</th>\n",
        "      <td>-0.768034</td>\n",
        "      <td> 1.145290</td>\n",
        "      <td>-0.612168</td>\n",
        "      <td> 0.325120</td>\n",
        "    </tr>\n",
        "  </tbody>\n",
        "</table>\n",
        "</div>"
       ],
       "metadata": {},
       "output_type": "pyout",
       "prompt_number": 52,
       "text": [
        "                   A         B         C         D\n",
        "2013-01-01 -0.683630 -0.961407  1.052018  0.512382\n",
        "2013-01-02 -0.755844  1.672273  0.365384  1.030149\n",
        "2013-01-03 -0.532466  0.616725  1.066731 -1.056756\n",
        "2013-01-04  0.153878 -1.270198  0.346587  0.150570\n",
        "2013-01-05  1.645820  0.817894  0.168950 -0.833291\n",
        "2013-01-06 -0.768034  1.145290 -0.612168  0.325120"
       ]
      }
     ],
     "prompt_number": 52
    },
    {
     "cell_type": "code",
     "collapsed": false,
     "input": [
      "df.query('A > C')"
     ],
     "language": "python",
     "metadata": {},
     "outputs": [
      {
       "html": [
        "<div style=\"max-height:1000px;max-width:1500px;overflow:auto;\">\n",
        "<table border=\"1\" class=\"dataframe\">\n",
        "  <thead>\n",
        "    <tr style=\"text-align: right;\">\n",
        "      <th></th>\n",
        "      <th>A</th>\n",
        "      <th>B</th>\n",
        "      <th>C</th>\n",
        "      <th>D</th>\n",
        "    </tr>\n",
        "  </thead>\n",
        "  <tbody>\n",
        "    <tr>\n",
        "      <th>2013-01-05</th>\n",
        "      <td> 1.64582</td>\n",
        "      <td> 0.817894</td>\n",
        "      <td> 0.16895</td>\n",
        "      <td>-0.833291</td>\n",
        "    </tr>\n",
        "  </tbody>\n",
        "</table>\n",
        "</div>"
       ],
       "metadata": {},
       "output_type": "pyout",
       "prompt_number": 58,
       "text": [
        "                  A         B        C         D\n",
        "2013-01-05  1.64582  0.817894  0.16895 -0.833291"
       ]
      }
     ],
     "prompt_number": 58
    },
    {
     "cell_type": "code",
     "collapsed": false,
     "input": [
      "df.query('A > 0')"
     ],
     "language": "python",
     "metadata": {},
     "outputs": [
      {
       "html": [
        "<div style=\"max-height:1000px;max-width:1500px;overflow:auto;\">\n",
        "<table border=\"1\" class=\"dataframe\">\n",
        "  <thead>\n",
        "    <tr style=\"text-align: right;\">\n",
        "      <th></th>\n",
        "      <th>A</th>\n",
        "      <th>B</th>\n",
        "      <th>C</th>\n",
        "      <th>D</th>\n",
        "    </tr>\n",
        "  </thead>\n",
        "  <tbody>\n",
        "    <tr>\n",
        "      <th>2013-01-04</th>\n",
        "      <td> 0.153878</td>\n",
        "      <td>-1.270198</td>\n",
        "      <td> 0.346587</td>\n",
        "      <td> 0.150570</td>\n",
        "    </tr>\n",
        "    <tr>\n",
        "      <th>2013-01-05</th>\n",
        "      <td> 1.645820</td>\n",
        "      <td> 0.817894</td>\n",
        "      <td> 0.168950</td>\n",
        "      <td>-0.833291</td>\n",
        "    </tr>\n",
        "  </tbody>\n",
        "</table>\n",
        "</div>"
       ],
       "metadata": {},
       "output_type": "pyout",
       "prompt_number": 69,
       "text": [
        "                   A         B         C         D\n",
        "2013-01-04  0.153878 -1.270198  0.346587  0.150570\n",
        "2013-01-05  1.645820  0.817894  0.168950 -0.833291"
       ]
      }
     ],
     "prompt_number": 69
    },
    {
     "cell_type": "code",
     "collapsed": false,
     "input": [
      "df.query('A > 0 & A < 1')"
     ],
     "language": "python",
     "metadata": {},
     "outputs": [
      {
       "html": [
        "<div style=\"max-height:1000px;max-width:1500px;overflow:auto;\">\n",
        "<table border=\"1\" class=\"dataframe\">\n",
        "  <thead>\n",
        "    <tr style=\"text-align: right;\">\n",
        "      <th></th>\n",
        "      <th>A</th>\n",
        "      <th>B</th>\n",
        "      <th>C</th>\n",
        "      <th>D</th>\n",
        "    </tr>\n",
        "  </thead>\n",
        "  <tbody>\n",
        "    <tr>\n",
        "      <th>2013-01-04</th>\n",
        "      <td> 0.153878</td>\n",
        "      <td>-1.270198</td>\n",
        "      <td> 0.346587</td>\n",
        "      <td> 0.15057</td>\n",
        "    </tr>\n",
        "  </tbody>\n",
        "</table>\n",
        "</div>"
       ],
       "metadata": {},
       "output_type": "pyout",
       "prompt_number": 68,
       "text": [
        "                   A         B         C        D\n",
        "2013-01-04  0.153878 -1.270198  0.346587  0.15057"
       ]
      }
     ],
     "prompt_number": 68
    },
    {
     "cell_type": "code",
     "collapsed": false,
     "input": [
      "df.query('A > B | A > C')  # where A is greater than B or A is greater than C"
     ],
     "language": "python",
     "metadata": {},
     "outputs": [
      {
       "html": [
        "<div style=\"max-height:1000px;max-width:1500px;overflow:auto;\">\n",
        "<table border=\"1\" class=\"dataframe\">\n",
        "  <thead>\n",
        "    <tr style=\"text-align: right;\">\n",
        "      <th></th>\n",
        "      <th>A</th>\n",
        "      <th>B</th>\n",
        "      <th>C</th>\n",
        "      <th>D</th>\n",
        "    </tr>\n",
        "  </thead>\n",
        "  <tbody>\n",
        "    <tr>\n",
        "      <th>2013-01-01</th>\n",
        "      <td>-0.683630</td>\n",
        "      <td>-0.961407</td>\n",
        "      <td> 1.052018</td>\n",
        "      <td> 0.512382</td>\n",
        "    </tr>\n",
        "    <tr>\n",
        "      <th>2013-01-04</th>\n",
        "      <td> 0.153878</td>\n",
        "      <td>-1.270198</td>\n",
        "      <td> 0.346587</td>\n",
        "      <td> 0.150570</td>\n",
        "    </tr>\n",
        "    <tr>\n",
        "      <th>2013-01-05</th>\n",
        "      <td> 1.645820</td>\n",
        "      <td> 0.817894</td>\n",
        "      <td> 0.168950</td>\n",
        "      <td>-0.833291</td>\n",
        "    </tr>\n",
        "  </tbody>\n",
        "</table>\n",
        "</div>"
       ],
       "metadata": {},
       "output_type": "pyout",
       "prompt_number": 65,
       "text": [
        "                   A         B         C         D\n",
        "2013-01-01 -0.683630 -0.961407  1.052018  0.512382\n",
        "2013-01-04  0.153878 -1.270198  0.346587  0.150570\n",
        "2013-01-05  1.645820  0.817894  0.168950 -0.833291"
       ]
      }
     ],
     "prompt_number": 65
    },
    {
     "cell_type": "markdown",
     "metadata": {},
     "source": [
      "<a id='partial_column_labels'></a>"
     ]
    },
    {
     "cell_type": "markdown",
     "metadata": {},
     "source": [
      "## Obtaining columns with partial column labels"
     ]
    },
    {
     "cell_type": "markdown",
     "metadata": {},
     "source": [
      "[[back to top](#top)]"
     ]
    },
    {
     "cell_type": "code",
     "collapsed": false,
     "input": [
      "import pandas as pd\n",
      "\n",
      "df = pd.DataFrame({'key1' : ['a', 'a', 'b', 'b', 'a'],\n",
      "                   'key2' : ['one', 'two', 'one', 'two', 'one'],\n",
      "                   'data1' : np.random.randn(5),\n",
      "                   'data2' : np.random.randn(5)})\n",
      "df"
     ],
     "language": "python",
     "metadata": {},
     "outputs": [
      {
       "html": [
        "<div style=\"max-height:1000px;max-width:1500px;overflow:auto;\">\n",
        "<table border=\"1\" class=\"dataframe\">\n",
        "  <thead>\n",
        "    <tr style=\"text-align: right;\">\n",
        "      <th></th>\n",
        "      <th>data1</th>\n",
        "      <th>data2</th>\n",
        "      <th>key1</th>\n",
        "      <th>key2</th>\n",
        "    </tr>\n",
        "  </thead>\n",
        "  <tbody>\n",
        "    <tr>\n",
        "      <th>0</th>\n",
        "      <td> 0.740132</td>\n",
        "      <td> 1.220225</td>\n",
        "      <td> a</td>\n",
        "      <td> one</td>\n",
        "    </tr>\n",
        "    <tr>\n",
        "      <th>1</th>\n",
        "      <td> 1.223369</td>\n",
        "      <td> 0.830145</td>\n",
        "      <td> a</td>\n",
        "      <td> two</td>\n",
        "    </tr>\n",
        "    <tr>\n",
        "      <th>2</th>\n",
        "      <td>-2.046775</td>\n",
        "      <td>-1.149754</td>\n",
        "      <td> b</td>\n",
        "      <td> one</td>\n",
        "    </tr>\n",
        "    <tr>\n",
        "      <th>3</th>\n",
        "      <td>-3.068403</td>\n",
        "      <td> 0.675124</td>\n",
        "      <td> b</td>\n",
        "      <td> two</td>\n",
        "    </tr>\n",
        "    <tr>\n",
        "      <th>4</th>\n",
        "      <td>-0.467039</td>\n",
        "      <td> 0.640412</td>\n",
        "      <td> a</td>\n",
        "      <td> one</td>\n",
        "    </tr>\n",
        "  </tbody>\n",
        "</table>\n",
        "</div>"
       ],
       "metadata": {},
       "output_type": "pyout",
       "prompt_number": 40,
       "text": [
        "      data1     data2 key1 key2\n",
        "0  0.740132  1.220225    a  one\n",
        "1  1.223369  0.830145    a  two\n",
        "2 -2.046775 -1.149754    b  one\n",
        "3 -3.068403  0.675124    b  two\n",
        "4 -0.467039  0.640412    a  one"
       ]
      }
     ],
     "prompt_number": 40
    },
    {
     "cell_type": "code",
     "collapsed": false,
     "input": [
      "df.filter(like='data')"
     ],
     "language": "python",
     "metadata": {},
     "outputs": [
      {
       "html": [
        "<div style=\"max-height:1000px;max-width:1500px;overflow:auto;\">\n",
        "<table border=\"1\" class=\"dataframe\">\n",
        "  <thead>\n",
        "    <tr style=\"text-align: right;\">\n",
        "      <th></th>\n",
        "      <th>data1</th>\n",
        "      <th>data2</th>\n",
        "    </tr>\n",
        "  </thead>\n",
        "  <tbody>\n",
        "    <tr>\n",
        "      <th>0</th>\n",
        "      <td> 0.740132</td>\n",
        "      <td> 1.220225</td>\n",
        "    </tr>\n",
        "    <tr>\n",
        "      <th>1</th>\n",
        "      <td> 1.223369</td>\n",
        "      <td> 0.830145</td>\n",
        "    </tr>\n",
        "    <tr>\n",
        "      <th>2</th>\n",
        "      <td>-2.046775</td>\n",
        "      <td>-1.149754</td>\n",
        "    </tr>\n",
        "    <tr>\n",
        "      <th>3</th>\n",
        "      <td>-3.068403</td>\n",
        "      <td> 0.675124</td>\n",
        "    </tr>\n",
        "    <tr>\n",
        "      <th>4</th>\n",
        "      <td>-0.467039</td>\n",
        "      <td> 0.640412</td>\n",
        "    </tr>\n",
        "  </tbody>\n",
        "</table>\n",
        "</div>"
       ],
       "metadata": {},
       "output_type": "pyout",
       "prompt_number": 42,
       "text": [
        "      data1     data2\n",
        "0  0.740132  1.220225\n",
        "1  1.223369  0.830145\n",
        "2 -2.046775 -1.149754\n",
        "3 -3.068403  0.675124\n",
        "4 -0.467039  0.640412"
       ]
      }
     ],
     "prompt_number": 42
    },
    {
     "cell_type": "markdown",
     "metadata": {},
     "source": [
      "<a id='value_counts'></a>"
     ]
    },
    {
     "cell_type": "markdown",
     "metadata": {},
     "source": [
      "## Getting Value Counts"
     ]
    },
    {
     "cell_type": "markdown",
     "metadata": {},
     "source": [
      "It is so tempting to use the groupby() function or pivot_table, but most of the time, value_count() function is all we need."
     ]
    },
    {
     "cell_type": "markdown",
     "metadata": {},
     "source": [
      "[[back to top](#top)]"
     ]
    },
    {
     "cell_type": "code",
     "collapsed": false,
     "input": [
      "import pandas as pd\n",
      "data = pd.DataFrame({'group': ['a', 'a', 'a', 'b','b', 'b', 'c', 'c','c'],\n",
      "                 'ounces': [4, 3, 12, 6, 7.5, 8, 3, 5, 6]})\n",
      "data"
     ],
     "language": "python",
     "metadata": {},
     "outputs": [
      {
       "html": [
        "<div style=\"max-height:1000px;max-width:1500px;overflow:auto;\">\n",
        "<table border=\"1\" class=\"dataframe\">\n",
        "  <thead>\n",
        "    <tr style=\"text-align: right;\">\n",
        "      <th></th>\n",
        "      <th>group</th>\n",
        "      <th>ounces</th>\n",
        "    </tr>\n",
        "  </thead>\n",
        "  <tbody>\n",
        "    <tr>\n",
        "      <th>0</th>\n",
        "      <td> a</td>\n",
        "      <td>  4.0</td>\n",
        "    </tr>\n",
        "    <tr>\n",
        "      <th>1</th>\n",
        "      <td> a</td>\n",
        "      <td>  3.0</td>\n",
        "    </tr>\n",
        "    <tr>\n",
        "      <th>2</th>\n",
        "      <td> a</td>\n",
        "      <td> 12.0</td>\n",
        "    </tr>\n",
        "    <tr>\n",
        "      <th>3</th>\n",
        "      <td> b</td>\n",
        "      <td>  6.0</td>\n",
        "    </tr>\n",
        "    <tr>\n",
        "      <th>4</th>\n",
        "      <td> b</td>\n",
        "      <td>  7.5</td>\n",
        "    </tr>\n",
        "    <tr>\n",
        "      <th>5</th>\n",
        "      <td> b</td>\n",
        "      <td>  8.0</td>\n",
        "    </tr>\n",
        "    <tr>\n",
        "      <th>6</th>\n",
        "      <td> c</td>\n",
        "      <td>  3.0</td>\n",
        "    </tr>\n",
        "    <tr>\n",
        "      <th>7</th>\n",
        "      <td> c</td>\n",
        "      <td>  5.0</td>\n",
        "    </tr>\n",
        "    <tr>\n",
        "      <th>8</th>\n",
        "      <td> c</td>\n",
        "      <td>  6.0</td>\n",
        "    </tr>\n",
        "  </tbody>\n",
        "</table>\n",
        "</div>"
       ],
       "metadata": {},
       "output_type": "pyout",
       "prompt_number": 1,
       "text": [
        "  group  ounces\n",
        "0     a     4.0\n",
        "1     a     3.0\n",
        "2     a    12.0\n",
        "3     b     6.0\n",
        "4     b     7.5\n",
        "5     b     8.0\n",
        "6     c     3.0\n",
        "7     c     5.0\n",
        "8     c     6.0"
       ]
      }
     ],
     "prompt_number": 1
    },
    {
     "cell_type": "code",
     "collapsed": false,
     "input": [
      "data.group.value_counts()"
     ],
     "language": "python",
     "metadata": {},
     "outputs": [
      {
       "metadata": {},
       "output_type": "pyout",
       "prompt_number": 2,
       "text": [
        "a    3\n",
        "b    3\n",
        "c    3\n",
        "dtype: int64"
       ]
      }
     ],
     "prompt_number": 2
    },
    {
     "cell_type": "markdown",
     "metadata": {},
     "source": [
      "<a id='cum_sum'></a>"
     ]
    },
    {
     "cell_type": "markdown",
     "metadata": {},
     "source": [
      "## Getting Cumulative Sum"
     ]
    },
    {
     "cell_type": "markdown",
     "metadata": {},
     "source": [
      "[[back to top](#top)]"
     ]
    },
    {
     "cell_type": "code",
     "collapsed": false,
     "input": [
      "data.group.value_counts().cumsum()"
     ],
     "language": "python",
     "metadata": {},
     "outputs": [
      {
       "metadata": {},
       "output_type": "pyout",
       "prompt_number": 3,
       "text": [
        "a    3\n",
        "b    6\n",
        "c    9\n",
        "dtype: int64"
       ]
      }
     ],
     "prompt_number": 3
    },
    {
     "cell_type": "markdown",
     "metadata": {},
     "source": [
      "<a id='pivot_table'></a>"
     ]
    },
    {
     "cell_type": "markdown",
     "metadata": {},
     "source": [
      "## Pivot table example - see also this excellent [article](http://pbpython.com/pandas-pivot-table-explained.html) on pivot tables"
     ]
    },
    {
     "cell_type": "markdown",
     "metadata": {},
     "source": [
      "[[back to top](#top)]"
     ]
    },
    {
     "cell_type": "code",
     "collapsed": false,
     "input": [
      "import pandas as pd\n",
      "data = pd.DataFrame({'group': ['a', 'a', 'a', 'b','b', 'b', 'c', 'c','c'],\n",
      "                 'ounces': [4, 3, 12, 6, 7.5, 8, 3, 5, 6]})\n",
      "data"
     ],
     "language": "python",
     "metadata": {},
     "outputs": [
      {
       "html": [
        "<div style=\"max-height:1000px;max-width:1500px;overflow:auto;\">\n",
        "<table border=\"1\" class=\"dataframe\">\n",
        "  <thead>\n",
        "    <tr style=\"text-align: right;\">\n",
        "      <th></th>\n",
        "      <th>group</th>\n",
        "      <th>ounces</th>\n",
        "    </tr>\n",
        "  </thead>\n",
        "  <tbody>\n",
        "    <tr>\n",
        "      <th>0</th>\n",
        "      <td> a</td>\n",
        "      <td>  4.0</td>\n",
        "    </tr>\n",
        "    <tr>\n",
        "      <th>1</th>\n",
        "      <td> a</td>\n",
        "      <td>  3.0</td>\n",
        "    </tr>\n",
        "    <tr>\n",
        "      <th>2</th>\n",
        "      <td> a</td>\n",
        "      <td> 12.0</td>\n",
        "    </tr>\n",
        "    <tr>\n",
        "      <th>3</th>\n",
        "      <td> b</td>\n",
        "      <td>  6.0</td>\n",
        "    </tr>\n",
        "    <tr>\n",
        "      <th>4</th>\n",
        "      <td> b</td>\n",
        "      <td>  7.5</td>\n",
        "    </tr>\n",
        "    <tr>\n",
        "      <th>5</th>\n",
        "      <td> b</td>\n",
        "      <td>  8.0</td>\n",
        "    </tr>\n",
        "    <tr>\n",
        "      <th>6</th>\n",
        "      <td> c</td>\n",
        "      <td>  3.0</td>\n",
        "    </tr>\n",
        "    <tr>\n",
        "      <th>7</th>\n",
        "      <td> c</td>\n",
        "      <td>  5.0</td>\n",
        "    </tr>\n",
        "    <tr>\n",
        "      <th>8</th>\n",
        "      <td> c</td>\n",
        "      <td>  6.0</td>\n",
        "    </tr>\n",
        "  </tbody>\n",
        "</table>\n",
        "</div>"
       ],
       "metadata": {},
       "output_type": "pyout",
       "prompt_number": 51,
       "text": [
        "  group  ounces\n",
        "0     a     4.0\n",
        "1     a     3.0\n",
        "2     a    12.0\n",
        "3     b     6.0\n",
        "4     b     7.5\n",
        "5     b     8.0\n",
        "6     c     3.0\n",
        "7     c     5.0\n",
        "8     c     6.0"
       ]
      }
     ],
     "prompt_number": 51
    },
    {
     "cell_type": "markdown",
     "metadata": {},
     "source": [
      "#### Calculating the means of each group"
     ]
    },
    {
     "cell_type": "code",
     "collapsed": false,
     "input": [
      "data.pivot_table(values='ounces',index='group',aggfunc=np.mean)"
     ],
     "language": "python",
     "metadata": {},
     "outputs": [
      {
       "metadata": {},
       "output_type": "pyout",
       "prompt_number": 3,
       "text": [
        "group\n",
        "a        6.333333\n",
        "b        7.166667\n",
        "c        4.666667\n",
        "Name: ounces, dtype: float64"
       ]
      }
     ],
     "prompt_number": 3
    },
    {
     "cell_type": "markdown",
     "metadata": {},
     "source": [
      "#### Getting counts by group"
     ]
    },
    {
     "cell_type": "code",
     "collapsed": false,
     "input": [
      "data.pivot_table(values='ounces',index='group',aggfunc='count')"
     ],
     "language": "python",
     "metadata": {},
     "outputs": [
      {
       "metadata": {},
       "output_type": "pyout",
       "prompt_number": 5,
       "text": [
        "group\n",
        "a        3\n",
        "b        3\n",
        "c        3\n",
        "Name: ounces, dtype: int64"
       ]
      }
     ],
     "prompt_number": 5
    },
    {
     "cell_type": "markdown",
     "metadata": {},
     "source": [
      "#### Getting cumulative sum or running total of the group counts"
     ]
    },
    {
     "cell_type": "code",
     "collapsed": false,
     "input": [
      "data.pivot_table(values='ounces',index='group',aggfunc='count').cumsum()"
     ],
     "language": "python",
     "metadata": {},
     "outputs": [
      {
       "metadata": {},
       "output_type": "pyout",
       "prompt_number": 6,
       "text": [
        "group\n",
        "a        3\n",
        "b        6\n",
        "c        9\n",
        "Name: ounces, dtype: int64"
       ]
      }
     ],
     "prompt_number": 6
    },
    {
     "cell_type": "code",
     "collapsed": false,
     "input": [
      "import pandas as pd\n",
      "\n",
      "# sample data can be dowloaded here: http://pbpython.com/extras/sales-funnel.xlsx\n",
      "df = pd.read_csv('/home/pybokeh/Downloads/sales-funnel.csv')"
     ],
     "language": "python",
     "metadata": {},
     "outputs": [],
     "prompt_number": 22
    },
    {
     "cell_type": "code",
     "collapsed": false,
     "input": [
      "df.head()"
     ],
     "language": "python",
     "metadata": {},
     "outputs": [
      {
       "html": [
        "<div style=\"max-height:1000px;max-width:1500px;overflow:auto;\">\n",
        "<table border=\"1\" class=\"dataframe\">\n",
        "  <thead>\n",
        "    <tr style=\"text-align: right;\">\n",
        "      <th></th>\n",
        "      <th>Account</th>\n",
        "      <th>Name</th>\n",
        "      <th>Rep</th>\n",
        "      <th>Manager</th>\n",
        "      <th>Product</th>\n",
        "      <th>Quantity</th>\n",
        "      <th>Price</th>\n",
        "      <th>Status</th>\n",
        "    </tr>\n",
        "  </thead>\n",
        "  <tbody>\n",
        "    <tr>\n",
        "      <th>0</th>\n",
        "      <td> 714466</td>\n",
        "      <td>              Trantow-Barrows</td>\n",
        "      <td>  Craig Booker</td>\n",
        "      <td> Debra Henley</td>\n",
        "      <td>         CPU</td>\n",
        "      <td> 1</td>\n",
        "      <td> 30000</td>\n",
        "      <td> presented</td>\n",
        "    </tr>\n",
        "    <tr>\n",
        "      <th>1</th>\n",
        "      <td> 714466</td>\n",
        "      <td>              Trantow-Barrows</td>\n",
        "      <td>  Craig Booker</td>\n",
        "      <td> Debra Henley</td>\n",
        "      <td>    Software</td>\n",
        "      <td> 1</td>\n",
        "      <td> 10000</td>\n",
        "      <td> presented</td>\n",
        "    </tr>\n",
        "    <tr>\n",
        "      <th>2</th>\n",
        "      <td> 714466</td>\n",
        "      <td>              Trantow-Barrows</td>\n",
        "      <td>  Craig Booker</td>\n",
        "      <td> Debra Henley</td>\n",
        "      <td> Maintenance</td>\n",
        "      <td> 2</td>\n",
        "      <td>  5000</td>\n",
        "      <td>   pending</td>\n",
        "    </tr>\n",
        "    <tr>\n",
        "      <th>3</th>\n",
        "      <td> 737550</td>\n",
        "      <td> Fritsch, Russel and Anderson</td>\n",
        "      <td>  Craig Booker</td>\n",
        "      <td> Debra Henley</td>\n",
        "      <td>         CPU</td>\n",
        "      <td> 1</td>\n",
        "      <td> 35000</td>\n",
        "      <td>  declined</td>\n",
        "    </tr>\n",
        "    <tr>\n",
        "      <th>4</th>\n",
        "      <td> 146832</td>\n",
        "      <td>                 Kiehn-Spinka</td>\n",
        "      <td> Daniel Hilton</td>\n",
        "      <td> Debra Henley</td>\n",
        "      <td>         CPU</td>\n",
        "      <td> 2</td>\n",
        "      <td> 65000</td>\n",
        "      <td>       won</td>\n",
        "    </tr>\n",
        "  </tbody>\n",
        "</table>\n",
        "</div>"
       ],
       "metadata": {},
       "output_type": "pyout",
       "prompt_number": 5,
       "text": [
        "   Account                          Name            Rep       Manager  \\\n",
        "0   714466               Trantow-Barrows   Craig Booker  Debra Henley   \n",
        "1   714466               Trantow-Barrows   Craig Booker  Debra Henley   \n",
        "2   714466               Trantow-Barrows   Craig Booker  Debra Henley   \n",
        "3   737550  Fritsch, Russel and Anderson   Craig Booker  Debra Henley   \n",
        "4   146832                  Kiehn-Spinka  Daniel Hilton  Debra Henley   \n",
        "\n",
        "       Product  Quantity  Price     Status  \n",
        "0          CPU         1  30000  presented  \n",
        "1     Software         1  10000  presented  \n",
        "2  Maintenance         2   5000    pending  \n",
        "3          CPU         1  35000   declined  \n",
        "4          CPU         2  65000        won  "
       ]
      }
     ],
     "prompt_number": 5
    },
    {
     "cell_type": "code",
     "collapsed": false,
     "input": [
      "by_rep = pd.pivot_table(data=df, index='Rep', columns='Product', values='Quantity', aggfunc='count', fill_value=0)\n",
      "by_rep"
     ],
     "language": "python",
     "metadata": {},
     "outputs": [
      {
       "html": [
        "<div style=\"max-height:1000px;max-width:1500px;overflow:auto;\">\n",
        "<table border=\"1\" class=\"dataframe\">\n",
        "  <thead>\n",
        "    <tr style=\"text-align: right;\">\n",
        "      <th>Product</th>\n",
        "      <th>CPU</th>\n",
        "      <th>Maintenance</th>\n",
        "      <th>Monitor</th>\n",
        "      <th>Software</th>\n",
        "    </tr>\n",
        "    <tr>\n",
        "      <th>Rep</th>\n",
        "      <th></th>\n",
        "      <th></th>\n",
        "      <th></th>\n",
        "      <th></th>\n",
        "    </tr>\n",
        "  </thead>\n",
        "  <tbody>\n",
        "    <tr>\n",
        "      <th>Cedric Moss</th>\n",
        "      <td> 2</td>\n",
        "      <td> 1</td>\n",
        "      <td> 0</td>\n",
        "      <td> 1</td>\n",
        "    </tr>\n",
        "    <tr>\n",
        "      <th>Craig Booker</th>\n",
        "      <td> 2</td>\n",
        "      <td> 1</td>\n",
        "      <td> 0</td>\n",
        "      <td> 1</td>\n",
        "    </tr>\n",
        "    <tr>\n",
        "      <th>Daniel Hilton</th>\n",
        "      <td> 2</td>\n",
        "      <td> 0</td>\n",
        "      <td> 0</td>\n",
        "      <td> 1</td>\n",
        "    </tr>\n",
        "    <tr>\n",
        "      <th>John Smith</th>\n",
        "      <td> 1</td>\n",
        "      <td> 1</td>\n",
        "      <td> 0</td>\n",
        "      <td> 0</td>\n",
        "    </tr>\n",
        "    <tr>\n",
        "      <th>Wendy Yule</th>\n",
        "      <td> 2</td>\n",
        "      <td> 1</td>\n",
        "      <td> 1</td>\n",
        "      <td> 0</td>\n",
        "    </tr>\n",
        "  </tbody>\n",
        "</table>\n",
        "</div>"
       ],
       "metadata": {},
       "output_type": "pyout",
       "prompt_number": 12,
       "text": [
        "Product        CPU  Maintenance  Monitor  Software\n",
        "Rep                                               \n",
        "Cedric Moss      2            1        0         1\n",
        "Craig Booker     2            1        0         1\n",
        "Daniel Hilton    2            0        0         1\n",
        "John Smith       1            1        0         0\n",
        "Wendy Yule       2            1        1         0"
       ]
      }
     ],
     "prompt_number": 12
    },
    {
     "cell_type": "markdown",
     "metadata": {},
     "source": [
      "<a id='perc_rows'></a>"
     ]
    },
    {
     "cell_type": "markdown",
     "metadata": {},
     "source": [
      "#### Percent of rows"
     ]
    },
    {
     "cell_type": "markdown",
     "metadata": {},
     "source": [
      "[[back to top](#top)]"
     ]
    },
    {
     "cell_type": "code",
     "collapsed": false,
     "input": [
      "perc_of_rows = by_rep.apply(lambda x : x / x.sum() * 100, axis=1) \n",
      "perc_of_rows"
     ],
     "language": "python",
     "metadata": {},
     "outputs": [
      {
       "html": [
        "<div style=\"max-height:1000px;max-width:1500px;overflow:auto;\">\n",
        "<table border=\"1\" class=\"dataframe\">\n",
        "  <thead>\n",
        "    <tr style=\"text-align: right;\">\n",
        "      <th>Product</th>\n",
        "      <th>CPU</th>\n",
        "      <th>Maintenance</th>\n",
        "      <th>Monitor</th>\n",
        "      <th>Software</th>\n",
        "    </tr>\n",
        "    <tr>\n",
        "      <th>Rep</th>\n",
        "      <th></th>\n",
        "      <th></th>\n",
        "      <th></th>\n",
        "      <th></th>\n",
        "    </tr>\n",
        "  </thead>\n",
        "  <tbody>\n",
        "    <tr>\n",
        "      <th>Cedric Moss</th>\n",
        "      <td> 50.000000</td>\n",
        "      <td> 25</td>\n",
        "      <td>  0</td>\n",
        "      <td> 25.000000</td>\n",
        "    </tr>\n",
        "    <tr>\n",
        "      <th>Craig Booker</th>\n",
        "      <td> 50.000000</td>\n",
        "      <td> 25</td>\n",
        "      <td>  0</td>\n",
        "      <td> 25.000000</td>\n",
        "    </tr>\n",
        "    <tr>\n",
        "      <th>Daniel Hilton</th>\n",
        "      <td> 66.666667</td>\n",
        "      <td>  0</td>\n",
        "      <td>  0</td>\n",
        "      <td> 33.333333</td>\n",
        "    </tr>\n",
        "    <tr>\n",
        "      <th>John Smith</th>\n",
        "      <td> 50.000000</td>\n",
        "      <td> 50</td>\n",
        "      <td>  0</td>\n",
        "      <td>  0.000000</td>\n",
        "    </tr>\n",
        "    <tr>\n",
        "      <th>Wendy Yule</th>\n",
        "      <td> 50.000000</td>\n",
        "      <td> 25</td>\n",
        "      <td> 25</td>\n",
        "      <td>  0.000000</td>\n",
        "    </tr>\n",
        "  </tbody>\n",
        "</table>\n",
        "</div>"
       ],
       "metadata": {},
       "output_type": "pyout",
       "prompt_number": 15,
       "text": [
        "Product              CPU  Maintenance  Monitor   Software\n",
        "Rep                                                      \n",
        "Cedric Moss    50.000000           25        0  25.000000\n",
        "Craig Booker   50.000000           25        0  25.000000\n",
        "Daniel Hilton  66.666667            0        0  33.333333\n",
        "John Smith     50.000000           50        0   0.000000\n",
        "Wendy Yule     50.000000           25       25   0.000000"
       ]
      }
     ],
     "prompt_number": 15
    },
    {
     "cell_type": "markdown",
     "metadata": {},
     "source": [
      "<a id='perc_columns'></a>"
     ]
    },
    {
     "cell_type": "markdown",
     "metadata": {},
     "source": [
      "#### Percent of columns"
     ]
    },
    {
     "cell_type": "markdown",
     "metadata": {},
     "source": [
      "[[back to top](#top)]"
     ]
    },
    {
     "cell_type": "code",
     "collapsed": false,
     "input": [
      "perc_of_columns = by_rep.apply(lambda x : x / x.sum() * 100, axis=0) \n",
      "perc_of_columns"
     ],
     "language": "python",
     "metadata": {},
     "outputs": [
      {
       "html": [
        "<div style=\"max-height:1000px;max-width:1500px;overflow:auto;\">\n",
        "<table border=\"1\" class=\"dataframe\">\n",
        "  <thead>\n",
        "    <tr style=\"text-align: right;\">\n",
        "      <th>Product</th>\n",
        "      <th>CPU</th>\n",
        "      <th>Maintenance</th>\n",
        "      <th>Monitor</th>\n",
        "      <th>Software</th>\n",
        "    </tr>\n",
        "    <tr>\n",
        "      <th>Rep</th>\n",
        "      <th></th>\n",
        "      <th></th>\n",
        "      <th></th>\n",
        "      <th></th>\n",
        "    </tr>\n",
        "  </thead>\n",
        "  <tbody>\n",
        "    <tr>\n",
        "      <th>Cedric Moss</th>\n",
        "      <td> 22.222222</td>\n",
        "      <td> 25</td>\n",
        "      <td>   0</td>\n",
        "      <td> 33.333333</td>\n",
        "    </tr>\n",
        "    <tr>\n",
        "      <th>Craig Booker</th>\n",
        "      <td> 22.222222</td>\n",
        "      <td> 25</td>\n",
        "      <td>   0</td>\n",
        "      <td> 33.333333</td>\n",
        "    </tr>\n",
        "    <tr>\n",
        "      <th>Daniel Hilton</th>\n",
        "      <td> 22.222222</td>\n",
        "      <td>  0</td>\n",
        "      <td>   0</td>\n",
        "      <td> 33.333333</td>\n",
        "    </tr>\n",
        "    <tr>\n",
        "      <th>John Smith</th>\n",
        "      <td> 11.111111</td>\n",
        "      <td> 25</td>\n",
        "      <td>   0</td>\n",
        "      <td>  0.000000</td>\n",
        "    </tr>\n",
        "    <tr>\n",
        "      <th>Wendy Yule</th>\n",
        "      <td> 22.222222</td>\n",
        "      <td> 25</td>\n",
        "      <td> 100</td>\n",
        "      <td>  0.000000</td>\n",
        "    </tr>\n",
        "  </tbody>\n",
        "</table>\n",
        "</div>"
       ],
       "metadata": {},
       "output_type": "pyout",
       "prompt_number": 16,
       "text": [
        "Product              CPU  Maintenance  Monitor   Software\n",
        "Rep                                                      \n",
        "Cedric Moss    22.222222           25        0  33.333333\n",
        "Craig Booker   22.222222           25        0  33.333333\n",
        "Daniel Hilton  22.222222            0        0  33.333333\n",
        "John Smith     11.111111           25        0   0.000000\n",
        "Wendy Yule     22.222222           25      100   0.000000"
       ]
      }
     ],
     "prompt_number": 16
    },
    {
     "cell_type": "markdown",
     "metadata": {},
     "source": [
      "<a id='index2column'></a>"
     ]
    },
    {
     "cell_type": "markdown",
     "metadata": {},
     "source": [
      "<a id='transpose'></a>"
     ]
    },
    {
     "cell_type": "markdown",
     "metadata": {},
     "source": [
      "## Transpose a dataframe"
     ]
    },
    {
     "cell_type": "markdown",
     "metadata": {},
     "source": [
      "[[back to top](#top)]"
     ]
    },
    {
     "cell_type": "markdown",
     "metadata": {},
     "source": [
      "Let's say you have a dataframe with several columns and having a hard time scrolling to see them.  Transpose it!"
     ]
    },
    {
     "cell_type": "code",
     "collapsed": false,
     "input": [
      "import pandas as pd\n",
      "\n",
      "df = pd.DataFrame({'key1' : ['a', 'a', 'b', 'b', 'a'],\n",
      "                   'key2' : ['one', 'two', 'one', 'two', 'one'],\n",
      "                   'data1' : np.random.randn(5),\n",
      "                   'data2' : np.random.randn(5)})\n",
      "df"
     ],
     "language": "python",
     "metadata": {},
     "outputs": [
      {
       "html": [
        "<div style=\"max-height:1000px;max-width:1500px;overflow:auto;\">\n",
        "<table border=\"1\" class=\"dataframe\">\n",
        "  <thead>\n",
        "    <tr style=\"text-align: right;\">\n",
        "      <th></th>\n",
        "      <th>data1</th>\n",
        "      <th>data2</th>\n",
        "      <th>key1</th>\n",
        "      <th>key2</th>\n",
        "    </tr>\n",
        "  </thead>\n",
        "  <tbody>\n",
        "    <tr>\n",
        "      <th>0</th>\n",
        "      <td>-0.548420</td>\n",
        "      <td> 0.381045</td>\n",
        "      <td> a</td>\n",
        "      <td> one</td>\n",
        "    </tr>\n",
        "    <tr>\n",
        "      <th>1</th>\n",
        "      <td>-0.327573</td>\n",
        "      <td> 0.273854</td>\n",
        "      <td> a</td>\n",
        "      <td> two</td>\n",
        "    </tr>\n",
        "    <tr>\n",
        "      <th>2</th>\n",
        "      <td>-1.356345</td>\n",
        "      <td>-0.045686</td>\n",
        "      <td> b</td>\n",
        "      <td> one</td>\n",
        "    </tr>\n",
        "    <tr>\n",
        "      <th>3</th>\n",
        "      <td>-0.476385</td>\n",
        "      <td> 1.075987</td>\n",
        "      <td> b</td>\n",
        "      <td> two</td>\n",
        "    </tr>\n",
        "    <tr>\n",
        "      <th>4</th>\n",
        "      <td>-0.923575</td>\n",
        "      <td>-0.973773</td>\n",
        "      <td> a</td>\n",
        "      <td> one</td>\n",
        "    </tr>\n",
        "  </tbody>\n",
        "</table>\n",
        "</div>"
       ],
       "metadata": {},
       "output_type": "pyout",
       "prompt_number": 2,
       "text": [
        "      data1     data2 key1 key2\n",
        "0 -0.548420  0.381045    a  one\n",
        "1 -0.327573  0.273854    a  two\n",
        "2 -1.356345 -0.045686    b  one\n",
        "3 -0.476385  1.075987    b  two\n",
        "4 -0.923575 -0.973773    a  one"
       ]
      }
     ],
     "prompt_number": 2
    },
    {
     "cell_type": "code",
     "collapsed": false,
     "input": [
      "df.head(1).transpose()"
     ],
     "language": "python",
     "metadata": {},
     "outputs": [
      {
       "html": [
        "<div style=\"max-height:1000px;max-width:1500px;overflow:auto;\">\n",
        "<table border=\"1\" class=\"dataframe\">\n",
        "  <thead>\n",
        "    <tr style=\"text-align: right;\">\n",
        "      <th></th>\n",
        "      <th>0</th>\n",
        "    </tr>\n",
        "  </thead>\n",
        "  <tbody>\n",
        "    <tr>\n",
        "      <th>data1</th>\n",
        "      <td>-0.5484204</td>\n",
        "    </tr>\n",
        "    <tr>\n",
        "      <th>data2</th>\n",
        "      <td> 0.3810447</td>\n",
        "    </tr>\n",
        "    <tr>\n",
        "      <th>key1</th>\n",
        "      <td>         a</td>\n",
        "    </tr>\n",
        "    <tr>\n",
        "      <th>key2</th>\n",
        "      <td>       one</td>\n",
        "    </tr>\n",
        "  </tbody>\n",
        "</table>\n",
        "</div>"
       ],
       "metadata": {},
       "output_type": "pyout",
       "prompt_number": 3,
       "text": [
        "               0\n",
        "data1 -0.5484204\n",
        "data2  0.3810447\n",
        "key1           a\n",
        "key2         one"
       ]
      }
     ],
     "prompt_number": 3
    },
    {
     "cell_type": "markdown",
     "metadata": {},
     "source": [
      "You can also do df.dtypes to accomplish similar output, but it's nice to see actual data along with the columns."
     ]
    },
    {
     "cell_type": "code",
     "collapsed": false,
     "input": [
      "df.dtypes"
     ],
     "language": "python",
     "metadata": {},
     "outputs": [
      {
       "metadata": {},
       "output_type": "pyout",
       "prompt_number": 4,
       "text": [
        "data1    float64\n",
        "data2    float64\n",
        "key1      object\n",
        "key2      object\n",
        "dtype: object"
       ]
      }
     ],
     "prompt_number": 4
    },
    {
     "cell_type": "markdown",
     "metadata": {},
     "source": [
      "## Converting a dataframe index to a column"
     ]
    },
    {
     "cell_type": "markdown",
     "metadata": {},
     "source": [
      "[[back to top](#top)]"
     ]
    },
    {
     "cell_type": "code",
     "collapsed": false,
     "input": [
      "import pandas as pd\n",
      "data = pd.DataFrame({'group': ['a', 'a', 'a', 'b','b', 'b', 'c', 'c','c'],\n",
      "                 'ounces': [4, 3, 12, 6, 7.5, 8, 3, 5, 6]})\n",
      "data"
     ],
     "language": "python",
     "metadata": {},
     "outputs": [
      {
       "html": [
        "<div style=\"max-height:1000px;max-width:1500px;overflow:auto;\">\n",
        "<table border=\"1\" class=\"dataframe\">\n",
        "  <thead>\n",
        "    <tr style=\"text-align: right;\">\n",
        "      <th></th>\n",
        "      <th>group</th>\n",
        "      <th>ounces</th>\n",
        "    </tr>\n",
        "  </thead>\n",
        "  <tbody>\n",
        "    <tr>\n",
        "      <th>0</th>\n",
        "      <td> a</td>\n",
        "      <td>  4.0</td>\n",
        "    </tr>\n",
        "    <tr>\n",
        "      <th>1</th>\n",
        "      <td> a</td>\n",
        "      <td>  3.0</td>\n",
        "    </tr>\n",
        "    <tr>\n",
        "      <th>2</th>\n",
        "      <td> a</td>\n",
        "      <td> 12.0</td>\n",
        "    </tr>\n",
        "    <tr>\n",
        "      <th>3</th>\n",
        "      <td> b</td>\n",
        "      <td>  6.0</td>\n",
        "    </tr>\n",
        "    <tr>\n",
        "      <th>4</th>\n",
        "      <td> b</td>\n",
        "      <td>  7.5</td>\n",
        "    </tr>\n",
        "    <tr>\n",
        "      <th>5</th>\n",
        "      <td> b</td>\n",
        "      <td>  8.0</td>\n",
        "    </tr>\n",
        "    <tr>\n",
        "      <th>6</th>\n",
        "      <td> c</td>\n",
        "      <td>  3.0</td>\n",
        "    </tr>\n",
        "    <tr>\n",
        "      <th>7</th>\n",
        "      <td> c</td>\n",
        "      <td>  5.0</td>\n",
        "    </tr>\n",
        "    <tr>\n",
        "      <th>8</th>\n",
        "      <td> c</td>\n",
        "      <td>  6.0</td>\n",
        "    </tr>\n",
        "  </tbody>\n",
        "</table>\n",
        "</div>"
       ],
       "metadata": {},
       "output_type": "pyout",
       "prompt_number": 49,
       "text": [
        "  group  ounces\n",
        "0     a     4.0\n",
        "1     a     3.0\n",
        "2     a    12.0\n",
        "3     b     6.0\n",
        "4     b     7.5\n",
        "5     b     8.0\n",
        "6     c     3.0\n",
        "7     c     5.0\n",
        "8     c     6.0"
       ]
      }
     ],
     "prompt_number": 49
    },
    {
     "cell_type": "code",
     "collapsed": false,
     "input": [
      "data.reset_index(level=0, inplace=True)\n",
      "data"
     ],
     "language": "python",
     "metadata": {},
     "outputs": [
      {
       "html": [
        "<div style=\"max-height:1000px;max-width:1500px;overflow:auto;\">\n",
        "<table border=\"1\" class=\"dataframe\">\n",
        "  <thead>\n",
        "    <tr style=\"text-align: right;\">\n",
        "      <th></th>\n",
        "      <th>index</th>\n",
        "      <th>group</th>\n",
        "      <th>ounces</th>\n",
        "    </tr>\n",
        "  </thead>\n",
        "  <tbody>\n",
        "    <tr>\n",
        "      <th>0</th>\n",
        "      <td> 0</td>\n",
        "      <td> a</td>\n",
        "      <td>  4.0</td>\n",
        "    </tr>\n",
        "    <tr>\n",
        "      <th>1</th>\n",
        "      <td> 1</td>\n",
        "      <td> a</td>\n",
        "      <td>  3.0</td>\n",
        "    </tr>\n",
        "    <tr>\n",
        "      <th>2</th>\n",
        "      <td> 2</td>\n",
        "      <td> a</td>\n",
        "      <td> 12.0</td>\n",
        "    </tr>\n",
        "    <tr>\n",
        "      <th>3</th>\n",
        "      <td> 3</td>\n",
        "      <td> b</td>\n",
        "      <td>  6.0</td>\n",
        "    </tr>\n",
        "    <tr>\n",
        "      <th>4</th>\n",
        "      <td> 4</td>\n",
        "      <td> b</td>\n",
        "      <td>  7.5</td>\n",
        "    </tr>\n",
        "    <tr>\n",
        "      <th>5</th>\n",
        "      <td> 5</td>\n",
        "      <td> b</td>\n",
        "      <td>  8.0</td>\n",
        "    </tr>\n",
        "    <tr>\n",
        "      <th>6</th>\n",
        "      <td> 6</td>\n",
        "      <td> c</td>\n",
        "      <td>  3.0</td>\n",
        "    </tr>\n",
        "    <tr>\n",
        "      <th>7</th>\n",
        "      <td> 7</td>\n",
        "      <td> c</td>\n",
        "      <td>  5.0</td>\n",
        "    </tr>\n",
        "    <tr>\n",
        "      <th>8</th>\n",
        "      <td> 8</td>\n",
        "      <td> c</td>\n",
        "      <td>  6.0</td>\n",
        "    </tr>\n",
        "  </tbody>\n",
        "</table>\n",
        "</div>"
       ],
       "metadata": {},
       "output_type": "pyout",
       "prompt_number": 50,
       "text": [
        "   index group  ounces\n",
        "0      0     a     4.0\n",
        "1      1     a     3.0\n",
        "2      2     a    12.0\n",
        "3      3     b     6.0\n",
        "4      4     b     7.5\n",
        "5      5     b     8.0\n",
        "6      6     c     3.0\n",
        "7      7     c     5.0\n",
        "8      8     c     6.0"
       ]
      }
     ],
     "prompt_number": 50
    },
    {
     "cell_type": "markdown",
     "metadata": {},
     "source": [
      "<a id='missing_dates'></a>"
     ]
    },
    {
     "cell_type": "markdown",
     "metadata": {},
     "source": [
      "## How to add or fill in missing dates"
     ]
    },
    {
     "cell_type": "markdown",
     "metadata": {},
     "source": [
      "[[back to top]](#top)"
     ]
    },
    {
     "cell_type": "code",
     "collapsed": false,
     "input": [
      "import pandas as pd\n",
      "\n",
      "idx = pd.date_range('09-01-2013', '09-30-2013')\n",
      "\n",
      "s = pd.Series({'09-02-2013': 2,\n",
      "               '09-03-2013': 10,\n",
      "               '09-06-2013': 5,\n",
      "               '09-07-2013': 1})\n",
      "s"
     ],
     "language": "python",
     "metadata": {},
     "outputs": [
      {
       "metadata": {},
       "output_type": "pyout",
       "prompt_number": 61,
       "text": [
        "09-02-2013     2\n",
        "09-03-2013    10\n",
        "09-06-2013     5\n",
        "09-07-2013     1\n",
        "dtype: int64"
       ]
      }
     ],
     "prompt_number": 61
    },
    {
     "cell_type": "markdown",
     "metadata": {},
     "source": [
      "#### From above, we have holes in our data.  Let's fill in those missing holes using the idx date_range we specified above."
     ]
    },
    {
     "cell_type": "code",
     "collapsed": false,
     "input": [
      "s.index = pd.DatetimeIndex(s.index)\n",
      "\n",
      "s = s.reindex(idx, fill_value=0)\n",
      "s"
     ],
     "language": "python",
     "metadata": {},
     "outputs": [
      {
       "metadata": {},
       "output_type": "pyout",
       "prompt_number": 63,
       "text": [
        "2013-09-01     0\n",
        "2013-09-02     2\n",
        "2013-09-03    10\n",
        "2013-09-04     0\n",
        "2013-09-05     0\n",
        "2013-09-06     5\n",
        "2013-09-07     1\n",
        "2013-09-08     0\n",
        "2013-09-09     0\n",
        "2013-09-10     0\n",
        "2013-09-11     0\n",
        "2013-09-12     0\n",
        "2013-09-13     0\n",
        "2013-09-14     0\n",
        "2013-09-15     0\n",
        "2013-09-16     0\n",
        "2013-09-17     0\n",
        "2013-09-18     0\n",
        "2013-09-19     0\n",
        "2013-09-20     0\n",
        "2013-09-21     0\n",
        "2013-09-22     0\n",
        "2013-09-23     0\n",
        "2013-09-24     0\n",
        "2013-09-25     0\n",
        "2013-09-26     0\n",
        "2013-09-27     0\n",
        "2013-09-28     0\n",
        "2013-09-29     0\n",
        "2013-09-30     0\n",
        "Freq: D, dtype: int64"
       ]
      }
     ],
     "prompt_number": 63
    },
    {
     "cell_type": "markdown",
     "metadata": {},
     "source": [
      "<a id='database'></a>"
     ]
    },
    {
     "cell_type": "markdown",
     "metadata": {},
     "source": [
      "## How to connect and query against a database registered as an ODBC data source (Windows)"
     ]
    },
    {
     "cell_type": "markdown",
     "metadata": {},
     "source": [
      "[[back to top]](#top)"
     ]
    },
    {
     "cell_type": "code",
     "collapsed": false,
     "input": [
      "import pyodbc                  # If using PostgreSQL, MySQL, SQLite, Redshift, MS SQL Server, or Oracle, use db.py instead\n",
      "import pandas as pd\n",
      "from getpass import getpass    # Module that will create a text input widget AND mask your password\n",
      "\n",
      "userid = 'your_userid'\n",
      "pw = getpass(prompt='Enter your password: ')\n",
      "\n",
      "cnxn_string = 'DSN=your_dsn;UID=' + userid + ';PWD=' + pw\n",
      "\n",
      "cnxn = pyodbc.connect(cnxn_string)\n",
      "cursor = cnxn.cursor()\n",
      "\n",
      "sql = \"\"\"\n",
      "SELECT * from your_table...\n",
      "\"\"\"\n",
      "\n",
      "df = pd.read_sql(sql, cnxn, index_col=None, parse_dates={'some_column':\"%Y-%m-%d\"})\n",
      "\n",
      "# Close connections\n",
      "cursor.close()\n",
      "cnxn.close()"
     ],
     "language": "python",
     "metadata": {},
     "outputs": []
    },
    {
     "cell_type": "markdown",
     "metadata": {},
     "source": [
      "### Also check out Yhat's [db.py](https://github.com/yhat/db.py).  Currently, doesn't support IBM DB2.  So I'm stuck with pyodbc for now."
     ]
    },
    {
     "cell_type": "markdown",
     "metadata": {},
     "source": [
      "<a id='melt'></a>"
     ]
    },
    {
     "cell_type": "markdown",
     "metadata": {},
     "source": [
      "## How to convert data in wide format to long format using pd.melt()"
     ]
    },
    {
     "cell_type": "markdown",
     "metadata": {},
     "source": [
      "[[back to top](#top)]"
     ]
    },
    {
     "cell_type": "markdown",
     "metadata": {},
     "source": [
      "When using ggplot to plot data where you have multiple data sets you want to plot, you need to convert data in wide format to long format."
     ]
    },
    {
     "cell_type": "code",
     "collapsed": false,
     "input": [
      "import pandas.io.data as web\n",
      "from datetime import datetime\n",
      "import pandas as pd\n",
      "\n",
      "stocks = {'tech':['GOOGL', 'MSFT', 'LNKD', 'YHOO', 'FB','HPQ','AMZN'],\n",
      "          'auto':['TM','F','GM','HMC','NSANY','HYMTF'],\n",
      "          'housing':['HD','WMT','LOW']\n",
      "          }\n",
      "\n",
      "start_date = datetime(2014,1,1)\n",
      "end_date = datetime(2014, 11, 30)\n",
      "\n",
      "def get_px(stock, start, end):\n",
      "    return web.get_data_yahoo(stock, start, end)['Adj Close']\n",
      "\n",
      "df = pd.DataFrame({n: get_px(n, start_date, end_date) for n in stocks['tech']})"
     ],
     "language": "python",
     "metadata": {},
     "outputs": [],
     "prompt_number": 14
    },
    {
     "cell_type": "markdown",
     "metadata": {},
     "source": [
      "### Below is what data looks like in 'wide' format:"
     ]
    },
    {
     "cell_type": "code",
     "collapsed": false,
     "input": [
      "df.head(10)"
     ],
     "language": "python",
     "metadata": {},
     "outputs": [
      {
       "html": [
        "<div style=\"max-height:1000px;max-width:1500px;overflow:auto;\">\n",
        "<table border=\"1\" class=\"dataframe\">\n",
        "  <thead>\n",
        "    <tr style=\"text-align: right;\">\n",
        "      <th></th>\n",
        "      <th>AMZN</th>\n",
        "      <th>FB</th>\n",
        "      <th>GOOGL</th>\n",
        "      <th>HPQ</th>\n",
        "      <th>LNKD</th>\n",
        "      <th>MSFT</th>\n",
        "      <th>YHOO</th>\n",
        "    </tr>\n",
        "    <tr>\n",
        "      <th>Date</th>\n",
        "      <th></th>\n",
        "      <th></th>\n",
        "      <th></th>\n",
        "      <th></th>\n",
        "      <th></th>\n",
        "      <th></th>\n",
        "      <th></th>\n",
        "    </tr>\n",
        "  </thead>\n",
        "  <tbody>\n",
        "    <tr>\n",
        "      <th>2014-01-02</th>\n",
        "      <td> 397.97</td>\n",
        "      <td> 54.71</td>\n",
        "      <td> 557.12</td>\n",
        "      <td> 27.17</td>\n",
        "      <td> 207.64</td>\n",
        "      <td> 35.91</td>\n",
        "      <td> 39.59</td>\n",
        "    </tr>\n",
        "    <tr>\n",
        "      <th>2014-01-03</th>\n",
        "      <td> 396.44</td>\n",
        "      <td> 54.56</td>\n",
        "      <td> 553.05</td>\n",
        "      <td> 27.84</td>\n",
        "      <td> 207.42</td>\n",
        "      <td> 35.67</td>\n",
        "      <td> 40.12</td>\n",
        "    </tr>\n",
        "    <tr>\n",
        "      <th>2014-01-06</th>\n",
        "      <td> 393.63</td>\n",
        "      <td> 57.20</td>\n",
        "      <td> 559.22</td>\n",
        "      <td> 27.79</td>\n",
        "      <td> 203.92</td>\n",
        "      <td> 34.92</td>\n",
        "      <td> 39.93</td>\n",
        "    </tr>\n",
        "    <tr>\n",
        "      <th>2014-01-07</th>\n",
        "      <td> 398.03</td>\n",
        "      <td> 57.92</td>\n",
        "      <td> 570.00</td>\n",
        "      <td> 27.68</td>\n",
        "      <td> 209.64</td>\n",
        "      <td> 35.19</td>\n",
        "      <td> 40.92</td>\n",
        "    </tr>\n",
        "    <tr>\n",
        "      <th>2014-01-08</th>\n",
        "      <td> 401.92</td>\n",
        "      <td> 58.23</td>\n",
        "      <td> 571.19</td>\n",
        "      <td> 26.96</td>\n",
        "      <td> 209.06</td>\n",
        "      <td> 34.56</td>\n",
        "      <td> 41.02</td>\n",
        "    </tr>\n",
        "    <tr>\n",
        "      <th>2014-01-09</th>\n",
        "      <td> 401.01</td>\n",
        "      <td> 57.22</td>\n",
        "      <td> 565.69</td>\n",
        "      <td> 27.12</td>\n",
        "      <td> 215.25</td>\n",
        "      <td> 34.34</td>\n",
        "      <td> 40.92</td>\n",
        "    </tr>\n",
        "    <tr>\n",
        "      <th>2014-01-10</th>\n",
        "      <td> 397.66</td>\n",
        "      <td> 57.94</td>\n",
        "      <td> 565.66</td>\n",
        "      <td> 27.21</td>\n",
        "      <td> 218.75</td>\n",
        "      <td> 34.83</td>\n",
        "      <td> 41.23</td>\n",
        "    </tr>\n",
        "    <tr>\n",
        "      <th>2014-01-13</th>\n",
        "      <td> 390.98</td>\n",
        "      <td> 55.91</td>\n",
        "      <td> 562.05</td>\n",
        "      <td> 27.62</td>\n",
        "      <td> 213.54</td>\n",
        "      <td> 33.81</td>\n",
        "      <td> 39.99</td>\n",
        "    </tr>\n",
        "    <tr>\n",
        "      <th>2014-01-14</th>\n",
        "      <td> 397.54</td>\n",
        "      <td> 57.74</td>\n",
        "      <td> 575.28</td>\n",
        "      <td> 28.34</td>\n",
        "      <td> 216.22</td>\n",
        "      <td> 34.58</td>\n",
        "      <td> 41.14</td>\n",
        "    </tr>\n",
        "    <tr>\n",
        "      <th>2014-01-15</th>\n",
        "      <td> 395.87</td>\n",
        "      <td> 57.60</td>\n",
        "      <td> 574.88</td>\n",
        "      <td> 28.33</td>\n",
        "      <td> 216.00</td>\n",
        "      <td> 35.53</td>\n",
        "      <td> 41.07</td>\n",
        "    </tr>\n",
        "  </tbody>\n",
        "</table>\n",
        "</div>"
       ],
       "metadata": {},
       "output_type": "pyout",
       "prompt_number": 15,
       "text": [
        "              AMZN     FB   GOOGL    HPQ    LNKD   MSFT   YHOO\n",
        "Date                                                          \n",
        "2014-01-02  397.97  54.71  557.12  27.17  207.64  35.91  39.59\n",
        "2014-01-03  396.44  54.56  553.05  27.84  207.42  35.67  40.12\n",
        "2014-01-06  393.63  57.20  559.22  27.79  203.92  34.92  39.93\n",
        "2014-01-07  398.03  57.92  570.00  27.68  209.64  35.19  40.92\n",
        "2014-01-08  401.92  58.23  571.19  26.96  209.06  34.56  41.02\n",
        "2014-01-09  401.01  57.22  565.69  27.12  215.25  34.34  40.92\n",
        "2014-01-10  397.66  57.94  565.66  27.21  218.75  34.83  41.23\n",
        "2014-01-13  390.98  55.91  562.05  27.62  213.54  33.81  39.99\n",
        "2014-01-14  397.54  57.74  575.28  28.34  216.22  34.58  41.14\n",
        "2014-01-15  395.87  57.60  574.88  28.33  216.00  35.53  41.07"
       ]
      }
     ],
     "prompt_number": 15
    },
    {
     "cell_type": "code",
     "collapsed": false,
     "input": [
      "# Creat a column from the index values\n",
      "df.reset_index(level=0, inplace=True)\n",
      "df.head(10)"
     ],
     "language": "python",
     "metadata": {},
     "outputs": [
      {
       "html": [
        "<div style=\"max-height:1000px;max-width:1500px;overflow:auto;\">\n",
        "<table border=\"1\" class=\"dataframe\">\n",
        "  <thead>\n",
        "    <tr style=\"text-align: right;\">\n",
        "      <th></th>\n",
        "      <th>Date</th>\n",
        "      <th>AMZN</th>\n",
        "      <th>FB</th>\n",
        "      <th>GOOGL</th>\n",
        "      <th>HPQ</th>\n",
        "      <th>LNKD</th>\n",
        "      <th>MSFT</th>\n",
        "      <th>YHOO</th>\n",
        "    </tr>\n",
        "  </thead>\n",
        "  <tbody>\n",
        "    <tr>\n",
        "      <th>0</th>\n",
        "      <td>2014-01-02</td>\n",
        "      <td> 397.97</td>\n",
        "      <td> 54.71</td>\n",
        "      <td> 557.12</td>\n",
        "      <td> 27.17</td>\n",
        "      <td> 207.64</td>\n",
        "      <td> 35.91</td>\n",
        "      <td> 39.59</td>\n",
        "    </tr>\n",
        "    <tr>\n",
        "      <th>1</th>\n",
        "      <td>2014-01-03</td>\n",
        "      <td> 396.44</td>\n",
        "      <td> 54.56</td>\n",
        "      <td> 553.05</td>\n",
        "      <td> 27.84</td>\n",
        "      <td> 207.42</td>\n",
        "      <td> 35.67</td>\n",
        "      <td> 40.12</td>\n",
        "    </tr>\n",
        "    <tr>\n",
        "      <th>2</th>\n",
        "      <td>2014-01-06</td>\n",
        "      <td> 393.63</td>\n",
        "      <td> 57.20</td>\n",
        "      <td> 559.22</td>\n",
        "      <td> 27.79</td>\n",
        "      <td> 203.92</td>\n",
        "      <td> 34.92</td>\n",
        "      <td> 39.93</td>\n",
        "    </tr>\n",
        "    <tr>\n",
        "      <th>3</th>\n",
        "      <td>2014-01-07</td>\n",
        "      <td> 398.03</td>\n",
        "      <td> 57.92</td>\n",
        "      <td> 570.00</td>\n",
        "      <td> 27.68</td>\n",
        "      <td> 209.64</td>\n",
        "      <td> 35.19</td>\n",
        "      <td> 40.92</td>\n",
        "    </tr>\n",
        "    <tr>\n",
        "      <th>4</th>\n",
        "      <td>2014-01-08</td>\n",
        "      <td> 401.92</td>\n",
        "      <td> 58.23</td>\n",
        "      <td> 571.19</td>\n",
        "      <td> 26.96</td>\n",
        "      <td> 209.06</td>\n",
        "      <td> 34.56</td>\n",
        "      <td> 41.02</td>\n",
        "    </tr>\n",
        "    <tr>\n",
        "      <th>5</th>\n",
        "      <td>2014-01-09</td>\n",
        "      <td> 401.01</td>\n",
        "      <td> 57.22</td>\n",
        "      <td> 565.69</td>\n",
        "      <td> 27.12</td>\n",
        "      <td> 215.25</td>\n",
        "      <td> 34.34</td>\n",
        "      <td> 40.92</td>\n",
        "    </tr>\n",
        "    <tr>\n",
        "      <th>6</th>\n",
        "      <td>2014-01-10</td>\n",
        "      <td> 397.66</td>\n",
        "      <td> 57.94</td>\n",
        "      <td> 565.66</td>\n",
        "      <td> 27.21</td>\n",
        "      <td> 218.75</td>\n",
        "      <td> 34.83</td>\n",
        "      <td> 41.23</td>\n",
        "    </tr>\n",
        "    <tr>\n",
        "      <th>7</th>\n",
        "      <td>2014-01-13</td>\n",
        "      <td> 390.98</td>\n",
        "      <td> 55.91</td>\n",
        "      <td> 562.05</td>\n",
        "      <td> 27.62</td>\n",
        "      <td> 213.54</td>\n",
        "      <td> 33.81</td>\n",
        "      <td> 39.99</td>\n",
        "    </tr>\n",
        "    <tr>\n",
        "      <th>8</th>\n",
        "      <td>2014-01-14</td>\n",
        "      <td> 397.54</td>\n",
        "      <td> 57.74</td>\n",
        "      <td> 575.28</td>\n",
        "      <td> 28.34</td>\n",
        "      <td> 216.22</td>\n",
        "      <td> 34.58</td>\n",
        "      <td> 41.14</td>\n",
        "    </tr>\n",
        "    <tr>\n",
        "      <th>9</th>\n",
        "      <td>2014-01-15</td>\n",
        "      <td> 395.87</td>\n",
        "      <td> 57.60</td>\n",
        "      <td> 574.88</td>\n",
        "      <td> 28.33</td>\n",
        "      <td> 216.00</td>\n",
        "      <td> 35.53</td>\n",
        "      <td> 41.07</td>\n",
        "    </tr>\n",
        "  </tbody>\n",
        "</table>\n",
        "</div>"
       ],
       "metadata": {},
       "output_type": "pyout",
       "prompt_number": 16,
       "text": [
        "        Date    AMZN     FB   GOOGL    HPQ    LNKD   MSFT   YHOO\n",
        "0 2014-01-02  397.97  54.71  557.12  27.17  207.64  35.91  39.59\n",
        "1 2014-01-03  396.44  54.56  553.05  27.84  207.42  35.67  40.12\n",
        "2 2014-01-06  393.63  57.20  559.22  27.79  203.92  34.92  39.93\n",
        "3 2014-01-07  398.03  57.92  570.00  27.68  209.64  35.19  40.92\n",
        "4 2014-01-08  401.92  58.23  571.19  26.96  209.06  34.56  41.02\n",
        "5 2014-01-09  401.01  57.22  565.69  27.12  215.25  34.34  40.92\n",
        "6 2014-01-10  397.66  57.94  565.66  27.21  218.75  34.83  41.23\n",
        "7 2014-01-13  390.98  55.91  562.05  27.62  213.54  33.81  39.99\n",
        "8 2014-01-14  397.54  57.74  575.28  28.34  216.22  34.58  41.14\n",
        "9 2014-01-15  395.87  57.60  574.88  28.33  216.00  35.53  41.07"
       ]
      }
     ],
     "prompt_number": 16
    },
    {
     "cell_type": "markdown",
     "metadata": {},
     "source": [
      "### This is what data looks like in 'long' format:"
     ]
    },
    {
     "cell_type": "code",
     "collapsed": false,
     "input": [
      "df_long = pd.melt(df, id_vars=['Date']).dropna()\n",
      "df_long.head()"
     ],
     "language": "python",
     "metadata": {},
     "outputs": [
      {
       "html": [
        "<div style=\"max-height:1000px;max-width:1500px;overflow:auto;\">\n",
        "<table border=\"1\" class=\"dataframe\">\n",
        "  <thead>\n",
        "    <tr style=\"text-align: right;\">\n",
        "      <th></th>\n",
        "      <th>Date</th>\n",
        "      <th>variable</th>\n",
        "      <th>value</th>\n",
        "    </tr>\n",
        "  </thead>\n",
        "  <tbody>\n",
        "    <tr>\n",
        "      <th>0</th>\n",
        "      <td>2014-01-02</td>\n",
        "      <td> AMZN</td>\n",
        "      <td> 397.97</td>\n",
        "    </tr>\n",
        "    <tr>\n",
        "      <th>1</th>\n",
        "      <td>2014-01-03</td>\n",
        "      <td> AMZN</td>\n",
        "      <td> 396.44</td>\n",
        "    </tr>\n",
        "    <tr>\n",
        "      <th>2</th>\n",
        "      <td>2014-01-06</td>\n",
        "      <td> AMZN</td>\n",
        "      <td> 393.63</td>\n",
        "    </tr>\n",
        "    <tr>\n",
        "      <th>3</th>\n",
        "      <td>2014-01-07</td>\n",
        "      <td> AMZN</td>\n",
        "      <td> 398.03</td>\n",
        "    </tr>\n",
        "    <tr>\n",
        "      <th>4</th>\n",
        "      <td>2014-01-08</td>\n",
        "      <td> AMZN</td>\n",
        "      <td> 401.92</td>\n",
        "    </tr>\n",
        "  </tbody>\n",
        "</table>\n",
        "</div>"
       ],
       "metadata": {},
       "output_type": "pyout",
       "prompt_number": 17,
       "text": [
        "        Date variable   value\n",
        "0 2014-01-02     AMZN  397.97\n",
        "1 2014-01-03     AMZN  396.44\n",
        "2 2014-01-06     AMZN  393.63\n",
        "3 2014-01-07     AMZN  398.03\n",
        "4 2014-01-08     AMZN  401.92"
       ]
      }
     ],
     "prompt_number": 17
    },
    {
     "cell_type": "code",
     "collapsed": false,
     "input": [
      "df_long.tail()"
     ],
     "language": "python",
     "metadata": {},
     "outputs": [
      {
       "html": [
        "<div style=\"max-height:1000px;max-width:1500px;overflow:auto;\">\n",
        "<table border=\"1\" class=\"dataframe\">\n",
        "  <thead>\n",
        "    <tr style=\"text-align: right;\">\n",
        "      <th></th>\n",
        "      <th>Date</th>\n",
        "      <th>variable</th>\n",
        "      <th>value</th>\n",
        "    </tr>\n",
        "  </thead>\n",
        "  <tbody>\n",
        "    <tr>\n",
        "      <th>1605</th>\n",
        "      <td>2014-11-21</td>\n",
        "      <td> YHOO</td>\n",
        "      <td> 51.04</td>\n",
        "    </tr>\n",
        "    <tr>\n",
        "      <th>1606</th>\n",
        "      <td>2014-11-24</td>\n",
        "      <td> YHOO</td>\n",
        "      <td> 51.83</td>\n",
        "    </tr>\n",
        "    <tr>\n",
        "      <th>1607</th>\n",
        "      <td>2014-11-25</td>\n",
        "      <td> YHOO</td>\n",
        "      <td> 51.72</td>\n",
        "    </tr>\n",
        "    <tr>\n",
        "      <th>1608</th>\n",
        "      <td>2014-11-26</td>\n",
        "      <td> YHOO</td>\n",
        "      <td> 51.93</td>\n",
        "    </tr>\n",
        "    <tr>\n",
        "      <th>1609</th>\n",
        "      <td>2014-11-28</td>\n",
        "      <td> YHOO</td>\n",
        "      <td> 51.74</td>\n",
        "    </tr>\n",
        "  </tbody>\n",
        "</table>\n",
        "</div>"
       ],
       "metadata": {},
       "output_type": "pyout",
       "prompt_number": 18,
       "text": [
        "           Date variable  value\n",
        "1605 2014-11-21     YHOO  51.04\n",
        "1606 2014-11-24     YHOO  51.83\n",
        "1607 2014-11-25     YHOO  51.72\n",
        "1608 2014-11-26     YHOO  51.93\n",
        "1609 2014-11-28     YHOO  51.74"
       ]
      }
     ],
     "prompt_number": 18
    },
    {
     "cell_type": "code",
     "collapsed": false,
     "input": [
      "df_long.rename(columns={'variable': 'Stock', 'value':'Price'},inplace=True)\n",
      "df_long.head(10)"
     ],
     "language": "python",
     "metadata": {},
     "outputs": [
      {
       "html": [
        "<div style=\"max-height:1000px;max-width:1500px;overflow:auto;\">\n",
        "<table border=\"1\" class=\"dataframe\">\n",
        "  <thead>\n",
        "    <tr style=\"text-align: right;\">\n",
        "      <th></th>\n",
        "      <th>Date</th>\n",
        "      <th>Stock</th>\n",
        "      <th>Price</th>\n",
        "    </tr>\n",
        "  </thead>\n",
        "  <tbody>\n",
        "    <tr>\n",
        "      <th>0</th>\n",
        "      <td>2014-01-02</td>\n",
        "      <td> AMZN</td>\n",
        "      <td> 397.97</td>\n",
        "    </tr>\n",
        "    <tr>\n",
        "      <th>1</th>\n",
        "      <td>2014-01-03</td>\n",
        "      <td> AMZN</td>\n",
        "      <td> 396.44</td>\n",
        "    </tr>\n",
        "    <tr>\n",
        "      <th>2</th>\n",
        "      <td>2014-01-06</td>\n",
        "      <td> AMZN</td>\n",
        "      <td> 393.63</td>\n",
        "    </tr>\n",
        "    <tr>\n",
        "      <th>3</th>\n",
        "      <td>2014-01-07</td>\n",
        "      <td> AMZN</td>\n",
        "      <td> 398.03</td>\n",
        "    </tr>\n",
        "    <tr>\n",
        "      <th>4</th>\n",
        "      <td>2014-01-08</td>\n",
        "      <td> AMZN</td>\n",
        "      <td> 401.92</td>\n",
        "    </tr>\n",
        "    <tr>\n",
        "      <th>5</th>\n",
        "      <td>2014-01-09</td>\n",
        "      <td> AMZN</td>\n",
        "      <td> 401.01</td>\n",
        "    </tr>\n",
        "    <tr>\n",
        "      <th>6</th>\n",
        "      <td>2014-01-10</td>\n",
        "      <td> AMZN</td>\n",
        "      <td> 397.66</td>\n",
        "    </tr>\n",
        "    <tr>\n",
        "      <th>7</th>\n",
        "      <td>2014-01-13</td>\n",
        "      <td> AMZN</td>\n",
        "      <td> 390.98</td>\n",
        "    </tr>\n",
        "    <tr>\n",
        "      <th>8</th>\n",
        "      <td>2014-01-14</td>\n",
        "      <td> AMZN</td>\n",
        "      <td> 397.54</td>\n",
        "    </tr>\n",
        "    <tr>\n",
        "      <th>9</th>\n",
        "      <td>2014-01-15</td>\n",
        "      <td> AMZN</td>\n",
        "      <td> 395.87</td>\n",
        "    </tr>\n",
        "  </tbody>\n",
        "</table>\n",
        "</div>"
       ],
       "metadata": {},
       "output_type": "pyout",
       "prompt_number": 19,
       "text": [
        "        Date Stock   Price\n",
        "0 2014-01-02  AMZN  397.97\n",
        "1 2014-01-03  AMZN  396.44\n",
        "2 2014-01-06  AMZN  393.63\n",
        "3 2014-01-07  AMZN  398.03\n",
        "4 2014-01-08  AMZN  401.92\n",
        "5 2014-01-09  AMZN  401.01\n",
        "6 2014-01-10  AMZN  397.66\n",
        "7 2014-01-13  AMZN  390.98\n",
        "8 2014-01-14  AMZN  397.54\n",
        "9 2014-01-15  AMZN  395.87"
       ]
      }
     ],
     "prompt_number": 19
    },
    {
     "cell_type": "markdown",
     "metadata": {},
     "source": [
      "#### Now we can plot the stock prices.  Since the data is in long format, we can take advantage of ggplot's color= parameter, which will magically make line charts with different colors for each stock.  If the data was in wide format, you would have had to manually specify all the different stocks to plot or use a loop construct."
     ]
    },
    {
     "cell_type": "markdown",
     "metadata": {},
     "source": [
      "[[back to top](#top)] [[back to section](#melt)]"
     ]
    },
    {
     "cell_type": "code",
     "collapsed": false,
     "input": [
      "%matplotlib inline\n",
      "import matplotlib.pyplot as plt\n",
      "from ggplot import *\n",
      "\n",
      "stock_plot = ggplot(df_long, aes(x='Date', y='Price', color='Stock')) + \\\n",
      "        geom_line() + \\\n",
      "        ylab('Price (US$)') + \\\n",
      "        ggtitle('Auto Stocks: Adj Close') + \\\n",
      "        scale_x_date(labels='%b %d %y',breaks=date_breaks('3 months') )\n",
      "    \n",
      "# Have to use MATPLOTLIB api to rotate x tick labels.  Hopefully some day, ggplot will implement a rotation option.\n",
      "fig = stock_plot.draw()\n",
      "ax = fig.gca()\n",
      "labels = ax.get_xticklabels() \n",
      "for label in labels: \n",
      "    label.set_rotation(270)\n",
      "plt.show()"
     ],
     "language": "python",
     "metadata": {},
     "outputs": [
      {
       "metadata": {},
       "output_type": "display_data",
       "png": "[encoded data removed]",
       "text": [
        "<matplotlib.figure.Figure at 0xab3e8dec>"
       ]
      }
     ],
     "prompt_number": 20
    },
    {
     "cell_type": "markdown",
     "metadata": {},
     "source": [
      "#### [ggplot](http://blog.yhathq.com/posts/ggplot-for-python.html) is AWESOME!"
     ]
    },
    {
     "cell_type": "markdown",
     "metadata": {},
     "source": [
      "<a id='pivot'></a>"
     ]
    },
    {
     "cell_type": "markdown",
     "metadata": {},
     "source": [
      "## How to convert data in long format to wide format using pd.pivot()"
     ]
    },
    {
     "cell_type": "markdown",
     "metadata": {},
     "source": [
      "[[back to top](#top)]"
     ]
    },
    {
     "cell_type": "code",
     "collapsed": false,
     "input": [
      "pivoted = df_long.pivot(index='Date', columns='Stock', values='Price')\n",
      "pivoted.head()"
     ],
     "language": "python",
     "metadata": {},
     "outputs": [
      {
       "html": [
        "<div style=\"max-height:1000px;max-width:1500px;overflow:auto;\">\n",
        "<table border=\"1\" class=\"dataframe\">\n",
        "  <thead>\n",
        "    <tr style=\"text-align: right;\">\n",
        "      <th>Stock</th>\n",
        "      <th>AMZN</th>\n",
        "      <th>FB</th>\n",
        "      <th>GOOGL</th>\n",
        "      <th>HPQ</th>\n",
        "      <th>LNKD</th>\n",
        "      <th>MSFT</th>\n",
        "      <th>YHOO</th>\n",
        "    </tr>\n",
        "    <tr>\n",
        "      <th>Date</th>\n",
        "      <th></th>\n",
        "      <th></th>\n",
        "      <th></th>\n",
        "      <th></th>\n",
        "      <th></th>\n",
        "      <th></th>\n",
        "      <th></th>\n",
        "    </tr>\n",
        "  </thead>\n",
        "  <tbody>\n",
        "    <tr>\n",
        "      <th>2014-01-02</th>\n",
        "      <td> 397.97</td>\n",
        "      <td> 54.71</td>\n",
        "      <td> 557.12</td>\n",
        "      <td> 27.17</td>\n",
        "      <td> 207.64</td>\n",
        "      <td> 35.91</td>\n",
        "      <td> 39.59</td>\n",
        "    </tr>\n",
        "    <tr>\n",
        "      <th>2014-01-03</th>\n",
        "      <td> 396.44</td>\n",
        "      <td> 54.56</td>\n",
        "      <td> 553.05</td>\n",
        "      <td> 27.84</td>\n",
        "      <td> 207.42</td>\n",
        "      <td> 35.67</td>\n",
        "      <td> 40.12</td>\n",
        "    </tr>\n",
        "    <tr>\n",
        "      <th>2014-01-06</th>\n",
        "      <td> 393.63</td>\n",
        "      <td> 57.20</td>\n",
        "      <td> 559.22</td>\n",
        "      <td> 27.79</td>\n",
        "      <td> 203.92</td>\n",
        "      <td> 34.92</td>\n",
        "      <td> 39.93</td>\n",
        "    </tr>\n",
        "    <tr>\n",
        "      <th>2014-01-07</th>\n",
        "      <td> 398.03</td>\n",
        "      <td> 57.92</td>\n",
        "      <td> 570.00</td>\n",
        "      <td> 27.68</td>\n",
        "      <td> 209.64</td>\n",
        "      <td> 35.19</td>\n",
        "      <td> 40.92</td>\n",
        "    </tr>\n",
        "    <tr>\n",
        "      <th>2014-01-08</th>\n",
        "      <td> 401.92</td>\n",
        "      <td> 58.23</td>\n",
        "      <td> 571.19</td>\n",
        "      <td> 26.96</td>\n",
        "      <td> 209.06</td>\n",
        "      <td> 34.56</td>\n",
        "      <td> 41.02</td>\n",
        "    </tr>\n",
        "  </tbody>\n",
        "</table>\n",
        "</div>"
       ],
       "metadata": {},
       "output_type": "pyout",
       "prompt_number": 21,
       "text": [
        "Stock         AMZN     FB   GOOGL    HPQ    LNKD   MSFT   YHOO\n",
        "Date                                                          \n",
        "2014-01-02  397.97  54.71  557.12  27.17  207.64  35.91  39.59\n",
        "2014-01-03  396.44  54.56  553.05  27.84  207.42  35.67  40.12\n",
        "2014-01-06  393.63  57.20  559.22  27.79  203.92  34.92  39.93\n",
        "2014-01-07  398.03  57.92  570.00  27.68  209.64  35.19  40.92\n",
        "2014-01-08  401.92  58.23  571.19  26.96  209.06  34.56  41.02"
       ]
      }
     ],
     "prompt_number": 21
    },
    {
     "cell_type": "markdown",
     "metadata": {},
     "source": [
      "<a id='category'></a>"
     ]
    },
    {
     "cell_type": "markdown",
     "metadata": {},
     "source": [
      "## Using category data type to control sort order"
     ]
    },
    {
     "cell_type": "markdown",
     "metadata": {},
     "source": [
      "[[back to top](#top)]"
     ]
    },
    {
     "cell_type": "code",
     "collapsed": false,
     "input": [
      "import pandas as pd\n",
      "data = pd.DataFrame({'medal': ['bronze', 'silver', 'silver', 'gold','bronze', 'bronze', 'gold', 'gold','gold'],\n",
      "                 'ounces': [4, 3, 12, 6, 7.5, 8, 3, 5, 6]})\n",
      "data"
     ],
     "language": "python",
     "metadata": {},
     "outputs": [
      {
       "html": [
        "<div style=\"max-height:1000px;max-width:1500px;overflow:auto;\">\n",
        "<table border=\"1\" class=\"dataframe\">\n",
        "  <thead>\n",
        "    <tr style=\"text-align: right;\">\n",
        "      <th></th>\n",
        "      <th>medal</th>\n",
        "      <th>ounces</th>\n",
        "    </tr>\n",
        "  </thead>\n",
        "  <tbody>\n",
        "    <tr>\n",
        "      <th>0</th>\n",
        "      <td> bronze</td>\n",
        "      <td>  4.0</td>\n",
        "    </tr>\n",
        "    <tr>\n",
        "      <th>1</th>\n",
        "      <td> silver</td>\n",
        "      <td>  3.0</td>\n",
        "    </tr>\n",
        "    <tr>\n",
        "      <th>2</th>\n",
        "      <td> silver</td>\n",
        "      <td> 12.0</td>\n",
        "    </tr>\n",
        "    <tr>\n",
        "      <th>3</th>\n",
        "      <td>   gold</td>\n",
        "      <td>  6.0</td>\n",
        "    </tr>\n",
        "    <tr>\n",
        "      <th>4</th>\n",
        "      <td> bronze</td>\n",
        "      <td>  7.5</td>\n",
        "    </tr>\n",
        "    <tr>\n",
        "      <th>5</th>\n",
        "      <td> bronze</td>\n",
        "      <td>  8.0</td>\n",
        "    </tr>\n",
        "    <tr>\n",
        "      <th>6</th>\n",
        "      <td>   gold</td>\n",
        "      <td>  3.0</td>\n",
        "    </tr>\n",
        "    <tr>\n",
        "      <th>7</th>\n",
        "      <td>   gold</td>\n",
        "      <td>  5.0</td>\n",
        "    </tr>\n",
        "    <tr>\n",
        "      <th>8</th>\n",
        "      <td>   gold</td>\n",
        "      <td>  6.0</td>\n",
        "    </tr>\n",
        "  </tbody>\n",
        "</table>\n",
        "</div>"
       ],
       "metadata": {},
       "output_type": "pyout",
       "prompt_number": 9,
       "text": [
        "    medal  ounces\n",
        "0  bronze     4.0\n",
        "1  silver     3.0\n",
        "2  silver    12.0\n",
        "3    gold     6.0\n",
        "4  bronze     7.5\n",
        "5  bronze     8.0\n",
        "6    gold     3.0\n",
        "7    gold     5.0\n",
        "8    gold     6.0"
       ]
      }
     ],
     "prompt_number": 9
    },
    {
     "cell_type": "code",
     "collapsed": false,
     "input": [
      "data[\"medal\"] = data[\"medal\"].astype(\"category\")\n",
      "data.dtypes"
     ],
     "language": "python",
     "metadata": {},
     "outputs": [
      {
       "metadata": {},
       "output_type": "pyout",
       "prompt_number": 10,
       "text": [
        "medal     category\n",
        "ounces     float64\n",
        "dtype: object"
       ]
      }
     ],
     "prompt_number": 10
    },
    {
     "cell_type": "code",
     "collapsed": false,
     "input": [
      "data.sort(columns=[\"medal\"])"
     ],
     "language": "python",
     "metadata": {},
     "outputs": [
      {
       "html": [
        "<div style=\"max-height:1000px;max-width:1500px;overflow:auto;\">\n",
        "<table border=\"1\" class=\"dataframe\">\n",
        "  <thead>\n",
        "    <tr style=\"text-align: right;\">\n",
        "      <th></th>\n",
        "      <th>medal</th>\n",
        "      <th>ounces</th>\n",
        "    </tr>\n",
        "  </thead>\n",
        "  <tbody>\n",
        "    <tr>\n",
        "      <th>0</th>\n",
        "      <td> bronze</td>\n",
        "      <td>  4.0</td>\n",
        "    </tr>\n",
        "    <tr>\n",
        "      <th>4</th>\n",
        "      <td> bronze</td>\n",
        "      <td>  7.5</td>\n",
        "    </tr>\n",
        "    <tr>\n",
        "      <th>5</th>\n",
        "      <td> bronze</td>\n",
        "      <td>  8.0</td>\n",
        "    </tr>\n",
        "    <tr>\n",
        "      <th>3</th>\n",
        "      <td>   gold</td>\n",
        "      <td>  6.0</td>\n",
        "    </tr>\n",
        "    <tr>\n",
        "      <th>6</th>\n",
        "      <td>   gold</td>\n",
        "      <td>  3.0</td>\n",
        "    </tr>\n",
        "    <tr>\n",
        "      <th>7</th>\n",
        "      <td>   gold</td>\n",
        "      <td>  5.0</td>\n",
        "    </tr>\n",
        "    <tr>\n",
        "      <th>8</th>\n",
        "      <td>   gold</td>\n",
        "      <td>  6.0</td>\n",
        "    </tr>\n",
        "    <tr>\n",
        "      <th>1</th>\n",
        "      <td> silver</td>\n",
        "      <td>  3.0</td>\n",
        "    </tr>\n",
        "    <tr>\n",
        "      <th>2</th>\n",
        "      <td> silver</td>\n",
        "      <td> 12.0</td>\n",
        "    </tr>\n",
        "  </tbody>\n",
        "</table>\n",
        "</div>"
       ],
       "metadata": {},
       "output_type": "pyout",
       "prompt_number": 11,
       "text": [
        "    medal  ounces\n",
        "0  bronze     4.0\n",
        "4  bronze     7.5\n",
        "5  bronze     8.0\n",
        "3    gold     6.0\n",
        "6    gold     3.0\n",
        "7    gold     5.0\n",
        "8    gold     6.0\n",
        "1  silver     3.0\n",
        "2  silver    12.0"
       ]
      }
     ],
     "prompt_number": 11
    },
    {
     "cell_type": "markdown",
     "metadata": {},
     "source": [
      "### Now define the order of the cetgorical data using set_categories()"
     ]
    },
    {
     "cell_type": "markdown",
     "metadata": {},
     "source": [
      "[[back to top](#top)] [[back to section](#category)]"
     ]
    },
    {
     "cell_type": "code",
     "collapsed": false,
     "input": [
      "data[\"medal\"].cat.set_categories([ \"gold\",\"silver\",\"bronze\"],inplace=True)"
     ],
     "language": "python",
     "metadata": {},
     "outputs": [],
     "prompt_number": 12
    },
    {
     "cell_type": "code",
     "collapsed": false,
     "input": [
      "data.sort(columns=[\"medal\"])"
     ],
     "language": "python",
     "metadata": {},
     "outputs": [
      {
       "html": [
        "<div style=\"max-height:1000px;max-width:1500px;overflow:auto;\">\n",
        "<table border=\"1\" class=\"dataframe\">\n",
        "  <thead>\n",
        "    <tr style=\"text-align: right;\">\n",
        "      <th></th>\n",
        "      <th>medal</th>\n",
        "      <th>ounces</th>\n",
        "    </tr>\n",
        "  </thead>\n",
        "  <tbody>\n",
        "    <tr>\n",
        "      <th>3</th>\n",
        "      <td>   gold</td>\n",
        "      <td>  6.0</td>\n",
        "    </tr>\n",
        "    <tr>\n",
        "      <th>6</th>\n",
        "      <td>   gold</td>\n",
        "      <td>  3.0</td>\n",
        "    </tr>\n",
        "    <tr>\n",
        "      <th>7</th>\n",
        "      <td>   gold</td>\n",
        "      <td>  5.0</td>\n",
        "    </tr>\n",
        "    <tr>\n",
        "      <th>8</th>\n",
        "      <td>   gold</td>\n",
        "      <td>  6.0</td>\n",
        "    </tr>\n",
        "    <tr>\n",
        "      <th>1</th>\n",
        "      <td> silver</td>\n",
        "      <td>  3.0</td>\n",
        "    </tr>\n",
        "    <tr>\n",
        "      <th>2</th>\n",
        "      <td> silver</td>\n",
        "      <td> 12.0</td>\n",
        "    </tr>\n",
        "    <tr>\n",
        "      <th>0</th>\n",
        "      <td> bronze</td>\n",
        "      <td>  4.0</td>\n",
        "    </tr>\n",
        "    <tr>\n",
        "      <th>4</th>\n",
        "      <td> bronze</td>\n",
        "      <td>  7.5</td>\n",
        "    </tr>\n",
        "    <tr>\n",
        "      <th>5</th>\n",
        "      <td> bronze</td>\n",
        "      <td>  8.0</td>\n",
        "    </tr>\n",
        "  </tbody>\n",
        "</table>\n",
        "</div>"
       ],
       "metadata": {},
       "output_type": "pyout",
       "prompt_number": 13,
       "text": [
        "    medal  ounces\n",
        "3    gold     6.0\n",
        "6    gold     3.0\n",
        "7    gold     5.0\n",
        "8    gold     6.0\n",
        "1  silver     3.0\n",
        "2  silver    12.0\n",
        "0  bronze     4.0\n",
        "4  bronze     7.5\n",
        "5  bronze     8.0"
       ]
      }
     ],
     "prompt_number": 13
    },
    {
     "cell_type": "markdown",
     "metadata": {},
     "source": [
      "<a id='merge'></a>"
     ]
    },
    {
     "cell_type": "markdown",
     "metadata": {},
     "source": [
      "### Merging 2 dataframes using merge()"
     ]
    },
    {
     "cell_type": "markdown",
     "metadata": {},
     "source": [
      "[[back to top](#top)]"
     ]
    },
    {
     "cell_type": "code",
     "collapsed": false,
     "input": [
      "import pandas as pd\n",
      "left = pd.DataFrame({'group': ['a', 'a', 'a', 'b','b', 'b', 'c', 'c','c'],\n",
      "                 'ounces': [4, 3, 12, 6, 7.5, 8, 3, 5, 6]})\n",
      "left"
     ],
     "language": "python",
     "metadata": {},
     "outputs": [
      {
       "html": [
        "<div style=\"max-height:1000px;max-width:1500px;overflow:auto;\">\n",
        "<table border=\"1\" class=\"dataframe\">\n",
        "  <thead>\n",
        "    <tr style=\"text-align: right;\">\n",
        "      <th></th>\n",
        "      <th>group</th>\n",
        "      <th>ounces</th>\n",
        "    </tr>\n",
        "  </thead>\n",
        "  <tbody>\n",
        "    <tr>\n",
        "      <th>0</th>\n",
        "      <td> a</td>\n",
        "      <td>  4.0</td>\n",
        "    </tr>\n",
        "    <tr>\n",
        "      <th>1</th>\n",
        "      <td> a</td>\n",
        "      <td>  3.0</td>\n",
        "    </tr>\n",
        "    <tr>\n",
        "      <th>2</th>\n",
        "      <td> a</td>\n",
        "      <td> 12.0</td>\n",
        "    </tr>\n",
        "    <tr>\n",
        "      <th>3</th>\n",
        "      <td> b</td>\n",
        "      <td>  6.0</td>\n",
        "    </tr>\n",
        "    <tr>\n",
        "      <th>4</th>\n",
        "      <td> b</td>\n",
        "      <td>  7.5</td>\n",
        "    </tr>\n",
        "    <tr>\n",
        "      <th>5</th>\n",
        "      <td> b</td>\n",
        "      <td>  8.0</td>\n",
        "    </tr>\n",
        "    <tr>\n",
        "      <th>6</th>\n",
        "      <td> c</td>\n",
        "      <td>  3.0</td>\n",
        "    </tr>\n",
        "    <tr>\n",
        "      <th>7</th>\n",
        "      <td> c</td>\n",
        "      <td>  5.0</td>\n",
        "    </tr>\n",
        "    <tr>\n",
        "      <th>8</th>\n",
        "      <td> c</td>\n",
        "      <td>  6.0</td>\n",
        "    </tr>\n",
        "  </tbody>\n",
        "</table>\n",
        "</div>"
       ],
       "metadata": {},
       "output_type": "pyout",
       "prompt_number": 72,
       "text": [
        "  group  ounces\n",
        "0     a     4.0\n",
        "1     a     3.0\n",
        "2     a    12.0\n",
        "3     b     6.0\n",
        "4     b     7.5\n",
        "5     b     8.0\n",
        "6     c     3.0\n",
        "7     c     5.0\n",
        "8     c     6.0"
       ]
      }
     ],
     "prompt_number": 72
    },
    {
     "cell_type": "code",
     "collapsed": false,
     "input": [
      "right = pd.DataFrame({'label': ['a','b','c'],\n",
      "                     'value': ['alpha','beta','charlie']})\n",
      "right"
     ],
     "language": "python",
     "metadata": {},
     "outputs": [
      {
       "html": [
        "<div style=\"max-height:1000px;max-width:1500px;overflow:auto;\">\n",
        "<table border=\"1\" class=\"dataframe\">\n",
        "  <thead>\n",
        "    <tr style=\"text-align: right;\">\n",
        "      <th></th>\n",
        "      <th>label</th>\n",
        "      <th>value</th>\n",
        "    </tr>\n",
        "  </thead>\n",
        "  <tbody>\n",
        "    <tr>\n",
        "      <th>0</th>\n",
        "      <td> a</td>\n",
        "      <td>   alpha</td>\n",
        "    </tr>\n",
        "    <tr>\n",
        "      <th>1</th>\n",
        "      <td> b</td>\n",
        "      <td>    beta</td>\n",
        "    </tr>\n",
        "    <tr>\n",
        "      <th>2</th>\n",
        "      <td> c</td>\n",
        "      <td> charlie</td>\n",
        "    </tr>\n",
        "  </tbody>\n",
        "</table>\n",
        "</div>"
       ],
       "metadata": {},
       "output_type": "pyout",
       "prompt_number": 76,
       "text": [
        "  label    value\n",
        "0     a    alpha\n",
        "1     b     beta\n",
        "2     c  charlie"
       ]
      }
     ],
     "prompt_number": 76
    },
    {
     "cell_type": "markdown",
     "metadata": {},
     "source": [
      "#### By default, merge() does an inner join, but you can specify 'left', 'right', or 'outer' joins"
     ]
    },
    {
     "cell_type": "code",
     "collapsed": false,
     "input": [
      "inner_joined = pd.merge(left, right, how='inner', left_on='group', right_on='label')\n",
      "inner_joined"
     ],
     "language": "python",
     "metadata": {},
     "outputs": [
      {
       "html": [
        "<div style=\"max-height:1000px;max-width:1500px;overflow:auto;\">\n",
        "<table border=\"1\" class=\"dataframe\">\n",
        "  <thead>\n",
        "    <tr style=\"text-align: right;\">\n",
        "      <th></th>\n",
        "      <th>group</th>\n",
        "      <th>ounces</th>\n",
        "      <th>label</th>\n",
        "      <th>value</th>\n",
        "    </tr>\n",
        "  </thead>\n",
        "  <tbody>\n",
        "    <tr>\n",
        "      <th>0</th>\n",
        "      <td> a</td>\n",
        "      <td>  4.0</td>\n",
        "      <td> a</td>\n",
        "      <td>   alpha</td>\n",
        "    </tr>\n",
        "    <tr>\n",
        "      <th>1</th>\n",
        "      <td> a</td>\n",
        "      <td>  3.0</td>\n",
        "      <td> a</td>\n",
        "      <td>   alpha</td>\n",
        "    </tr>\n",
        "    <tr>\n",
        "      <th>2</th>\n",
        "      <td> a</td>\n",
        "      <td> 12.0</td>\n",
        "      <td> a</td>\n",
        "      <td>   alpha</td>\n",
        "    </tr>\n",
        "    <tr>\n",
        "      <th>3</th>\n",
        "      <td> b</td>\n",
        "      <td>  6.0</td>\n",
        "      <td> b</td>\n",
        "      <td>    beta</td>\n",
        "    </tr>\n",
        "    <tr>\n",
        "      <th>4</th>\n",
        "      <td> b</td>\n",
        "      <td>  7.5</td>\n",
        "      <td> b</td>\n",
        "      <td>    beta</td>\n",
        "    </tr>\n",
        "    <tr>\n",
        "      <th>5</th>\n",
        "      <td> b</td>\n",
        "      <td>  8.0</td>\n",
        "      <td> b</td>\n",
        "      <td>    beta</td>\n",
        "    </tr>\n",
        "    <tr>\n",
        "      <th>6</th>\n",
        "      <td> c</td>\n",
        "      <td>  3.0</td>\n",
        "      <td> c</td>\n",
        "      <td> charlie</td>\n",
        "    </tr>\n",
        "    <tr>\n",
        "      <th>7</th>\n",
        "      <td> c</td>\n",
        "      <td>  5.0</td>\n",
        "      <td> c</td>\n",
        "      <td> charlie</td>\n",
        "    </tr>\n",
        "    <tr>\n",
        "      <th>8</th>\n",
        "      <td> c</td>\n",
        "      <td>  6.0</td>\n",
        "      <td> c</td>\n",
        "      <td> charlie</td>\n",
        "    </tr>\n",
        "  </tbody>\n",
        "</table>\n",
        "</div>"
       ],
       "metadata": {},
       "output_type": "pyout",
       "prompt_number": 85,
       "text": [
        "  group  ounces label    value\n",
        "0     a     4.0     a    alpha\n",
        "1     a     3.0     a    alpha\n",
        "2     a    12.0     a    alpha\n",
        "3     b     6.0     b     beta\n",
        "4     b     7.5     b     beta\n",
        "5     b     8.0     b     beta\n",
        "6     c     3.0     c  charlie\n",
        "7     c     5.0     c  charlie\n",
        "8     c     6.0     c  charlie"
       ]
      }
     ],
     "prompt_number": 85
    },
    {
     "cell_type": "markdown",
     "metadata": {},
     "source": [
      "<a id=\"missing\"></a>"
     ]
    },
    {
     "cell_type": "markdown",
     "metadata": {},
     "source": [
      "### Finding rows of a dataframe containing missing data"
     ]
    },
    {
     "cell_type": "markdown",
     "metadata": {},
     "source": [
      "[[back to top](#top)]"
     ]
    },
    {
     "cell_type": "code",
     "collapsed": false,
     "input": [
      "import numpy as np\n",
      "import pandas as pd\n",
      "df = pd.DataFrame([range(3), [0, np.NaN, 0], [0, 0, np.NaN], range(3), range(3)])\n",
      "df"
     ],
     "language": "python",
     "metadata": {},
     "outputs": [
      {
       "html": [
        "<div style=\"max-height:1000px;max-width:1500px;overflow:auto;\">\n",
        "<table border=\"1\" class=\"dataframe\">\n",
        "  <thead>\n",
        "    <tr style=\"text-align: right;\">\n",
        "      <th></th>\n",
        "      <th>0</th>\n",
        "      <th>1</th>\n",
        "      <th>2</th>\n",
        "    </tr>\n",
        "  </thead>\n",
        "  <tbody>\n",
        "    <tr>\n",
        "      <th>0</th>\n",
        "      <td> 0</td>\n",
        "      <td>  1</td>\n",
        "      <td>  2</td>\n",
        "    </tr>\n",
        "    <tr>\n",
        "      <th>1</th>\n",
        "      <td> 0</td>\n",
        "      <td>NaN</td>\n",
        "      <td>  0</td>\n",
        "    </tr>\n",
        "    <tr>\n",
        "      <th>2</th>\n",
        "      <td> 0</td>\n",
        "      <td>  0</td>\n",
        "      <td>NaN</td>\n",
        "    </tr>\n",
        "    <tr>\n",
        "      <th>3</th>\n",
        "      <td> 0</td>\n",
        "      <td>  1</td>\n",
        "      <td>  2</td>\n",
        "    </tr>\n",
        "    <tr>\n",
        "      <th>4</th>\n",
        "      <td> 0</td>\n",
        "      <td>  1</td>\n",
        "      <td>  2</td>\n",
        "    </tr>\n",
        "  </tbody>\n",
        "</table>\n",
        "</div>"
       ],
       "metadata": {},
       "output_type": "pyout",
       "prompt_number": 1,
       "text": [
        "   0   1   2\n",
        "0  0   1   2\n",
        "1  0 NaN   0\n",
        "2  0   0 NaN\n",
        "3  0   1   2\n",
        "4  0   1   2"
       ]
      }
     ],
     "prompt_number": 1
    },
    {
     "cell_type": "code",
     "collapsed": false,
     "input": [
      "df.isnull().any(axis=1)"
     ],
     "language": "python",
     "metadata": {},
     "outputs": [
      {
       "metadata": {},
       "output_type": "pyout",
       "prompt_number": 2,
       "text": [
        "0    False\n",
        "1     True\n",
        "2     True\n",
        "3    False\n",
        "4    False\n",
        "dtype: bool"
       ]
      }
     ],
     "prompt_number": 2
    },
    {
     "cell_type": "code",
     "collapsed": false,
     "input": [
      "df[df.isnull().any(axis=1)]"
     ],
     "language": "python",
     "metadata": {},
     "outputs": [
      {
       "html": [
        "<div style=\"max-height:1000px;max-width:1500px;overflow:auto;\">\n",
        "<table border=\"1\" class=\"dataframe\">\n",
        "  <thead>\n",
        "    <tr style=\"text-align: right;\">\n",
        "      <th></th>\n",
        "      <th>0</th>\n",
        "      <th>1</th>\n",
        "      <th>2</th>\n",
        "    </tr>\n",
        "  </thead>\n",
        "  <tbody>\n",
        "    <tr>\n",
        "      <th>1</th>\n",
        "      <td> 0</td>\n",
        "      <td>NaN</td>\n",
        "      <td>  0</td>\n",
        "    </tr>\n",
        "    <tr>\n",
        "      <th>2</th>\n",
        "      <td> 0</td>\n",
        "      <td>  0</td>\n",
        "      <td>NaN</td>\n",
        "    </tr>\n",
        "  </tbody>\n",
        "</table>\n",
        "</div>"
       ],
       "metadata": {},
       "output_type": "pyout",
       "prompt_number": 3,
       "text": [
        "   0   1   2\n",
        "1  0 NaN   0\n",
        "2  0   0 NaN"
       ]
      }
     ],
     "prompt_number": 3
    },
    {
     "cell_type": "markdown",
     "metadata": {},
     "source": [
      "<a id='convert_type'></a>"
     ]
    },
    {
     "cell_type": "markdown",
     "metadata": {},
     "source": [
      "### Converting a data type of a column in a dataframe"
     ]
    },
    {
     "cell_type": "markdown",
     "metadata": {},
     "source": [
      "[[back to top](#top)]"
     ]
    },
    {
     "cell_type": "code",
     "collapsed": false,
     "input": [
      "import pandas as pd\n",
      "\n",
      "a = [['a', '1.2', '4.2'], ['b', '70', '0.03'], ['x', '5', '0']]\n",
      "df = pd.DataFrame(a, columns=['one', 'two', 'three'])\n",
      "df"
     ],
     "language": "python",
     "metadata": {},
     "outputs": [
      {
       "html": [
        "<div style=\"max-height:1000px;max-width:1500px;overflow:auto;\">\n",
        "<table border=\"1\" class=\"dataframe\">\n",
        "  <thead>\n",
        "    <tr style=\"text-align: right;\">\n",
        "      <th></th>\n",
        "      <th>one</th>\n",
        "      <th>two</th>\n",
        "      <th>three</th>\n",
        "    </tr>\n",
        "  </thead>\n",
        "  <tbody>\n",
        "    <tr>\n",
        "      <th>0</th>\n",
        "      <td> a</td>\n",
        "      <td> 1.2</td>\n",
        "      <td>  4.2</td>\n",
        "    </tr>\n",
        "    <tr>\n",
        "      <th>1</th>\n",
        "      <td> b</td>\n",
        "      <td>  70</td>\n",
        "      <td> 0.03</td>\n",
        "    </tr>\n",
        "    <tr>\n",
        "      <th>2</th>\n",
        "      <td> x</td>\n",
        "      <td>   5</td>\n",
        "      <td>    0</td>\n",
        "    </tr>\n",
        "  </tbody>\n",
        "</table>\n",
        "</div>"
       ],
       "metadata": {},
       "output_type": "pyout",
       "prompt_number": 10,
       "text": [
        "  one  two three\n",
        "0   a  1.2   4.2\n",
        "1   b   70  0.03\n",
        "2   x    5     0"
       ]
      }
     ],
     "prompt_number": 10
    },
    {
     "cell_type": "code",
     "collapsed": false,
     "input": [
      "df.dtypes"
     ],
     "language": "python",
     "metadata": {},
     "outputs": [
      {
       "metadata": {},
       "output_type": "pyout",
       "prompt_number": 13,
       "text": [
        "one      object\n",
        "two      object\n",
        "three    object\n",
        "dtype: object"
       ]
      }
     ],
     "prompt_number": 13
    },
    {
     "cell_type": "code",
     "collapsed": false,
     "input": [
      "df[['two', 'three']] = df[['two', 'three']].astype(float)"
     ],
     "language": "python",
     "metadata": {},
     "outputs": [],
     "prompt_number": 14
    },
    {
     "cell_type": "code",
     "collapsed": false,
     "input": [
      "df.dtypes"
     ],
     "language": "python",
     "metadata": {},
     "outputs": [
      {
       "metadata": {},
       "output_type": "pyout",
       "prompt_number": 15,
       "text": [
        "one       object\n",
        "two      float64\n",
        "three    float64\n",
        "dtype: object"
       ]
      }
     ],
     "prompt_number": 15
    },
    {
     "cell_type": "markdown",
     "metadata": {},
     "source": [
      "<a id='rpy2'></a>"
     ]
    },
    {
     "cell_type": "markdown",
     "metadata": {},
     "source": [
      "### Sending Pandas dataframe to R using rpy2 IPython notebook extension"
     ]
    },
    {
     "cell_type": "markdown",
     "metadata": {},
     "source": [
      "[[back to top](#top)]"
     ]
    },
    {
     "cell_type": "markdown",
     "metadata": {},
     "source": [
      "Assuming you have [R](http://www.r-project.org/) and [rpy2](http://rpy.sourceforge.net/rpy2/doc-2.4/html/interactive.html#module-rpy2.ipython.rmagic) installed, we can send a Pandas dataframe to R using the rpy2 IPython extension to take advantage of R's various statistical and graphing packages.\n",
      "\n",
      "#### Simple example where I will pull Yen currency exchange rate data from the web and graph it using R's ggplot2 library:"
     ]
    },
    {
     "cell_type": "code",
     "collapsed": false,
     "input": [
      "# load the rpy2 extension\n",
      "%load_ext rpy2.ipython"
     ],
     "language": "python",
     "metadata": {},
     "outputs": [],
     "prompt_number": 1
    },
    {
     "cell_type": "markdown",
     "metadata": {},
     "source": [
      "#### Let's fetch the exchange rate data:"
     ]
    },
    {
     "cell_type": "code",
     "collapsed": false,
     "input": [
      "import pandas as pd\n",
      "\n",
      "df = pd.read_csv('http://research.stlouisfed.org/fred2/data/EXJPUS.txt', sep='  ', skiprows=28, engine='python',\n",
      "                 parse_dates=[0], header=None, names=['Month','Value'])"
     ],
     "language": "python",
     "metadata": {},
     "outputs": [],
     "prompt_number": 3
    },
    {
     "cell_type": "markdown",
     "metadata": {},
     "source": [
      "#### Sanity check on the data:"
     ]
    },
    {
     "cell_type": "code",
     "collapsed": false,
     "input": [
      "df.dtypes"
     ],
     "language": "python",
     "metadata": {},
     "outputs": [
      {
       "metadata": {},
       "output_type": "pyout",
       "prompt_number": 4,
       "text": [
        "Month    datetime64[ns]\n",
        "Value           float64\n",
        "dtype: object"
       ]
      }
     ],
     "prompt_number": 4
    },
    {
     "cell_type": "code",
     "collapsed": false,
     "input": [
      "df.tail()"
     ],
     "language": "python",
     "metadata": {},
     "outputs": [
      {
       "html": [
        "<div style=\"max-height:1000px;max-width:1500px;overflow:auto;\">\n",
        "<table border=\"1\" class=\"dataframe\">\n",
        "  <thead>\n",
        "    <tr style=\"text-align: right;\">\n",
        "      <th></th>\n",
        "      <th>Month</th>\n",
        "      <th>Value</th>\n",
        "    </tr>\n",
        "  </thead>\n",
        "  <tbody>\n",
        "    <tr>\n",
        "      <th>525</th>\n",
        "      <td>2014-10-01</td>\n",
        "      <td> 108.0264</td>\n",
        "    </tr>\n",
        "    <tr>\n",
        "      <th>526</th>\n",
        "      <td>2014-11-01</td>\n",
        "      <td> 116.2994</td>\n",
        "    </tr>\n",
        "    <tr>\n",
        "      <th>527</th>\n",
        "      <td>2014-12-01</td>\n",
        "      <td> 119.3233</td>\n",
        "    </tr>\n",
        "    <tr>\n",
        "      <th>528</th>\n",
        "      <td>2015-01-01</td>\n",
        "      <td> 118.2500</td>\n",
        "    </tr>\n",
        "    <tr>\n",
        "      <th>529</th>\n",
        "      <td>2015-02-01</td>\n",
        "      <td> 118.4770</td>\n",
        "    </tr>\n",
        "  </tbody>\n",
        "</table>\n",
        "</div>"
       ],
       "metadata": {},
       "output_type": "pyout",
       "prompt_number": 6,
       "text": [
        "         Month     Value\n",
        "525 2014-10-01  108.0264\n",
        "526 2014-11-01  116.2994\n",
        "527 2014-12-01  119.3233\n",
        "528 2015-01-01  118.2500\n",
        "529 2015-02-01  118.4770"
       ]
      }
     ],
     "prompt_number": 6
    },
    {
     "cell_type": "markdown",
     "metadata": {},
     "source": [
      "#### We'll use this one-liner %R magic command to send the Pandas dataframe to R as input using the \"-i\" flag.  See [here](http://rpy.sourceforge.net/rpy2/doc-2.4/html/interactive.html#module-rpy2.ipython.rmagic) for other flags."
     ]
    },
    {
     "cell_type": "code",
     "collapsed": false,
     "input": [
      "%R -i df"
     ],
     "language": "python",
     "metadata": {},
     "outputs": [],
     "prompt_number": 9
    },
    {
     "cell_type": "markdown",
     "metadata": {},
     "source": [
      "#### Next, we'll use %%R magic command which will make the entire code cell R executable:"
     ]
    },
    {
     "cell_type": "code",
     "collapsed": false,
     "input": [
      "%%R -w 800 -h 500 -u px # instead of px, you can also choose 'in', 'cm', or 'mm'\n",
      "df = as.data.frame(df)  # ensure dataframe that was passed in from Python will be R's dataframe type\n",
      "library(ggplot2)        # plotting library\n",
      "library(scales)         # enables us to change the x label time scale\n",
      "\n",
      "p = ggplot(df, aes(df$Month, df$Value))\n",
      "p = p + \n",
      "    geom_line() +\n",
      "    scale_x_datetime(labels=date_format(\"%Y-%m\"), breaks=\"5 years\", minor_breaks=\"1 year\") +\n",
      "    ggtitle(\"Yen to US Dollars\") +\n",
      "    xlab(\"Time\") +\n",
      "    ylab(\"Yen Value\")\n",
      "print(p)"
     ],
     "language": "python",
     "metadata": {},
     "outputs": [
      {
       "metadata": {},
       "output_type": "display_data",
       "png": "[encoded data removed]"
      }
     ],
     "prompt_number": 8
    },
    {
     "cell_type": "markdown",
     "metadata": {},
     "source": [
      "[[back to top](#top)]"
     ]
    }
   ],
   "metadata": {}
  }
 ]
}