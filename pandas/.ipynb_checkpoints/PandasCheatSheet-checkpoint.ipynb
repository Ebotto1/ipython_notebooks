{
 "metadata": {
  "name": "",
  "signature": "sha256:c8f7ec1759f12b35b4ad36041071d8a8b7eaadf411bdcea7b28344c05aedbb1e"
 },
 "nbformat": 3,
 "nbformat_minor": 0,
 "worksheets": [
  {
   "cells": [
    {
     "cell_type": "markdown",
     "metadata": {},
     "source": [
      "<a id=\"top\"></a>"
     ]
    },
    {
     "cell_type": "markdown",
     "metadata": {},
     "source": [
      "# <center>Python Pandas Cheat Sheet</center>"
     ]
    },
    {
     "cell_type": "markdown",
     "metadata": {},
     "source": [
      "- Sorting More Than One Columns\n",
      "- [Removing duplicates](#remove_duplicates)\n",
      "- [Creating a column based on values from another column](#map)\n",
      "- [Replacing values in a series](#replacing_values)\n",
      "- [Reading CSV or Excel files](http://pandas.pydata.org/pandas-docs/stable/io.html)\n",
      "- [Renaming axis](#renaming_axis)\n",
      "- [Renaming indexes or columns](#renaming_indexes_columns)\n",
      "- [Binning data into intervals](#binning)\n",
      "- [Grouping data](#group)\n",
      "- [Sub-selecting or Slicing a DataFrame](#slicing)\n",
      "- [Getting value counts](#value_counts)\n",
      "- [Pivot table](#pivot_table)\n",
      "- [Converting index to a column](#index2column)"
     ]
    },
    {
     "cell_type": "markdown",
     "metadata": {},
     "source": [
      "### Sorting More Than One Columns"
     ]
    },
    {
     "cell_type": "code",
     "collapsed": false,
     "input": [
      "import pandas as pd\n",
      "data = pd.DataFrame({'group': ['a', 'a', 'a', 'b','b', 'b', 'c', 'c','c'],\n",
      "                 'ounces': [4, 3, 12, 6, 7.5, 8, 3, 5, 6]})\n",
      "data"
     ],
     "language": "python",
     "metadata": {},
     "outputs": [
      {
       "html": [
        "<div style=\"max-height:1000px;max-width:1500px;overflow:auto;\">\n",
        "<table border=\"1\" class=\"dataframe\">\n",
        "  <thead>\n",
        "    <tr style=\"text-align: right;\">\n",
        "      <th></th>\n",
        "      <th>group</th>\n",
        "      <th>ounces</th>\n",
        "    </tr>\n",
        "  </thead>\n",
        "  <tbody>\n",
        "    <tr>\n",
        "      <th>0</th>\n",
        "      <td> a</td>\n",
        "      <td>  4.0</td>\n",
        "    </tr>\n",
        "    <tr>\n",
        "      <th>1</th>\n",
        "      <td> a</td>\n",
        "      <td>  3.0</td>\n",
        "    </tr>\n",
        "    <tr>\n",
        "      <th>2</th>\n",
        "      <td> a</td>\n",
        "      <td> 12.0</td>\n",
        "    </tr>\n",
        "    <tr>\n",
        "      <th>3</th>\n",
        "      <td> b</td>\n",
        "      <td>  6.0</td>\n",
        "    </tr>\n",
        "    <tr>\n",
        "      <th>4</th>\n",
        "      <td> b</td>\n",
        "      <td>  7.5</td>\n",
        "    </tr>\n",
        "    <tr>\n",
        "      <th>5</th>\n",
        "      <td> b</td>\n",
        "      <td>  8.0</td>\n",
        "    </tr>\n",
        "    <tr>\n",
        "      <th>6</th>\n",
        "      <td> c</td>\n",
        "      <td>  3.0</td>\n",
        "    </tr>\n",
        "    <tr>\n",
        "      <th>7</th>\n",
        "      <td> c</td>\n",
        "      <td>  5.0</td>\n",
        "    </tr>\n",
        "    <tr>\n",
        "      <th>8</th>\n",
        "      <td> c</td>\n",
        "      <td>  6.0</td>\n",
        "    </tr>\n",
        "  </tbody>\n",
        "</table>\n",
        "</div>"
       ],
       "metadata": {},
       "output_type": "pyout",
       "prompt_number": 8,
       "text": [
        "  group  ounces\n",
        "0     a     4.0\n",
        "1     a     3.0\n",
        "2     a    12.0\n",
        "3     b     6.0\n",
        "4     b     7.5\n",
        "5     b     8.0\n",
        "6     c     3.0\n",
        "7     c     5.0\n",
        "8     c     6.0"
       ]
      }
     ],
     "prompt_number": 8
    },
    {
     "cell_type": "markdown",
     "metadata": {},
     "source": [
      "**Just pass a list of columns you want to sort and pass corresponding list of True/False to the ascending parameter**"
     ]
    },
    {
     "cell_type": "code",
     "collapsed": false,
     "input": [
      "data.sort(columns=['group','ounces'], ascending=[False, True], inplace=True)\n",
      "data"
     ],
     "language": "python",
     "metadata": {},
     "outputs": [
      {
       "html": [
        "<div style=\"max-height:1000px;max-width:1500px;overflow:auto;\">\n",
        "<table border=\"1\" class=\"dataframe\">\n",
        "  <thead>\n",
        "    <tr style=\"text-align: right;\">\n",
        "      <th></th>\n",
        "      <th>group</th>\n",
        "      <th>ounces</th>\n",
        "    </tr>\n",
        "  </thead>\n",
        "  <tbody>\n",
        "    <tr>\n",
        "      <th>6</th>\n",
        "      <td> c</td>\n",
        "      <td>  3.0</td>\n",
        "    </tr>\n",
        "    <tr>\n",
        "      <th>7</th>\n",
        "      <td> c</td>\n",
        "      <td>  5.0</td>\n",
        "    </tr>\n",
        "    <tr>\n",
        "      <th>8</th>\n",
        "      <td> c</td>\n",
        "      <td>  6.0</td>\n",
        "    </tr>\n",
        "    <tr>\n",
        "      <th>3</th>\n",
        "      <td> b</td>\n",
        "      <td>  6.0</td>\n",
        "    </tr>\n",
        "    <tr>\n",
        "      <th>4</th>\n",
        "      <td> b</td>\n",
        "      <td>  7.5</td>\n",
        "    </tr>\n",
        "    <tr>\n",
        "      <th>5</th>\n",
        "      <td> b</td>\n",
        "      <td>  8.0</td>\n",
        "    </tr>\n",
        "    <tr>\n",
        "      <th>1</th>\n",
        "      <td> a</td>\n",
        "      <td>  3.0</td>\n",
        "    </tr>\n",
        "    <tr>\n",
        "      <th>0</th>\n",
        "      <td> a</td>\n",
        "      <td>  4.0</td>\n",
        "    </tr>\n",
        "    <tr>\n",
        "      <th>2</th>\n",
        "      <td> a</td>\n",
        "      <td> 12.0</td>\n",
        "    </tr>\n",
        "  </tbody>\n",
        "</table>\n",
        "</div>"
       ],
       "metadata": {},
       "output_type": "pyout",
       "prompt_number": 11,
       "text": [
        "  group  ounces\n",
        "6     c     3.0\n",
        "7     c     5.0\n",
        "8     c     6.0\n",
        "3     b     6.0\n",
        "4     b     7.5\n",
        "5     b     8.0\n",
        "1     a     3.0\n",
        "0     a     4.0\n",
        "2     a    12.0"
       ]
      }
     ],
     "prompt_number": 11
    },
    {
     "cell_type": "markdown",
     "metadata": {},
     "source": [
      "<a id='removing_duplicates'></a>"
     ]
    },
    {
     "cell_type": "markdown",
     "metadata": {},
     "source": [
      "### Removing duplicates"
     ]
    },
    {
     "cell_type": "markdown",
     "metadata": {},
     "source": [
      "[[back to top](#top)]"
     ]
    },
    {
     "cell_type": "code",
     "collapsed": false,
     "input": [
      "import pandas as pd\n",
      "data = pd.DataFrame({'k1': ['one'] * 3 + ['two'] * 4, 'k2': [3, 2, 1, 3, 3, 4, 4]})"
     ],
     "language": "python",
     "metadata": {},
     "outputs": [],
     "prompt_number": 9
    },
    {
     "cell_type": "code",
     "collapsed": false,
     "input": [
      "data.sort(columns='k2')\n",
      "data"
     ],
     "language": "python",
     "metadata": {},
     "outputs": [
      {
       "html": [
        "<div style=\"max-height:1000px;max-width:1500px;overflow:auto;\">\n",
        "<table border=\"1\" class=\"dataframe\">\n",
        "  <thead>\n",
        "    <tr style=\"text-align: right;\">\n",
        "      <th></th>\n",
        "      <th>k1</th>\n",
        "      <th>k2</th>\n",
        "    </tr>\n",
        "  </thead>\n",
        "  <tbody>\n",
        "    <tr>\n",
        "      <th>0</th>\n",
        "      <td> one</td>\n",
        "      <td> 3</td>\n",
        "    </tr>\n",
        "    <tr>\n",
        "      <th>1</th>\n",
        "      <td> one</td>\n",
        "      <td> 2</td>\n",
        "    </tr>\n",
        "    <tr>\n",
        "      <th>2</th>\n",
        "      <td> one</td>\n",
        "      <td> 1</td>\n",
        "    </tr>\n",
        "    <tr>\n",
        "      <th>3</th>\n",
        "      <td> two</td>\n",
        "      <td> 3</td>\n",
        "    </tr>\n",
        "    <tr>\n",
        "      <th>4</th>\n",
        "      <td> two</td>\n",
        "      <td> 3</td>\n",
        "    </tr>\n",
        "    <tr>\n",
        "      <th>5</th>\n",
        "      <td> two</td>\n",
        "      <td> 4</td>\n",
        "    </tr>\n",
        "    <tr>\n",
        "      <th>6</th>\n",
        "      <td> two</td>\n",
        "      <td> 4</td>\n",
        "    </tr>\n",
        "  </tbody>\n",
        "</table>\n",
        "<p>7 rows \u00d7 2 columns</p>\n",
        "</div>"
       ],
       "metadata": {},
       "output_type": "pyout",
       "prompt_number": 10,
       "text": [
        "    k1  k2\n",
        "0  one   3\n",
        "1  one   2\n",
        "2  one   1\n",
        "3  two   3\n",
        "4  two   3\n",
        "5  two   4\n",
        "6  two   4\n",
        "\n",
        "[7 rows x 2 columns]"
       ]
      }
     ],
     "prompt_number": 10
    },
    {
     "cell_type": "code",
     "collapsed": false,
     "input": [
      "data.drop_duplicates()  # by default, duplicate is defined by all columns"
     ],
     "language": "python",
     "metadata": {},
     "outputs": [
      {
       "html": [
        "<div style=\"max-height:1000px;max-width:1500px;overflow:auto;\">\n",
        "<table border=\"1\" class=\"dataframe\">\n",
        "  <thead>\n",
        "    <tr style=\"text-align: right;\">\n",
        "      <th></th>\n",
        "      <th>k1</th>\n",
        "      <th>k2</th>\n",
        "    </tr>\n",
        "  </thead>\n",
        "  <tbody>\n",
        "    <tr>\n",
        "      <th>2</th>\n",
        "      <td> one</td>\n",
        "      <td> 1</td>\n",
        "    </tr>\n",
        "    <tr>\n",
        "      <th>1</th>\n",
        "      <td> one</td>\n",
        "      <td> 2</td>\n",
        "    </tr>\n",
        "    <tr>\n",
        "      <th>0</th>\n",
        "      <td> one</td>\n",
        "      <td> 3</td>\n",
        "    </tr>\n",
        "    <tr>\n",
        "      <th>3</th>\n",
        "      <td> two</td>\n",
        "      <td> 3</td>\n",
        "    </tr>\n",
        "    <tr>\n",
        "      <th>5</th>\n",
        "      <td> two</td>\n",
        "      <td> 4</td>\n",
        "    </tr>\n",
        "  </tbody>\n",
        "</table>\n",
        "<p>5 rows \u00d7 2 columns</p>\n",
        "</div>"
       ],
       "metadata": {},
       "output_type": "pyout",
       "prompt_number": 60,
       "text": [
        "    k1  k2\n",
        "2  one   1\n",
        "1  one   2\n",
        "0  one   3\n",
        "3  two   3\n",
        "5  two   4\n",
        "\n",
        "[5 rows x 2 columns]"
       ]
      }
     ],
     "prompt_number": 60
    },
    {
     "cell_type": "markdown",
     "metadata": {},
     "source": [
      "### Define duplicates by column name(s):"
     ]
    },
    {
     "cell_type": "code",
     "collapsed": false,
     "input": [
      "data.drop_duplicates(cols='k1')  # duplicate in column k1 only"
     ],
     "language": "python",
     "metadata": {},
     "outputs": [
      {
       "html": [
        "<div style=\"max-height:1000px;max-width:1500px;overflow:auto;\">\n",
        "<table border=\"1\" class=\"dataframe\">\n",
        "  <thead>\n",
        "    <tr style=\"text-align: right;\">\n",
        "      <th></th>\n",
        "      <th>k1</th>\n",
        "      <th>k2</th>\n",
        "    </tr>\n",
        "  </thead>\n",
        "  <tbody>\n",
        "    <tr>\n",
        "      <th>2</th>\n",
        "      <td> one</td>\n",
        "      <td> 1</td>\n",
        "    </tr>\n",
        "    <tr>\n",
        "      <th>3</th>\n",
        "      <td> two</td>\n",
        "      <td> 3</td>\n",
        "    </tr>\n",
        "  </tbody>\n",
        "</table>\n",
        "<p>2 rows \u00d7 2 columns</p>\n",
        "</div>"
       ],
       "metadata": {},
       "output_type": "pyout",
       "prompt_number": 61,
       "text": [
        "    k1  k2\n",
        "2  one   1\n",
        "3  two   3\n",
        "\n",
        "[2 rows x 2 columns]"
       ]
      }
     ],
     "prompt_number": 61
    },
    {
     "cell_type": "markdown",
     "metadata": {},
     "source": [
      "<a id=\"map\"></a>"
     ]
    },
    {
     "cell_type": "markdown",
     "metadata": {},
     "source": [
      "### Creating a new column based on values from another column"
     ]
    },
    {
     "cell_type": "markdown",
     "metadata": {},
     "source": [
      "[[back to top](#top)]"
     ]
    },
    {
     "cell_type": "code",
     "collapsed": false,
     "input": [
      "import pandas as pd\n",
      "data = pd.DataFrame({'food': ['bacon', 'pulled pork', 'bacon', 'Pastrami','corned beef', 'Bacon', 'pastrami', 'honey ham','nova lox'],\n",
      "                 'ounces': [4, 3, 12, 6, 7.5, 8, 3, 5, 6]})\n",
      "data"
     ],
     "language": "python",
     "metadata": {},
     "outputs": [
      {
       "html": [
        "<div style=\"max-height:1000px;max-width:1500px;overflow:auto;\">\n",
        "<table border=\"1\" class=\"dataframe\">\n",
        "  <thead>\n",
        "    <tr style=\"text-align: right;\">\n",
        "      <th></th>\n",
        "      <th>food</th>\n",
        "      <th>ounces</th>\n",
        "    </tr>\n",
        "  </thead>\n",
        "  <tbody>\n",
        "    <tr>\n",
        "      <th>0</th>\n",
        "      <td>       bacon</td>\n",
        "      <td>  4.0</td>\n",
        "    </tr>\n",
        "    <tr>\n",
        "      <th>1</th>\n",
        "      <td> pulled pork</td>\n",
        "      <td>  3.0</td>\n",
        "    </tr>\n",
        "    <tr>\n",
        "      <th>2</th>\n",
        "      <td>       bacon</td>\n",
        "      <td> 12.0</td>\n",
        "    </tr>\n",
        "    <tr>\n",
        "      <th>3</th>\n",
        "      <td>    Pastrami</td>\n",
        "      <td>  6.0</td>\n",
        "    </tr>\n",
        "    <tr>\n",
        "      <th>4</th>\n",
        "      <td> corned beef</td>\n",
        "      <td>  7.5</td>\n",
        "    </tr>\n",
        "    <tr>\n",
        "      <th>5</th>\n",
        "      <td>       Bacon</td>\n",
        "      <td>  8.0</td>\n",
        "    </tr>\n",
        "    <tr>\n",
        "      <th>6</th>\n",
        "      <td>    pastrami</td>\n",
        "      <td>  3.0</td>\n",
        "    </tr>\n",
        "    <tr>\n",
        "      <th>7</th>\n",
        "      <td>   honey ham</td>\n",
        "      <td>  5.0</td>\n",
        "    </tr>\n",
        "    <tr>\n",
        "      <th>8</th>\n",
        "      <td>    nova lox</td>\n",
        "      <td>  6.0</td>\n",
        "    </tr>\n",
        "  </tbody>\n",
        "</table>\n",
        "<p>9 rows \u00d7 2 columns</p>\n",
        "</div>"
       ],
       "metadata": {},
       "output_type": "pyout",
       "prompt_number": 4,
       "text": [
        "          food  ounces\n",
        "0        bacon     4.0\n",
        "1  pulled pork     3.0\n",
        "2        bacon    12.0\n",
        "3     Pastrami     6.0\n",
        "4  corned beef     7.5\n",
        "5        Bacon     8.0\n",
        "6     pastrami     3.0\n",
        "7    honey ham     5.0\n",
        "8     nova lox     6.0\n",
        "\n",
        "[9 rows x 2 columns]"
       ]
      }
     ],
     "prompt_number": 4
    },
    {
     "cell_type": "markdown",
     "metadata": {},
     "source": [
      "### Suppose you wanted to add a column indicating the type of animal that each food came from. Let\u2019s write down a mapping of each distinct meat type to the kind of animal using a dictionary and a function:"
     ]
    },
    {
     "cell_type": "code",
     "collapsed": false,
     "input": [
      "meat_to_animal = {\n",
      "'bacon': 'pig',\n",
      "'pulled pork': 'pig',\n",
      "'pastrami': 'cow',\n",
      "'corned beef': 'cow',\n",
      "'honey ham': 'pig',\n",
      "'nova lox': 'salmon'\n",
      "}\n",
      "\n",
      "def meat2animal(series):\n",
      "    if series[\"food\"]=='bacon':\n",
      "        return 'pig'\n",
      "    elif series[\"food\"]=='pulled pork':\n",
      "        return 'pig'\n",
      "    elif series[\"food\"]=='pastrami':\n",
      "        return 'cow'\n",
      "    elif series[\"food\"]=='corned beef':\n",
      "        return 'cow'\n",
      "    elif series[\"food\"]=='honey ham':\n",
      "        return 'pig'\n",
      "    else:\n",
      "        return 'salmon'"
     ],
     "language": "python",
     "metadata": {},
     "outputs": [],
     "prompt_number": 5
    },
    {
     "cell_type": "code",
     "collapsed": false,
     "input": [
      "data['animal'] = data['food'].map(str.lower).map(meat_to_animal)\n",
      "data"
     ],
     "language": "python",
     "metadata": {},
     "outputs": [
      {
       "html": [
        "<div style=\"max-height:1000px;max-width:1500px;overflow:auto;\">\n",
        "<table border=\"1\" class=\"dataframe\">\n",
        "  <thead>\n",
        "    <tr style=\"text-align: right;\">\n",
        "      <th></th>\n",
        "      <th>food</th>\n",
        "      <th>ounces</th>\n",
        "      <th>animal</th>\n",
        "    </tr>\n",
        "  </thead>\n",
        "  <tbody>\n",
        "    <tr>\n",
        "      <th>0</th>\n",
        "      <td>       bacon</td>\n",
        "      <td>  4.0</td>\n",
        "      <td>    pig</td>\n",
        "    </tr>\n",
        "    <tr>\n",
        "      <th>1</th>\n",
        "      <td> pulled pork</td>\n",
        "      <td>  3.0</td>\n",
        "      <td>    pig</td>\n",
        "    </tr>\n",
        "    <tr>\n",
        "      <th>2</th>\n",
        "      <td>       bacon</td>\n",
        "      <td> 12.0</td>\n",
        "      <td>    pig</td>\n",
        "    </tr>\n",
        "    <tr>\n",
        "      <th>3</th>\n",
        "      <td>    Pastrami</td>\n",
        "      <td>  6.0</td>\n",
        "      <td>    cow</td>\n",
        "    </tr>\n",
        "    <tr>\n",
        "      <th>4</th>\n",
        "      <td> corned beef</td>\n",
        "      <td>  7.5</td>\n",
        "      <td>    cow</td>\n",
        "    </tr>\n",
        "    <tr>\n",
        "      <th>5</th>\n",
        "      <td>       Bacon</td>\n",
        "      <td>  8.0</td>\n",
        "      <td>    pig</td>\n",
        "    </tr>\n",
        "    <tr>\n",
        "      <th>6</th>\n",
        "      <td>    pastrami</td>\n",
        "      <td>  3.0</td>\n",
        "      <td>    cow</td>\n",
        "    </tr>\n",
        "    <tr>\n",
        "      <th>7</th>\n",
        "      <td>   honey ham</td>\n",
        "      <td>  5.0</td>\n",
        "      <td>    pig</td>\n",
        "    </tr>\n",
        "    <tr>\n",
        "      <th>8</th>\n",
        "      <td>    nova lox</td>\n",
        "      <td>  6.0</td>\n",
        "      <td> salmon</td>\n",
        "    </tr>\n",
        "  </tbody>\n",
        "</table>\n",
        "<p>9 rows \u00d7 3 columns</p>\n",
        "</div>"
       ],
       "metadata": {},
       "output_type": "pyout",
       "prompt_number": 6,
       "text": [
        "          food  ounces  animal\n",
        "0        bacon     4.0     pig\n",
        "1  pulled pork     3.0     pig\n",
        "2        bacon    12.0     pig\n",
        "3     Pastrami     6.0     cow\n",
        "4  corned beef     7.5     cow\n",
        "5        Bacon     8.0     pig\n",
        "6     pastrami     3.0     cow\n",
        "7    honey ham     5.0     pig\n",
        "8     nova lox     6.0  salmon\n",
        "\n",
        "[9 rows x 3 columns]"
       ]
      }
     ],
     "prompt_number": 6
    },
    {
     "cell_type": "markdown",
     "metadata": {},
     "source": [
      "#### Or we could use apply() and apply the meat2animal() function to the new column:"
     ]
    },
    {
     "cell_type": "code",
     "collapsed": false,
     "input": [
      "data['animal2'] = data.apply(meat2animal,axis=1)  # axis=1 means to apply the function down the column, not across the row\n",
      "data"
     ],
     "language": "python",
     "metadata": {},
     "outputs": [
      {
       "html": [
        "<div style=\"max-height:1000px;max-width:1500px;overflow:auto;\">\n",
        "<table border=\"1\" class=\"dataframe\">\n",
        "  <thead>\n",
        "    <tr style=\"text-align: right;\">\n",
        "      <th></th>\n",
        "      <th>food</th>\n",
        "      <th>ounces</th>\n",
        "      <th>animal</th>\n",
        "      <th>animal2</th>\n",
        "    </tr>\n",
        "  </thead>\n",
        "  <tbody>\n",
        "    <tr>\n",
        "      <th>0</th>\n",
        "      <td>       bacon</td>\n",
        "      <td>  4.0</td>\n",
        "      <td>    pig</td>\n",
        "      <td>    pig</td>\n",
        "    </tr>\n",
        "    <tr>\n",
        "      <th>1</th>\n",
        "      <td> pulled pork</td>\n",
        "      <td>  3.0</td>\n",
        "      <td>    pig</td>\n",
        "      <td>    pig</td>\n",
        "    </tr>\n",
        "    <tr>\n",
        "      <th>2</th>\n",
        "      <td>       bacon</td>\n",
        "      <td> 12.0</td>\n",
        "      <td>    pig</td>\n",
        "      <td>    pig</td>\n",
        "    </tr>\n",
        "    <tr>\n",
        "      <th>3</th>\n",
        "      <td>    Pastrami</td>\n",
        "      <td>  6.0</td>\n",
        "      <td>    cow</td>\n",
        "      <td> salmon</td>\n",
        "    </tr>\n",
        "    <tr>\n",
        "      <th>4</th>\n",
        "      <td> corned beef</td>\n",
        "      <td>  7.5</td>\n",
        "      <td>    cow</td>\n",
        "      <td>    cow</td>\n",
        "    </tr>\n",
        "    <tr>\n",
        "      <th>5</th>\n",
        "      <td>       Bacon</td>\n",
        "      <td>  8.0</td>\n",
        "      <td>    pig</td>\n",
        "      <td> salmon</td>\n",
        "    </tr>\n",
        "    <tr>\n",
        "      <th>6</th>\n",
        "      <td>    pastrami</td>\n",
        "      <td>  3.0</td>\n",
        "      <td>    cow</td>\n",
        "      <td>    cow</td>\n",
        "    </tr>\n",
        "    <tr>\n",
        "      <th>7</th>\n",
        "      <td>   honey ham</td>\n",
        "      <td>  5.0</td>\n",
        "      <td>    pig</td>\n",
        "      <td>    pig</td>\n",
        "    </tr>\n",
        "    <tr>\n",
        "      <th>8</th>\n",
        "      <td>    nova lox</td>\n",
        "      <td>  6.0</td>\n",
        "      <td> salmon</td>\n",
        "      <td> salmon</td>\n",
        "    </tr>\n",
        "  </tbody>\n",
        "</table>\n",
        "<p>9 rows \u00d7 4 columns</p>\n",
        "</div>"
       ],
       "metadata": {},
       "output_type": "pyout",
       "prompt_number": 7,
       "text": [
        "          food  ounces  animal animal2\n",
        "0        bacon     4.0     pig     pig\n",
        "1  pulled pork     3.0     pig     pig\n",
        "2        bacon    12.0     pig     pig\n",
        "3     Pastrami     6.0     cow  salmon\n",
        "4  corned beef     7.5     cow     cow\n",
        "5        Bacon     8.0     pig  salmon\n",
        "6     pastrami     3.0     cow     cow\n",
        "7    honey ham     5.0     pig     pig\n",
        "8     nova lox     6.0  salmon  salmon\n",
        "\n",
        "[9 rows x 4 columns]"
       ]
      }
     ],
     "prompt_number": 7
    },
    {
     "cell_type": "markdown",
     "metadata": {},
     "source": [
      "<a id=\"replacing_values\"></a>"
     ]
    },
    {
     "cell_type": "markdown",
     "metadata": {},
     "source": [
      "### Replacing Values in a Series"
     ]
    },
    {
     "cell_type": "markdown",
     "metadata": {},
     "source": [
      "[[back to top](#top)]"
     ]
    },
    {
     "cell_type": "code",
     "collapsed": false,
     "input": [
      "import pandas as pd\n",
      "data = pd.Series([1., -999., 2., -999., -1000., 3.])\n",
      "data"
     ],
     "language": "python",
     "metadata": {},
     "outputs": [
      {
       "metadata": {},
       "output_type": "pyout",
       "prompt_number": 30,
       "text": [
        "0       1\n",
        "1    -999\n",
        "2       2\n",
        "3    -999\n",
        "4   -1000\n",
        "5       3\n",
        "dtype: float64"
       ]
      }
     ],
     "prompt_number": 30
    },
    {
     "cell_type": "markdown",
     "metadata": {},
     "source": [
      "#### If you want to replace -999 with NaN:"
     ]
    },
    {
     "cell_type": "code",
     "collapsed": false,
     "input": [
      "data.replace(-999, np.nan, inplace=True)\n",
      "data"
     ],
     "language": "python",
     "metadata": {},
     "outputs": [
      {
       "metadata": {},
       "output_type": "pyout",
       "prompt_number": 32,
       "text": [
        "0       1\n",
        "1     NaN\n",
        "2       2\n",
        "3     NaN\n",
        "4   -1000\n",
        "5       3\n",
        "dtype: float64"
       ]
      }
     ],
     "prompt_number": 32
    },
    {
     "cell_type": "markdown",
     "metadata": {},
     "source": [
      "#### If you want to replace multiple values at once, you instead pass a list then the substitute value:"
     ]
    },
    {
     "cell_type": "code",
     "collapsed": false,
     "input": [
      "import pandas as pd\n",
      "data = pd.Series([1., -999., 2., -999., -1000., 3.])\n",
      "data"
     ],
     "language": "python",
     "metadata": {},
     "outputs": [
      {
       "metadata": {},
       "output_type": "pyout",
       "prompt_number": 35,
       "text": [
        "0       1\n",
        "1    -999\n",
        "2       2\n",
        "3    -999\n",
        "4   -1000\n",
        "5       3\n",
        "dtype: float64"
       ]
      }
     ],
     "prompt_number": 35
    },
    {
     "cell_type": "code",
     "collapsed": false,
     "input": [
      "data.replace([-999, -1000], np.nan, inplace=True)\n",
      "data"
     ],
     "language": "python",
     "metadata": {},
     "outputs": [
      {
       "metadata": {},
       "output_type": "pyout",
       "prompt_number": 37,
       "text": [
        "0     1\n",
        "1   NaN\n",
        "2     2\n",
        "3   NaN\n",
        "4   NaN\n",
        "5     3\n",
        "dtype: float64"
       ]
      }
     ],
     "prompt_number": 37
    },
    {
     "cell_type": "markdown",
     "metadata": {},
     "source": [
      "<a name=\"renaming_axis\"></a>\n",
      "<br>\n",
      "<br>"
     ]
    },
    {
     "cell_type": "markdown",
     "metadata": {},
     "source": [
      "### Renaming Axis Indexes"
     ]
    },
    {
     "cell_type": "markdown",
     "metadata": {},
     "source": [
      "[[back to top](#top)]"
     ]
    },
    {
     "cell_type": "code",
     "collapsed": false,
     "input": [
      "import pandas as pd\n",
      "data = pd.DataFrame(np.arange(12).reshape((3, 4)),index=['Ohio', 'Colorado', 'New York'],columns=['one', 'two', 'three', 'four'])\n",
      "data"
     ],
     "language": "python",
     "metadata": {},
     "outputs": [
      {
       "html": [
        "<div style=\"max-height:1000px;max-width:1500px;overflow:auto;\">\n",
        "<table border=\"1\" class=\"dataframe\">\n",
        "  <thead>\n",
        "    <tr style=\"text-align: right;\">\n",
        "      <th></th>\n",
        "      <th>one</th>\n",
        "      <th>two</th>\n",
        "      <th>three</th>\n",
        "      <th>four</th>\n",
        "    </tr>\n",
        "  </thead>\n",
        "  <tbody>\n",
        "    <tr>\n",
        "      <th>Ohio</th>\n",
        "      <td> 0</td>\n",
        "      <td> 1</td>\n",
        "      <td>  2</td>\n",
        "      <td>  3</td>\n",
        "    </tr>\n",
        "    <tr>\n",
        "      <th>Colorado</th>\n",
        "      <td> 4</td>\n",
        "      <td> 5</td>\n",
        "      <td>  6</td>\n",
        "      <td>  7</td>\n",
        "    </tr>\n",
        "    <tr>\n",
        "      <th>New York</th>\n",
        "      <td> 8</td>\n",
        "      <td> 9</td>\n",
        "      <td> 10</td>\n",
        "      <td> 11</td>\n",
        "    </tr>\n",
        "  </tbody>\n",
        "</table>\n",
        "<p>3 rows \u00d7 4 columns</p>\n",
        "</div>"
       ],
       "metadata": {},
       "output_type": "pyout",
       "prompt_number": 47,
       "text": [
        "          one  two  three  four\n",
        "Ohio        0    1      2     3\n",
        "Colorado    4    5      6     7\n",
        "New York    8    9     10    11\n",
        "\n",
        "[3 rows x 4 columns]"
       ]
      }
     ],
     "prompt_number": 47
    },
    {
     "cell_type": "code",
     "collapsed": false,
     "input": [
      "data.index.map(str.upper)"
     ],
     "language": "python",
     "metadata": {},
     "outputs": [
      {
       "metadata": {},
       "output_type": "pyout",
       "prompt_number": 48,
       "text": [
        "array(['OHIO', 'COLORADO', 'NEW YORK'], dtype=object)"
       ]
      }
     ],
     "prompt_number": 48
    },
    {
     "cell_type": "code",
     "collapsed": false,
     "input": [
      "data.index = data.index.map(str.upper)\n",
      "data"
     ],
     "language": "python",
     "metadata": {},
     "outputs": [
      {
       "html": [
        "<div style=\"max-height:1000px;max-width:1500px;overflow:auto;\">\n",
        "<table border=\"1\" class=\"dataframe\">\n",
        "  <thead>\n",
        "    <tr style=\"text-align: right;\">\n",
        "      <th></th>\n",
        "      <th>one</th>\n",
        "      <th>two</th>\n",
        "      <th>three</th>\n",
        "      <th>four</th>\n",
        "    </tr>\n",
        "  </thead>\n",
        "  <tbody>\n",
        "    <tr>\n",
        "      <th>OHIO</th>\n",
        "      <td> 0</td>\n",
        "      <td> 1</td>\n",
        "      <td>  2</td>\n",
        "      <td>  3</td>\n",
        "    </tr>\n",
        "    <tr>\n",
        "      <th>COLORADO</th>\n",
        "      <td> 4</td>\n",
        "      <td> 5</td>\n",
        "      <td>  6</td>\n",
        "      <td>  7</td>\n",
        "    </tr>\n",
        "    <tr>\n",
        "      <th>NEW YORK</th>\n",
        "      <td> 8</td>\n",
        "      <td> 9</td>\n",
        "      <td> 10</td>\n",
        "      <td> 11</td>\n",
        "    </tr>\n",
        "  </tbody>\n",
        "</table>\n",
        "<p>3 rows \u00d7 4 columns</p>\n",
        "</div>"
       ],
       "metadata": {},
       "output_type": "pyout",
       "prompt_number": 51,
       "text": [
        "          one  two  three  four\n",
        "OHIO        0    1      2     3\n",
        "COLORADO    4    5      6     7\n",
        "NEW YORK    8    9     10    11\n",
        "\n",
        "[3 rows x 4 columns]"
       ]
      }
     ],
     "prompt_number": 51
    },
    {
     "cell_type": "markdown",
     "metadata": {},
     "source": [
      "#### If you want to create a transformed version of a data set without modifying the original, a useful method is rename:"
     ]
    },
    {
     "cell_type": "code",
     "collapsed": false,
     "input": [
      "data.rename(index=str.title, columns=str.upper, inplace=True)\n",
      "data"
     ],
     "language": "python",
     "metadata": {},
     "outputs": [
      {
       "html": [
        "<div style=\"max-height:1000px;max-width:1500px;overflow:auto;\">\n",
        "<table border=\"1\" class=\"dataframe\">\n",
        "  <thead>\n",
        "    <tr style=\"text-align: right;\">\n",
        "      <th></th>\n",
        "      <th>ONE</th>\n",
        "      <th>TWO</th>\n",
        "      <th>THREE</th>\n",
        "      <th>FOUR</th>\n",
        "    </tr>\n",
        "  </thead>\n",
        "  <tbody>\n",
        "    <tr>\n",
        "      <th>Ohio</th>\n",
        "      <td> 0</td>\n",
        "      <td> 1</td>\n",
        "      <td>  2</td>\n",
        "      <td>  3</td>\n",
        "    </tr>\n",
        "    <tr>\n",
        "      <th>Colorado</th>\n",
        "      <td> 4</td>\n",
        "      <td> 5</td>\n",
        "      <td>  6</td>\n",
        "      <td>  7</td>\n",
        "    </tr>\n",
        "    <tr>\n",
        "      <th>New York</th>\n",
        "      <td> 8</td>\n",
        "      <td> 9</td>\n",
        "      <td> 10</td>\n",
        "      <td> 11</td>\n",
        "    </tr>\n",
        "  </tbody>\n",
        "</table>\n",
        "<p>3 rows \u00d7 4 columns</p>\n",
        "</div>"
       ],
       "metadata": {},
       "output_type": "pyout",
       "prompt_number": 65,
       "text": [
        "          ONE  TWO  THREE  FOUR\n",
        "Ohio        0    1      2     3\n",
        "Colorado    4    5      6     7\n",
        "New York    8    9     10    11\n",
        "\n",
        "[3 rows x 4 columns]"
       ]
      }
     ],
     "prompt_number": 65
    },
    {
     "cell_type": "markdown",
     "metadata": {},
     "source": [
      "<a id=\"renaming_indexes_columns\"></a>"
     ]
    },
    {
     "cell_type": "markdown",
     "metadata": {},
     "source": [
      "### Renaming Indexes or Columns"
     ]
    },
    {
     "cell_type": "markdown",
     "metadata": {},
     "source": [
      "[[back to top](#top)]"
     ]
    },
    {
     "cell_type": "markdown",
     "metadata": {},
     "source": [
      "#### <i>rename()</i> can be used in conjunction with a dict-like object providing new values for a subset of the axis labels:"
     ]
    },
    {
     "cell_type": "code",
     "collapsed": false,
     "input": [
      "import pandas as pd\n",
      "data = pd.DataFrame(np.arange(12).reshape((3, 4)),index=['Ohio', 'Colorado', 'New York'],columns=['one', 'two', 'three', 'four'])\n",
      "data"
     ],
     "language": "python",
     "metadata": {},
     "outputs": [
      {
       "html": [
        "<div style=\"max-height:1000px;max-width:1500px;overflow:auto;\">\n",
        "<table border=\"1\" class=\"dataframe\">\n",
        "  <thead>\n",
        "    <tr style=\"text-align: right;\">\n",
        "      <th></th>\n",
        "      <th>one</th>\n",
        "      <th>two</th>\n",
        "      <th>three</th>\n",
        "      <th>four</th>\n",
        "    </tr>\n",
        "  </thead>\n",
        "  <tbody>\n",
        "    <tr>\n",
        "      <th>Ohio</th>\n",
        "      <td> 0</td>\n",
        "      <td> 1</td>\n",
        "      <td>  2</td>\n",
        "      <td>  3</td>\n",
        "    </tr>\n",
        "    <tr>\n",
        "      <th>Colorado</th>\n",
        "      <td> 4</td>\n",
        "      <td> 5</td>\n",
        "      <td>  6</td>\n",
        "      <td>  7</td>\n",
        "    </tr>\n",
        "    <tr>\n",
        "      <th>New York</th>\n",
        "      <td> 8</td>\n",
        "      <td> 9</td>\n",
        "      <td> 10</td>\n",
        "      <td> 11</td>\n",
        "    </tr>\n",
        "  </tbody>\n",
        "</table>\n",
        "<p>3 rows \u00d7 4 columns</p>\n",
        "</div>"
       ],
       "metadata": {},
       "output_type": "pyout",
       "prompt_number": 67,
       "text": [
        "          one  two  three  four\n",
        "Ohio        0    1      2     3\n",
        "Colorado    4    5      6     7\n",
        "New York    8    9     10    11\n",
        "\n",
        "[3 rows x 4 columns]"
       ]
      }
     ],
     "prompt_number": 67
    },
    {
     "cell_type": "code",
     "collapsed": false,
     "input": [
      "data.rename(index={'Ohio': 'INDIANA'},columns={'three': 'peekaboo'},inplace=True)\n",
      "data"
     ],
     "language": "python",
     "metadata": {},
     "outputs": [
      {
       "html": [
        "<div style=\"max-height:1000px;max-width:1500px;overflow:auto;\">\n",
        "<table border=\"1\" class=\"dataframe\">\n",
        "  <thead>\n",
        "    <tr style=\"text-align: right;\">\n",
        "      <th></th>\n",
        "      <th>one</th>\n",
        "      <th>two</th>\n",
        "      <th>peekaboo</th>\n",
        "      <th>four</th>\n",
        "    </tr>\n",
        "  </thead>\n",
        "  <tbody>\n",
        "    <tr>\n",
        "      <th>INDIANA</th>\n",
        "      <td> 0</td>\n",
        "      <td> 1</td>\n",
        "      <td>  2</td>\n",
        "      <td>  3</td>\n",
        "    </tr>\n",
        "    <tr>\n",
        "      <th>Colorado</th>\n",
        "      <td> 4</td>\n",
        "      <td> 5</td>\n",
        "      <td>  6</td>\n",
        "      <td>  7</td>\n",
        "    </tr>\n",
        "    <tr>\n",
        "      <th>New York</th>\n",
        "      <td> 8</td>\n",
        "      <td> 9</td>\n",
        "      <td> 10</td>\n",
        "      <td> 11</td>\n",
        "    </tr>\n",
        "  </tbody>\n",
        "</table>\n",
        "<p>3 rows \u00d7 4 columns</p>\n",
        "</div>"
       ],
       "metadata": {},
       "output_type": "pyout",
       "prompt_number": 69,
       "text": [
        "          one  two  peekaboo  four\n",
        "INDIANA     0    1         2     3\n",
        "Colorado    4    5         6     7\n",
        "New York    8    9        10    11\n",
        "\n",
        "[3 rows x 4 columns]"
       ]
      }
     ],
     "prompt_number": 69
    },
    {
     "cell_type": "markdown",
     "metadata": {},
     "source": [
      "<a id=\"binning\"></a><br><br>"
     ]
    },
    {
     "cell_type": "markdown",
     "metadata": {},
     "source": [
      "### Binning Data Into Intervals"
     ]
    },
    {
     "cell_type": "markdown",
     "metadata": {},
     "source": [
      "[[back to top](#top)]"
     ]
    },
    {
     "cell_type": "code",
     "collapsed": false,
     "input": [
      "ages = [20, 22, 25, 27, 21, 23, 37, 31, 61, 45, 41, 32]"
     ],
     "language": "python",
     "metadata": {},
     "outputs": [],
     "prompt_number": 71
    },
    {
     "cell_type": "markdown",
     "metadata": {},
     "source": [
      "#### Let\u2019s divide these into bins of 18 to 25, 26 to 35, 35 to 60, and finally 60 and older. To do so, you have to use <i>cut()</i>, a function in pandas:"
     ]
    },
    {
     "cell_type": "code",
     "collapsed": false,
     "input": [
      "bins = [18, 25, 35, 60, 100]"
     ],
     "language": "python",
     "metadata": {},
     "outputs": [],
     "prompt_number": 73
    },
    {
     "cell_type": "code",
     "collapsed": false,
     "input": [
      "cats = pd.cut(ages, bins)\n",
      "cats"
     ],
     "language": "python",
     "metadata": {},
     "outputs": [
      {
       "metadata": {},
       "output_type": "pyout",
       "prompt_number": 75,
       "text": [
        "  (18, 25]\n",
        "  (18, 25]\n",
        "  (18, 25]\n",
        "  (25, 35]\n",
        "  (18, 25]\n",
        "  (18, 25]\n",
        "  (35, 60]\n",
        "  (25, 35]\n",
        " (60, 100]\n",
        "  (35, 60]\n",
        "  (35, 60]\n",
        "  (25, 35]\n",
        "Levels (4): Index(['(18, 25]', '(25, 35]', '(35, 60]', '(60, 100]'], dtype=object)"
       ]
      }
     ],
     "prompt_number": 75
    },
    {
     "cell_type": "code",
     "collapsed": false,
     "input": [
      "cats.labels"
     ],
     "language": "python",
     "metadata": {},
     "outputs": [
      {
       "metadata": {},
       "output_type": "pyout",
       "prompt_number": 77,
       "text": [
        "array([0, 0, 0, 1, 0, 0, 2, 1, 3, 2, 2, 1], dtype=int32)"
       ]
      }
     ],
     "prompt_number": 77
    },
    {
     "cell_type": "code",
     "collapsed": false,
     "input": [
      "cats.levels"
     ],
     "language": "python",
     "metadata": {},
     "outputs": [
      {
       "metadata": {},
       "output_type": "pyout",
       "prompt_number": 78,
       "text": [
        "Index(['(18, 25]', '(25, 35]', '(35, 60]', '(60, 100]'], dtype='object')"
       ]
      }
     ],
     "prompt_number": 78
    },
    {
     "cell_type": "code",
     "collapsed": false,
     "input": [
      "pd.value_counts(cats)"
     ],
     "language": "python",
     "metadata": {},
     "outputs": [
      {
       "metadata": {},
       "output_type": "pyout",
       "prompt_number": 79,
       "text": [
        "(18, 25]     5\n",
        "(35, 60]     3\n",
        "(25, 35]     3\n",
        "(60, 100]    1\n",
        "dtype: int64"
       ]
      }
     ],
     "prompt_number": 79
    },
    {
     "cell_type": "markdown",
     "metadata": {},
     "source": [
      "#### If you want the right value to be exclusive in the intervals:"
     ]
    },
    {
     "cell_type": "code",
     "collapsed": false,
     "input": [
      "pd.cut(ages, [18, 26, 36, 61, 100], right=False)"
     ],
     "language": "python",
     "metadata": {},
     "outputs": [
      {
       "metadata": {},
       "output_type": "pyout",
       "prompt_number": 80,
       "text": [
        "  [18, 26)\n",
        "  [18, 26)\n",
        "  [18, 26)\n",
        "  [26, 36)\n",
        "  [18, 26)\n",
        "  [18, 26)\n",
        "  [36, 61)\n",
        "  [26, 36)\n",
        " [61, 100)\n",
        "  [36, 61)\n",
        "  [36, 61)\n",
        "  [26, 36)\n",
        "Levels (4): Index(['[18, 26)', '[26, 36)', '[36, 61)', '[61, 100)'], dtype=object)"
       ]
      }
     ],
     "prompt_number": 80
    },
    {
     "cell_type": "markdown",
     "metadata": {},
     "source": [
      "#### You can also pass your own bin names by passing a list or array to the labels option:"
     ]
    },
    {
     "cell_type": "code",
     "collapsed": false,
     "input": [
      "group_names = ['Youth', 'YoungAdult', 'MiddleAged', 'Senior']\n",
      "pd.cut(ages, bins, labels=group_names)\n",
      "pd.value_counts(pd.cut(ages, bins, labels=group_names))"
     ],
     "language": "python",
     "metadata": {},
     "outputs": [
      {
       "metadata": {},
       "output_type": "pyout",
       "prompt_number": 83,
       "text": [
        "Youth         5\n",
        "YoungAdult    3\n",
        "MiddleAged    3\n",
        "Senior        1\n",
        "dtype: int64"
       ]
      }
     ],
     "prompt_number": 83
    },
    {
     "cell_type": "markdown",
     "metadata": {},
     "source": [
      "[[back to top](#top)]"
     ]
    },
    {
     "cell_type": "markdown",
     "metadata": {},
     "source": [
      "<a id=\"group\"></a>"
     ]
    },
    {
     "cell_type": "markdown",
     "metadata": {},
     "source": [
      "## Grouping Data"
     ]
    },
    {
     "cell_type": "markdown",
     "metadata": {},
     "source": [
      "[[back to top](#top)]"
     ]
    },
    {
     "cell_type": "code",
     "collapsed": false,
     "input": [
      "import pandas as pd\n",
      "\n",
      "df = pd.DataFrame({'key1' : ['a', 'a', 'b', 'b', 'a'],\n",
      "                   'key2' : ['one', 'two', 'one', 'two', 'one'],\n",
      "                   'data1' : np.random.randn(5),\n",
      "                   'data2' : np.random.randn(5)})\n",
      "df"
     ],
     "language": "python",
     "metadata": {},
     "outputs": [
      {
       "html": [
        "<div style=\"max-height:1000px;max-width:1500px;overflow:auto;\">\n",
        "<table border=\"1\" class=\"dataframe\">\n",
        "  <thead>\n",
        "    <tr style=\"text-align: right;\">\n",
        "      <th></th>\n",
        "      <th>data1</th>\n",
        "      <th>data2</th>\n",
        "      <th>key1</th>\n",
        "      <th>key2</th>\n",
        "    </tr>\n",
        "  </thead>\n",
        "  <tbody>\n",
        "    <tr>\n",
        "      <th>0</th>\n",
        "      <td>-1.206295</td>\n",
        "      <td> 0.277025</td>\n",
        "      <td> a</td>\n",
        "      <td> one</td>\n",
        "    </tr>\n",
        "    <tr>\n",
        "      <th>1</th>\n",
        "      <td>-0.210670</td>\n",
        "      <td> 1.700554</td>\n",
        "      <td> a</td>\n",
        "      <td> two</td>\n",
        "    </tr>\n",
        "    <tr>\n",
        "      <th>2</th>\n",
        "      <td> 1.090656</td>\n",
        "      <td> 0.141390</td>\n",
        "      <td> b</td>\n",
        "      <td> one</td>\n",
        "    </tr>\n",
        "    <tr>\n",
        "      <th>3</th>\n",
        "      <td>-0.755093</td>\n",
        "      <td> 1.402054</td>\n",
        "      <td> b</td>\n",
        "      <td> two</td>\n",
        "    </tr>\n",
        "    <tr>\n",
        "      <th>4</th>\n",
        "      <td> 0.251278</td>\n",
        "      <td> 0.767201</td>\n",
        "      <td> a</td>\n",
        "      <td> one</td>\n",
        "    </tr>\n",
        "  </tbody>\n",
        "</table>\n",
        "<p>5 rows \u00d7 4 columns</p>\n",
        "</div>"
       ],
       "metadata": {},
       "output_type": "pyout",
       "prompt_number": 1,
       "text": [
        "      data1     data2 key1 key2\n",
        "0 -1.206295  0.277025    a  one\n",
        "1 -0.210670  1.700554    a  two\n",
        "2  1.090656  0.141390    b  one\n",
        "3 -0.755093  1.402054    b  two\n",
        "4  0.251278  0.767201    a  one\n",
        "\n",
        "[5 rows x 4 columns]"
       ]
      }
     ],
     "prompt_number": 1
    },
    {
     "cell_type": "code",
     "collapsed": false,
     "input": [
      "grouped = df['data1'].groupby(df['key1'])\n",
      "grouped.mean()"
     ],
     "language": "python",
     "metadata": {},
     "outputs": [
      {
       "metadata": {},
       "output_type": "pyout",
       "prompt_number": 3,
       "text": [
        "key1\n",
        "a      -0.388562\n",
        "b       0.167782\n",
        "dtype: float64"
       ]
      }
     ],
     "prompt_number": 3
    },
    {
     "cell_type": "markdown",
     "metadata": {},
     "source": [
      "<a id='slicing'></a>"
     ]
    },
    {
     "cell_type": "markdown",
     "metadata": {},
     "source": [
      "## Sub-selecting or Slicing a DataFrame"
     ]
    },
    {
     "cell_type": "markdown",
     "metadata": {},
     "source": [
      "[[back to top](#top)]"
     ]
    },
    {
     "cell_type": "markdown",
     "metadata": {},
     "source": [
      "<a id='df'></a>"
     ]
    },
    {
     "cell_type": "code",
     "collapsed": false,
     "input": [
      "import numpy as np\n",
      "import pandas as pd\n",
      "\n",
      "dates = pd.date_range('20130101',periods=6)\n",
      "df = pd.DataFrame(np.random.randn(6,4),index=dates,columns=list('ABCD'))\n",
      "df"
     ],
     "language": "python",
     "metadata": {},
     "outputs": [
      {
       "html": [
        "<div style=\"max-height:1000px;max-width:1500px;overflow:auto;\">\n",
        "<table border=\"1\" class=\"dataframe\">\n",
        "  <thead>\n",
        "    <tr style=\"text-align: right;\">\n",
        "      <th></th>\n",
        "      <th>A</th>\n",
        "      <th>B</th>\n",
        "      <th>C</th>\n",
        "      <th>D</th>\n",
        "    </tr>\n",
        "  </thead>\n",
        "  <tbody>\n",
        "    <tr>\n",
        "      <th>2013-01-01</th>\n",
        "      <td>-0.448658</td>\n",
        "      <td> 0.371660</td>\n",
        "      <td> 0.415444</td>\n",
        "      <td>-0.974432</td>\n",
        "    </tr>\n",
        "    <tr>\n",
        "      <th>2013-01-02</th>\n",
        "      <td>-0.247787</td>\n",
        "      <td> 0.005240</td>\n",
        "      <td> 2.596241</td>\n",
        "      <td> 1.824652</td>\n",
        "    </tr>\n",
        "    <tr>\n",
        "      <th>2013-01-03</th>\n",
        "      <td>-0.815789</td>\n",
        "      <td>-0.502075</td>\n",
        "      <td>-0.589777</td>\n",
        "      <td> 0.097843</td>\n",
        "    </tr>\n",
        "    <tr>\n",
        "      <th>2013-01-04</th>\n",
        "      <td>-0.000398</td>\n",
        "      <td> 2.310145</td>\n",
        "      <td> 2.018883</td>\n",
        "      <td>-1.306754</td>\n",
        "    </tr>\n",
        "    <tr>\n",
        "      <th>2013-01-05</th>\n",
        "      <td>-1.786020</td>\n",
        "      <td>-0.880412</td>\n",
        "      <td>-0.224557</td>\n",
        "      <td>-0.219372</td>\n",
        "    </tr>\n",
        "    <tr>\n",
        "      <th>2013-01-06</th>\n",
        "      <td>-0.603250</td>\n",
        "      <td> 0.846952</td>\n",
        "      <td>-0.746977</td>\n",
        "      <td>-1.946199</td>\n",
        "    </tr>\n",
        "  </tbody>\n",
        "</table>\n",
        "</div>"
       ],
       "metadata": {},
       "output_type": "pyout",
       "prompt_number": 2,
       "text": [
        "                   A         B         C         D\n",
        "2013-01-01 -0.448658  0.371660  0.415444 -0.974432\n",
        "2013-01-02 -0.247787  0.005240  2.596241  1.824652\n",
        "2013-01-03 -0.815789 -0.502075 -0.589777  0.097843\n",
        "2013-01-04 -0.000398  2.310145  2.018883 -1.306754\n",
        "2013-01-05 -1.786020 -0.880412 -0.224557 -0.219372\n",
        "2013-01-06 -0.603250  0.846952 -0.746977 -1.946199"
       ]
      }
     ],
     "prompt_number": 2
    },
    {
     "cell_type": "markdown",
     "metadata": {},
     "source": [
      "### Getting first n rows of dataframe using index slicing syntax"
     ]
    },
    {
     "cell_type": "code",
     "collapsed": false,
     "input": [
      "df[0:3]  # get first 3 rows of the dataframe"
     ],
     "language": "python",
     "metadata": {},
     "outputs": [
      {
       "html": [
        "<div style=\"max-height:1000px;max-width:1500px;overflow:auto;\">\n",
        "<table border=\"1\" class=\"dataframe\">\n",
        "  <thead>\n",
        "    <tr style=\"text-align: right;\">\n",
        "      <th></th>\n",
        "      <th>A</th>\n",
        "      <th>B</th>\n",
        "      <th>C</th>\n",
        "      <th>D</th>\n",
        "    </tr>\n",
        "  </thead>\n",
        "  <tbody>\n",
        "    <tr>\n",
        "      <th>2013-01-01</th>\n",
        "      <td>-0.448658</td>\n",
        "      <td> 0.371660</td>\n",
        "      <td> 0.415444</td>\n",
        "      <td>-0.974432</td>\n",
        "    </tr>\n",
        "    <tr>\n",
        "      <th>2013-01-02</th>\n",
        "      <td>-0.247787</td>\n",
        "      <td> 0.005240</td>\n",
        "      <td> 2.596241</td>\n",
        "      <td> 1.824652</td>\n",
        "    </tr>\n",
        "    <tr>\n",
        "      <th>2013-01-03</th>\n",
        "      <td>-0.815789</td>\n",
        "      <td>-0.502075</td>\n",
        "      <td>-0.589777</td>\n",
        "      <td> 0.097843</td>\n",
        "    </tr>\n",
        "  </tbody>\n",
        "</table>\n",
        "</div>"
       ],
       "metadata": {},
       "output_type": "pyout",
       "prompt_number": 3,
       "text": [
        "                   A         B         C         D\n",
        "2013-01-01 -0.448658  0.371660  0.415444 -0.974432\n",
        "2013-01-02 -0.247787  0.005240  2.596241  1.824652\n",
        "2013-01-03 -0.815789 -0.502075 -0.589777  0.097843"
       ]
      }
     ],
     "prompt_number": 3
    },
    {
     "cell_type": "markdown",
     "metadata": {},
     "source": [
      "### Slicing based on dataframe's index range"
     ]
    },
    {
     "cell_type": "code",
     "collapsed": false,
     "input": [
      "df['20130102':'20130104'] # get rows by index range"
     ],
     "language": "python",
     "metadata": {},
     "outputs": [
      {
       "html": [
        "<div style=\"max-height:1000px;max-width:1500px;overflow:auto;\">\n",
        "<table border=\"1\" class=\"dataframe\">\n",
        "  <thead>\n",
        "    <tr style=\"text-align: right;\">\n",
        "      <th></th>\n",
        "      <th>A</th>\n",
        "      <th>B</th>\n",
        "      <th>C</th>\n",
        "      <th>D</th>\n",
        "    </tr>\n",
        "  </thead>\n",
        "  <tbody>\n",
        "    <tr>\n",
        "      <th>2013-01-02</th>\n",
        "      <td>-0.247787</td>\n",
        "      <td> 0.005240</td>\n",
        "      <td> 2.596241</td>\n",
        "      <td> 1.824652</td>\n",
        "    </tr>\n",
        "    <tr>\n",
        "      <th>2013-01-03</th>\n",
        "      <td>-0.815789</td>\n",
        "      <td>-0.502075</td>\n",
        "      <td>-0.589777</td>\n",
        "      <td> 0.097843</td>\n",
        "    </tr>\n",
        "    <tr>\n",
        "      <th>2013-01-04</th>\n",
        "      <td>-0.000398</td>\n",
        "      <td> 2.310145</td>\n",
        "      <td> 2.018883</td>\n",
        "      <td>-1.306754</td>\n",
        "    </tr>\n",
        "  </tbody>\n",
        "</table>\n",
        "</div>"
       ],
       "metadata": {},
       "output_type": "pyout",
       "prompt_number": 4,
       "text": [
        "                   A         B         C         D\n",
        "2013-01-02 -0.247787  0.005240  2.596241  1.824652\n",
        "2013-01-03 -0.815789 -0.502075 -0.589777  0.097843\n",
        "2013-01-04 -0.000398  2.310145  2.018883 -1.306754"
       ]
      }
     ],
     "prompt_number": 4
    },
    {
     "cell_type": "markdown",
     "metadata": {},
     "source": [
      "### Slicing based on column labels/names using loc"
     ]
    },
    {
     "cell_type": "code",
     "collapsed": false,
     "input": [
      "df.loc[:,['A','B']]  # syntax is: df.loc[rows_index, cols_index]"
     ],
     "language": "python",
     "metadata": {},
     "outputs": [
      {
       "html": [
        "<div style=\"max-height:1000px;max-width:1500px;overflow:auto;\">\n",
        "<table border=\"1\" class=\"dataframe\">\n",
        "  <thead>\n",
        "    <tr style=\"text-align: right;\">\n",
        "      <th></th>\n",
        "      <th>A</th>\n",
        "      <th>B</th>\n",
        "    </tr>\n",
        "  </thead>\n",
        "  <tbody>\n",
        "    <tr>\n",
        "      <th>2013-01-01</th>\n",
        "      <td>-0.448658</td>\n",
        "      <td> 0.371660</td>\n",
        "    </tr>\n",
        "    <tr>\n",
        "      <th>2013-01-02</th>\n",
        "      <td>-0.247787</td>\n",
        "      <td> 0.005240</td>\n",
        "    </tr>\n",
        "    <tr>\n",
        "      <th>2013-01-03</th>\n",
        "      <td>-0.815789</td>\n",
        "      <td>-0.502075</td>\n",
        "    </tr>\n",
        "    <tr>\n",
        "      <th>2013-01-04</th>\n",
        "      <td>-0.000398</td>\n",
        "      <td> 2.310145</td>\n",
        "    </tr>\n",
        "    <tr>\n",
        "      <th>2013-01-05</th>\n",
        "      <td>-1.786020</td>\n",
        "      <td>-0.880412</td>\n",
        "    </tr>\n",
        "    <tr>\n",
        "      <th>2013-01-06</th>\n",
        "      <td>-0.603250</td>\n",
        "      <td> 0.846952</td>\n",
        "    </tr>\n",
        "  </tbody>\n",
        "</table>\n",
        "</div>"
       ],
       "metadata": {},
       "output_type": "pyout",
       "prompt_number": 5,
       "text": [
        "                   A         B\n",
        "2013-01-01 -0.448658  0.371660\n",
        "2013-01-02 -0.247787  0.005240\n",
        "2013-01-03 -0.815789 -0.502075\n",
        "2013-01-04 -0.000398  2.310145\n",
        "2013-01-05 -1.786020 -0.880412\n",
        "2013-01-06 -0.603250  0.846952"
       ]
      }
     ],
     "prompt_number": 5
    },
    {
     "cell_type": "markdown",
     "metadata": {},
     "source": [
      "### Slicing based on row index label and column label combined using loc"
     ]
    },
    {
     "cell_type": "code",
     "collapsed": false,
     "input": [
      "df.loc['20130102':'20130104',['A','B']]"
     ],
     "language": "python",
     "metadata": {},
     "outputs": [
      {
       "html": [
        "<div style=\"max-height:1000px;max-width:1500px;overflow:auto;\">\n",
        "<table border=\"1\" class=\"dataframe\">\n",
        "  <thead>\n",
        "    <tr style=\"text-align: right;\">\n",
        "      <th></th>\n",
        "      <th>A</th>\n",
        "      <th>B</th>\n",
        "    </tr>\n",
        "  </thead>\n",
        "  <tbody>\n",
        "    <tr>\n",
        "      <th>2013-01-02</th>\n",
        "      <td>-0.247787</td>\n",
        "      <td> 0.005240</td>\n",
        "    </tr>\n",
        "    <tr>\n",
        "      <th>2013-01-03</th>\n",
        "      <td>-0.815789</td>\n",
        "      <td>-0.502075</td>\n",
        "    </tr>\n",
        "    <tr>\n",
        "      <th>2013-01-04</th>\n",
        "      <td>-0.000398</td>\n",
        "      <td> 2.310145</td>\n",
        "    </tr>\n",
        "  </tbody>\n",
        "</table>\n",
        "</div>"
       ],
       "metadata": {},
       "output_type": "pyout",
       "prompt_number": 6,
       "text": [
        "                   A         B\n",
        "2013-01-02 -0.247787  0.005240\n",
        "2013-01-03 -0.815789 -0.502075\n",
        "2013-01-04 -0.000398  2.310145"
       ]
      }
     ],
     "prompt_number": 6
    },
    {
     "cell_type": "markdown",
     "metadata": {},
     "source": [
      "### Slicing based on index position of the row or column using iloc"
     ]
    },
    {
     "cell_type": "markdown",
     "metadata": {},
     "source": [
      "[[view df](#df)]"
     ]
    },
    {
     "cell_type": "code",
     "collapsed": false,
     "input": [
      "df.iloc[3]  # returns 4th row (index=3) of the dataframe"
     ],
     "language": "python",
     "metadata": {},
     "outputs": [
      {
       "metadata": {},
       "output_type": "pyout",
       "prompt_number": 8,
       "text": [
        "A   -0.000398\n",
        "B    2.310145\n",
        "C    2.018883\n",
        "D   -1.306754\n",
        "Name: 2013-01-04 00:00:00, dtype: float64"
       ]
      }
     ],
     "prompt_number": 8
    },
    {
     "cell_type": "code",
     "collapsed": false,
     "input": [
      "df.iloc[3:5,0:2]  # returns specific rows and columns of the dataframe"
     ],
     "language": "python",
     "metadata": {},
     "outputs": [
      {
       "html": [
        "<div style=\"max-height:1000px;max-width:1500px;overflow:auto;\">\n",
        "<table border=\"1\" class=\"dataframe\">\n",
        "  <thead>\n",
        "    <tr style=\"text-align: right;\">\n",
        "      <th></th>\n",
        "      <th>A</th>\n",
        "      <th>B</th>\n",
        "    </tr>\n",
        "  </thead>\n",
        "  <tbody>\n",
        "    <tr>\n",
        "      <th>2013-01-04</th>\n",
        "      <td>-0.000398</td>\n",
        "      <td> 2.310145</td>\n",
        "    </tr>\n",
        "    <tr>\n",
        "      <th>2013-01-05</th>\n",
        "      <td>-1.786020</td>\n",
        "      <td>-0.880412</td>\n",
        "    </tr>\n",
        "  </tbody>\n",
        "</table>\n",
        "</div>"
       ],
       "metadata": {},
       "output_type": "pyout",
       "prompt_number": 10,
       "text": [
        "                   A         B\n",
        "2013-01-04 -0.000398  2.310145\n",
        "2013-01-05 -1.786020 -0.880412"
       ]
      }
     ],
     "prompt_number": 10
    },
    {
     "cell_type": "code",
     "collapsed": false,
     "input": [
      "df.iloc[1:3,:]  # returning specific rows for all columns"
     ],
     "language": "python",
     "metadata": {},
     "outputs": [
      {
       "html": [
        "<div style=\"max-height:1000px;max-width:1500px;overflow:auto;\">\n",
        "<table border=\"1\" class=\"dataframe\">\n",
        "  <thead>\n",
        "    <tr style=\"text-align: right;\">\n",
        "      <th></th>\n",
        "      <th>A</th>\n",
        "      <th>B</th>\n",
        "      <th>C</th>\n",
        "      <th>D</th>\n",
        "    </tr>\n",
        "  </thead>\n",
        "  <tbody>\n",
        "    <tr>\n",
        "      <th>2013-01-02</th>\n",
        "      <td>-0.247787</td>\n",
        "      <td> 0.005240</td>\n",
        "      <td> 2.596241</td>\n",
        "      <td> 1.824652</td>\n",
        "    </tr>\n",
        "    <tr>\n",
        "      <th>2013-01-03</th>\n",
        "      <td>-0.815789</td>\n",
        "      <td>-0.502075</td>\n",
        "      <td>-0.589777</td>\n",
        "      <td> 0.097843</td>\n",
        "    </tr>\n",
        "  </tbody>\n",
        "</table>\n",
        "</div>"
       ],
       "metadata": {},
       "output_type": "pyout",
       "prompt_number": 11,
       "text": [
        "                   A         B         C         D\n",
        "2013-01-02 -0.247787  0.005240  2.596241  1.824652\n",
        "2013-01-03 -0.815789 -0.502075 -0.589777  0.097843"
       ]
      }
     ],
     "prompt_number": 11
    },
    {
     "cell_type": "code",
     "collapsed": false,
     "input": [
      "df.iloc[:,1:3]  # returning specific rows and columns"
     ],
     "language": "python",
     "metadata": {},
     "outputs": [
      {
       "html": [
        "<div style=\"max-height:1000px;max-width:1500px;overflow:auto;\">\n",
        "<table border=\"1\" class=\"dataframe\">\n",
        "  <thead>\n",
        "    <tr style=\"text-align: right;\">\n",
        "      <th></th>\n",
        "      <th>B</th>\n",
        "      <th>C</th>\n",
        "    </tr>\n",
        "  </thead>\n",
        "  <tbody>\n",
        "    <tr>\n",
        "      <th>2013-01-01</th>\n",
        "      <td> 0.371660</td>\n",
        "      <td> 0.415444</td>\n",
        "    </tr>\n",
        "    <tr>\n",
        "      <th>2013-01-02</th>\n",
        "      <td> 0.005240</td>\n",
        "      <td> 2.596241</td>\n",
        "    </tr>\n",
        "    <tr>\n",
        "      <th>2013-01-03</th>\n",
        "      <td>-0.502075</td>\n",
        "      <td>-0.589777</td>\n",
        "    </tr>\n",
        "    <tr>\n",
        "      <th>2013-01-04</th>\n",
        "      <td> 2.310145</td>\n",
        "      <td> 2.018883</td>\n",
        "    </tr>\n",
        "    <tr>\n",
        "      <th>2013-01-05</th>\n",
        "      <td>-0.880412</td>\n",
        "      <td>-0.224557</td>\n",
        "    </tr>\n",
        "    <tr>\n",
        "      <th>2013-01-06</th>\n",
        "      <td> 0.846952</td>\n",
        "      <td>-0.746977</td>\n",
        "    </tr>\n",
        "  </tbody>\n",
        "</table>\n",
        "</div>"
       ],
       "metadata": {},
       "output_type": "pyout",
       "prompt_number": 13,
       "text": [
        "                   B         C\n",
        "2013-01-01  0.371660  0.415444\n",
        "2013-01-02  0.005240  2.596241\n",
        "2013-01-03 -0.502075 -0.589777\n",
        "2013-01-04  2.310145  2.018883\n",
        "2013-01-05 -0.880412 -0.224557\n",
        "2013-01-06  0.846952 -0.746977"
       ]
      }
     ],
     "prompt_number": 13
    },
    {
     "cell_type": "code",
     "collapsed": false,
     "input": [
      "df.iloc[1,1]  # getting secific scalar/single value"
     ],
     "language": "python",
     "metadata": {},
     "outputs": [
      {
       "metadata": {},
       "output_type": "pyout",
       "prompt_number": 15,
       "text": [
        "0.0052402216462197728"
       ]
      }
     ],
     "prompt_number": 15
    },
    {
     "cell_type": "markdown",
     "metadata": {},
     "source": [
      "## [Boolean Indexing](http://pandas.pydata.org/pandas-docs/stable/indexing.html#boolean-indexing)"
     ]
    },
    {
     "cell_type": "markdown",
     "metadata": {},
     "source": [
      "[[view df](#df)]"
     ]
    },
    {
     "cell_type": "markdown",
     "metadata": {},
     "source": [
      "The boolean operators are: | for or, & for and, and ~ for not. These **must** be grouped by using parentheses."
     ]
    },
    {
     "cell_type": "code",
     "collapsed": false,
     "input": [
      "df[df.A > -0.5]  # or df[df[\"A\"] > -0.5], this syntax works when there is a space in the column name"
     ],
     "language": "python",
     "metadata": {},
     "outputs": [
      {
       "html": [
        "<div style=\"max-height:1000px;max-width:1500px;overflow:auto;\">\n",
        "<table border=\"1\" class=\"dataframe\">\n",
        "  <thead>\n",
        "    <tr style=\"text-align: right;\">\n",
        "      <th></th>\n",
        "      <th>A</th>\n",
        "      <th>B</th>\n",
        "      <th>C</th>\n",
        "      <th>D</th>\n",
        "    </tr>\n",
        "  </thead>\n",
        "  <tbody>\n",
        "    <tr>\n",
        "      <th>2013-01-01</th>\n",
        "      <td>-0.448658</td>\n",
        "      <td> 0.371660</td>\n",
        "      <td> 0.415444</td>\n",
        "      <td>-0.974432</td>\n",
        "    </tr>\n",
        "    <tr>\n",
        "      <th>2013-01-02</th>\n",
        "      <td>-0.247787</td>\n",
        "      <td> 0.005240</td>\n",
        "      <td> 2.596241</td>\n",
        "      <td> 1.824652</td>\n",
        "    </tr>\n",
        "    <tr>\n",
        "      <th>2013-01-04</th>\n",
        "      <td>-0.000398</td>\n",
        "      <td> 2.310145</td>\n",
        "      <td> 2.018883</td>\n",
        "      <td>-1.306754</td>\n",
        "    </tr>\n",
        "  </tbody>\n",
        "</table>\n",
        "</div>"
       ],
       "metadata": {},
       "output_type": "pyout",
       "prompt_number": 25,
       "text": [
        "                   A         B         C         D\n",
        "2013-01-01 -0.448658  0.371660  0.415444 -0.974432\n",
        "2013-01-02 -0.247787  0.005240  2.596241  1.824652\n",
        "2013-01-04 -0.000398  2.310145  2.018883 -1.306754"
       ]
      }
     ],
     "prompt_number": 25
    },
    {
     "cell_type": "markdown",
     "metadata": {},
     "source": [
      "or I've seen some people do boolean filting by passing \"criteria\" variable to the dataframe like so:"
     ]
    },
    {
     "cell_type": "code",
     "collapsed": false,
     "input": [
      "criteria = df.A > -0.5\n",
      "df[criteria]"
     ],
     "language": "python",
     "metadata": {},
     "outputs": [
      {
       "html": [
        "<div style=\"max-height:1000px;max-width:1500px;overflow:auto;\">\n",
        "<table border=\"1\" class=\"dataframe\">\n",
        "  <thead>\n",
        "    <tr style=\"text-align: right;\">\n",
        "      <th></th>\n",
        "      <th>A</th>\n",
        "      <th>B</th>\n",
        "      <th>C</th>\n",
        "      <th>D</th>\n",
        "    </tr>\n",
        "  </thead>\n",
        "  <tbody>\n",
        "    <tr>\n",
        "      <th>2013-01-01</th>\n",
        "      <td>-0.448658</td>\n",
        "      <td> 0.371660</td>\n",
        "      <td> 0.415444</td>\n",
        "      <td>-0.974432</td>\n",
        "    </tr>\n",
        "    <tr>\n",
        "      <th>2013-01-02</th>\n",
        "      <td>-0.247787</td>\n",
        "      <td> 0.005240</td>\n",
        "      <td> 2.596241</td>\n",
        "      <td> 1.824652</td>\n",
        "    </tr>\n",
        "    <tr>\n",
        "      <th>2013-01-04</th>\n",
        "      <td>-0.000398</td>\n",
        "      <td> 2.310145</td>\n",
        "      <td> 2.018883</td>\n",
        "      <td>-1.306754</td>\n",
        "    </tr>\n",
        "  </tbody>\n",
        "</table>\n",
        "</div>"
       ],
       "metadata": {},
       "output_type": "pyout",
       "prompt_number": 23,
       "text": [
        "                   A         B         C         D\n",
        "2013-01-01 -0.448658  0.371660  0.415444 -0.974432\n",
        "2013-01-02 -0.247787  0.005240  2.596241  1.824652\n",
        "2013-01-04 -0.000398  2.310145  2.018883 -1.306754"
       ]
      }
     ],
     "prompt_number": 23
    },
    {
     "cell_type": "code",
     "collapsed": false,
     "input": [
      "df2 = df.copy()\n",
      "df2['E']=['one', 'one','two','three','four','three']\n",
      "df2"
     ],
     "language": "python",
     "metadata": {},
     "outputs": [
      {
       "html": [
        "<div style=\"max-height:1000px;max-width:1500px;overflow:auto;\">\n",
        "<table border=\"1\" class=\"dataframe\">\n",
        "  <thead>\n",
        "    <tr style=\"text-align: right;\">\n",
        "      <th></th>\n",
        "      <th>A</th>\n",
        "      <th>B</th>\n",
        "      <th>C</th>\n",
        "      <th>D</th>\n",
        "      <th>E</th>\n",
        "    </tr>\n",
        "  </thead>\n",
        "  <tbody>\n",
        "    <tr>\n",
        "      <th>2013-01-01</th>\n",
        "      <td>-0.448658</td>\n",
        "      <td> 0.371660</td>\n",
        "      <td> 0.415444</td>\n",
        "      <td>-0.974432</td>\n",
        "      <td>   one</td>\n",
        "    </tr>\n",
        "    <tr>\n",
        "      <th>2013-01-02</th>\n",
        "      <td>-0.247787</td>\n",
        "      <td> 0.005240</td>\n",
        "      <td> 2.596241</td>\n",
        "      <td> 1.824652</td>\n",
        "      <td>   one</td>\n",
        "    </tr>\n",
        "    <tr>\n",
        "      <th>2013-01-03</th>\n",
        "      <td>-0.815789</td>\n",
        "      <td>-0.502075</td>\n",
        "      <td>-0.589777</td>\n",
        "      <td> 0.097843</td>\n",
        "      <td>   two</td>\n",
        "    </tr>\n",
        "    <tr>\n",
        "      <th>2013-01-04</th>\n",
        "      <td>-0.000398</td>\n",
        "      <td> 2.310145</td>\n",
        "      <td> 2.018883</td>\n",
        "      <td>-1.306754</td>\n",
        "      <td> three</td>\n",
        "    </tr>\n",
        "    <tr>\n",
        "      <th>2013-01-05</th>\n",
        "      <td>-1.786020</td>\n",
        "      <td>-0.880412</td>\n",
        "      <td>-0.224557</td>\n",
        "      <td>-0.219372</td>\n",
        "      <td>  four</td>\n",
        "    </tr>\n",
        "    <tr>\n",
        "      <th>2013-01-06</th>\n",
        "      <td>-0.603250</td>\n",
        "      <td> 0.846952</td>\n",
        "      <td>-0.746977</td>\n",
        "      <td>-1.946199</td>\n",
        "      <td> three</td>\n",
        "    </tr>\n",
        "  </tbody>\n",
        "</table>\n",
        "</div>"
       ],
       "metadata": {},
       "output_type": "pyout",
       "prompt_number": 26,
       "text": [
        "                   A         B         C         D      E\n",
        "2013-01-01 -0.448658  0.371660  0.415444 -0.974432    one\n",
        "2013-01-02 -0.247787  0.005240  2.596241  1.824652    one\n",
        "2013-01-03 -0.815789 -0.502075 -0.589777  0.097843    two\n",
        "2013-01-04 -0.000398  2.310145  2.018883 -1.306754  three\n",
        "2013-01-05 -1.786020 -0.880412 -0.224557 -0.219372   four\n",
        "2013-01-06 -0.603250  0.846952 -0.746977 -1.946199  three"
       ]
      }
     ],
     "prompt_number": 26
    },
    {
     "cell_type": "code",
     "collapsed": false,
     "input": [
      "df2[df2['E'].isin(['two','four'])]  # read as \"return rows where column E contains two or four\""
     ],
     "language": "python",
     "metadata": {},
     "outputs": [
      {
       "html": [
        "<div style=\"max-height:1000px;max-width:1500px;overflow:auto;\">\n",
        "<table border=\"1\" class=\"dataframe\">\n",
        "  <thead>\n",
        "    <tr style=\"text-align: right;\">\n",
        "      <th></th>\n",
        "      <th>A</th>\n",
        "      <th>B</th>\n",
        "      <th>C</th>\n",
        "      <th>D</th>\n",
        "      <th>E</th>\n",
        "    </tr>\n",
        "  </thead>\n",
        "  <tbody>\n",
        "    <tr>\n",
        "      <th>2013-01-03</th>\n",
        "      <td>-0.815789</td>\n",
        "      <td>-0.502075</td>\n",
        "      <td>-0.589777</td>\n",
        "      <td> 0.097843</td>\n",
        "      <td>  two</td>\n",
        "    </tr>\n",
        "    <tr>\n",
        "      <th>2013-01-05</th>\n",
        "      <td>-1.786020</td>\n",
        "      <td>-0.880412</td>\n",
        "      <td>-0.224557</td>\n",
        "      <td>-0.219372</td>\n",
        "      <td> four</td>\n",
        "    </tr>\n",
        "  </tbody>\n",
        "</table>\n",
        "</div>"
       ],
       "metadata": {},
       "output_type": "pyout",
       "prompt_number": 27,
       "text": [
        "                   A         B         C         D     E\n",
        "2013-01-03 -0.815789 -0.502075 -0.589777  0.097843   two\n",
        "2013-01-05 -1.786020 -0.880412 -0.224557 -0.219372  four"
       ]
      }
     ],
     "prompt_number": 27
    },
    {
     "cell_type": "markdown",
     "metadata": {},
     "source": [
      "<a id='value_counts'></a>"
     ]
    },
    {
     "cell_type": "markdown",
     "metadata": {},
     "source": [
      "## Getting Value Counts"
     ]
    },
    {
     "cell_type": "markdown",
     "metadata": {},
     "source": [
      "It is so tempting to use the groupby() function, but most of the time, value_count() function is all we need."
     ]
    },
    {
     "cell_type": "markdown",
     "metadata": {},
     "source": [
      "[[back to top](#top)]"
     ]
    },
    {
     "cell_type": "code",
     "collapsed": false,
     "input": [
      "import pandas as pd\n",
      "data = pd.DataFrame({'group': ['a', 'a', 'a', 'b','b', 'b', 'c', 'c','c'],\n",
      "                 'ounces': [4, 3, 12, 6, 7.5, 8, 3, 5, 6]})\n",
      "data"
     ],
     "language": "python",
     "metadata": {},
     "outputs": [
      {
       "html": [
        "<div style=\"max-height:1000px;max-width:1500px;overflow:auto;\">\n",
        "<table border=\"1\" class=\"dataframe\">\n",
        "  <thead>\n",
        "    <tr style=\"text-align: right;\">\n",
        "      <th></th>\n",
        "      <th>group</th>\n",
        "      <th>ounces</th>\n",
        "    </tr>\n",
        "  </thead>\n",
        "  <tbody>\n",
        "    <tr>\n",
        "      <th>0</th>\n",
        "      <td> a</td>\n",
        "      <td>  4.0</td>\n",
        "    </tr>\n",
        "    <tr>\n",
        "      <th>1</th>\n",
        "      <td> a</td>\n",
        "      <td>  3.0</td>\n",
        "    </tr>\n",
        "    <tr>\n",
        "      <th>2</th>\n",
        "      <td> a</td>\n",
        "      <td> 12.0</td>\n",
        "    </tr>\n",
        "    <tr>\n",
        "      <th>3</th>\n",
        "      <td> b</td>\n",
        "      <td>  6.0</td>\n",
        "    </tr>\n",
        "    <tr>\n",
        "      <th>4</th>\n",
        "      <td> b</td>\n",
        "      <td>  7.5</td>\n",
        "    </tr>\n",
        "    <tr>\n",
        "      <th>5</th>\n",
        "      <td> b</td>\n",
        "      <td>  8.0</td>\n",
        "    </tr>\n",
        "    <tr>\n",
        "      <th>6</th>\n",
        "      <td> c</td>\n",
        "      <td>  3.0</td>\n",
        "    </tr>\n",
        "    <tr>\n",
        "      <th>7</th>\n",
        "      <td> c</td>\n",
        "      <td>  5.0</td>\n",
        "    </tr>\n",
        "    <tr>\n",
        "      <th>8</th>\n",
        "      <td> c</td>\n",
        "      <td>  6.0</td>\n",
        "    </tr>\n",
        "  </tbody>\n",
        "</table>\n",
        "</div>"
       ],
       "metadata": {},
       "output_type": "pyout",
       "prompt_number": 1,
       "text": [
        "  group  ounces\n",
        "0     a     4.0\n",
        "1     a     3.0\n",
        "2     a    12.0\n",
        "3     b     6.0\n",
        "4     b     7.5\n",
        "5     b     8.0\n",
        "6     c     3.0\n",
        "7     c     5.0\n",
        "8     c     6.0"
       ]
      }
     ],
     "prompt_number": 1
    },
    {
     "cell_type": "code",
     "collapsed": false,
     "input": [
      "data.group.value_counts()"
     ],
     "language": "python",
     "metadata": {},
     "outputs": [
      {
       "metadata": {},
       "output_type": "pyout",
       "prompt_number": 2,
       "text": [
        "a    3\n",
        "b    3\n",
        "c    3\n",
        "dtype: int64"
       ]
      }
     ],
     "prompt_number": 2
    },
    {
     "cell_type": "markdown",
     "metadata": {},
     "source": [
      "## Getting Cumulative Sum"
     ]
    },
    {
     "cell_type": "code",
     "collapsed": false,
     "input": [
      "data.group.value_counts().cumsum()"
     ],
     "language": "python",
     "metadata": {},
     "outputs": [
      {
       "metadata": {},
       "output_type": "pyout",
       "prompt_number": 3,
       "text": [
        "a    3\n",
        "b    6\n",
        "c    9\n",
        "dtype: int64"
       ]
      }
     ],
     "prompt_number": 3
    },
    {
     "cell_type": "markdown",
     "metadata": {},
     "source": [
      "<a id='pivot_table'></a>"
     ]
    },
    {
     "cell_type": "markdown",
     "metadata": {},
     "source": [
      "## Pivot table example"
     ]
    },
    {
     "cell_type": "markdown",
     "metadata": {},
     "source": [
      "[[back to top](#top)]"
     ]
    },
    {
     "cell_type": "code",
     "collapsed": false,
     "input": [
      "help(data.pivot_table)"
     ],
     "language": "python",
     "metadata": {},
     "outputs": [
      {
       "output_type": "stream",
       "stream": "stdout",
       "text": [
        "Help on method pivot_table in module pandas.tools.pivot:\n",
        "\n",
        "pivot_table(values=None, index=None, columns=None, aggfunc='mean', fill_value=None, margins=False, dropna=True) method of pandas.core.frame.DataFrame instance\n",
        "    Create a spreadsheet-style pivot table as a DataFrame. The levels in the\n",
        "    pivot table will be stored in MultiIndex objects (hierarchical indexes) on\n",
        "    the index and columns of the result DataFrame\n",
        "    \n",
        "    Parameters\n",
        "    ----------\n",
        "    data : DataFrame\n",
        "    values : column to aggregate, optional\n",
        "    index : a column, Grouper, array which has the same length as data, or list of them.\n",
        "        Keys to group by on the pivot table index.\n",
        "        If an array is passed, it is being used as the same manner as column values.\n",
        "    columns : a column, Grouper, array which has the same length as data, or list of them.\n",
        "        Keys to group by on the pivot table column.\n",
        "        If an array is passed, it is being used as the same manner as column values.\n",
        "    aggfunc : function, default numpy.mean, or list of functions\n",
        "        If list of functions passed, the resulting pivot table will have\n",
        "        hierarchical columns whose top level are the function names (inferred\n",
        "        from the function objects themselves)\n",
        "    fill_value : scalar, default None\n",
        "        Value to replace missing values with\n",
        "    margins : boolean, default False\n",
        "        Add all row / columns (e.g. for subtotal / grand totals)\n",
        "    dropna : boolean, default True\n",
        "        Do not include columns whose entries are all NaN\n",
        "    rows : kwarg only alias of index [deprecated]\n",
        "    cols : kwarg only alias of columns [deprecated]\n",
        "    \n",
        "    Examples\n",
        "    --------\n",
        "    >>> df\n",
        "       A   B   C      D\n",
        "    0  foo one small  1\n",
        "    1  foo one large  2\n",
        "    2  foo one large  2\n",
        "    3  foo two small  3\n",
        "    4  foo two small  3\n",
        "    5  bar one large  4\n",
        "    6  bar one small  5\n",
        "    7  bar two small  6\n",
        "    8  bar two large  7\n",
        "    \n",
        "    >>> table = pivot_table(df, values='D', index=['A', 'B'],\n",
        "    ...                     columns=['C'], aggfunc=np.sum)\n",
        "    >>> table\n",
        "              small  large\n",
        "    foo  one  1      4\n",
        "         two  6      NaN\n",
        "    bar  one  5      4\n",
        "         two  6      7\n",
        "    \n",
        "    Returns\n",
        "    -------\n",
        "    table : DataFrame\n",
        "\n"
       ]
      }
     ],
     "prompt_number": 4
    },
    {
     "cell_type": "code",
     "collapsed": false,
     "input": [
      "data.pivot_table(values='ounces',index='group',aggfunc=np.mean)"
     ],
     "language": "python",
     "metadata": {},
     "outputs": [
      {
       "metadata": {},
       "output_type": "pyout",
       "prompt_number": 3,
       "text": [
        "group\n",
        "a        6.333333\n",
        "b        7.166667\n",
        "c        4.666667\n",
        "Name: ounces, dtype: float64"
       ]
      }
     ],
     "prompt_number": 3
    },
    {
     "cell_type": "code",
     "collapsed": false,
     "input": [
      "data.pivot_table(values='ounces',index='group',aggfunc='count')"
     ],
     "language": "python",
     "metadata": {},
     "outputs": [
      {
       "metadata": {},
       "output_type": "pyout",
       "prompt_number": 5,
       "text": [
        "group\n",
        "a        3\n",
        "b        3\n",
        "c        3\n",
        "Name: ounces, dtype: int64"
       ]
      }
     ],
     "prompt_number": 5
    },
    {
     "cell_type": "code",
     "collapsed": false,
     "input": [
      "data.pivot_table(values='ounces',index='group',aggfunc='count').cumsum()"
     ],
     "language": "python",
     "metadata": {},
     "outputs": [
      {
       "metadata": {},
       "output_type": "pyout",
       "prompt_number": 6,
       "text": [
        "group\n",
        "a        3\n",
        "b        6\n",
        "c        9\n",
        "Name: ounces, dtype: int64"
       ]
      }
     ],
     "prompt_number": 6
    },
    {
     "cell_type": "markdown",
     "metadata": {},
     "source": [
      "<a id='index2column'></a>"
     ]
    },
    {
     "cell_type": "markdown",
     "metadata": {},
     "source": [
      "## Converting a dataframe index to a column"
     ]
    },
    {
     "cell_type": "markdown",
     "metadata": {},
     "source": [
      "[[back to top](#top)]"
     ]
    },
    {
     "cell_type": "code",
     "collapsed": false,
     "input": [
      "df.reset_index(level=0, inplace=True)"
     ],
     "language": "python",
     "metadata": {},
     "outputs": []
    }
   ],
   "metadata": {}
  }
 ]
}