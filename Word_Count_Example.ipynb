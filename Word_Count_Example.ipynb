{
 "metadata": {
  "name": ""
 },
 "nbformat": 3,
 "nbformat_minor": 0,
 "worksheets": [
  {
   "cells": [
    {
     "cell_type": "code",
     "collapsed": false,
     "input": [
      "import string\n",
      "bunch_of_words = \"Hello this is just a random sentence to help with this Python program. Can you guess what it does?  This is weird is it not?\"\n",
      "bunch_of_words = bunch_of_words.lower()\n",
      "\n",
      "for character in bunch_of_words:\n",
      "    if character in string.punctuation:  # string.punctuation = !\"#$%&\\'()*+,-./:;<=>?@[\\\\]^_`{|}~\n",
      "        bunch_of_words = bunch_of_words.replace(character,\"\")\n",
      "\n",
      "words_list = bunch_of_words.split()\n",
      "\n",
      "counts = dict()\n",
      "for word in words_list:\n",
      "    counts[word] = counts.get(word, 0) + 1"
     ],
     "language": "python",
     "metadata": {},
     "outputs": [],
     "prompt_number": 134
    },
    {
     "cell_type": "code",
     "collapsed": false,
     "input": [
      "counts"
     ],
     "language": "python",
     "metadata": {},
     "outputs": [
      {
       "metadata": {},
       "output_type": "pyout",
       "prompt_number": 135,
       "text": [
        "{'a': 1,\n",
        " 'can': 1,\n",
        " 'does': 1,\n",
        " 'guess': 1,\n",
        " 'hello': 1,\n",
        " 'help': 1,\n",
        " 'is': 3,\n",
        " 'it': 2,\n",
        " 'just': 1,\n",
        " 'not': 1,\n",
        " 'program': 1,\n",
        " 'python': 1,\n",
        " 'random': 1,\n",
        " 'sentence': 1,\n",
        " 'this': 3,\n",
        " 'to': 1,\n",
        " 'weird': 1,\n",
        " 'what': 1,\n",
        " 'with': 1,\n",
        " 'you': 1}"
       ]
      }
     ],
     "prompt_number": 135
    },
    {
     "cell_type": "code",
     "collapsed": false,
     "input": [
      "sorted_x = sorted(counts.items(), key=lambda x: x[1], reverse=True)"
     ],
     "language": "python",
     "metadata": {},
     "outputs": [],
     "prompt_number": 136
    },
    {
     "cell_type": "code",
     "collapsed": false,
     "input": [
      "sorted_x[:10]"
     ],
     "language": "python",
     "metadata": {},
     "outputs": [
      {
       "metadata": {},
       "output_type": "pyout",
       "prompt_number": 137,
       "text": [
        "[('is', 3),\n",
        " ('this', 3),\n",
        " ('it', 2),\n",
        " ('can', 1),\n",
        " ('with', 1),\n",
        " ('just', 1),\n",
        " ('not', 1),\n",
        " ('sentence', 1),\n",
        " ('what', 1),\n",
        " ('help', 1)]"
       ]
      }
     ],
     "prompt_number": 137
    },
    {
     "cell_type": "code",
     "collapsed": false,
     "input": [
      "for item in sorted_x:\n",
      "    print(\"word\", \"'\"+item[0]+\"'\", \"has a count of\", item[1])"
     ],
     "language": "python",
     "metadata": {},
     "outputs": [
      {
       "output_type": "stream",
       "stream": "stdout",
       "text": [
        "word 'is' has a count of 3\n",
        "word 'this' has a count of 3\n",
        "word 'it' has a count of 2\n",
        "word 'can' has a count of 1\n",
        "word 'with' has a count of 1\n",
        "word 'just' has a count of 1\n",
        "word 'not' has a count of 1\n",
        "word 'sentence' has a count of 1\n",
        "word 'what' has a count of 1\n",
        "word 'help' has a count of 1\n",
        "word 'a' has a count of 1\n",
        "word 'python' has a count of 1\n",
        "word 'hello' has a count of 1\n",
        "word 'random' has a count of 1\n",
        "word 'to' has a count of 1\n",
        "word 'does' has a count of 1\n",
        "word 'weird' has a count of 1\n",
        "word 'you' has a count of 1\n",
        "word 'guess' has a count of 1\n",
        "word 'program' has a count of 1\n"
       ]
      }
     ],
     "prompt_number": 138
    }
   ],
   "metadata": {}
  }
 ]
}