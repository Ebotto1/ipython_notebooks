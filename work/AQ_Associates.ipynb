{
 "metadata": {
  "name": "AQ_Associates"
 },
 "nbformat": 3,
 "nbformat_minor": 0,
 "worksheets": [
  {
   "cells": [
    {
     "cell_type": "markdown",
     "metadata": {},
     "source": [
      "<center><img src=\"http://xpo38498/www/images/honda_logo_small.jpg\"></center>"
     ]
    },
    {
     "cell_type": "markdown",
     "metadata": {},
     "source": [
      "<h2 align=\"center\">Summary Statistics on AQ Associates</h2>"
     ]
    },
    {
     "cell_type": "code",
     "collapsed": false,
     "input": [
      "import pyodbc, base64\n",
      "import pandas\n",
      "import pandas.io.sql as sqlio\n",
      "\n",
      "# Get password and \"de-fuzzy\" it\n",
      "pw_file = open(r'D:\\webapps\\_server\\pyodbc\\pw.txt', 'r')\n",
      "pw = base64.b64decode(pw_file.read())\n",
      "userid = 'ma17151'\n",
      "pw_file.close()\n",
      "\n",
      "cnxn_string = 'DSN=DSNOGW01;UID=' + userid + ';PWD=' + pw\n",
      "\n",
      "cnxn = pyodbc.connect(cnxn_string)\n",
      "\n",
      "sql = \"\"\"\n",
      "SELECT\n",
      "ltrim(rtrim(EMPLID)) as assocno,\n",
      "ltrim(rtrim(name)) as name,\n",
      "ltrim(rtrim(jobtitle)) as jobtitle,\n",
      "ltrim(rtrim(deptname)) as deptname,\n",
      "orig_hire_dt as orig_hire_dt,\n",
      "\n",
      "CASE\n",
      "   WHEN EMPL_ST_DESCR LIKE 'Active%' THEN DAYS(CURRENT_DATE) - DAYS(JOB_ENTRY_DT)\n",
      "   ELSE DAYS(EFFDT) - DAYS(JOB_ENTRY_DT)\n",
      "END AS DAYS_IN_TITLE,\n",
      "\n",
      "CASE\n",
      "   WHEN EMPL_ST_DESCR LIKE 'Active%' THEN decimal(cast((DAYS(CURRENT_DATE) - DAYS(JOB_ENTRY_DT)) as double)/365,3,1)\n",
      "   ELSE decimal(cast((DAYS(EFFDT) - DAYS(JOB_ENTRY_DT)) as double)/365,3,1)\n",
      "END AS YRS_IN_TITLE,\n",
      "\n",
      "CASE\n",
      "   WHEN EMPL_ST_DESCR LIKE 'Active%' THEN DAYS(CURRENT_DATE) - DAYS(ORIG_HIRE_DT)\n",
      "   ELSE DAYS(EFFDT) - DAYS(ORIG_HIRE_DT)\n",
      "END AS DAYS_AT_HAM,\n",
      "\n",
      "CASE\n",
      "   WHEN EMPL_ST_DESCR LIKE 'Active%' THEN decimal(cast((DAYS(CURRENT_DATE) - DAYS(ORIG_HIRE_DT)) as double)/365,4,1)\n",
      "   ELSE decimal(cast((DAYS(EFFDT) - DAYS(ORIG_HIRE_DT)) as double)/365,3,1)\n",
      "END AS YRS_AT_HAM\n",
      "\n",
      "\n",
      "FROM HR.PS_EMPLV3_CD_H\n",
      "\n",
      "WHERE\n",
      "HAM_TEAM_NAME_H like '%Auto%Qual%'\n",
      "and COMPANY like '%HAM%'\n",
      "and EMPL_ST_DESCR like '%Active%'\n",
      "and not(JOBTITLE like '%Student%')\"\"\"\n",
      "\n",
      "try:\n",
      "    df = sqlio.read_frame(sql, cnxn)\n",
      "except:\n",
      "    print \"There was an error in your SQL\"\n",
      "\n",
      "cnxn.close()\n",
      "\n",
      "# Let's see what the dataframe looks like.  This prints out the first 5 and last 5 records in our dataframe:\n",
      "print df.head()\n",
      "print df.tail()"
     ],
     "language": "python",
     "metadata": {},
     "outputs": [
      {
       "output_type": "stream",
       "stream": "stdout",
       "text": [
        "  ASSOCNO                   NAME                    JOBTITLE       DEPTNAME ORIG_HIRE_DT  DAYS_IN_TITLE  YRS_IN_TITLE  DAYS_AT_HAM  YRS_AT_HAM\n",
        "0   00201  Holbrook,Ernest Ansel  Administrative Coordinator  AQ Operations   1980-01-28           7189          19.6        12001        32.8\n",
        "1   00233      Burkard,Kevin Lee     Engineering Coordinator  MQ Operations   1980-03-24           4200          11.5        11945        32.7\n",
        "2   00249     Reiss,William Fred              Staff Engineer  MQ Operations   1980-04-28           9044          24.7        11910        32.6\n",
        "3   00331     Carter,Mark Antony       Senior Staff Engineer         MAP AQ   1980-09-02           4298          11.7        11783        32.2\n",
        "4   00459          Adams,Kevin D              Staff Engineer  MQ Operations   1981-01-05           5572          15.2        11658        31.9\n",
        "    ASSOCNO                NAME               JOBTITLE       DEPTNAME ORIG_HIRE_DT  DAYS_IN_TITLE  YRS_IN_TITLE  DAYS_AT_HAM  YRS_AT_HAM\n",
        "230   99589          Sato,Kenta  Senior Staff Engineer  AQ Operations   2010-08-30            175           0.4          829         2.2\n",
        "231   99637    Mochizuki,Kumiko         Staff Engineer  AQ Operations   2011-04-24            592           1.6          592         1.6\n",
        "232   99651   Watanabe,Takafumi         Chief Engineer  AQ Operations   2011-07-01            524           1.4          524         1.4\n",
        "233   99655  Kasahara,Yoshihiro  Senior Staff Engineer  AQ Operations   2011-08-14            480           1.3          480         1.3\n",
        "234   99679     Wakamori,Koichi  Senior Staff Engineer  AQ Operations   2012-01-03            338           0.9          338         0.9\n"
       ]
      }
     ],
     "prompt_number": 7
    },
    {
     "cell_type": "heading",
     "level": 2,
     "metadata": {},
     "source": [
      "Average Years At HAM"
     ]
    },
    {
     "cell_type": "code",
     "collapsed": false,
     "input": [
      "print \"Average Yrs At HAM:\"\n",
      "print df.groupby(['DEPTNAME'])['YRS_AT_HAM'].mean()"
     ],
     "language": "python",
     "metadata": {},
     "outputs": [
      {
       "output_type": "stream",
       "stream": "stdout",
       "text": [
        "Average Yrs At HAM:\n",
        "DEPTNAME\n",
        "AEF PACK            17.018182\n",
        "AQ Operations       15.307692\n",
        "Denso Department    12.702439\n",
        "MAP AQ              14.937500\n",
        "MQ Operations       19.662295\n",
        "Name: YRS_AT_HAM\n"
       ]
      }
     ],
     "prompt_number": 8
    },
    {
     "cell_type": "heading",
     "level": 2,
     "metadata": {},
     "source": [
      "Average Years In Current Title"
     ]
    },
    {
     "cell_type": "code",
     "collapsed": false,
     "input": [
      "print\"Average Yrs In Current Title:\"\n",
      "print df.groupby(['DEPTNAME'])['YRS_IN_TITLE'].mean()"
     ],
     "language": "python",
     "metadata": {},
     "outputs": [
      {
       "output_type": "stream",
       "stream": "stdout",
       "text": [
        "Average Yrs In Current Title:\n",
        "DEPTNAME\n",
        "AEF PACK             6.663636\n",
        "AQ Operations        7.650000\n",
        "Denso Department     5.865854\n",
        "MAP AQ               7.202083\n",
        "MQ Operations       10.478689\n",
        "Name: YRS_IN_TITLE\n"
       ]
      }
     ],
     "prompt_number": 9
    },
    {
     "cell_type": "heading",
     "level": 4,
     "metadata": {},
     "source": [
      "Now, filter the dataframe to consist of just 'MQ Operations' associates and just get their years at HAM:"
     ]
    },
    {
     "cell_type": "code",
     "collapsed": false,
     "input": [
      "MQ_Yrs_At_HAM = df[ (df['DEPTNAME']=='MQ Operations') ]['YRS_AT_HAM']"
     ],
     "language": "python",
     "metadata": {},
     "outputs": [],
     "prompt_number": 10
    },
    {
     "cell_type": "heading",
     "level": 4,
     "metadata": {},
     "source": [
      "Perform Basic Summary Statistics on MQ Operations Associates' Years At HAM:"
     ]
    },
    {
     "cell_type": "code",
     "collapsed": false,
     "input": [
      "print \"Summary Statistics for 'Years At HAM':\"\n",
      "MQ_Yrs_At_HAM.describe()"
     ],
     "language": "python",
     "metadata": {},
     "outputs": [
      {
       "output_type": "stream",
       "stream": "stdout",
       "text": [
        "Summary Statistics for 'Years At HAM':\n"
       ]
      },
      {
       "output_type": "pyout",
       "prompt_number": 11,
       "text": [
        "count    61.000000\n",
        "mean     19.662295\n",
        "std       8.032313\n",
        "min       4.000000\n",
        "25%      12.300000\n",
        "50%      22.100000\n",
        "75%      26.000000\n",
        "max      32.700000"
       ]
      }
     ],
     "prompt_number": 11
    },
    {
     "cell_type": "heading",
     "level": 4,
     "metadata": {},
     "source": [
      "Print list of MQ Associates:"
     ]
    },
    {
     "cell_type": "code",
     "collapsed": false,
     "input": [
      "MQ_Associates = df[ (df['DEPTNAME']=='MQ Operations')  ]\n",
      "print MQ_Associates"
     ],
     "language": "python",
     "metadata": {},
     "outputs": [
      {
       "output_type": "stream",
       "stream": "stdout",
       "text": [
        "    ASSOCNO                         NAME                    JOBTITLE       DEPTNAME ORIG_HIRE_DT  DAYS_IN_TITLE  YRS_IN_TITLE  DAYS_AT_HAM  YRS_AT_HAM\n",
        "1     00233            Burkard,Kevin Lee     Engineering Coordinator  MQ Operations   1980-03-24           4200          11.5        11945        32.7\n",
        "2     00249           Reiss,William Fred              Staff Engineer  MQ Operations   1980-04-28           9044          24.7        11910        32.6\n",
        "4     00459                Adams,Kevin D              Staff Engineer  MQ Operations   1981-01-05           5572          15.2        11658        31.9\n",
        "6     00639        Himmeger,Mark Willard     Engineering Coordinator  MQ Operations   1982-02-01           8680          23.7        11266        30.8\n",
        "9     00926             Brown,Ricky Dean     Engineering Coordinator  MQ Operations   1982-11-29           8680          23.7        10965        30.0\n",
        "12    01247              McGlone,Timothy              Staff Engineer  MQ Operations   1983-03-14           4963          13.5        10860        29.7\n",
        "13    01280            Morley,Bruce Neal     Engineering Coordinator  MQ Operations   1983-04-04           5971          16.3        10839        29.6\n",
        "18    01799              Basford,Bruce C              Staff Engineer  MQ Operations   1983-10-03           4263          11.6        10657        29.1\n",
        "19    01847             Jolliff,Joseph L              Staff Engineer  MQ Operations   1983-10-10           5481          15.0        10650        29.1\n",
        "21    02122           McCutcheon,Chris D     Engineering Coordinator  MQ Operations   1983-12-27           4144          11.3        10572        28.9\n",
        "22    02330              May,Todd Eugene              Staff Engineer  MQ Operations   1984-03-05           6202          16.9        10503        28.7\n",
        "23    02468                Spencer,Tim W     Engineering Coordinator  MQ Operations   1984-04-16           7553          20.6        10461        28.6\n",
        "25    02715         Eldredge,Gregory Jay     Engineering Coordinator  MQ Operations   1985-02-18           4025          11.0        10153        27.8\n",
        "32    04079         Jaccaud Jr,Bernard F     Engineering Coordinator  MQ Operations   1986-06-02           5299          14.5         9684        26.5\n",
        "35    04763             Cline,Gerald Lee     Engineering Coordinator  MQ Operations   1986-12-01           5117          14.0         9502        26.0\n",
        "38    05901          Ackley,Halley David     Engineering Coordinator  MQ Operations   1987-12-07           4417          12.1         9131        25.0\n",
        "39    06024             Krouse,Susan Kay        Office Support Staff  MQ Operations   1988-01-11           5362          14.6         9096        24.9\n",
        "46    07132                Payne,Deron H     Engineering Coordinator  MQ Operations   1988-09-12           2639           7.2         8851        24.2\n",
        "48    07851        Hance III,John Dovell     Engineering Coordinator  MQ Operations   1989-01-16           6202          16.9         8725        23.9\n",
        "52    08453       Blumenschein,David Lee              Staff Engineer  MQ Operations   1989-05-01           3367           9.2         8620        23.6\n",
        "55    08684               Fuller,Cevin G           Engineering Staff  MQ Operations   1989-06-19           1799           4.9         8571        23.4\n",
        "56    08721               Sislowski,Mark       Senior Staff Engineer  MQ Operations   1989-06-19           4445          12.1         8571        23.4\n",
        "61    09697        Thompson,James Edward              Staff Engineer  MQ Operations   1989-11-06            245           0.6         8431        23.0\n",
        "63    10016                   Davis,Dana           Engineering Staff  MQ Operations   1990-02-19           3563           9.7         8326        22.8\n",
        "65    10133           Breon,Mark Stewart       Senior Staff Engineer  MQ Operations   1990-03-19           7119          19.5         8298        22.7\n",
        "69    10776   Howell,Cassandra Elizabeth              Staff Engineer  MQ Operations   1990-09-10            462           1.2         8123        22.2\n",
        "70    11153            Sykes Jr,Elbert L              Staff Engineer  MQ Operations   1990-11-05           4403          12.0         8067        22.1\n",
        "71    11359         Tranter,Virginia Ann     Engineering Coordinator  MQ Operations   1991-01-07           5376          14.7         8004        21.9\n",
        "72    11455      Schneider,Daniel Brooks              Staff Engineer  MQ Operations   1989-10-23           5481          15.0         8445        23.1\n",
        "78    12169                Kemper,Dale G              Staff Engineer  MQ Operations   1992-07-13           4382          12.0         7451        20.4\n",
        "80    12252            Zindars,Michael J       Senior Staff Engineer  MQ Operations   1993-07-12           2380           6.5         7087        19.4\n",
        "86    12603            Elton,Doug Gerald              Staff Engineer  MQ Operations   1986-01-20           3171           8.6         9817        26.8\n",
        "88    12905            Rosier,Kenneth E.              Staff Engineer  MQ Operations   1994-09-26           3171           8.6         6646        18.2\n",
        "89    13311          Meeker,Nathan Ralph  Administrative Coordinator  MQ Operations   1995-04-03           4935          13.5         6457        17.6\n",
        "90    13565              Grout,Michele A     Engineering Coordinator  MQ Operations   1995-05-15           5117          14.0         6415        17.5\n",
        "96    13928         Alexander,William R.           Engineering Staff  MQ Operations   1995-07-31           2149           5.8         6338        17.3\n",
        "99    14624  Johnson,Karen Michelle Amos     Engineering Coordinator  MQ Operations   1996-03-11           4200          11.5         6114        16.7\n",
        "100   15122      Sanderell,Daniel Edward              Staff Engineer  MQ Operations   1996-06-17           3612           9.8         6016        16.4\n",
        "101   15284           Driver,Jeffrey Lee     Engineering Coordinator  MQ Operations   1990-05-29           5974          16.3         8227        22.5\n",
        "104   16157         Cunningham,David Ray              Staff Engineer  MQ Operations   1997-04-14            182           0.4         5715        15.6\n",
        "116   16885              Smith,Stephen W     Engineering Coordinator  MQ Operations   1998-01-12           4445          12.1         5442        14.9\n",
        "117   16905       Anderson,James Douglas              Staff Engineer  MQ Operations   1990-02-01           1736           4.7         8344        22.8\n",
        "125   17430          Gerrard,Jeremy Eric     Engineering Coordinator  MQ Operations   1998-10-19           3367           9.2         5162        14.1\n",
        "127   17444         Powers,Michelle Mary     Engineering Coordinator  MQ Operations   1998-11-02           4137          11.3         5148        14.1\n",
        "132   17637        Price,Nicholas Andrew     Engineering Coordinator  MQ Operations   1999-09-13           2744           7.5         4833        13.2\n",
        "139   17897        Thallman,Kent Michael     Engineering Coordinator  MQ Operations   2000-08-21           2618           7.1         4490        12.3\n",
        "147   18426             Gregory,Daniel J     Engineering Coordinator  MQ Operations   2001-04-02           3108           8.5         4266        11.6\n",
        "154   19775       Fuduric,Nicholas James     Engineering Coordinator  MQ Operations   2001-08-13           2380           6.5         4133        11.3\n",
        "155   19957       Kowalczyk,Chester Adam     Engineering Coordinator  MQ Operations   2001-09-10           2380           6.5         4105        11.2\n",
        "156   20037         Gabriel,Ladd Elliott     Engineering Coordinator  MQ Operations   2001-09-17           2702           7.4         4098        11.2\n",
        "163   22257       Galante,Anthony Daniel     Engineering Coordinator  MQ Operations   2002-05-20           1890           5.1         3853        10.5\n",
        "164   22421           Hendren,Jason Ryan     Engineering Coordinator  MQ Operations   2002-06-03           2744           7.5         3839        10.5\n",
        "165   22682           Janik,James Joseph         Staff Administrator  MQ Operations   2002-07-29           3783          10.3         3783        10.3\n",
        "168   22910                  Lada,Robert     Engineering Coordinator  MQ Operations   2002-11-18           2639           7.2         3671        10.0\n",
        "173   24049      Wolfinger,Amy Jeannette     Engineering Coordinator  MQ Operations   2004-01-26           1974           5.4         3237         8.8\n",
        "175   24459              Haynam,Ryan Lee     Engineering Coordinator  MQ Operations   2004-06-07           2009           5.5         3104         8.5\n",
        "196   27085           Wolf,Zackary James           Engineering Staff  MQ Operations   2006-10-23           2236           6.1         2236         6.1\n",
        "198   27151   Hauenstein,Christina Marie     Engineering Coordinator  MQ Operations   2006-12-04            763           2.0         2194         6.0\n",
        "201   27368                 Titus,Matt E     Engineering Coordinator  MQ Operations   2007-02-19            763           2.0         2117         5.8\n",
        "202   27491                Singer,Igor A           Engineering Staff  MQ Operations   2007-04-09           1137           3.1         2068         5.6\n",
        "214   29620         Stealey,James Robert     Engineering Coordinator  MQ Operations   2008-11-17           1480           4.0         1480         4.0\n"
       ]
      }
     ],
     "prompt_number": 12
    },
    {
     "cell_type": "heading",
     "level": 4,
     "metadata": {},
     "source": [
      "Let's create a histogram on years at HAM:"
     ]
    },
    {
     "cell_type": "code",
     "collapsed": false,
     "input": [
      "n, bins, patches = plt.hist(MQ_Yrs_At_HAM, 10, normed=False, cumulative=False, facecolor='red', alpha=1)\n",
      "title(\"MQ Associates Yrs at HAM Histogram\")\n",
      "show()\n",
      "\n",
      "print \"Yrs At HAM : QTY\"\n",
      "index = 0\n",
      "while index < n.size:\n",
      "    print bins[index],\":\",n[index]\n",
      "    index = index + 1"
     ],
     "language": "python",
     "metadata": {},
     "outputs": [
      {
       "output_type": "display_data",
       "png": "[encoded data removed]"
      },
      {
       "output_type": "stream",
       "stream": "stdout",
       "text": [
        "Yrs At HAM : QTY\n",
        "4.0 : 5\n",
        "6.87 : 2\n",
        "9.74 : 9\n",
        "12.61 : 4\n",
        "15.48 : 7\n",
        "18.35 : 2\n",
        "21.22 : 13\n",
        "24.09 : 6\n",
        "26.96 : 8\n",
        "29.83 : 5\n"
       ]
      }
     ],
     "prompt_number": 19
    }
   ],
   "metadata": {}
  }
 ]
}