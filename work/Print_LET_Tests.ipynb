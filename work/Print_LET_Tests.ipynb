{
 "metadata": {
  "name": ""
 },
 "nbformat": 3,
 "nbformat_minor": 0,
 "worksheets": [
  {
   "cells": [
    {
     "cell_type": "code",
     "collapsed": false,
     "input": [
      "import LetTests as let\n",
      "import os, shutil\n",
      "\n",
      "def main(vin):\n",
      "    files = let.getXmlFiles(vin, let.getLetDrive(vin), let.getVehBuildDate(vin))\n",
      "    #files = let.getXmlFiles(vin, let.getLetDrive(vin), '2012-08-23')  # Manually enter a date if no LET files were found via normal search\n",
      "\n",
      "    print(\"\\n\")\n",
      "    print(files.__len__(), \"XML files found for VIN:\", vin)\n",
      "\n",
      "    for file in files:\n",
      "        print(file)\n",
      "\n",
      "    print(\"\\n\")\n",
      "    for file in files:\n",
      "        #let.print_fcm_angles(file)\n",
      "        #let.print_fcm_check(file)\n",
      "        #let.print_fcm_serial(file)\n",
      "        #let.print_fcm_clear(file)\n",
      "        \n",
      "        #let.print_lwc_angles(file)\n",
      "        \n",
      "        #let.print_bsi_serial(file)\n",
      "        \n",
      "        let.print_tpms_id(file)\n",
      "        #let.print_acc_radar_angles(file)\n",
      "        #let.print_audio_serial(file)\n",
      "        \n",
      "    # Remove tempdata folder for the next time we run this script\n",
      "    if os.access(\"tempdata\", os.F_OK):\n",
      "        print(\"Removing tempdata directory...\")\n",
      "        shutil.rmtree(\"tempdata\")\n",
      "        print(\"tempdata directory successfully deleted\")\n",
      "\n",
      "main('19XFB2F93DE231090')"
     ],
     "language": "python",
     "metadata": {},
     "outputs": [
      {
       "output_type": "stream",
       "stream": "stdout",
       "text": [
        "VIN: 19XFB2F93DE231090\n",
        "Vehicle AF On date: 2013-04-03\n",
        "LET date:  2013-04-03\n",
        "Digging in: \\\\hminnas\\Hmin_nas_galc_let\\Hmin\\Let\\result_xml\\2013\\201304\\20130403\\"
       ]
      },
      {
       "output_type": "stream",
       "stream": "stdout",
       "text": [
        "\n",
        "Digging in: \\\\hminnas\\Hmin_nas_galc_let\\Hmin\\Let\\result_xml\\2013\\201304\\20130403\\MassPro"
       ]
      },
      {
       "output_type": "stream",
       "stream": "stdout",
       "text": [
        "\n",
        "Digging in: \\\\hminnas\\Hmin_nas_galc_let\\Hmin\\Let\\result_xml\\2013\\201304\\20130403\\MassPro\\1LINE"
       ]
      },
      {
       "output_type": "stream",
       "stream": "stdout",
       "text": [
        "\n",
        "Tar file found:"
       ]
      },
      {
       "output_type": "stream",
       "stream": "stdout",
       "text": [
        " \\\\hminnas\\Hmin_nas_galc_let\\Hmin\\Let\\result_xml\\2013\\201304\\20130403\\MassPro\\1LINE\\2013-04-03.xmls.tar_created_20130421100256.gz\n",
        "Tar file found: \\\\hminnas\\Hmin_nas_galc_let\\Hmin\\Let\\result_xml\\2013\\201304\\20130403\\MassPro\\1LINE\\2013-04-03.xmls.tar_created_20130405023001.gz\n",
        "Creating tempdata folder if it does not already exist\n",
        "Extracting \\\\hminnas\\Hmin_nas_galc_let\\Hmin\\Let\\result_xml\\2013\\201304\\20130403\\MassPro\\1LINE\\2013-04-03.xmls.tar_created_20130421100256.gz into the tempdata folder...\n",
        "Finished extracting tar file"
       ]
      },
      {
       "output_type": "stream",
       "stream": "stdout",
       "text": [
        "\n",
        "Extracting \\\\hminnas\\Hmin_nas_galc_let\\Hmin\\Let\\result_xml\\2013\\201304\\20130403\\MassPro\\1LINE\\2013-04-03.xmls.tar_created_20130405023001.gz into the tempdata folder...\n",
        "Finished extracting tar file"
       ]
      },
      {
       "output_type": "stream",
       "stream": "stdout",
       "text": [
        "\n",
        "LET date:  2013-04-04\n",
        "Digging in: \\\\hminnas\\Hmin_nas_galc_let\\Hmin\\Let\\result_xml\\2013\\201304\\20130404\\"
       ]
      },
      {
       "output_type": "stream",
       "stream": "stdout",
       "text": [
        "\n",
        "Digging in: \\\\hminnas\\Hmin_nas_galc_let\\Hmin\\Let\\result_xml\\2013\\201304\\20130404\\MassPro"
       ]
      },
      {
       "output_type": "stream",
       "stream": "stdout",
       "text": [
        "\n",
        "Digging in: \\\\hminnas\\Hmin_nas_galc_let\\Hmin\\Let\\result_xml\\2013\\201304\\20130404\\MassPro\\1LINE"
       ]
      },
      {
       "output_type": "stream",
       "stream": "stdout",
       "text": [
        "\n",
        "Tar file found:"
       ]
      },
      {
       "output_type": "stream",
       "stream": "stdout",
       "text": [
        " \\\\hminnas\\Hmin_nas_galc_let\\Hmin\\Let\\result_xml\\2013\\201304\\20130404\\MassPro\\1LINE\\2013-04-04.xmls.tar_created_20130406023001.gz\n",
        "Creating tempdata folder if it does not already exist\n",
        "Extracting \\\\hminnas\\Hmin_nas_galc_let\\Hmin\\Let\\result_xml\\2013\\201304\\20130404\\MassPro\\1LINE\\2013-04-04.xmls.tar_created_20130406023001.gz into the tempdata folder...\n",
        "Finished extracting tar file"
       ]
      },
      {
       "output_type": "stream",
       "stream": "stdout",
       "text": [
        "\n",
        "Digging in: tempdata\n",
        "Adding XML file: tempdata\\19XFB2F93DE231090_20130403_100529_X25_DTR3-LS9-00_Pass_0_1.xml\n",
        "\n",
        "\n",
        "1 XML files found for VIN: 19XFB2F93DE231090\n",
        "tempdata\\19XFB2F93DE231090_20130403_100529_X25_DTR3-LS9-00_Pass_0_1.xml\n",
        "\n",
        "\n",
        "TPMS Sensor IDs:"
       ]
      },
      {
       "output_type": "stream",
       "stream": "stdout",
       "text": [
        "\n",
        "19XFB2F93DE231090 SENSID1 ADB243FE 2013-04-03T10:04:49\n",
        "19XFB2F93DE231090 SENSID2 ADB243BC 2013-04-03T10:04:49\n",
        "19XFB2F93DE231090 SENSID3 ADB13EFA 2013-04-03T10:04:49\n",
        "19XFB2F93DE231090 SENSID4 ADB24417 2013-04-03T10:04:49\n",
        "Removing tempdata directory...\n",
        "tempdata directory successfully deleted"
       ]
      },
      {
       "output_type": "stream",
       "stream": "stdout",
       "text": [
        "\n"
       ]
      }
     ],
     "prompt_number": 1
    }
   ],
   "metadata": {}
  }
 ]
}