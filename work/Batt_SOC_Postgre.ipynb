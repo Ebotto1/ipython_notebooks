{
 "metadata": {
  "name": "Batt_SOC_Postgre"
 },
 "nbformat": 3,
 "nbformat_minor": 0,
 "worksheets": [
  {
   "cells": [
    {
     "cell_type": "markdown",
     "metadata": {},
     "source": [
      "<center><img src=\"http://xpo38498/www/images/honda_logo_small.jpg\"></center>"
     ]
    },
    {
     "cell_type": "markdown",
     "metadata": {},
     "source": [
      "<H2 align=\"center\">Obtaining and Summarizing Battery SOC</H2>"
     ]
    },
    {
     "cell_type": "markdown",
     "metadata": {},
     "source": [
      "<p>This first set of code obtains the battery SOCs stored in a PostgreSQL database.  A VIN can have multiple LET reads.  For our purposes, we want only records with the most recent battery SOC.  As a consequence, the SQL is somewhat more complicated.  For faster performance, I decided to use WITH statements to create 2 temporary tables: one containing a subset of the vb_check_param table containing just battery SOC and the other table containing just the most recent battery SOC LET record.  Then I merge the two tables together.  I may look into making a view later and use that instead of using WITH statement.</p>"
     ]
    },
    {
     "cell_type": "code",
     "collapsed": false,
     "input": [
      "import pandas.io.sql as sqlio          # Makes creation of dataframes/datasets from sql connection very easy\n",
      "import numpy as np                     # Contains useful mathematical or matrix-related functions\n",
      "import base64                          # Needed to decode password\n",
      "import psycopg2                        # Driver to access PostgreSQL\n",
      "import statsmodels.api as sm\n",
      "import itertools\n",
      "\n",
      "# Get my encoded password\n",
      "pw_file = open(r'D:\\webapps\\_server\\pyodbc\\postgre.txt', 'r')\n",
      "pwd = base64.b64decode(pw_file.read())\n",
      "pw_file.close()\n",
      "\n",
      "user = 'ma17151'\n",
      "database = 'denso'\n",
      "\n",
      "conn = psycopg2.connect(\"host='xpo38498' dbname=\" + database + \" user=\" + user + \" password=\" + pwd)\n",
      "\n",
      "# A VIN can have more than one LET reads.  We want to just get the lastest LET read.\n",
      "sql = \"\"\"\n",
      "with vb as (\n",
      "select\n",
      "\"txtVIN\",\n",
      "txtparam,\n",
      "txtparamval,\n",
      "\"MDL_YR\",\n",
      "\"FCTRY_CD\",\n",
      "\"MDL_NM\",\n",
      "\"ENG_CYL\",\n",
      "\"DEST_CD\",\n",
      "\"datTime\"\n",
      "\n",
      "FROM vb_check_param\n",
      "\n",
      "where\n",
      "txtparam = 'BATT_SOC'\n",
      "AND \"MDL_YR\" IN(2012,2013)\n",
      "AND \"FCTRY_CD\" IN( 'MAP', 'ELP' )\n",
      "AND \"MDL_NM\" IN('ACCORD','CROSSTOUR','CRV','RDX','TL')\n",
      "AND \"DEST_CD\" IN('KA')\n",
      "AND \"ENG_CYL\" = '4'\n",
      "),\n",
      "\n",
      "vb_unique as (\n",
      "\n",
      "select distinct\n",
      "\"txtVIN\",\n",
      "txtparam,\n",
      "max(\"datTime\") as maxdate\n",
      "\n",
      "from vb_check_param\n",
      "\n",
      "where\n",
      "txtparam = 'BATT_SOC'\n",
      "AND \"MDL_YR\" IN(2012,2013)\n",
      "AND \"FCTRY_CD\" IN( 'MAP', 'ELP' )\n",
      "AND \"MDL_NM\" IN('ACCORD','CROSSTOUR','CRV','RDX','TL')\n",
      "AND \"DEST_CD\" IN('KA')\n",
      "AND \"ENG_CYL\" = '4'\n",
      "\n",
      "group by\n",
      "\"txtVIN\",\n",
      "txtparam\n",
      ")\n",
      "\n",
      "select\n",
      "vb.\"txtVIN\",\n",
      "vb.txtparam,\n",
      "vb.txtparamval,\n",
      "vb.\"MDL_YR\",\n",
      "vb.\"FCTRY_CD\",\n",
      "vb.\"MDL_NM\",\n",
      "vb.\"ENG_CYL\",\n",
      "vb.\"DEST_CD\",\n",
      "to_char(vb.\"datTime\",'YYYY-MM') as \"testYrMth\"\n",
      "\n",
      "from vb vb\n",
      "\n",
      "inner join vb_unique vb_unique\n",
      "\n",
      "on vb.\"txtVIN\" = vb_unique.\"txtVIN\"\n",
      "and vb.txtparam = vb_unique.txtparam\n",
      "and vb.\"datTime\" = vb_unique.maxdate\n",
      "\n",
      "order by\n",
      "\"txtVIN\"\n",
      "\"\"\"\n",
      "\n",
      "df = sqlio.read_frame(sql, conn)  # Create a dataframe that consists of the data defined by our SQL\n",
      "\n",
      "conn.close()  # We've created our dataframe, so we can discard our connection now..."
     ],
     "language": "python",
     "metadata": {},
     "outputs": [],
     "prompt_number": 1
    },
    {
     "cell_type": "heading",
     "level": 4,
     "metadata": {},
     "source": [
      "Let's see what the dataframe looks like and confirm we don't have duplicates.  This prints out the first 10 and last 10 records in our dataframe:"
     ]
    },
    {
     "cell_type": "code",
     "collapsed": false,
     "input": [
      "print df.head(10)\n",
      "print df.tail(10)"
     ],
     "language": "python",
     "metadata": {},
     "outputs": [
      {
       "output_type": "stream",
       "stream": "stdout",
       "text": [
        "              txtVIN  txtparam  txtparamval  MDL_YR FCTRY_CD  MDL_NM ENG_CYL DEST_CD testYrMth\n",
        "0  1HGCR2E30DA053445  BATT_SOC         93.0    2013      MAP  ACCORD       4      KA   2012-11\n",
        "1  1HGCR2E30DA053459  BATT_SOC         84.5    2013      MAP  ACCORD       4      KA   2012-11\n",
        "2  1HGCR2E30DA053462  BATT_SOC         84.0    2013      MAP  ACCORD       4      KA   2012-11\n",
        "3  1HGCR2E30DA056068  BATT_SOC         83.5    2013      MAP  ACCORD       4      KA   2012-11\n",
        "4  1HGCR2E30DA056071  BATT_SOC         94.0    2013      MAP  ACCORD       4      KA   2012-11\n",
        "5  1HGCR2E30DA056085  BATT_SOC         74.5    2013      MAP  ACCORD       4      KA   2012-11\n",
        "6  1HGCR2E30DA056099  BATT_SOC         78.0    2013      MAP  ACCORD       4      KA   2012-11\n",
        "7  1HGCR2E30DA056104  BATT_SOC         55.5    2013      MAP  ACCORD       4      KA   2012-11\n",
        "8  1HGCR2E30DA057639  BATT_SOC         90.0    2013      MAP  ACCORD       4      KA   2012-11\n",
        "9  1HGCR2E30DA057642  BATT_SOC         89.5    2013      MAP  ACCORD       4      KA   2012-11\n",
        "                   txtVIN  txtparam  txtparamval  MDL_YR FCTRY_CD MDL_NM ENG_CYL DEST_CD testYrMth\n",
        "112988  5J6RM4H7XDL036877  BATT_SOC         73.0    2013      ELP    CRV       4      KA   2012-12\n",
        "112989  5J6RM4H7XDL036880  BATT_SOC         73.0    2013      ELP    CRV       4      KA   2012-12\n",
        "112990  5J6RM4H7XDL036894  BATT_SOC         71.0    2013      ELP    CRV       4      KA   2012-12\n",
        "112991  5J6RM4H7XDL036913  BATT_SOC         73.0    2013      ELP    CRV       4      KA   2012-12\n",
        "112992  5J6RM4H7XDL036927  BATT_SOC         73.0    2013      ELP    CRV       4      KA   2012-12\n",
        "112993  5J6RM4H7XDL036930  BATT_SOC         70.0    2013      ELP    CRV       4      KA   2012-12\n",
        "112994  5J6RM4H7XDL036944  BATT_SOC         83.0    2013      ELP    CRV       4      KA   2012-12\n",
        "112995  5J6RM4H7XDL036958  BATT_SOC         85.5    2013      ELP    CRV       4      KA   2012-12\n",
        "112996  5J6RM4H7XDL036961  BATT_SOC         71.0    2013      ELP    CRV       4      KA   2012-12\n",
        "112997  5J6RM4H7XDL036975  BATT_SOC         78.5    2013      ELP    CRV       4      KA   2012-12\n"
       ]
      }
     ],
     "prompt_number": 12
    },
    {
     "cell_type": "heading",
     "level": 3,
     "metadata": {},
     "source": [
      "Summary Statistics by Plant:"
     ]
    },
    {
     "cell_type": "code",
     "collapsed": false,
     "input": [
      "print df.groupby(['FCTRY_CD'])['txtparamval'].describe()"
     ],
     "language": "python",
     "metadata": {},
     "outputs": [
      {
       "output_type": "stream",
       "stream": "stdout",
       "text": [
        "FCTRY_CD       \n",
        "ELP       count    58846.000000\n",
        "          mean        77.870883\n",
        "          std          7.578398\n",
        "          min          0.000000\n",
        "          25%         74.000000\n",
        "          50%         78.500000\n",
        "          75%         82.000000\n",
        "          max        127.500000\n",
        "MAP       count    54152.000000\n",
        "          mean        85.472716\n",
        "          std         11.968843\n",
        "          min          0.000000\n",
        "          25%         83.500000\n",
        "          50%         88.500000\n",
        "          75%         92.500000\n",
        "          max        127.500000\n"
       ]
      }
     ],
     "prompt_number": 13
    },
    {
     "cell_type": "heading",
     "level": 3,
     "metadata": {},
     "source": [
      "Mean Battery % SOC vs LET Test Month:"
     ]
    },
    {
     "cell_type": "markdown",
     "metadata": {},
     "source": [
      "<p>As you can see below, ELP's % SOC on average is lower than MAP's (this data set consists of just KA/KL L4 vehicles), so we are comparing apples with apples.</p>"
     ]
    },
    {
     "cell_type": "code",
     "collapsed": false,
     "input": [
      "print \"Mean Battery % SOC:\"\n",
      "print df.groupby(['FCTRY_CD','testYrMth'])['txtparamval'].mean()"
     ],
     "language": "python",
     "metadata": {},
     "outputs": [
      {
       "output_type": "stream",
       "stream": "stdout",
       "text": [
        "Mean Battery % SOC:\n",
        "FCTRY_CD  testYrMth\n",
        "ELP       2012-08      78.495317\n",
        "          2012-09      78.429185\n",
        "          2012-10      78.470077\n",
        "          2012-11      75.638667\n",
        "          2012-12      78.837256\n",
        "          2013-01      81.103175\n",
        "MAP       2012-08      85.157192\n",
        "          2012-09      84.498244\n",
        "          2012-10      88.282424\n",
        "          2012-11      84.171191\n",
        "          2012-12      85.194087\n",
        "          2013-01      79.463113\n",
        "Name: txtparamval\n"
       ]
      }
     ],
     "prompt_number": 14
    },
    {
     "cell_type": "heading",
     "level": 3,
     "metadata": {},
     "source": [
      "Histogram of Battery % SOC:"
     ]
    },
    {
     "cell_type": "markdown",
     "metadata": {},
     "source": [
      "<p>Not too surprising that the shape of the distribution is somewhat following a normal distribution</p>"
     ]
    },
    {
     "cell_type": "code",
     "collapsed": false,
     "input": [
      "MAP = df[ (df['FCTRY_CD']=='MAP') ]['txtparamval'].values          # get just MAP values\n",
      "ELP = df[ (df['FCTRY_CD']=='ELP') ]['txtparamval'].values          # get just ELP values\n",
      "\n",
      "data_set = [ [MAP,ELP], ['MAP','ELP'] ]\n",
      "\n",
      "n, bins, patches = plt.hist(data_set[0], 30, normed=True, cumulative=False, alpha=1, label=data_set[1])\n",
      "title(\"MAP vs ELP\", weight='bold')\n",
      "xlabel(\"% SOC\")\n",
      "legend()\n",
      "show()"
     ],
     "language": "python",
     "metadata": {},
     "outputs": [
      {
       "output_type": "display_data",
       "png": "[encoded data removed]"
      }
     ],
     "prompt_number": 11
    },
    {
     "cell_type": "heading",
     "level": 3,
     "metadata": {},
     "source": [
      "Box Plot of Battery % SOC:"
     ]
    },
    {
     "cell_type": "markdown",
     "metadata": {},
     "source": [
      "<p>Box plots are useful for showing where most of the data lies, this further supports that on average, ELP's battery % SOCs are lower than MAP's.</p>"
     ]
    },
    {
     "cell_type": "code",
     "collapsed": false,
     "input": [
      "fig1 = figure(1, facecolor=\"white\")\n",
      "subplot(1,1,1, axisbg='#cdc9c9')\n",
      "ax = gca()\n",
      "\n",
      "boxplot(data_set[0], vert=0, whis=3)\n",
      "title(\"MAP vs ELP % SOC\", weight='bold')\n",
      "plt.xlabel(\"% SOC\")\n",
      "ax.set_yticklabels(data_set[1])\n",
      "ax.xaxis.grid(which='major', linestyle='--', linewidth=1)\n",
      "major_ticks = MultipleLocator(20)\n",
      "ax.xaxis.set_major_locator(major_ticks)\n",
      "show()"
     ],
     "language": "python",
     "metadata": {},
     "outputs": [
      {
       "output_type": "display_data",
       "png": "[encoded data removed]"
      }
     ],
     "prompt_number": 3
    },
    {
     "cell_type": "heading",
     "level": 3,
     "metadata": {},
     "source": [
      "Empirical CDF Chart"
     ]
    },
    {
     "cell_type": "markdown",
     "metadata": {},
     "source": [
      "<p>This chart below is called the empirical cumulative distribution chart (ECDF).  It is useful to determine if sample distributions are similar or not.  The easiest way to understand this chart is look at the area under the curves.  For example, MAP's area dramatically increases once we reach 80% state of charge.  In contrast, the area under ELP's curve has already increased well before 80% SOC.</p>"
     ]
    },
    {
     "cell_type": "code",
     "collapsed": false,
     "input": [
      "x_values = np.linspace(0, 120,120)\n",
      "\n",
      "i = 0\n",
      "for data in data_set[0]:\n",
      "    legend_labels = data_set[1]\n",
      "    ecdf = sm.distributions.ECDF(data)\n",
      "    y_values = ecdf(x_values)\n",
      "    step(x_values, y_values, label=legend_labels[i])\n",
      "    # Create a dictionary where the x values are the keys and the y values are the values\n",
      "    my_dict = dict(itertools.izip(x_values, y_values))\n",
      "    # Can't sort a dictionary, so have to use this crazy stupid sorted function to create a sorted tuple instead\n",
      "    my_dict_sorted = sorted(my_dict.items(), key=lambda x: x[0])\n",
      "    print legend_labels[i] + \":\\n\"\n",
      "    print my_dict_sorted\n",
      "    print \"\\n\"\n",
      "    i = i + 1\n",
      "title(\"ECDF\", weight=\"bold\")\n",
      "xlabel(\"DTF\")\n",
      "legend(loc='best')\n",
      "grid(True)\n",
      "show()"
     ],
     "language": "python",
     "metadata": {},
     "outputs": [
      {
       "output_type": "stream",
       "stream": "stdout",
       "text": [
        "MAP:\n",
        "\n",
        "[(0.0, 0.0042219215155615691), (1.0084033613445378, 0.0042219215155615691), (2.0168067226890756, 0.0042219215155615691), (3.0252100840336134, 0.0042219215155615691), (4.0336134453781511, 0.0042580063148398737), (5.0420168067226889, 0.0042760487144790256), (6.0504201680672267, 0.0042760487144790256), (7.0588235294117645, 0.0042760487144790256), (8.0672268907563023, 0.0042760487144790256), (9.0756302521008401, 0.0042760487144790256), (10.084033613445378, 0.0042760487144790256), (11.092436974789916, 0.0042940911141181775), (12.100840336134453, 0.0042940911141181775), (13.109243697478991, 0.0042940911141181775), (14.117647058823529, 0.0042940911141181775), (15.126050420168067, 0.0043121335137573293), (16.134453781512605, 0.0043482183130356331), (17.142857142857142, 0.0043662607126747858), (18.15126050420168, 0.0043662607126747858), (19.159663865546218, 0.0043662607126747858), (20.168067226890756, 0.0043662607126747858), (21.176470588235293, 0.0043662607126747858), (22.184873949579831, 0.0043662607126747858), (23.193277310924369, 0.0043843031123139376), (24.201680672268907, 0.0044203879115922414), (25.210084033613445, 0.0044384303112313932), (26.218487394957982, 0.0044384303112313932), (27.22689075630252, 0.0044384303112313932), (28.235294117647058, 0.0044564727108705451), (29.243697478991596, 0.0044925575101488497), (30.252100840336134, 0.0045105999097880016), (31.260504201680671, 0.0045286423094271534), (32.268907563025209, 0.0045647271087054572), (33.277310924369743, 0.0045827695083446099), (34.285714285714285, 0.0046729815065403692), (35.294117647058826, 0.0047992783040144331), (36.30252100840336, 0.0048353631032927377), (37.310924369747895, 0.0049616599007668016), (38.319327731092436, 0.0051059990978800174), (39.327731092436977, 0.0054488046910239054), (40.336134453781511, 0.0057013982859720341), (41.344537815126046, 0.0061524582769508342), (42.352941176470587, 0.0065674334686513305), (43.361344537815128, 0.0069102390617952186), (44.369747899159663, 0.0076319350473612983), (45.378151260504197, 0.0083897158322056836), (46.386554621848738, 0.0093820478123590439), (47.394957983193279, 0.010608930987821381), (48.403361344537814, 0.011926026161479477), (49.411764705882348, 0.013513757329724853), (50.420168067226889, 0.015173658096526838), (51.428571428571431, 0.017483085250338294), (52.436974789915965, 0.019954894000902119), (53.445378151260499, 0.023202525935949479), (54.45378151260504, 0.026792963464140729), (55.462184873949582, 0.031141181777176362), (56.470588235294116, 0.035561569688768606), (57.47899159663865, 0.039675236806495262), (58.487394957983192, 0.04445647271087054), (59.495798319327733, 0.049237708615245825), (60.504201680672267, 0.056436626071267475), (61.512605042016801, 0.062119981957600358), (62.521008403361343, 0.0670275146594497), (63.529411764705884, 0.072007216959855652), (64.537815126050418, 0.076752368064952628), (65.546218487394952, 0.082110960757780779), (66.554621848739487, 0.086350924672981499), (67.563025210084035, 0.090392422192151545), (68.571428571428569, 0.09425349571493008), (69.579831932773104, 0.098836265223274683), (70.588235294117652, 0.10412268831754623), (71.596638655462186, 0.10989625620207487), (72.605042016806721, 0.1155615696887686), (73.613445378151255, 0.12193053676138926), (74.621848739495789, 0.13042850699142985), (75.630252100840337, 0.13849345963013079), (76.638655462184872, 0.14681100586377988), (77.647058823529406, 0.15740189445196209), (78.655462184873954, 0.16952638700947226), (79.663865546218489, 0.18316644113667116), (80.672268907563023, 0.19898962562020747), (81.680672268907557, 0.2167253044654939), (82.689075630252091, 0.23884528642309427), (83.69747899159664, 0.26664862426702751), (84.705882352941174, 0.30231844835363103), (85.714285714285708, 0.34811005863779881), (86.722689075630257, 0.39911592241768151), (87.731092436974791, 0.45504736129905277), (88.739495798319325, 0.51731168245376635), (89.747899159663859, 0.58486242670275146), (90.756302521008394, 0.65154713576905732), (91.764705882352942, 0.71633739287325215), (92.773109243697476, 0.77941362201172759), (93.78151260504201, 0.83435272891294543), (94.789915966386559, 0.88027063599458732), (95.798319327731093, 0.91660802886783943), (96.806722689075627, 0.94437528191249442), (97.815126050420162, 0.96326567433468657), (98.823529411764696, 0.97721244925575101), (99.831932773109244, 0.9983040144339197), (100.84033613445378, 0.9999458728010826), (101.84873949579831, 0.9999458728010826), (102.85714285714286, 0.9999458728010826), (103.8655462184874, 0.9999458728010826), (104.87394957983193, 0.9999458728010826), (105.88235294117646, 0.9999458728010826), (106.890756302521, 0.9999458728010826), (107.89915966386555, 0.9999458728010826), (108.90756302521008, 0.9999458728010826), (109.91596638655462, 0.9999458728010826), (110.92436974789916, 0.9999458728010826), (111.9327731092437, 0.9999458728010826), (112.94117647058823, 0.9999458728010826), (113.94957983193277, 0.9999458728010826), (114.9579831932773, 0.9999458728010826), (115.96638655462185, 0.9999458728010826), (116.97478991596638, 0.9999458728010826), (117.98319327731092, 0.9999458728010826), (118.99159663865547, 0.9999458728010826), (120.0, 0.9999458728010826)]\n",
        "\n",
        "\n",
        "ELP:\n",
        "\n",
        "[(0.0, 0.00065394547100841734), (1.0084033613445378, 0.00090546295985780869), (2.0168067226890756, 0.0010563734531674434), (3.0252100840336134, 0.0011569804487072), (4.0336134453781511, 0.0012743552768369158), (5.0420168067226889, 0.0012743552768369158), (6.0504201680672267, 0.0013246587746067941), (7.0588235294117645, 0.0013917301049666318), (8.0672268907563023, 0.0014252657701465507), (9.0756302521008401, 0.0014588014353264696), (10.084033613445378, 0.001475569267916429), (11.092436974789916, 0.0014923371005063884), (12.100840336134453, 0.0014923371005063884), (13.109243697478991, 0.0015091049330963478), (14.117647058823529, 0.0015426405982762667), (15.126050420168067, 0.0015426405982762667), (16.134453781512605, 0.0015761762634561856), (17.142857142857142, 0.001592944096046145), (18.15126050420168, 0.0016432475938160231), (19.159663865546218, 0.0016432475938160231), (20.168067226890756, 0.0016935510915859014), (21.176470588235293, 0.0017270867567658202), (22.184873949579831, 0.0017606224219457391), (23.193277310924369, 0.0017941580871256579), (24.201680672268907, 0.0018276937523055768), (25.210084033613445, 0.0018276937523055768), (26.218487394957982, 0.0018612294174854957), (27.22689075630252, 0.0018947650826654145), (28.235294117647058, 0.001911532915255374), (29.243697478991596, 0.001911532915255374), (30.252100840336134, 0.0019283007478453334), (31.260504201680671, 0.0019450685804352928), (32.268907563025209, 0.0019953720782051707), (33.277310924369743, 0.002079211241154968), (34.285714285714285, 0.0021462825715148058), (35.294117647058826, 0.0021462825715148058), (36.30252100840336, 0.0022301217344646027), (37.310924369747895, 0.0023307287300043593), (38.319327731092436, 0.0024984070559039536), (39.327731092436977, 0.0025990140514437097), (40.336134453781511, 0.002766692377343304), (41.344537815126046, 0.0029008350380629795), (42.352941176470587, 0.0031020490291424926), (43.361344537815128, 0.0033367986854019242), (44.369747899159663, 0.0035715483416613562), (45.378151260504197, 0.0035715483416613562), (46.386554621848738, 0.0040242798215902606), (47.394957983193279, 0.0042757973104396527), (48.403361344537814, 0.0045608504644689624), (49.411764705882348, 0.0048291357859083133), (50.420168067226889, 0.0053992420939669335), (51.428571428571431, 0.0058687414064857975), (52.436974789915965, 0.0065059190449042554), (53.445378151260499, 0.007159864515912673), (54.45378151260504, 0.0080485596431805213), (55.462184873949582, 0.0080485596431805213), (56.470588235294116, 0.0089875582682182494), (57.47899159663865, 0.010295449210235084), (58.487394957983192, 0.011754250645561553), (59.495798319327733, 0.013464569569737414), (60.504201680672267, 0.015275495489453032), (61.512605042016801, 0.018444615848955362), (62.521008403361343, 0.021764646701767327), (63.529411764705884, 0.026141051007746736), (64.537815126050418, 0.032412220396391557), (65.546218487394952, 0.040511083537341952), (66.554621848739487, 0.051661692209664968), (67.563025210084035, 0.068613970958113946), (68.571428571428569, 0.087175961635199015), (69.579831932773104, 0.087175961635199015), (70.588235294117652, 0.11534592038633085), (71.596638655462186, 0.1487977464032999), (72.605042016806721, 0.18992923974647036), (73.613445378151255, 0.23701331365907641), (74.621848739495789, 0.29105603809651565), (75.630252100840337, 0.35328146483785505), (76.638655462184872, 0.42219725678258824), (77.647058823529406, 0.49396358026761455), (78.655462184873954, 0.56477413729501325), (79.663865546218489, 0.56477413729501325), (80.672268907563023, 0.6330024481035581), (81.680672268907557, 0.70144874073577246), (82.689075630252091, 0.76184647372480629), (83.69747899159664, 0.81213320366209452), (84.705882352941174, 0.85792615446527376), (85.714285714285708, 0.89412790502699613), (86.722689075630257, 0.92342130856165527), (87.731092436974791, 0.94635970354471977), (88.739495798319325, 0.96277541165029001), (89.747899159663859, 0.96277541165029001), (90.756302521008394, 0.97483148328247082), (91.764705882352942, 0.98321539957745052), (92.773109243697476, 0.98851403467587773), (93.78151260504201, 0.99198497602199931), (94.789915966386559, 0.99446661524531332), (95.798319327731093, 0.9962607733324389), (96.806722689075627, 0.99745128944632611), (97.815126050420162, 0.99830644890841402), (98.823529411764696, 0.99931251886381156), (99.831932773109244, 0.99931251886381156), (100.84033613445378, 0.99986585733928024), (101.84873949579831, 0.99986585733928024), (102.85714285714286, 0.99986585733928024), (103.8655462184874, 0.99986585733928024), (104.87394957983193, 0.99986585733928024), (105.88235294117646, 0.99986585733928024), (106.890756302521, 0.99986585733928024), (107.89915966386555, 0.99986585733928024), (108.90756302521008, 0.99986585733928024), (109.91596638655462, 0.99986585733928024), (110.92436974789916, 0.99986585733928024), (111.9327731092437, 0.99986585733928024), (112.94117647058823, 0.99986585733928024), (113.94957983193277, 0.99986585733928024), (114.9579831932773, 0.99986585733928024), (115.96638655462185, 0.99986585733928024), (116.97478991596638, 0.99986585733928024), (117.98319327731092, 0.99986585733928024), (118.99159663865547, 0.99986585733928024), (120.0, 0.99986585733928024)]\n",
        "\n",
        "\n"
       ]
      },
      {
       "output_type": "display_data",
       "png": "[encoded data removed]"
      }
     ],
     "prompt_number": 44
    },
    {
     "cell_type": "heading",
     "level": 3,
     "metadata": {},
     "source": [
      "Next Steps"
     ]
    },
    {
     "cell_type": "markdown",
     "metadata": {},
     "source": [
      "<p>So what conclusions can be made from all of this?  Well, we currently don't have enough 2013 battery warranty yet (Only MAP and ELP data with AF off date since 8/20/12).  Once we do, I will include battery warranty chart and see if ELP's battery warranty is worse than MAP's battery warranty based on the hypothesis that lower shipping battery SOC equates to higher warranty.</p>"
     ]
    }
   ],
   "metadata": {}
  }
 ]
}