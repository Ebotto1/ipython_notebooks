{
 "metadata": {
  "name": ""
 },
 "nbformat": 3,
 "nbformat_minor": 0,
 "worksheets": [
  {
   "cells": [
    {
     "cell_type": "code",
     "collapsed": false,
     "input": [
      "from urllib import request\n",
      "import pandas\n",
      "\n",
      "yen = request.urlopen('http://research.stlouisfed.org/fred2/series/EXJPUS/downloaddata/EXJPUS.csv')\n",
      "df = pandas.read_csv(yen, index_col=0)\n",
      "\n",
      "yen_dates = [value for value in df.index]\n",
      "\n",
      "# Create a dictionary where the key is the date and the value is the yen value\n",
      "yen_dict = {date:price[0] for date, price in zip(yen_dates,df.values.tolist())}\n",
      "\n",
      "# Unfortunately, the dictionary is not sorted (and can't be sorted), but we can make a sorted tuple from the dictionary\n",
      "yen_tuple_sorted = sorted(yen_dict.items(), key=lambda x: x[0])\n",
      "yen_tuple_sorted[-1:]"
     ],
     "language": "python",
     "metadata": {},
     "outputs": [
      {
       "metadata": {},
       "output_type": "pyout",
       "prompt_number": 2,
       "text": [
        "[('2013-07-01', 99.9279)]"
       ]
      }
     ],
     "prompt_number": 2
    }
   ],
   "metadata": {}
  }
 ]
}