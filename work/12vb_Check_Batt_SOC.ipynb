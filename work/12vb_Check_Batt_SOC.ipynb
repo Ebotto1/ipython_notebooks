{
 "metadata": {
  "name": "12vb_Check_Batt_SOC"
 },
 "nbformat": 3,
 "nbformat_minor": 0,
 "worksheets": [
  {
   "cells": [
    {
     "cell_type": "markdown",
     "metadata": {},
     "source": [
      "<center><img src=\"http://xpo38498/www/images/honda_logo_small.jpg\"></center>"
     ]
    },
    {
     "cell_type": "markdown",
     "metadata": {},
     "source": [
      "<H2 align=\"center\">Script that summarizes Battery SOC Values</H2>"
     ]
    },
    {
     "cell_type": "code",
     "collapsed": false,
     "input": [
      "import sqlite3                         # Needed to access Sqlite3 database\n",
      "import pandas.io.sql as sqlio          # Makes creation of dataframes/datasets from sql connection very easy\n",
      "import numpy as np                     # Contains useful mathematical or matrix-related functions\n",
      "\n",
      "con = sqlite3.connect(r'd:\\webapps\\denso\\server\\db\\denso')\n",
      "\n",
      "# A VIN can have more than one LET reads.  We want to just get the lastest LET read.\n",
      "sql = \"\"\"\n",
      "select\n",
      "txtparam,\n",
      "txtparamval,\n",
      "MDL_YR,\n",
      "FCTRY_CD,\n",
      "MDL_NM,\n",
      "ENG_CYL,\n",
      "DEST_CD,\n",
      "strftime('%Y-%m',date(max(datTime))) as testYrMonth\n",
      "\n",
      "from vb_check_param\n",
      "\n",
      "indexed by idx_vb_param_Yr_Fac_Mdl_Param\n",
      "\n",
      "WHERE\n",
      "MDL_YR IN(2012, 2013)\n",
      "AND FCTRY_CD IN('MAP','ELP')\n",
      "AND MDL_NM IN('ACCORD','CRV','RDX')\n",
      "AND TXTPARAM = 'BATT_SOC'\n",
      "AND ENG_CYL = '4'\n",
      "AND DEST_CD IN('KA','KL')\n",
      "\n",
      "group by\n",
      "txtVIN\"\"\"\n",
      "\n",
      "df = sqlio.read_frame(sql, con)\n",
      "\n",
      "con.close()\n",
      "\n",
      "# Let's see what the dataframe looks like.  This prints out the first 5 and last 5 records in our dataframe:\n",
      "print df.head()\n",
      "print df.tail()"
     ],
     "language": "python",
     "metadata": {},
     "outputs": [
      {
       "output_type": "stream",
       "stream": "stdout",
       "text": [
        "   txtparam  txtparamval  MDL_YR FCTRY_CD  MDL_NM ENG_CYL DEST_CD testYrMonth\n",
        "0  BATT_SOC         86.5    2013      MAP  ACCORD       4      KA     2012-11\n",
        "1  BATT_SOC         85.0    2013      MAP  ACCORD       4      KA     2012-11\n",
        "2  BATT_SOC         88.5    2013      MAP  ACCORD       4      KA     2012-11\n",
        "3  BATT_SOC         88.5    2013      MAP  ACCORD       4      KA     2012-11\n",
        "4  BATT_SOC         89.0    2013      MAP  ACCORD       4      KA     2012-11\n",
        "        txtparam  txtparamval  MDL_YR FCTRY_CD MDL_NM ENG_CYL DEST_CD testYrMonth\n",
        "108957  BATT_SOC         78.5    2013      ELP    CRV       4      KA     2012-12\n",
        "108958  BATT_SOC         86.5    2013      ELP    CRV       4      KA     2012-12\n",
        "108959  BATT_SOC         75.5    2013      ELP    CRV       4      KA     2012-12\n",
        "108960  BATT_SOC         85.5    2013      ELP    CRV       4      KA     2012-12\n",
        "108961  BATT_SOC         85.5    2013      ELP    CRV       4      KA     2012-12\n"
       ]
      }
     ],
     "prompt_number": 5
    },
    {
     "cell_type": "heading",
     "level": 3,
     "metadata": {},
     "source": [
      "Print the mean battery SOC for each LET month:"
     ]
    },
    {
     "cell_type": "code",
     "collapsed": false,
     "input": [
      "print \"---------------------------------------------------\"\n",
      "print \"Mean Battery SOC:\"\n",
      "print df.groupby(['FCTRY_CD','testYrMonth'])['txtparamval'].mean()"
     ],
     "language": "python",
     "metadata": {},
     "outputs": [
      {
       "output_type": "stream",
       "stream": "stdout",
       "text": [
        "---------------------------------------------------\n",
        "Mean Battery SOC:\n",
        "FCTRY_CD  testYrMonth\n",
        "ELP       2012-08        78.495317\n",
        "          2012-09        78.429185\n",
        "          2012-10        78.470234\n",
        "          2012-11        75.638151\n",
        "          2012-12        78.946675\n",
        "MAP       2012-08        85.293404\n",
        "          2012-09        83.972941\n",
        "          2012-10        86.314563\n",
        "          2012-11        82.319464\n",
        "          2012-12        84.416928\n",
        "Name: txtparamval\n"
       ]
      }
     ],
     "prompt_number": 6
    },
    {
     "cell_type": "heading",
     "level": 3,
     "metadata": {},
     "source": [
      "Histogram of Battery SOC %:"
     ]
    },
    {
     "cell_type": "code",
     "collapsed": true,
     "input": [
      "MAP = df[ (df['FCTRY_CD']=='MAP') ]['txtparamval'].values          # get just MAP values\n",
      "ELP = df[ (df['FCTRY_CD']=='ELP') ]['txtparamval'].values          # get just ELP values\n",
      "n, bins, patches = plt.hist([MAP,ELP], 30, normed=False, cumulative=False, alpha=1, label=['MAP','ELP'])\n",
      "title(\"MAP vs ELP\", weight='bold')\n",
      "xlabel(\"% SOC\")\n",
      "legend()\n",
      "show()"
     ],
     "language": "python",
     "metadata": {},
     "outputs": [
      {
       "output_type": "display_data",
       "png": "[encoded data removed]"
      }
     ],
     "prompt_number": 7
    },
    {
     "cell_type": "heading",
     "level": 3,
     "metadata": {},
     "source": [
      "Box Plot of the % Battery SOC"
     ]
    },
    {
     "cell_type": "code",
     "collapsed": false,
     "input": [
      "fig1 = figure(1, facecolor=\"white\")\n",
      "subplot(1,1,1, axisbg='#cdc9c9')\n",
      "ax = gca()\n",
      "\n",
      "boxplot([MAP,ELP], vert=0, whis=3)\n",
      "title(\"MAP vs ELP % SOC\", weight='bold')\n",
      "plt.xlabel(\"% SOC\")\n",
      "ax.set_yticklabels(['MAP', 'ELP'])\n",
      "ax.xaxis.grid(which='major', linestyle='--', linewidth=1)\n",
      "major_ticks = MultipleLocator(20)\n",
      "ax.xaxis.set_major_locator(major_ticks)\n",
      "show()"
     ],
     "language": "python",
     "metadata": {},
     "outputs": [
      {
       "output_type": "display_data",
       "png": "[encoded data removed]"
      }
     ],
     "prompt_number": 8
    }
   ],
   "metadata": {}
  }
 ]
}