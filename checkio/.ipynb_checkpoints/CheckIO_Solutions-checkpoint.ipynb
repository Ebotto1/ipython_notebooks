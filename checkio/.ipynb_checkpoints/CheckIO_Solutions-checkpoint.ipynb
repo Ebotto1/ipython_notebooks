{
 "metadata": {
  "name": "",
  "signature": "sha256:7129076039b0ee9c5c23c0e6391527ea44af559adfefec5dbbe44f9163796de1"
 },
 "nbformat": 3,
 "nbformat_minor": 0,
 "worksheets": [
  {
   "cells": [
    {
     "cell_type": "markdown",
     "metadata": {},
     "source": [
      "### Returning a list of non-unique numbers"
     ]
    },
    {
     "cell_type": "code",
     "collapsed": false,
     "input": [
      "checkio([1, 2, 3, 1, 3]) == [1, 3, 1, 3]\n",
      "checkio([1, 2, 3, 4, 5]) == []\n",
      "checkio([5, 5, 5, 5, 5]) == [5, 5, 5, 5, 5]\n",
      "checkio([10, 9, 10, 10, 9, 8]) == [10, 9, 10, 10, 9]"
     ],
     "language": "python",
     "metadata": {},
     "outputs": []
    },
    {
     "cell_type": "code",
     "collapsed": false,
     "input": [
      "def checkio(data):\n",
      "    return [value for value in data if data.count(value) > 1]"
     ],
     "language": "python",
     "metadata": {},
     "outputs": [],
     "prompt_number": 44
    },
    {
     "cell_type": "markdown",
     "metadata": {},
     "source": [
      "### Calculating the median"
     ]
    },
    {
     "cell_type": "code",
     "collapsed": false,
     "input": [
      "def checkio(data):\n",
      "    data.sort()\n",
      "    if len(data) % 2 == 0:\n",
      "        idx1 = int(len(data) / 2) - 1\n",
      "        idx2 = idx1 + 1\n",
      "        median = (data[idx1] + data[idx2]) / 2\n",
      "    else:\n",
      "        median = data[int(len(data)/2)]\n",
      "        \n",
      "    return median"
     ],
     "language": "python",
     "metadata": {},
     "outputs": [],
     "prompt_number": 72
    },
    {
     "cell_type": "markdown",
     "metadata": {},
     "source": [
      "### Password strength checker"
     ]
    },
    {
     "cell_type": "markdown",
     "metadata": {},
     "source": [
      "The password will be considered strong enough if\n",
      "- its length is greater than or equal to 10 symbols\n",
      "- it has at least one digit\n",
      "- as well as containing one uppercase letter and \n",
      "- one lowercase letter in it. The password contains only ASCII latin letters or digits. "
     ]
    },
    {
     "cell_type": "markdown",
     "metadata": {},
     "source": [
      "#### Examples:"
     ]
    },
    {
     "cell_type": "markdown",
     "metadata": {},
     "source": [
      "checkio('A1213pokl') == False<br>\n",
      "checkio('bAse730onE') == True<br>\n",
      "checkio('asasasasasasasaas') == False<br>\n",
      "checkio('QWERTYqwerty') == False<br>\n",
      "checkio('123456123456') == False<br>\n",
      "checkio('QwErTy911poqqqq') == True"
     ]
    },
    {
     "cell_type": "code",
     "collapsed": false,
     "input": [
      "def checkio(data):\n",
      "    test_status = {'long_enough':False,'has_digit':False,'has_upper':False,'has_lower':False}\n",
      "    \n",
      "    if len(data) >= 10:\n",
      "        test_status['long_enough'] = True\n",
      "    \n",
      "    for char in data:\n",
      "        if char.isdigit():\n",
      "            test_status['has_digit'] = True\n",
      "        \n",
      "    for char in data:\n",
      "        if char.isupper():\n",
      "            test_status['has_upper'] = True\n",
      "\n",
      "    for char in data:\n",
      "        if char.islower():\n",
      "            test_status['has_lower'] = True\n",
      "\n",
      "    # if all 4 of the tests passed, then return True, else return False\n",
      "    if list(test_status.values()).count(True) == 4:\n",
      "        return True\n",
      "    else:\n",
      "        return False"
     ],
     "language": "python",
     "metadata": {},
     "outputs": [],
     "prompt_number": 121
    },
    {
     "cell_type": "code",
     "collapsed": false,
     "input": [
      "checkio('123')"
     ],
     "language": "python",
     "metadata": {},
     "outputs": [
      {
       "metadata": {},
       "output_type": "pyout",
       "prompt_number": 122,
       "text": [
        "False"
       ]
      }
     ],
     "prompt_number": 122
    },
    {
     "cell_type": "markdown",
     "metadata": {},
     "source": [
      "### BONUS: This version will let you know what was wrong with your password"
     ]
    },
    {
     "cell_type": "code",
     "collapsed": false,
     "input": [
      "def checkio(data):\n",
      "    test_status = {'long_enough':False,'has_digit':False,'has_upper':False,'has_lower':False}\n",
      "    \n",
      "    if len(data) >= 10:\n",
      "        test_status['long_enough'] = True\n",
      "    \n",
      "    for char in data:\n",
      "        if char.isdigit():\n",
      "            test_status['has_digit'] = True\n",
      "        \n",
      "    for char in data:\n",
      "        if char.isupper():\n",
      "            test_status['has_upper'] = True\n",
      "\n",
      "    for char in data:\n",
      "        if char.islower():\n",
      "            test_status['has_lower'] = True\n",
      "\n",
      "    # if all 4 of the tests passed, then return True, else return False\n",
      "    if list(test_status.values()).count(True) == 4:\n",
      "        return True\n",
      "    else:\n",
      "        if test_status['long_enough'] == True:\n",
      "            pass\n",
      "        else:\n",
      "            print('Your password was not long enough')\n",
      "            \n",
      "        if test_status['has_digit'] == True:\n",
      "            pass\n",
      "        else:\n",
      "            print('Your password needs at least 1 digit')\n",
      "            \n",
      "        if test_status['has_upper'] == True:\n",
      "            pass\n",
      "        else:\n",
      "            print('Your password needs to have at least 1 upper case letter')\n",
      "            \n",
      "        if test_status['has_lower'] == True:\n",
      "            pass\n",
      "        else:\n",
      "            print('Your password needs to have at least 1 lower case letter')"
     ],
     "language": "python",
     "metadata": {},
     "outputs": [],
     "prompt_number": 123
    },
    {
     "cell_type": "code",
     "collapsed": false,
     "input": [
      "checkio('QwErTy911poqqqq')"
     ],
     "language": "python",
     "metadata": {},
     "outputs": [
      {
       "metadata": {},
       "output_type": "pyout",
       "prompt_number": 124,
       "text": [
        "True"
       ]
      }
     ],
     "prompt_number": 124
    },
    {
     "cell_type": "code",
     "collapsed": false,
     "input": [
      "checkio('123')"
     ],
     "language": "python",
     "metadata": {},
     "outputs": [
      {
       "output_type": "stream",
       "stream": "stdout",
       "text": [
        "Your password was not long enough\n",
        "Your password needs to have at least 1 upper case letter\n",
        "Your password needs to have at least 1 lower case letter\n"
       ]
      }
     ],
     "prompt_number": 125
    }
   ],
   "metadata": {}
  }
 ]
}