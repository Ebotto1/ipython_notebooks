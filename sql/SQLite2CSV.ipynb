{
 "metadata": {
  "name": ""
 },
 "nbformat": 3,
 "nbformat_minor": 0,
 "worksheets": [
  {
   "cells": [
    {
     "cell_type": "code",
     "collapsed": false,
     "input": [
      "import sqlite3\n",
      "\n",
      "conn = sqlite3.connect(r'D:\\webapps\\denso\\server\\db\\dtc')\n",
      "\n",
      "cursor = conn.cursor()\n",
      "\n",
      "sql = \"\"\"\n",
      "select\n",
      "VIN,DTC,DTC_DESC,MDL_YR,FCTRY_CD,MDL_NM,DOORS,ENG_CYL,ENG_SERIES,TRANSMISSION,GRADE_SHORT,DEST_CD,SEATS_LEATHER,NAVIGATION,[4WD],\n",
      "date(TESTDATE) as LET_DATE\n",
      "\n",
      "from let_dtc\n",
      "\n",
      "where\n",
      "dtc = 'P1078'\n",
      "\"\"\"\n",
      "\n",
      "resultset = cursor.execute(sql).fetchall()"
     ],
     "language": "python",
     "metadata": {},
     "outputs": [],
     "prompt_number": 27
    },
    {
     "cell_type": "code",
     "collapsed": false,
     "input": [
      "output_file = open(r'd:\\temp\\output.csv', 'w')"
     ],
     "language": "python",
     "metadata": {},
     "outputs": [],
     "prompt_number": 28
    },
    {
     "cell_type": "code",
     "collapsed": false,
     "input": [
      "output_file.write('VIN,DTC,DTC_DESC,MDL_YR,FCTRY_CD,MDL_NM,DOORS,ENG_CYL,ENG_SERIES,TRANSMISSION,GRADE_SHORT,DEST_CD,SEATS_LEATHER,NAVIGATION,4WD,LET_DATE\\n')"
     ],
     "language": "python",
     "metadata": {},
     "outputs": [
      {
       "metadata": {},
       "output_type": "pyout",
       "prompt_number": 29,
       "text": [
        "136"
       ]
      }
     ],
     "prompt_number": 29
    },
    {
     "cell_type": "code",
     "collapsed": false,
     "input": [
      "for row in resultset:\n",
      "    output_file.write(str(row[0])+\",\"+\n",
      "                      str(row[1])+\",\"+\n",
      "                      str(row[2])+\",\"+\n",
      "                      str(row[3])+\",\"+\n",
      "                      str(row[4])+\",\"+\n",
      "                      str(row[5])+\",\"+\n",
      "                      str(row[6])+\",\"+\n",
      "                      str(row[7])+\",\"+\n",
      "                      str(row[8])+\",\"+\n",
      "                      str(row[9])+\",\"+\n",
      "                      str(row[10])+\",\"+\n",
      "                      str(row[11])+\",\"+\n",
      "                      str(row[12])+\",\"+\n",
      "                      str(row[13])+\",\"+\n",
      "                      str(row[14])+\",\"+\n",
      "                      str(row[15])+\"\\n\")\n",
      "    \n",
      "output_file.close()"
     ],
     "language": "python",
     "metadata": {},
     "outputs": [],
     "prompt_number": 30
    }
   ],
   "metadata": {}
  }
 ]
}