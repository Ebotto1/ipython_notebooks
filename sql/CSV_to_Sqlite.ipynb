{
 "metadata": {
  "name": ""
 },
 "nbformat": 3,
 "nbformat_minor": 0,
 "worksheets": [
  {
   "cells": [
    {
     "cell_type": "code",
     "collapsed": false,
     "input": [
      "import pandas as pd\n",
      "pd.set_option('display.max_columns', 15)\n",
      "ohio = pd.read_csv(r'C:\\Documents and Settings\\ma17151\\Desktop\\2012-2013_School_Year Staff_Information.csv',\n",
      "                   converters={'PAY AMOUNT': lambda x: float(x.replace('$', '').replace(',',''))})"
     ],
     "language": "python",
     "metadata": {},
     "outputs": [],
     "prompt_number": 2
    },
    {
     "cell_type": "code",
     "collapsed": false,
     "input": [
      "import sqlite3\n",
      "\n",
      "conn = sqlite3.connect('/home/pybokeh/webapps/www/server/db/myDB')    \n",
      "c = conn.cursor()\n",
      "\n",
      "multiple_rows = ohio.values\n",
      "c.executemany('INSERT INTO ohio_education_workers VALUES (?,?,?,?,?,?,?,?,?,?,?)', multiple_rows)\n",
      "\n",
      "conn.commit()\n",
      "conn.close()"
     ],
     "language": "python",
     "metadata": {},
     "outputs": [],
     "prompt_number": 5
    }
   ],
   "metadata": {}
  }
 ]
}