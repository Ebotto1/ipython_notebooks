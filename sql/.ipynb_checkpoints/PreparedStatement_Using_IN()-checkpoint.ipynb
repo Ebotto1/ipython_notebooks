{
 "metadata": {
  "name": "",
  "signature": "sha256:c386bdab9b344714b13a1098c15bd3f83d649282ec51e2e06439a4c1e9c70acb"
 },
 "nbformat": 3,
 "nbformat_minor": 0,
 "worksheets": [
  {
   "cells": [
    {
     "cell_type": "heading",
     "level": 3,
     "metadata": {},
     "source": [
      "Example on how to use SQL prepared statement with the in() operator"
     ]
    },
    {
     "cell_type": "markdown",
     "metadata": {},
     "source": [
      "You may or may not already realize this, but using a prepared statement with in() can be problematic when you don't know beforehand how many values the user will enter since the number of question marks (?) must be the same as the number of values the user has provided.  Typically, prepared statements are used where we assume the user enters just one value, but it is possible to use them where the user can enter any number of values.\n",
      "\n",
      "For example, we can't assume the user will provide just one name as in this sql example:<br>\n",
      "select last_name from table where name in(?)\n",
      "\n",
      "What if the user wants to submit more than one name? 2 names? 3 names?  How do we address this?<br><br>\n",
      "The solution?  Use Python's .join() function.  For example, we can do:<br>\n",
      "\"select last_name from table where name in(%s)\" % (\",\".join(\"?\" * N), where N is the number of names the user submitted.  Suppose N = 4, then the result of this statement would be:<br> select last_name from table where name in(?,?,?,?).<br><br>\n",
      "Looks good, but is there a better way?"
     ]
    },
    {
     "cell_type": "heading",
     "level": 4,
     "metadata": {},
     "source": [
      "If you're wondering why people would use prepared statements and not just concatenate the sql string, please research what sql injection attacks are.  Plus, concatenated sql string just looks plain messy."
     ]
    },
    {
     "cell_type": "code",
     "collapsed": false,
     "input": [
      "import pyodbc                # Needed to connect to ODBC data sources\n",
      "import numpy as np\n",
      "import matplotlib.pyplot as plt\n",
      "from matplotlib.dates import MonthLocator, WeekdayLocator, DateFormatter\n",
      "from matplotlib.ticker import MultipleLocator\n",
      "import pandas as pd\n",
      "from getpass import getpass # text input that will not echo the text you entered\n",
      "\n",
      "userid = getpass(prompt='Enter your user id: ')\n",
      "pw     = getpass(promtp='Enter your password: ')\n",
      "\n",
      "cnxn_string = 'DSN=myDB;UID=' + userid + ';PWD=' + pw\n",
      "\n",
      "cnxn = pyodbc.connect(cnxn_string)\n",
      "cursor = cnxn.cursor()\n",
      "\n",
      "# Get the necessary input from the user\n",
      "repl_part = input(\"Enter replaced part#(s) separated by comma: \")\n",
      "year = input(\"Enter model year(s) separated by comma: \")\n",
      "factory = input(\"Enter factory code(s) separated by comma: \")\n",
      "model = input(\"Enter model name(s) separated by comma: \")\n",
      "dest_code = input(\"Enter destination code(s), separated by comma: \")\n",
      "\n",
      "# Make a list for each parameter input\n",
      "repl_parts = repl_part.split(',')\n",
      "years      = year.split(',')\n",
      "factories  = factory.split(',')\n",
      "models     = model.split(',')\n",
      "dest_codes = dest_code.split(',')\n",
      "\n",
      "# Now get the number of items in each list so that we can properly use th .join() function above\n",
      "R = len(repl_parts)  # The number of replaced part #s the user entered\n",
      "Y = len(years)       # The number of years the user entered\n",
      "F = len(factories)   # The number of factories the user entered\n",
      "M = len(models)      # The number of models the user entered\n",
      "D = len(dest_codes)  # The number of destination codes the user entered\n",
      "\n",
      "# In this SQL, there are 5 parameters that we want to get input from the user using IN(%s)\n",
      "sql = \"\"\"\n",
      "WITH REPL AS\n",
      "(SELECT\n",
      "REPL_PART_SK,\n",
      "CLM_SK\n",
      "\n",
      "FROM CMQ.V_FACT_CLM_REPL_PART REPL\n",
      "INNER JOIN CMQ.V_DIM_PART PART\n",
      "ON REPL.REPL_PART_SK = PART.PART_SK\n",
      "\n",
      "WHERE\n",
      "PART.SHRT_PART_NO IN(%s)\n",
      "),\n",
      "\n",
      "VINS AS\n",
      "(SELECT DISTINCT\n",
      "PROD.VIN_SK,\n",
      "PROD.VIN_NO\n",
      "\n",
      "FROM\n",
      "CMQ.V_FACT_VHCL_PRDN_SLS PROD\n",
      "\n",
      "INNER JOIN CMQ.V_DIM_MTO MTO\n",
      "ON PROD.MTO_SK = MTO.MTO_SK\n",
      "\n",
      "WHERE\n",
      "MTO.MDL_YR IN(%s)\n",
      "AND MTO.FCTRY_CD IN(%s)\n",
      "AND MTO.MDL_NM IN(%s)\n",
      "AND DEST_CD IN(%s)\n",
      ")\n",
      "\n",
      "SELECT\n",
      "REC_DT,\n",
      "COUNT(*) AS QTY\n",
      "\n",
      "FROM(\n",
      "SELECT\n",
      "REPL.CLM_SK,\n",
      "VINS.VIN_NO,\n",
      "REC_CAL.CAL_DT AS REC_DT,\n",
      "DPART.SHRT_PART_NO AS REPL_PART\n",
      "\n",
      "FROM\n",
      "CMQ.V_FACT_CLM_TRX CLAIMS\n",
      "INNER JOIN REPL\n",
      "ON CLAIMS.CLM_SK = REPL.CLM_SK\n",
      "\n",
      "INNER JOIN VINS\n",
      "ON CLAIMS.VIN_SK = VINS.VIN_SK\n",
      "\n",
      "INNER JOIN CMQ.V_DIM_DATE REC_CAL\n",
      "ON CLAIMS.CMQ_RCV_DT_SK = REC_CAL.CAL_DT_SK\n",
      "\n",
      "INNER JOIN CMQ.V_DIM_PART DPART\n",
      "ON REPL.REPL_PART_SK = DPART.PART_SK\n",
      ") AS TEMP\n",
      "\n",
      "GROUP BY\n",
      "REC_DT\n",
      "\"\"\" % (\",\".join(\"?\" * R), \",\".join(\"?\" * Y), \",\".join(\"?\" * F), \",\".join(\"?\" * M), \",\".join(\"?\" * D))\n",
      "# The join functions above are what makes prepared statements with IN() possible!  R, Y, F, M, and D are the \n",
      "# number of values that the user has submitted for those respective ? parameters\n",
      "# The join() function will generate a string such that we get: ?,?,?,...where the number of ?s are determined\n",
      "# by how many values that were entered by the user separated by commas\n",
      "\n",
      "parameter_list = []\n",
      "for part in repl_parts:\n",
      "    parameter_list.append(part)\n",
      "    \n",
      "for year in years:\n",
      "    parameter_list.append(year)\n",
      "    \n",
      "for factory in factories:\n",
      "    parameter_list.append(factory)\n",
      "\n",
      "for model in models:\n",
      "    parameter_list.append(model)\n",
      "    \n",
      "for code in dest_codes:\n",
      "    parameter_list.append(code)\n",
      "\n",
      "df = pd.read_sql(sql, cnxn, index_col=\"REC_DT\", params=parameter_list)\n",
      "\n",
      "# Close connections\n",
      "cursor.close()\n",
      "cnxn.close()"
     ],
     "language": "python",
     "metadata": {},
     "outputs": [
      {
       "name": "stdout",
       "output_type": "stream",
       "stream": "stdout",
       "text": [
        "Enter replaced part#(s) separated by comma: 79115\n"
       ]
      },
      {
       "name": "stdout",
       "output_type": "stream",
       "stream": "stdout",
       "text": [
        "Enter model year(s) separated by comma: 2012\n"
       ]
      },
      {
       "name": "stdout",
       "output_type": "stream",
       "stream": "stdout",
       "text": [
        "Enter factory code(s) separated by comma: SSS\n"
       ]
      },
      {
       "name": "stdout",
       "output_type": "stream",
       "stream": "stdout",
       "text": [
        "Enter model name(s) separated by comma: FOCUS\n"
       ]
      },
      {
       "name": "stdout",
       "output_type": "stream",
       "stream": "stdout",
       "text": [
        "Enter destination code(s), separated by comma: KY,KZ\n"
       ]
      }
     ],
     "prompt_number": 8
    },
    {
     "cell_type": "code",
     "collapsed": false,
     "input": [
      "fig = plt.figure()\n",
      "ax = plt.subplot(1,1,1)\n",
      "\n",
      "# Let's define x-axis date interval sizes: month, week, or day\n",
      "month_interval = 1   \n",
      "months = MonthLocator(bymonth=range(1,13),  bymonthday=1, interval=month_interval)\n",
      "month  = MonthLocator(bymonth=range(1,13),  bymonthday=1, interval=1)\n",
      "week   = WeekdayLocator(byweekday=MO)  # Every MOnday\n",
      "day    = DayLocator(bymonthday=range(1,32), interval=1)\n",
      "\n",
      "# Let's define x-axis formatting intervals\n",
      "monthsFmt = DateFormatter(\"%b '%y\")\n",
      "ax.xaxis.set_major_locator(months)\n",
      "ax.xaxis.set_major_formatter(monthsFmt)\n",
      "ax.xaxis.set_minor_locator(week)\n",
      "ax.xaxis.grid(which='major')\n",
      "\n",
      "# Let's define y-axis formatting\n",
      "y_major_ticks = MultipleLocator(5)\n",
      "ax.yaxis.set_major_locator(y_major_ticks)\n",
      "ax.yaxis.grid(which='major')\n",
      "\n",
      "#plt.title(\"\\large{Plotting Dates}\")\n",
      "plt.bar(df.index, df.values)\n",
      "plt.title(\"Some Data\")\n",
      "plt.xticks(rotation=-90)\n",
      "plt.xlabel(\"Received Date\\nMajor ticks=months\\nMinor ticks=weeks\")\n",
      "plt.ylabel(\"Qty\")\n",
      "plt.show()"
     ],
     "language": "python",
     "metadata": {},
     "outputs": [
      {
       "metadata": {},
       "output_type": "display_data",
       "png": "[encoded data removed]",
       "text": [
        "<matplotlib.figure.Figure at 0x459c330>"
       ]
      }
     ],
     "prompt_number": 6
    }
   ],
   "metadata": {}
  }
 ]
}