{
 "metadata": {
  "name": "",
  "signature": "sha256:6574faba0ff88dad9ead32ca9d1f34390700bd763e726f050093b08c0ffc5f87"
 },
 "nbformat": 3,
 "nbformat_minor": 0,
 "worksheets": []
}