{
 "metadata": {
  "name": "",
  "signature": "sha256:188d1a4f26d327e3fa4e36aa5af5d623b40d2d54ba11ff4ef5c259c7bb851165"
 },
 "nbformat": 3,
 "nbformat_minor": 0,
 "worksheets": [
  {
   "cells": [
    {
     "cell_type": "code",
     "collapsed": false,
     "input": [
      "%load_ext rpy2.ipython"
     ],
     "language": "python",
     "metadata": {},
     "outputs": [],
     "prompt_number": 1
    },
    {
     "cell_type": "markdown",
     "metadata": {},
     "source": [
      "## Read contents of a csv file into a data.frame"
     ]
    },
    {
     "cell_type": "markdown",
     "metadata": {},
     "source": [
      "Contents of a csv file:<br>\n",
      "date,qty<br>\n",
      "2013-09,4<br>\n",
      "2013-10,86<br>\n",
      "2013-11,413<br>\n",
      "2013-12,1203<br>\n",
      "2014-01,1464<br>\n",
      "2014-02,760<br>\n",
      "2014-03,409<br>\n",
      "2014-04,154<br>\n",
      "2014-05,66<br>\n",
      "2014-06,35<br>\n",
      "2014-07,27<br>\n",
      "2014-08,21<br>\n",
      "2014-09,36<br>\n",
      "2014-10,103<br>\n",
      "2014-11,657<br>\n",
      "2014-12,1067<br>\n",
      "2015-01,1660<br>\n",
      "2015-02,1334<br>\n",
      "2015-03,897<br>\n",
      "2015-04,556<br>\n",
      "2015-05,234<br>\n",
      "2015-06,180<br>\n",
      "2015-07,89<br>\n",
      "2015-08,34<br>\n",
      "2015-09,12<br>"
     ]
    },
    {
     "cell_type": "code",
     "collapsed": false,
     "input": [
      "%%R\n",
      "df = read.csv(\"/home/pybokeh/temp/ts.csv\",header=TRUE,stringsAsFactors=FALSE)\n",
      "print(df)"
     ],
     "language": "python",
     "metadata": {},
     "outputs": [
      {
       "metadata": {},
       "output_type": "display_data",
       "text": [
        "      date  qty\n",
        "1  2013-09    4\n",
        "2  2013-10   86\n",
        "3  2013-11  413\n",
        "4  2013-12 1203\n",
        "5  2014-01 1464\n",
        "6  2014-02  760\n",
        "7  2014-03  409\n",
        "8  2014-04  154\n",
        "9  2014-05   66\n",
        "10 2014-06   35\n",
        "11 2014-07   27\n",
        "12 2014-08   21\n",
        "13 2014-09   36\n",
        "14 2014-10  103\n",
        "15 2014-11  657\n",
        "16 2014-12 1067\n",
        "17 2015-01 1660\n",
        "18 2015-02 1334\n",
        "19 2015-03  897\n",
        "20 2015-04  556\n",
        "21 2015-05  234\n",
        "22 2015-06  180\n",
        "23 2015-07   89\n",
        "24 2015-08   34\n",
        "25 2015-09   12\n"
       ]
      }
     ],
     "prompt_number": 18
    },
    {
     "cell_type": "code",
     "collapsed": false,
     "input": [
      "%%R\n",
      "str(df)"
     ],
     "language": "python",
     "metadata": {},
     "outputs": [
      {
       "metadata": {},
       "output_type": "display_data",
       "text": [
        "'data.frame':\t25 obs. of  2 variables:\n",
        " $ date: chr  \"2013-09\" \"2013-10\" \"2013-11\" \"2013-12\" ...\n",
        " $ qty : int  4 86 413 1203 1464 760 409 154 66 35 ...\n"
       ]
      }
     ],
     "prompt_number": 19
    },
    {
     "cell_type": "markdown",
     "metadata": {},
     "source": [
      "### Convert the date column which is currently of type \"char\" to an actual Date type:"
     ]
    },
    {
     "cell_type": "code",
     "collapsed": false,
     "input": [
      "%%R\n",
      "library(xts)\n",
      "df$date = as.yearmon(df$date, format=\"%Y-%m\") \n",
      "str(df)"
     ],
     "language": "python",
     "metadata": {},
     "outputs": [
      {
       "metadata": {},
       "output_type": "display_data",
       "text": [
        "'data.frame':\t25 obs. of  2 variables:\n",
        " $ date:Class 'yearmon'  num [1:25] 2014 2014 2014 2014 2014 ...\n",
        " $ qty : int  4 86 413 1203 1464 760 409 154 66 35 ...\n"
       ]
      }
     ],
     "prompt_number": 20
    },
    {
     "cell_type": "code",
     "collapsed": false,
     "input": [
      "%%R\n",
      "dft = ts(df$qty,frequency=12,start=c(2013,9)) # or dft = zoo(df$qty, order.by=df$date, frequency=12)\n",
      "print(dft)"
     ],
     "language": "python",
     "metadata": {},
     "outputs": [
      {
       "metadata": {},
       "output_type": "display_data",
       "text": [
        "      Jan  Feb  Mar  Apr  May  Jun  Jul  Aug  Sep  Oct  Nov  Dec\n",
        "2013                                            4   86  413 1203\n",
        "2014 1464  760  409  154   66   35   27   21   36  103  657 1067\n",
        "2015 1660 1334  897  556  234  180   89   34   12               \n"
       ]
      }
     ],
     "prompt_number": 21
    },
    {
     "cell_type": "code",
     "collapsed": false,
     "input": [
      "%%R\n",
      "library(forecast)\n",
      "hwm = HoltWinters(dft, gamma=TRUE)\n",
      "hwf = forecast.HoltWinters(hwm, h=24)\n",
      "summary(hwf)"
     ],
     "language": "python",
     "metadata": {},
     "outputs": [
      {
       "metadata": {},
       "output_type": "display_data",
       "text": [
        "Loading required package: timeDate\n",
        "This is forecast 5.7 \n",
        "\n",
        "\n",
        "Forecast method: HoltWinters\n",
        "\n",
        "Model Information:\n",
        "Holt-Winters exponential smoothing with trend and additive seasonal component.\n",
        "\n",
        "Call:\n",
        "HoltWinters(x = dft, gamma = TRUE)\n",
        "\n",
        "Smoothing parameters:\n",
        " alpha: 1\n",
        " beta : 0\n",
        " gamma: TRUE\n",
        "\n",
        "Coefficients:\n",
        "          [,1]\n",
        "a    451.19097\n",
        "b     20.18983\n",
        "s1  -409.27431\n",
        "s2   120.97569\n",
        "s3   517.93403\n",
        "s4  1102.30903\n",
        "s5   773.18403\n",
        "s6    30.05903\n",
        "s7  -226.98264\n",
        "s8  -325.85764\n",
        "s9  -361.35764\n",
        "s10 -371.85764\n",
        "s11 -409.94097\n",
        "s12 -439.19097\n",
        "\n",
        "Error measures:\n",
        "                   ME     RMSE      MAE      MPE     MAPE     MASE      ACF1\n",
        "Training set -11.7963 117.1829 76.30628 136.7339 311.5072 2.384571 0.0413256\n",
        "\n",
        "Forecasts:\n",
        "         Point Forecast      Lo 80     Hi 80      Lo 95     Hi 95\n",
        "Oct 2015        62.1065  -93.40762  217.6206 -175.73183  299.9448\n",
        "Nov 2015       612.5463  392.61615  832.4765  276.19215  948.9005\n",
        "Dec 2015      1029.6945  760.33613 1299.0529  617.74643 1441.6426\n",
        "Jan 2016      1634.2593 1323.23108 1945.2876 1158.58268 2109.9360\n",
        "Feb 2016      1325.3242  977.58401 1673.0643  793.50149 1857.1468\n",
        "Mar 2016       602.3890  221.45874  983.3192   19.80645 1184.9715\n",
        "Apr 2016       365.5372  -45.91454  776.9888 -263.72391  994.7982\n",
        "May 2016       286.8520 -153.00838  726.7123 -385.85639  959.5603\n",
        "Jun 2016       271.5418 -195.00055  738.0842 -441.97316  985.0568\n",
        "Jul 2016       281.2316 -210.54719  773.0105 -470.87918 1033.3425\n",
        "Aug 2016       263.3381 -252.44385  779.1201 -525.48234 1052.1586\n",
        "Sep 2016       254.2780 -284.43875  792.9947 -569.61815 1078.1741\n",
        "Oct 2016       304.3845 -256.32967  865.0986 -553.15380 1161.9227\n",
        "Nov 2016       854.8243  272.94374 1436.7049  -35.08522 1744.7338\n",
        "Dec 2016      1271.9725  669.66886 1874.2761  350.82860 2193.1163\n",
        "Jan 2017      1876.5373 1254.48081 2498.5938  925.18400 2827.8906\n",
        "Feb 2017      1567.6021  926.40098 2208.8033  586.96960 2548.2347\n",
        "Mar 2017       844.6670  184.87642 1504.4575 -164.39559 1853.7295\n",
        "Apr 2017       607.8151  -70.05522 1285.6855 -428.89810 1644.5283\n",
        "May 2017       529.1300 -166.35034 1224.6102 -534.51537 1592.7753\n",
        "Jun 2017       513.8198 -198.83545 1226.4750 -576.09234 1603.7319\n",
        "Jul 2017       523.5096 -205.91627 1252.9355 -592.05101 1639.0702\n",
        "Aug 2017       505.6161 -240.20341 1251.4356 -635.01642 1646.2486\n",
        "Sep 2017       496.5559 -265.30455 1258.4164 -668.60913 1661.7210\n"
       ]
      }
     ],
     "prompt_number": 22
    },
    {
     "cell_type": "code",
     "collapsed": false,
     "input": [
      "%%R\n",
      "plot.forecast(hwf)"
     ],
     "language": "python",
     "metadata": {},
     "outputs": [
      {
       "metadata": {},
       "output_type": "display_data",
       "png": "[encoded data removed]"
      }
     ],
     "prompt_number": 23
    }
   ],
   "metadata": {}
  }
 ]
}