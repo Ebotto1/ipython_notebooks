{
 "metadata": {
  "name": "",
  "signature": "sha256:94ed13644216dc03b0fae221f6136192e2f49ada7b88dfb8429f61546d5228c4"
 },
 "nbformat": 3,
 "nbformat_minor": 0,
 "worksheets": [
  {
   "cells": [
    {
     "cell_type": "markdown",
     "metadata": {},
     "source": [
      "- [Installing packages]()"
     ]
    },
    {
     "cell_type": "code",
     "collapsed": false,
     "input": [
      "install.packages(\"package_name\")"
     ],
     "language": "python",
     "metadata": {},
     "outputs": []
    }
   ],
   "metadata": {}
  }
 ]
}