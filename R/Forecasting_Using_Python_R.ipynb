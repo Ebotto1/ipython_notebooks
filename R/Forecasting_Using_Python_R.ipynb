{
 "metadata": {
  "name": "",
  "signature": "sha256:7b5b3d2590c8b7468eafa2fd05355cd4c319eb0fe3b307dfe9485324fab4980f"
 },
 "nbformat": 3,
 "nbformat_minor": 0,
 "worksheets": [
  {
   "cells": [
    {
     "cell_type": "markdown",
     "metadata": {},
     "source": [
      "<center><h1>Forecasting Stock Ticker Data Using Python and R</h1></center>"
     ]
    },
    {
     "cell_type": "markdown",
     "metadata": {},
     "source": [
      "This is just a simple example to show how easy it is to use Python and R together.  The reasons I am using R in addition to Python is because R has such a vast array of available statical packages that Python currently don't have or not as easily accessible. So I would typically do the data manipulation in Python and then when it comes to the actual statistical heavy-lifting, I use R.   Another reason why I still use R from time to time, is because R's ggplot2 plotting library is awesome.  But there is a Python port of ggplot2 made by [Yhat](http://blog.yhathq.com/posts/ggplot-for-python.html).  But it still has some ways to go to be good for production use.\n",
      "\n",
      "After you have Python/IPython notebook installed and set up, you just need to install R first and then rpy2.  In this example, it is assumed you have installed the [Pandas](http://pandas.pydata.org/) library.\n",
      "\n",
      "You install R by going [here](http://www.r-project.org/) or do a: sudo apt-get install r-base if you're on a Ubuntu-based machine.  Then install rpy2 by executing pip at the console/terminal: pip install rpy2\n",
      "\n",
      "<strong>NOTE:</strong> On Windows 7, it'll be hit or miss.  At least for me, I would get weird unformatted output to the IPython notebook from R on a Windows 7 machine.  rpy2's own website also state they do not fully support Windows, which is too bad since I have to use Windows at work.  But generating charts still worked on Windows and you can still get formatted output from the terminal console that you've launched ipython notebook server from.\n",
      "\n",
      "My setup:\n",
      "- Python 3.4 installed using Anaconda distribution using miniconda3 [installer](http://conda.pydata.org/miniconda.html).  Who wants to wait for your favorite libraries to compile?  Not me.  Use Anaconda!\n",
      "- Xubuntu 14.10\n",
      "- IPython version 2.3.1\n",
      "- R version 3.1.1 (installed via: sudo apt-get install r-base)\n",
      "- rpy2 version 2.5.4 (installed via: pip install rpy2 because rpy2 is not available in the Anaconda distribution)"
     ]
    },
    {
     "cell_type": "markdown",
     "metadata": {},
     "source": [
      "## Obtain stock ticker data"
     ]
    },
    {
     "cell_type": "code",
     "collapsed": false,
     "input": [
      "import pandas.io.data as web\n",
      "from datetime import datetime\n",
      "import pandas as pd\n",
      "\n",
      "ticker = 'HMC'\n",
      "start = datetime(2013, 1, 1)\n",
      "end = datetime(2014, 12, 19)\n",
      "\n",
      "df=web.DataReader(ticker, 'yahoo', start, end)"
     ],
     "language": "python",
     "metadata": {},
     "outputs": [],
     "prompt_number": 9
    },
    {
     "cell_type": "code",
     "collapsed": false,
     "input": [
      "df.head()"
     ],
     "language": "python",
     "metadata": {},
     "outputs": [
      {
       "html": [
        "<div style=\"max-height:1000px;max-width:1500px;overflow:auto;\">\n",
        "<table border=\"1\" class=\"dataframe\">\n",
        "  <thead>\n",
        "    <tr style=\"text-align: right;\">\n",
        "      <th></th>\n",
        "      <th>Open</th>\n",
        "      <th>High</th>\n",
        "      <th>Low</th>\n",
        "      <th>Close</th>\n",
        "      <th>Volume</th>\n",
        "      <th>Adj Close</th>\n",
        "    </tr>\n",
        "    <tr>\n",
        "      <th>Date</th>\n",
        "      <th></th>\n",
        "      <th></th>\n",
        "      <th></th>\n",
        "      <th></th>\n",
        "      <th></th>\n",
        "      <th></th>\n",
        "    </tr>\n",
        "  </thead>\n",
        "  <tbody>\n",
        "    <tr>\n",
        "      <th>2013-01-02</th>\n",
        "      <td> 37.69</td>\n",
        "      <td> 38.40</td>\n",
        "      <td> 37.69</td>\n",
        "      <td> 38.36</td>\n",
        "      <td> 1223600</td>\n",
        "      <td> 38.18</td>\n",
        "    </tr>\n",
        "    <tr>\n",
        "      <th>2013-01-03</th>\n",
        "      <td> 37.96</td>\n",
        "      <td> 38.30</td>\n",
        "      <td> 37.80</td>\n",
        "      <td> 37.89</td>\n",
        "      <td> 1054500</td>\n",
        "      <td> 37.71</td>\n",
        "    </tr>\n",
        "    <tr>\n",
        "      <th>2013-01-04</th>\n",
        "      <td> 37.32</td>\n",
        "      <td> 37.79</td>\n",
        "      <td> 37.31</td>\n",
        "      <td> 37.75</td>\n",
        "      <td> 1867500</td>\n",
        "      <td> 37.57</td>\n",
        "    </tr>\n",
        "    <tr>\n",
        "      <th>2013-01-07</th>\n",
        "      <td> 36.82</td>\n",
        "      <td> 37.34</td>\n",
        "      <td> 36.65</td>\n",
        "      <td> 37.16</td>\n",
        "      <td> 1531200</td>\n",
        "      <td> 36.98</td>\n",
        "    </tr>\n",
        "    <tr>\n",
        "      <th>2013-01-08</th>\n",
        "      <td> 36.68</td>\n",
        "      <td> 36.74</td>\n",
        "      <td> 36.18</td>\n",
        "      <td> 36.38</td>\n",
        "      <td> 1058400</td>\n",
        "      <td> 36.21</td>\n",
        "    </tr>\n",
        "  </tbody>\n",
        "</table>\n",
        "</div>"
       ],
       "metadata": {},
       "output_type": "pyout",
       "prompt_number": 10,
       "text": [
        "             Open   High    Low  Close   Volume  Adj Close\n",
        "Date                                                      \n",
        "2013-01-02  37.69  38.40  37.69  38.36  1223600      38.18\n",
        "2013-01-03  37.96  38.30  37.80  37.89  1054500      37.71\n",
        "2013-01-04  37.32  37.79  37.31  37.75  1867500      37.57\n",
        "2013-01-07  36.82  37.34  36.65  37.16  1531200      36.98\n",
        "2013-01-08  36.68  36.74  36.18  36.38  1058400      36.21"
       ]
      }
     ],
     "prompt_number": 10
    },
    {
     "cell_type": "code",
     "collapsed": false,
     "input": [
      "df.reset_index(level=0, inplace=True)  # R's data frame doesn't like it when the index is a date so convert date to column"
     ],
     "language": "python",
     "metadata": {},
     "outputs": [],
     "prompt_number": 11
    },
    {
     "cell_type": "code",
     "collapsed": false,
     "input": [
      "df.head()"
     ],
     "language": "python",
     "metadata": {},
     "outputs": [
      {
       "html": [
        "<div style=\"max-height:1000px;max-width:1500px;overflow:auto;\">\n",
        "<table border=\"1\" class=\"dataframe\">\n",
        "  <thead>\n",
        "    <tr style=\"text-align: right;\">\n",
        "      <th></th>\n",
        "      <th>Date</th>\n",
        "      <th>Open</th>\n",
        "      <th>High</th>\n",
        "      <th>Low</th>\n",
        "      <th>Close</th>\n",
        "      <th>Volume</th>\n",
        "      <th>Adj Close</th>\n",
        "    </tr>\n",
        "  </thead>\n",
        "  <tbody>\n",
        "    <tr>\n",
        "      <th>0</th>\n",
        "      <td>2013-01-02</td>\n",
        "      <td> 37.69</td>\n",
        "      <td> 38.40</td>\n",
        "      <td> 37.69</td>\n",
        "      <td> 38.36</td>\n",
        "      <td> 1223600</td>\n",
        "      <td> 38.18</td>\n",
        "    </tr>\n",
        "    <tr>\n",
        "      <th>1</th>\n",
        "      <td>2013-01-03</td>\n",
        "      <td> 37.96</td>\n",
        "      <td> 38.30</td>\n",
        "      <td> 37.80</td>\n",
        "      <td> 37.89</td>\n",
        "      <td> 1054500</td>\n",
        "      <td> 37.71</td>\n",
        "    </tr>\n",
        "    <tr>\n",
        "      <th>2</th>\n",
        "      <td>2013-01-04</td>\n",
        "      <td> 37.32</td>\n",
        "      <td> 37.79</td>\n",
        "      <td> 37.31</td>\n",
        "      <td> 37.75</td>\n",
        "      <td> 1867500</td>\n",
        "      <td> 37.57</td>\n",
        "    </tr>\n",
        "    <tr>\n",
        "      <th>3</th>\n",
        "      <td>2013-01-07</td>\n",
        "      <td> 36.82</td>\n",
        "      <td> 37.34</td>\n",
        "      <td> 36.65</td>\n",
        "      <td> 37.16</td>\n",
        "      <td> 1531200</td>\n",
        "      <td> 36.98</td>\n",
        "    </tr>\n",
        "    <tr>\n",
        "      <th>4</th>\n",
        "      <td>2013-01-08</td>\n",
        "      <td> 36.68</td>\n",
        "      <td> 36.74</td>\n",
        "      <td> 36.18</td>\n",
        "      <td> 36.38</td>\n",
        "      <td> 1058400</td>\n",
        "      <td> 36.21</td>\n",
        "    </tr>\n",
        "  </tbody>\n",
        "</table>\n",
        "</div>"
       ],
       "metadata": {},
       "output_type": "pyout",
       "prompt_number": 12,
       "text": [
        "        Date   Open   High    Low  Close   Volume  Adj Close\n",
        "0 2013-01-02  37.69  38.40  37.69  38.36  1223600      38.18\n",
        "1 2013-01-03  37.96  38.30  37.80  37.89  1054500      37.71\n",
        "2 2013-01-04  37.32  37.79  37.31  37.75  1867500      37.57\n",
        "3 2013-01-07  36.82  37.34  36.65  37.16  1531200      36.98\n",
        "4 2013-01-08  36.68  36.74  36.18  36.38  1058400      36.21"
       ]
      }
     ],
     "prompt_number": 12
    },
    {
     "cell_type": "markdown",
     "metadata": {},
     "source": [
      "### Load the rpy2 extension so that we can interact with R"
     ]
    },
    {
     "cell_type": "code",
     "collapsed": false,
     "input": [
      "%load_ext rpy2.ipython"
     ],
     "language": "python",
     "metadata": {},
     "outputs": [],
     "prompt_number": 3
    },
    {
     "cell_type": "markdown",
     "metadata": {},
     "source": [
      "### Pass the pandas dataframe to R as an input.  Other options can be found [here](http://ipython.org/ipython-doc/stable/config/extensions/rmagic.html)."
     ]
    },
    {
     "cell_type": "code",
     "collapsed": false,
     "input": [
      "%R -i df"
     ],
     "language": "python",
     "metadata": {},
     "outputs": [],
     "prompt_number": 4
    },
    {
     "cell_type": "markdown",
     "metadata": {},
     "source": [
      "## Now plot the stock ticker Closing price using R's ggplot2 library"
     ]
    },
    {
     "cell_type": "code",
     "collapsed": false,
     "input": [
      "%%R -w 480 -h 300 -u px # Set size of chart.  Instead of px, you can also choose 'in', 'cm', or 'mm'\n",
      "df = as.data.frame(df)  # ensure dataframe that was passed in from Python will be R's dataframe type\n",
      "library(ggplot2)\n",
      "p = ggplot(df, aes(df$Date, df$Adj.Close))\n",
      "p = p + \n",
      "    geom_line() +\n",
      "    ggtitle(\"HMC Closing Price\") +\n",
      "    xlab(\"Date\") +\n",
      "    ylab(\"Price\")\n",
      "print(p)"
     ],
     "language": "python",
     "metadata": {},
     "outputs": [
      {
       "metadata": {},
       "output_type": "display_data",
       "png": "[encoded data removed]"
      }
     ],
     "prompt_number": 10
    },
    {
     "cell_type": "markdown",
     "metadata": {},
     "source": [
      "## Let's forecast using R's forecast package"
     ]
    },
    {
     "cell_type": "code",
     "collapsed": false,
     "input": [
      "%%R\n",
      "library(forecast)\n",
      "HoltWinters(df$Adj.Close)  # We're usign Holt-Winters, but there are several other models to choose from"
     ],
     "language": "python",
     "metadata": {},
     "outputs": [
      {
       "output_type": "stream",
       "stream": "stdout",
       "text": [
        "Error in decompose(ts(x[1L:wind], start = start(x), frequency = f), seasonal) : \n",
        "  time series has no or less than 2 periods\n"
       ]
      }
     ],
     "prompt_number": 7
    },
    {
     "cell_type": "markdown",
     "metadata": {},
     "source": [
      "#### Error message just means no seasonality was detected.  So we will not use gamma in our model."
     ]
    },
    {
     "cell_type": "markdown",
     "metadata": {},
     "source": [
      "## Let's output a summary of our H-W model"
     ]
    },
    {
     "cell_type": "code",
     "collapsed": false,
     "input": [
      "%%R\n",
      "hwm = HoltWinters(df$Adj.Close, gamma=FALSE)\n",
      "hwf = forecast.HoltWinters(hwm, h=20)  # forecast out to 20 time periods\n",
      "summary(hwf)"
     ],
     "language": "python",
     "metadata": {},
     "outputs": [
      {
       "metadata": {},
       "output_type": "display_data",
       "text": [
        "\n",
        "Forecast method: HoltWinters\n",
        "\n",
        "Model Information:\n",
        "Holt-Winters exponential smoothing with trend and without seasonal component.\n",
        "\n",
        "Call:\n",
        "HoltWinters(x = df$Adj.Close, gamma = FALSE)\n",
        "\n",
        "Smoothing parameters:\n",
        " alpha: 0.9195088\n",
        " beta : 0.04376709\n",
        " gamma: FALSE\n",
        "\n",
        "Coefficients:\n",
        "         [,1]\n",
        "a 30.30802479\n",
        "b -0.03354635\n",
        "\n",
        "Error measures:\n",
        "                     ME      RMSE       MAE        MPE     MAPE     MASE\n",
        "Training set 0.02190934 0.4881052 0.3700685 0.06958344 1.013572 1.019427\n",
        "                      ACF1\n",
        "Training set -0.0005973031\n",
        "\n",
        "Forecasts:\n",
        "    Point Forecast    Lo 80    Hi 80    Lo 95    Hi 95\n",
        "498       30.27448 29.64894 30.90001 29.31781 31.23115\n",
        "499       30.24093 29.37391 31.10795 28.91494 31.56692\n",
        "500       30.20739 29.13827 31.27650 28.57231 31.84246\n",
        "501       30.17384 28.92227 31.42541 28.25973 32.08795\n",
        "502       30.14029 28.71788 31.56270 27.96491 32.31568\n",
        "503       30.10675 28.52096 31.69253 27.68149 32.53200\n",
        "504       30.07320 28.32903 31.81737 27.40572 32.74068\n",
        "505       30.03965 28.14051 31.93879 27.13517 32.94414\n",
        "506       30.00611 27.95433 32.05789 26.86818 33.14404\n",
        "507       29.97256 27.76970 32.17543 26.60357 33.34155\n",
        "508       29.93901 27.58606 32.29197 26.34047 33.53756\n",
        "509       29.90547 27.40297 32.40797 26.07823 33.73271\n",
        "510       29.87192 27.22011 32.52373 25.81633 33.92752\n",
        "511       29.83838 27.03721 32.63954 25.55437 34.12238\n",
        "512       29.80483 26.85407 32.75559 25.29203 34.31763\n",
        "513       29.77128 26.67051 32.87206 25.02906 34.51351\n",
        "514       29.73774 26.48639 32.98908 24.76524 34.71024\n",
        "515       29.70419 26.30161 33.10677 24.50040 34.90798\n",
        "516       29.67064 26.11607 33.22521 24.23440 35.10689\n",
        "517       29.63710 25.92970 33.34450 23.96712 35.30708\n"
       ]
      }
     ],
     "prompt_number": 13
    },
    {
     "cell_type": "markdown",
     "metadata": {},
     "source": [
      "#### Above is our point forecasts and their respective 80th- and 95th-percentile confidence intervals"
     ]
    },
    {
     "cell_type": "markdown",
     "metadata": {},
     "source": [
      "## Now let's plot the actual data and forecast together with confidence intervals"
     ]
    },
    {
     "cell_type": "code",
     "collapsed": false,
     "input": [
      "%%R\n",
      "plot.forecast(hwf)"
     ],
     "language": "python",
     "metadata": {},
     "outputs": [
      {
       "metadata": {},
       "output_type": "display_data",
       "png": "[encoded data removed]"
      }
     ],
     "prompt_number": 13
    },
    {
     "cell_type": "markdown",
     "metadata": {},
     "source": [
      "### We're done!"
     ]
    }
   ],
   "metadata": {}
  }
 ]
}