{
 "metadata": {
  "name": "",
  "signature": "sha256:17211f82ca5e6de5259eddc928f8624a1cc53029fd95b09632f7a951d2a7c4c2"
 },
 "nbformat": 3,
 "nbformat_minor": 0,
 "worksheets": [
  {
   "cells": [
    {
     "cell_type": "markdown",
     "metadata": {},
     "source": [
      "## Obtain stock ticker data"
     ]
    },
    {
     "cell_type": "code",
     "collapsed": false,
     "input": [
      "import pandas.io.data as web\n",
      "from datetime import datetime\n",
      "import pandas as pd\n",
      "\n",
      "ticker = 'HMC'\n",
      "start = datetime(2014, 1, 1)\n",
      "end = datetime(2014, 12, 19)\n",
      "\n",
      "df=web.DataReader(ticker, 'yahoo', start, end)\n",
      "df.reset_index(level=0, inplace=True)  # R's data frame doesn't like it when the index is a date so convert date to column"
     ],
     "language": "python",
     "metadata": {},
     "outputs": [],
     "prompt_number": 1
    },
    {
     "cell_type": "code",
     "collapsed": false,
     "input": [
      "df.head()"
     ],
     "language": "python",
     "metadata": {},
     "outputs": [
      {
       "html": [
        "<div style=\"max-height:1000px;max-width:1500px;overflow:auto;\">\n",
        "<table border=\"1\" class=\"dataframe\">\n",
        "  <thead>\n",
        "    <tr style=\"text-align: right;\">\n",
        "      <th></th>\n",
        "      <th>Date</th>\n",
        "      <th>Open</th>\n",
        "      <th>High</th>\n",
        "      <th>Low</th>\n",
        "      <th>Close</th>\n",
        "      <th>Volume</th>\n",
        "      <th>Adj Close</th>\n",
        "    </tr>\n",
        "  </thead>\n",
        "  <tbody>\n",
        "    <tr>\n",
        "      <th>0</th>\n",
        "      <td>2014-01-02</td>\n",
        "      <td> 41.10</td>\n",
        "      <td> 41.13</td>\n",
        "      <td> 40.60</td>\n",
        "      <td> 40.69</td>\n",
        "      <td> 179400</td>\n",
        "      <td> 40.69</td>\n",
        "    </tr>\n",
        "    <tr>\n",
        "      <th>1</th>\n",
        "      <td>2014-01-03</td>\n",
        "      <td> 40.68</td>\n",
        "      <td> 40.82</td>\n",
        "      <td> 40.50</td>\n",
        "      <td> 40.69</td>\n",
        "      <td> 191900</td>\n",
        "      <td> 40.69</td>\n",
        "    </tr>\n",
        "    <tr>\n",
        "      <th>2</th>\n",
        "      <td>2014-01-06</td>\n",
        "      <td> 41.08</td>\n",
        "      <td> 41.38</td>\n",
        "      <td> 40.66</td>\n",
        "      <td> 40.80</td>\n",
        "      <td> 277000</td>\n",
        "      <td> 40.80</td>\n",
        "    </tr>\n",
        "    <tr>\n",
        "      <th>3</th>\n",
        "      <td>2014-01-07</td>\n",
        "      <td> 40.67</td>\n",
        "      <td> 40.81</td>\n",
        "      <td> 40.56</td>\n",
        "      <td> 40.71</td>\n",
        "      <td> 207000</td>\n",
        "      <td> 40.71</td>\n",
        "    </tr>\n",
        "    <tr>\n",
        "      <th>4</th>\n",
        "      <td>2014-01-08</td>\n",
        "      <td> 40.72</td>\n",
        "      <td> 40.72</td>\n",
        "      <td> 40.50</td>\n",
        "      <td> 40.65</td>\n",
        "      <td> 258100</td>\n",
        "      <td> 40.65</td>\n",
        "    </tr>\n",
        "  </tbody>\n",
        "</table>\n",
        "</div>"
       ],
       "metadata": {},
       "output_type": "pyout",
       "prompt_number": 2,
       "text": [
        "        Date   Open   High    Low  Close  Volume  Adj Close\n",
        "0 2014-01-02  41.10  41.13  40.60  40.69  179400      40.69\n",
        "1 2014-01-03  40.68  40.82  40.50  40.69  191900      40.69\n",
        "2 2014-01-06  41.08  41.38  40.66  40.80  277000      40.80\n",
        "3 2014-01-07  40.67  40.81  40.56  40.71  207000      40.71\n",
        "4 2014-01-08  40.72  40.72  40.50  40.65  258100      40.65"
       ]
      }
     ],
     "prompt_number": 2
    },
    {
     "cell_type": "markdown",
     "metadata": {},
     "source": [
      "### Load the rpy2 extension so that we can use RMagic"
     ]
    },
    {
     "cell_type": "code",
     "collapsed": false,
     "input": [
      "%load_ext rpy2.ipython"
     ],
     "language": "python",
     "metadata": {},
     "outputs": [],
     "prompt_number": 3
    },
    {
     "cell_type": "markdown",
     "metadata": {},
     "source": [
      "### Pass the pandas dataframe to R as an input"
     ]
    },
    {
     "cell_type": "code",
     "collapsed": false,
     "input": [
      "%R -i df"
     ],
     "language": "python",
     "metadata": {},
     "outputs": [],
     "prompt_number": 5
    },
    {
     "cell_type": "code",
     "collapsed": false,
     "input": [
      "%%R -w 480 -h 300 -u px # instead of px, you can also choose 'in', 'cm', or 'mm'\n",
      "df = as.data.frame(df)  # ensure dataframe that was passed in from Python will be R's dataframe type\n",
      "library(ggplot2)\n",
      "p = ggplot(df, aes(df$Date, df$Adj.Close))\n",
      "p = p + \n",
      "    geom_line() +\n",
      "    ggtitle(\"HMC Closing Price\") +\n",
      "    xlab(\"Date\") +\n",
      "    ylab(\"Price\")\n",
      "print(p)"
     ],
     "language": "python",
     "metadata": {},
     "outputs": [
      {
       "metadata": {},
       "output_type": "display_data",
       "png": "[encoded data removed]"
      }
     ],
     "prompt_number": 8
    },
    {
     "cell_type": "code",
     "collapsed": false,
     "input": [
      "%%R\n",
      "library(forecast)\n",
      "HoltWinters(df$Adj.Close)"
     ],
     "language": "python",
     "metadata": {},
     "outputs": [
      {
       "output_type": "stream",
       "stream": "stdout",
       "text": [
        "Loading required package: zoo\n",
        "\n",
        "Attaching package: \u2018zoo\u2019\n",
        "\n",
        "The following objects are masked from \u2018package:base\u2019:\n",
        "\n",
        "    as.Date, as.Date.numeric\n",
        "\n",
        "Loading required package: timeDate\n",
        "This is forecast 5.7 \n",
        "\n",
        "Error in decompose(ts(x[1L:wind], start = start(x), frequency = f), seasonal) : \n",
        "  time series has no or less than 2 periods\n"
       ]
      }
     ],
     "prompt_number": 9
    },
    {
     "cell_type": "code",
     "collapsed": false,
     "input": [
      "%%R\n",
      "hwm = HoltWinters(df$Adj.Close, gamma=FALSE)\n",
      "hwf = forecast.HoltWinters(hwm, h=20)\n",
      "summary(hwf)"
     ],
     "language": "python",
     "metadata": {},
     "outputs": [
      {
       "metadata": {},
       "output_type": "display_data",
       "text": [
        "\n",
        "Forecast method: HoltWinters\n",
        "\n",
        "Model Information:\n",
        "Holt-Winters exponential smoothing with trend and without seasonal component.\n",
        "\n",
        "Call:\n",
        "HoltWinters(x = df$Adj.Close, gamma = FALSE)\n",
        "\n",
        "Smoothing parameters:\n",
        " alpha: 1\n",
        " beta : 0.00304037\n",
        " gamma: FALSE\n",
        "\n",
        "Coefficients:\n",
        "         [,1]\n",
        "a 30.33000000\n",
        "b -0.02080309\n",
        "\n",
        "Error measures:\n",
        "                      ME     RMSE       MAE         MPE      MAPE     MASE\n",
        "Training set -0.02815757 0.402769 0.2993184 -0.07050029 0.8803395 1.000761\n",
        "                    ACF1\n",
        "Training set 0.005950758\n",
        "\n",
        "Forecasts:\n",
        "    Point Forecast    Lo 80    Hi 80    Lo 95    Hi 95\n",
        "246       30.30920 29.79323 30.82517 29.52009 31.09830\n",
        "247       30.28839 29.55759 31.01919 29.17073 31.40606\n",
        "248       30.26759 29.37119 31.16400 28.89666 31.63852\n",
        "249       30.24679 29.21014 31.28344 28.66137 31.83221\n",
        "250       30.22598 29.06522 31.38675 28.45074 32.00123\n",
        "251       30.20518 28.93170 31.47867 28.25756 32.15281\n",
        "252       30.18438 28.80678 31.56198 28.07752 32.29124\n",
        "253       30.16358 28.68863 31.63852 27.90784 32.41931\n",
        "254       30.14277 28.57599 31.70955 27.74659 32.53895\n",
        "255       30.12197 28.46795 31.77599 27.59236 32.65158\n",
        "256       30.10117 28.36380 31.83853 27.44409 32.75824\n",
        "257       30.08036 28.26301 31.89772 27.30096 32.85977\n",
        "258       30.05956 28.16515 31.95397 27.16231 32.95681\n",
        "259       30.03876 28.06988 32.00763 27.02762 33.04989\n",
        "260       30.01795 27.97692 32.05899 26.89645 33.13945\n",
        "261       29.99715 27.88601 32.10829 26.76845 33.22586\n",
        "262       29.97635 27.79698 32.15572 26.64329 33.30941\n",
        "263       29.95554 27.70964 32.20145 26.52072 33.39037\n",
        "264       29.93474 27.62384 32.24564 26.40052 33.46896\n",
        "265       29.91394 27.53946 32.28841 26.28249 33.54539\n"
       ]
      }
     ],
     "prompt_number": 10
    },
    {
     "cell_type": "code",
     "collapsed": false,
     "input": [
      "%%R\n",
      "plot.forecast(hwf)"
     ],
     "language": "python",
     "metadata": {},
     "outputs": [
      {
       "metadata": {},
       "output_type": "display_data",
       "png": "[encoded data removed]"
      }
     ],
     "prompt_number": 11
    },
    {
     "cell_type": "code",
     "collapsed": false,
     "input": [
      "%%R\n",
      "best_guess = forecast(df$Adj.Close, h=20)\n",
      "summary(best_guess)"
     ],
     "language": "python",
     "metadata": {},
     "outputs": [
      {
       "metadata": {},
       "output_type": "display_data",
       "text": [
        "\n",
        "Forecast method: ETS(A,N,N)\n",
        "\n",
        "Model Information:\n",
        "ETS(A,N,N) \n",
        "\n",
        "Call:\n",
        " ets(y = object, lambda = lambda) \n",
        "\n",
        "  Smoothing parameters:\n",
        "    alpha = 0.9999 \n",
        "\n",
        "  Initial states:\n",
        "    l = 40.6894 \n",
        "\n",
        "  sigma:  0.4015\n",
        "\n",
        "     AIC     AICc      BIC \n",
        "904.6908 904.7403 911.6933 \n",
        "\n",
        "Error measures:\n",
        "                      ME      RMSE       MAE        MPE      MAPE      MASE\n",
        "Training set -0.04228753 0.4015253 0.2975508 -0.1271609 0.8803995 0.9959177\n",
        "                    ACF1\n",
        "Training set 0.004954847\n",
        "\n",
        "Forecasts:\n",
        "    Point Forecast    Lo 80    Hi 80    Lo 95    Hi 95\n",
        "246       30.32998 29.81541 30.84456 29.54301 31.11696\n",
        "247       30.32998 29.60230 31.05766 29.21709 31.44288\n",
        "248       30.32998 29.43877 31.22119 28.96699 31.69297\n",
        "249       30.32998 29.30091 31.35905 28.75615 31.90381\n",
        "250       30.32998 29.17945 31.48051 28.57039 32.08957\n",
        "251       30.32998 29.06964 31.59032 28.40246 32.25751\n",
        "252       30.32998 28.96866 31.69130 28.24802 32.41194\n",
        "253       30.32998 28.87467 31.78529 28.10428 32.55569\n",
        "254       30.32998 28.78639 31.87357 27.96927 32.69069\n",
        "255       30.32998 28.70290 31.95706 27.84157 32.81839\n",
        "256       30.32998 28.62348 32.03648 27.72012 32.93984\n",
        "257       30.32998 28.54761 32.11236 27.60407 33.05589\n",
        "258       30.32998 28.47483 32.18513 27.49277 33.16719\n",
        "259       30.32998 28.40480 32.25516 27.38567 33.27429\n",
        "260       30.32998 28.33723 32.32273 27.28233 33.37763\n",
        "261       30.32998 28.27187 32.38809 27.18238 33.47758\n",
        "262       30.32998 28.20853 32.45143 27.08551 33.57445\n",
        "263       30.32998 28.14703 32.51293 26.99145 33.66851\n",
        "264       30.32998 28.08721 32.57275 26.89997 33.76000\n",
        "265       30.32998 28.02895 32.63101 26.81086 33.84910\n"
       ]
      }
     ],
     "prompt_number": 13
    },
    {
     "cell_type": "code",
     "collapsed": false,
     "input": [
      "%%R\n",
      "plot.forecast(best_guess)"
     ],
     "language": "python",
     "metadata": {},
     "outputs": [
      {
       "metadata": {},
       "output_type": "display_data",
       "png": "[encoded data removed]"
      }
     ],
     "prompt_number": 14
    }
   ],
   "metadata": {}
  }
 ]
}