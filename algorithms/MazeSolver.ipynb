{
 "metadata": {
  "name": ""
 },
 "nbformat": 3,
 "nbformat_minor": 0,
 "worksheets": [
  {
   "cells": [
    {
     "cell_type": "markdown",
     "metadata": {},
     "source": [
      "Found this amazing maze solver application on [stackoverflow](http://stackoverflow.com/questions/12995434/representing-and-solving-a-maze-given-an-image)"
     ]
    },
    {
     "cell_type": "code",
     "collapsed": false,
     "input": [
      "import sys\n",
      "\n",
      "from Queue import Queue\n",
      "from PIL import Image\n",
      "\n",
      "start = (400,984)\n",
      "end = (398,25)\n",
      "\n",
      "def iswhite(value):\n",
      "    if value == (255,255,255):\n",
      "    return True\n",
      "\n",
      "def getadjacent(n):\n",
      "    x,y = n\n",
      "    return [(x-1,y),(x,y-1),(x+1,y),(x,y+1)]\n",
      "\n",
      "def BFS(start, end, pixels):\n",
      "\n",
      "    queue = Queue()\n",
      "    queue.put([start]) # Wrapping the start tuple in a list\n",
      "\n",
      "    while not queue.empty():\n",
      "\n",
      "        path = queue.get() \n",
      "        pixel = path[-1]\n",
      "\n",
      "        if pixel == end:\n",
      "            return path\n",
      "\n",
      "        for adjacent in getadjacent(pixel):\n",
      "            x,y = adjacent\n",
      "            if iswhite(pixels[x,y]):\n",
      "                pixels[x,y] = (127,127,127) # see note\n",
      "                new_path = list(path)\n",
      "                new_path.append(adjacent)\n",
      "                queue.put(new_path)\n",
      "\n",
      "    print \"Queue has been exhausted. No answer was found.\"\n",
      "\n",
      "\n",
      "if __name__ == '__main__':\n",
      "\n",
      "    # invoke: python mazesolver.py <mazefile> <outputfile>[.jpg|.png|etc.]\n",
      "    base_img = Image.open(sys.argv[1])\n",
      "    base_pixels = base_img.load()\n",
      "\n",
      "    path = BFS(start, end, base_pixels)\n",
      "\n",
      "    path_img = Image.open(sys.argv[1])\n",
      "    path_pixels = path_img.load()\n",
      "\n",
      "    for position in path:\n",
      "        x,y = position\n",
      "        path_pixels[x,y] = (255,0,0) # red\n",
      "\n",
      "    path_img.save(sys.argv[2])"
     ],
     "language": "python",
     "metadata": {},
     "outputs": []
    }
   ],
   "metadata": {}
  }
 ]
}