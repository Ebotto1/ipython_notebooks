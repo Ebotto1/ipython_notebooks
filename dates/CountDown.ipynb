{
 "metadata": {
  "name": "",
  "signature": "sha256:34ea1fabd9dee363083d1ea20eb1fcc8f0eeb8481439758f02c99dd9978daf43"
 },
 "nbformat": 3,
 "nbformat_minor": 0,
 "worksheets": [
  {
   "cells": [
    {
     "cell_type": "markdown",
     "metadata": {},
     "source": [
      "## Script that will calculate the time until I am officially divorced on December 18, 2014, 2:30PM EST or 19:30 UTC"
     ]
    },
    {
     "cell_type": "markdown",
     "metadata": {},
     "source": [
      "### This version just outputs once:"
     ]
    },
    {
     "cell_type": "code",
     "collapsed": false,
     "input": [
      "from datetime import datetime\n",
      "import pytz\n",
      "from math import floor\n",
      "\n",
      "divorce_date = datetime(2014,12,18,19,30,0,0,pytz.UTC)  # explicitly make time zone UTC\n",
      "\n",
      "time_till_divorced = divorce_date - datetime.now(pytz.UTC) # explicitly make time zone UTC\n",
      "\n",
      "total_seconds = time_till_divorced.total_seconds()\n",
      "days_left_decimal = total_seconds/(60*60*24) - floor(total_seconds/(60*60*24))\n",
      "hours_left = days_left_decimal * 24\n",
      "hours_left_decimal = days_left_decimal * 24 - floor(hours_left)\n",
      "minutes_left = hours_left_decimal * 60\n",
      "minutes_left_decimal = minutes_left - floor(minutes_left)\n",
      "seconds_left = minutes_left_decimal * 60\n",
      "\n",
      "print('Days:', time_till_divorced.days, '|', 'Hours:', int(hours_left), '|', 'Minutes:', int(minutes_left), '|',\n",
      "      'Seconds:', int(seconds_left))"
     ],
     "language": "python",
     "metadata": {},
     "outputs": []
    },
    {
     "cell_type": "markdown",
     "metadata": {},
     "source": [
      "### This version will continuously update the countdown:"
     ]
    },
    {
     "cell_type": "code",
     "collapsed": false,
     "input": [
      "from datetime import datetime\n",
      "import pytz\n",
      "from math import floor\n",
      "\n",
      "divorce_date = datetime(2014,12,18,19,30,0,0,pytz.UTC)  # explicitly make time zone UTC\n",
      "\n",
      "while True:\n",
      "    time_till_divorced = divorce_date - datetime.now(pytz.UTC)  # explicitly make time zone UTC\n",
      "\n",
      "    total_seconds = time_till_divorced.total_seconds()\n",
      "    days_left_decimal = total_seconds/(60*60*24) - floor(total_seconds/(60*60*24))\n",
      "    hours_left = days_left_decimal * 24\n",
      "    hours_left_decimal = days_left_decimal * 24 - floor(hours_left)\n",
      "    minutes_left = hours_left_decimal * 60\n",
      "    minutes_left_decimal = minutes_left - floor(minutes_left)\n",
      "    seconds_left = minutes_left_decimal * 60\n",
      "\n",
      "    print('\\r'+'Days: ' + str(time_till_divorced.days) + ' | ' + 'Hours: ' + str(int(hours_left)) + ' | ' + 'Minutes: ' + \\\n",
      "          str(int(minutes_left)) + ' | ' + 'Seconds: ' + \"{0:d}\".format(int(seconds_left)),end='')"
     ],
     "language": "python",
     "metadata": {},
     "outputs": []
    },
    {
     "cell_type": "markdown",
     "metadata": {},
     "source": [
      "### Another silly example of printing on the same line"
     ]
    },
    {
     "cell_type": "code",
     "collapsed": false,
     "input": [
      "import time\n",
      "\n",
      "message = 'ALL YOUR BASE ARE BELONG TO US!'\n",
      "\n",
      "for i in range(1, len(message)+1):\n",
      "    time.sleep(0.3)\n",
      "    print('\\r'+message[:i],end='')"
     ],
     "language": "python",
     "metadata": {},
     "outputs": []
    }
   ],
   "metadata": {}
  }
 ]
}