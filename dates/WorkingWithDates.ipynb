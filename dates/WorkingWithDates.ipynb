{
 "metadata": {
  "name": "",
  "signature": "sha256:5e4f5f59933801e012e665ec9f5852bd6f8ff1cd25e8e9c14d12d059aa796890"
 },
 "nbformat": 3,
 "nbformat_minor": 0,
 "worksheets": [
  {
   "cells": [
    {
     "cell_type": "markdown",
     "metadata": {},
     "source": [
      "# Working with Dates"
     ]
    },
    {
     "cell_type": "markdown",
     "metadata": {},
     "source": [
      "When working with dates and time zone, it is recommended that you install a package called [pytz](http://pytz.sourceforge.net/).\n",
      "It is also recommended that you work initally in UTC time zone and then convert to whatever time zone you need in the final output."
     ]
    },
    {
     "cell_type": "code",
     "collapsed": false,
     "input": [
      "from datetime import datetime\n",
      "import pytz\n",
      "from pytz import timezone"
     ],
     "language": "python",
     "metadata": {},
     "outputs": [],
     "prompt_number": 13
    },
    {
     "cell_type": "markdown",
     "metadata": {},
     "source": [
      "### Creating a date as of now in UTC"
     ]
    },
    {
     "cell_type": "code",
     "collapsed": false,
     "input": [
      "mydate_with_time_utc = datetime.now(pytz.UTC)\n",
      "mydate_with_time_utc"
     ],
     "language": "python",
     "metadata": {},
     "outputs": [
      {
       "metadata": {},
       "output_type": "pyout",
       "prompt_number": 17,
       "text": [
        "datetime.datetime(2014, 11, 28, 21, 3, 56, 450623, tzinfo=<UTC>)"
       ]
      }
     ],
     "prompt_number": 17
    },
    {
     "cell_type": "markdown",
     "metadata": {},
     "source": [
      "### Creating a date from arbitrary integers in UTC"
     ]
    },
    {
     "cell_type": "code",
     "collapsed": false,
     "input": [
      "mydate_utc = datetime(2014,11,28,12,30,0,0,pytz.UTC)\n",
      "mydate_utc"
     ],
     "language": "python",
     "metadata": {},
     "outputs": [
      {
       "metadata": {},
       "output_type": "pyout",
       "prompt_number": 19,
       "text": [
        "datetime.datetime(2014, 11, 28, 12, 30, tzinfo=<UTC>)"
       ]
      }
     ],
     "prompt_number": 19
    },
    {
     "cell_type": "markdown",
     "metadata": {},
     "source": [
      "### Creating a date from a UTC time zone to Eastern time zone:"
     ]
    },
    {
     "cell_type": "code",
     "collapsed": false,
     "input": [
      "eastern = timezone('US/Eastern')\n",
      "mydate_as_edt = mydate_utc.astimezone(eastern)\n",
      "mydate_as_edt"
     ],
     "language": "python",
     "metadata": {},
     "outputs": [
      {
       "metadata": {},
       "output_type": "pyout",
       "prompt_number": 21,
       "text": [
        "datetime.datetime(2014, 11, 28, 7, 30, tzinfo=<DstTzInfo 'US/Eastern' EST-1 day, 19:00:00 STD>)"
       ]
      }
     ],
     "prompt_number": 21
    }
   ],
   "metadata": {}
  }
 ]
}