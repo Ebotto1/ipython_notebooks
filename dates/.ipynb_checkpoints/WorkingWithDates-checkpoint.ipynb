{
 "metadata": {
  "name": "",
  "signature": "sha256:14b25a9542ddd0cefcf3f15cd795f87ac6e65c3b6ef151530c656450526c5268"
 },
 "nbformat": 3,
 "nbformat_minor": 0,
 "worksheets": [
  {
   "cells": [
    {
     "cell_type": "markdown",
     "metadata": {},
     "source": [
      "# Working with Dates"
     ]
    },
    {
     "cell_type": "markdown",
     "metadata": {},
     "source": [
      "When working with dates and time zone, it is recommended that you install a package called [pytz](http://pytz.sourceforge.net/).\n",
      "It is also recommended that you work initally in UTC time zone and then convert to whatever time zone you need in the final output."
     ]
    },
    {
     "cell_type": "code",
     "collapsed": false,
     "input": [
      "from datetime import datetime\n",
      "import pytz\n",
      "from pytz import timezone"
     ],
     "language": "python",
     "metadata": {},
     "outputs": [],
     "prompt_number": 13
    },
    {
     "cell_type": "markdown",
     "metadata": {},
     "source": [
      "### Creating a date as of now in UTC"
     ]
    },
    {
     "cell_type": "code",
     "collapsed": false,
     "input": [
      "mydate_with_time_utc = datetime.now(pytz.UTC)\n",
      "mydate_with_time_utc"
     ],
     "language": "python",
     "metadata": {},
     "outputs": [
      {
       "metadata": {},
       "output_type": "pyout",
       "prompt_number": 17,
       "text": [
        "datetime.datetime(2014, 11, 28, 21, 3, 56, 450623, tzinfo=<UTC>)"
       ]
      }
     ],
     "prompt_number": 17
    },
    {
     "cell_type": "markdown",
     "metadata": {},
     "source": [
      "### Creating a date from arbitrary integers in UTC"
     ]
    },
    {
     "cell_type": "code",
     "collapsed": false,
     "input": [
      "mydate_utc = datetime(2014,11,28,12,30,0,0,pytz.UTC)\n",
      "mydate_utc"
     ],
     "language": "python",
     "metadata": {},
     "outputs": [
      {
       "metadata": {},
       "output_type": "pyout",
       "prompt_number": 19,
       "text": [
        "datetime.datetime(2014, 11, 28, 12, 30, tzinfo=<UTC>)"
       ]
      }
     ],
     "prompt_number": 19
    },
    {
     "cell_type": "markdown",
     "metadata": {},
     "source": [
      "### Creating a date from a UTC time zone to Eastern time zone:"
     ]
    },
    {
     "cell_type": "code",
     "collapsed": false,
     "input": [
      "eastern = timezone('US/Eastern')\n",
      "mydate_as_edt = mydate_utc.astimezone(eastern)\n",
      "mydate_as_edt"
     ],
     "language": "python",
     "metadata": {},
     "outputs": [
      {
       "metadata": {},
       "output_type": "pyout",
       "prompt_number": 21,
       "text": [
        "datetime.datetime(2014, 11, 28, 7, 30, tzinfo=<DstTzInfo 'US/Eastern' EST-1 day, 19:00:00 STD>)"
       ]
      }
     ],
     "prompt_number": 21
    },
    {
     "cell_type": "markdown",
     "metadata": {},
     "source": [
      "### Finding Difference Between Dates"
     ]
    },
    {
     "cell_type": "code",
     "collapsed": false,
     "input": [
      "from datetime import datetime\n",
      "from datetime import timedelta\n",
      "\n",
      "date_now = datetime.now()\n",
      "some_date = datetime(2014,12,18,12,0,0,0)\n",
      "date_diff = some_date - date_now\n",
      "\n",
      "print('Difference between these 2 dates in days is:', date_diff.days, 'days')\n",
      "print('and the number of seconds left over is:', date_diff.seconds, 'seconds')"
     ],
     "language": "python",
     "metadata": {},
     "outputs": [
      {
       "output_type": "stream",
       "stream": "stdout",
       "text": [
        "Difference between these 2 dates in days is: 17 days\n",
        "and the number of seconds left over is: 73834 seconds\n"
       ]
      }
     ],
     "prompt_number": 29
    },
    {
     "cell_type": "markdown",
     "metadata": {},
     "source": [
      "### Adding a Date"
     ]
    },
    {
     "cell_type": "markdown",
     "metadata": {},
     "source": [
      "Let's add 100 days from the current date:"
     ]
    },
    {
     "cell_type": "code",
     "collapsed": false,
     "input": [
      "new_date = datetime.now() + timedelta(days=100)\n",
      "new_date"
     ],
     "language": "python",
     "metadata": {},
     "outputs": [
      {
       "metadata": {},
       "output_type": "pyout",
       "prompt_number": 25,
       "text": [
        "datetime.datetime(2015, 3, 10, 15, 24, 35, 39448)"
       ]
      }
     ],
     "prompt_number": 25
    },
    {
     "cell_type": "markdown",
     "metadata": {},
     "source": [
      "### Formating a date:"
     ]
    },
    {
     "cell_type": "markdown",
     "metadata": {},
     "source": [
      "But, let's format this datetime object to mm/dd/YYYY format:"
     ]
    },
    {
     "cell_type": "code",
     "collapsed": false,
     "input": [
      "new_date.strftime('%m/%d/%Y')"
     ],
     "language": "python",
     "metadata": {},
     "outputs": [
      {
       "metadata": {},
       "output_type": "pyout",
       "prompt_number": 30,
       "text": [
        "'03/10/2015'"
       ]
      }
     ],
     "prompt_number": 30
    },
    {
     "cell_type": "markdown",
     "metadata": {},
     "source": [
      "### Creating a date from a string or parsing a string as a date:"
     ]
    },
    {
     "cell_type": "code",
     "collapsed": false,
     "input": [
      "dt = datetime.strptime(\"07/04/1990 16:30\", \"%m/%d/%Y %H:%M\")\n",
      "dt"
     ],
     "language": "python",
     "metadata": {},
     "outputs": [
      {
       "metadata": {},
       "output_type": "pyout",
       "prompt_number": 34,
       "text": [
        "datetime.datetime(1990, 7, 4, 16, 30)"
       ]
      }
     ],
     "prompt_number": 34
    },
    {
     "cell_type": "markdown",
     "metadata": {},
     "source": [
      "See bottom of this [page](https://docs.python.org/3/library/datetime.html) for a more complete list of formatting options."
     ]
    }
   ],
   "metadata": {}
  }
 ]
}