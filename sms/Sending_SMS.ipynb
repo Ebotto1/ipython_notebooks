{
 "metadata": {
  "name": "",
  "signature": "sha256:e577f6f2c1f944439dc96654a26cd770da5939aff27f14a5637e77668d03f339"
 },
 "nbformat": 3,
 "nbformat_minor": 0,
 "worksheets": [
  {
   "cells": [
    {
     "cell_type": "code",
     "collapsed": false,
     "input": [
      "# http://textbelt.com/\n",
      "import requests\n",
      "def send_text(numstring, message):\n",
      "    message = {\"number\": numstring, \"message\": message}\n",
      "    r = requests.post(\"http://textbelt.com/text\", data=message)\n",
      "    return r.status_code, r.text"
     ],
     "language": "python",
     "metadata": {},
     "outputs": [],
     "prompt_number": 1
    },
    {
     "cell_type": "code",
     "collapsed": false,
     "input": [
      "number = input(\"Enter phone number to send sms to: \")\n",
      "text = input(\"Enter your message: \")\n",
      "\n",
      "send_text(number, text)"
     ],
     "language": "python",
     "metadata": {},
     "outputs": [
      {
       "name": "stdout",
       "output_type": "stream",
       "stream": "stdout",
       "text": [
        "Enter phone number to send sms to: 6145304086\n"
       ]
      },
      {
       "name": "stdout",
       "output_type": "stream",
       "stream": "stdout",
       "text": [
        "Enter your message: bitch\n"
       ]
      },
      {
       "metadata": {},
       "output_type": "pyout",
       "prompt_number": 2,
       "text": [
        "(200, '{\\n  \"success\": true\\n}')"
       ]
      }
     ],
     "prompt_number": 2
    },
    {
     "cell_type": "code",
     "collapsed": false,
     "input": [
      "import time\n",
      "while True:\n",
      "    send_text('your_number','your_text')\n",
      "    time.sleep(30)"
     ],
     "language": "python",
     "metadata": {},
     "outputs": []
    }
   ],
   "metadata": {}
  }
 ]
}