{
 "metadata": {
  "name": "",
  "signature": "sha256:1652b41bdc146803c7d284982c7adfc70edf48e1ae3ccdc90e30ac0dae39382d"
 },
 "nbformat": 3,
 "nbformat_minor": 0,
 "worksheets": [
  {
   "cells": [
    {
     "cell_type": "code",
     "collapsed": false,
     "input": [
      "# http://textbelt.com/\n",
      "import requests\n",
      "def send_text(numstring, message):\n",
      "    message = {\"number\": numstring, \"message\": message}\n",
      "    r = requests.post(\"http://textbelt.com/text\", data=message)\n",
      "    return r.status_code, r.text\n",
      "\n",
      "number = input(\"Enter phone number to send sms to: \")\n",
      "text = input(\"Enter your message: \")\n",
      "\n",
      "send_text(number, text)"
     ],
     "language": "python",
     "metadata": {},
     "outputs": [
      {
       "name": "stdout",
       "output_type": "stream",
       "stream": "stdout",
       "text": [
        "Enter phone number to send sms to: 3304184620\n"
       ]
      },
      {
       "name": "stdout",
       "output_type": "stream",
       "stream": "stdout",
       "text": [
        "Enter your message: this is just a test\n"
       ]
      },
      {
       "metadata": {},
       "output_type": "pyout",
       "prompt_number": 3,
       "text": [
        "(200, '{\\n  \"success\": true\\n}')"
       ]
      }
     ],
     "prompt_number": 3
    }
   ],
   "metadata": {}
  }
 ]
}