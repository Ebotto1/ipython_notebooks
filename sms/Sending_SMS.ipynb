{
 "metadata": {
  "name": "",
  "signature": "sha256:4d66bee4675d8557b38f85e8673db18e61f45b1e76e632fd6e84df37d6d2afe6"
 },
 "nbformat": 3,
 "nbformat_minor": 0,
 "worksheets": [
  {
   "cells": [
    {
     "cell_type": "code",
     "collapsed": false,
     "input": [
      "# http://textbelt.com/\n",
      "import requests\n",
      "def send_text(numstring, message):\n",
      "    message = {\"number\": numstring, \"message\": message}\n",
      "    r = requests.post(\"http://textbelt.com/text\", data=message)\n",
      "    return r.status_code, r.text"
     ],
     "language": "python",
     "metadata": {},
     "outputs": [],
     "prompt_number": 1
    },
    {
     "cell_type": "code",
     "collapsed": false,
     "input": [
      "number = input(\"Enter phone number to send sms to: \")\n",
      "text = input(\"Enter your message: \")\n",
      "\n",
      "send_text(number, text)"
     ],
     "language": "python",
     "metadata": {},
     "outputs": [
      {
       "name": "stdout",
       "output_type": "stream",
       "stream": "stdout",
       "text": [
        "Enter phone number to send sms to: 6145306040\n"
       ]
      },
      {
       "name": "stdout",
       "output_type": "stream",
       "stream": "stdout",
       "text": [
        "Enter your message: test\n"
       ]
      },
      {
       "metadata": {},
       "output_type": "pyout",
       "prompt_number": 3,
       "text": [
        "(200, '{\\n  \"success\": true\\n}')"
       ]
      }
     ],
     "prompt_number": 3
    },
    {
     "cell_type": "code",
     "collapsed": false,
     "input": [
      "import time\n",
      "while True:\n",
      "    send_text('your_number','your_text')\n",
      "    time.sleep(30)"
     ],
     "language": "python",
     "metadata": {},
     "outputs": []
    }
   ],
   "metadata": {}
  }
 ]
}