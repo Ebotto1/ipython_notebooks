{
 "metadata": {
  "name": "",
  "signature": "sha256:f9d8143f215cffc69525ed97f0be8a9da1c5c13170a5cb4130705ccfe5df9095"
 },
 "nbformat": 3,
 "nbformat_minor": 0,
 "worksheets": [
  {
   "cells": [
    {
     "cell_type": "code",
     "collapsed": false,
     "input": [
      "# http://textbelt.com/\n",
      "import requests\n",
      "def send_text(numstring, message):\n",
      "    message = {\"number\": numstring, \"message\": message}\n",
      "    r = requests.post(\"http://textbelt.com/text\", data=message)\n",
      "    return r.status_code, r.text"
     ],
     "language": "python",
     "metadata": {},
     "outputs": [],
     "prompt_number": 1
    },
    {
     "cell_type": "code",
     "collapsed": false,
     "input": [
      "number = input(\"Enter phone number to send sms to: \")\n",
      "text = input(\"Enter your message: \")\n",
      "\n",
      "send_text(number, text)"
     ],
     "language": "python",
     "metadata": {},
     "outputs": []
    },
    {
     "cell_type": "code",
     "collapsed": false,
     "input": [
      "import time\n",
      "while True:\n",
      "    send_text('your_number','your_text')\n",
      "    time.sleep(30)"
     ],
     "language": "python",
     "metadata": {},
     "outputs": []
    }
   ],
   "metadata": {}
  }
 ]
}