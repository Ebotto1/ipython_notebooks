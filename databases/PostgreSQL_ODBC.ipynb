{
 "metadata": {
  "name": "PostgreSQL_ODBC"
 },
 "nbformat": 3,
 "nbformat_minor": 0,
 "worksheets": [
  {
   "cells": [
    {
     "cell_type": "markdown",
     "metadata": {},
     "source": [
      "<H2 align=\"center\">Testing connection to a PostgreSQL database via ODBC</H2>"
     ]
    },
    {
     "cell_type": "code",
     "collapsed": false,
     "input": [
      "import pandas.io.sql as sqlio          # Makes creation of dataframes/datasets from sql connection very easy\n",
      "import numpy as np                     # Contains useful mathematical or matrix-related functions\n",
      "import pyodbc\n",
      "\n",
      "con = pyodbc.connect('DSN=Denso_Postgre')\n",
      "\n",
      "# A VIN can have more than one LET reads.  We want to just get the lastest LET read.\n",
      "sql = \"\"\"\n",
      "select\n",
      "\"txtVIN\",\n",
      "txtparam,\n",
      "txtparamval,\n",
      "\"MDL_YR\",\n",
      "\"FCTRY_CD\",\n",
      "\"MDL_NM\",\n",
      "\"ENG_CYL\",\n",
      "\"DEST_CD\"\n",
      "\n",
      "from vb_check_param\"\"\"\n",
      "\n",
      "df = sqlio.read_frame(sql, con)\n",
      "\n",
      "con.close()\n",
      "\n",
      "# Let's see what the dataframe looks like.  This prints out the first 5 and last 5 records in our dataframe:\n",
      "print df.head()\n",
      "print df.tail()"
     ],
     "language": "python",
     "metadata": {},
     "outputs": [
      {
       "output_type": "stream",
       "stream": "stdout",
       "text": [
        "              txtVIN txtparam txtparamval  MDL_YR FCTRY_CD MDL_NM ENG_CYL DEST_CD\n",
        "0  19UTB4850DL400421   IBSUML       -2.73    2013      ELP    RDX       6      KH\n",
        "              txtVIN txtparam txtparamval  MDL_YR FCTRY_CD MDL_NM ENG_CYL DEST_CD\n",
        "0  19UTB4850DL400421   IBSUML       -2.73    2013      ELP    RDX       6      KH\n"
       ]
      }
     ],
     "prompt_number": 38
    }
   ],
   "metadata": {}
  }
 ]
}