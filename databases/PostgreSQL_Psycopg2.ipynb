{
 "metadata": {
  "name": "PostgreSQL_Psycopg2"
 },
 "nbformat": 3,
 "nbformat_minor": 0,
 "worksheets": [
  {
   "cells": [
    {
     "cell_type": "markdown",
     "metadata": {},
     "source": [
      "<center><img src=\"http://xpo38498/www/images/honda_logo_small.jpg\"></center>"
     ]
    },
    {
     "cell_type": "markdown",
     "metadata": {},
     "source": [
      "<H2 align=\"center\">Testing connection to a PostgreSQL database via psycopg2</H2>"
     ]
    },
    {
     "cell_type": "heading",
     "level": 4,
     "metadata": {},
     "source": [
      "A VIN can have multiple LET reads.  For our purposes, we want only records with the latest LET read.  As a consequence, the SQL is somewhat more complicated.  For maximum performance, I decided to use WITH statements."
     ]
    },
    {
     "cell_type": "code",
     "collapsed": false,
     "input": [
      "import pandas.io.sql as sqlio          # Makes creation of dataframes/datasets from sql connection very easy\n",
      "import numpy as np                     # Contains useful mathematical or matrix-related functions\n",
      "import base64                          # Needed to decode password\n",
      "import psycopg2                        # Driver to access PostgreSQL\n",
      "\n",
      "# Get my encoded password\n",
      "pw_file = open(r'D:\\webapps\\_server\\pyodbc\\postgre.txt', 'r')\n",
      "pwd = base64.b64decode(pw_file.read())\n",
      "pw_file.close()\n",
      "\n",
      "user = 'ma17151'\n",
      "database = 'denso'\n",
      "\n",
      "conn = psycopg2.connect(\"host='xpo38498' dbname=\" + database + \" user=\" + user + \" password=\" + pwd)\n",
      "\n",
      "# A VIN can have more than one LET reads.  We want to just get the lastest LET read.\n",
      "sql = \"\"\"\n",
      "with vb as (\n",
      "select\n",
      "\"txtVIN\",\n",
      "txtparam,\n",
      "txtparamval,\n",
      "\"MDL_YR\",\n",
      "\"FCTRY_CD\",\n",
      "\"MDL_NM\",\n",
      "\"ENG_CYL\",\n",
      "\"DEST_CD\",\n",
      "\"datTime\"\n",
      "\n",
      "FROM vb_check_param\n",
      "\n",
      "where\n",
      "\"MDL_YR\" IN(2012,2013)\n",
      "AND \"FCTRY_CD\" IN( 'MAP', 'ELP' )\n",
      "AND \"MDL_NM\" IN('ACCORD','RDX','TL','CRV')\n",
      "AND \"DEST_CD\" IN('KA','KL')\n",
      "AND txtparam = 'BATT_SOC'\n",
      "AND \"ENG_CYL\" = '4'\n",
      "),\n",
      "\n",
      "vb_unique as (\n",
      "\n",
      "select distinct\n",
      "\"txtVIN\",\n",
      "txtparam,\n",
      "max(\"datTime\") as maxdate\n",
      "\n",
      "from vb_check_param\n",
      "\n",
      "where\n",
      "\"MDL_YR\" IN(2012,2013)\n",
      "AND \"FCTRY_CD\" IN( 'MAP', 'ELP' )\n",
      "AND \"MDL_NM\" IN('ACCORD','RDX','TL','CRV')\n",
      "AND \"DEST_CD\" IN('KA','KL')\n",
      "AND txtparam = 'BATT_SOC'\n",
      "\n",
      "group by\n",
      "\"txtVIN\",\n",
      "txtparam\n",
      ")\n",
      "\n",
      "select\n",
      "vb.\"txtVIN\",\n",
      "vb.txtparam,\n",
      "vb.txtparamval,\n",
      "vb.\"MDL_YR\",\n",
      "vb.\"FCTRY_CD\",\n",
      "vb.\"MDL_NM\",\n",
      "vb.\"ENG_CYL\",\n",
      "vb.\"DEST_CD\",\n",
      "to_char(vb.\"datTime\",'YYYY-MM') as \"testYrMth\"\n",
      "\n",
      "from vb vb\n",
      "\n",
      "inner join vb_unique vb_unique\n",
      "\n",
      "on vb.\"txtVIN\" = vb_unique.\"txtVIN\"\n",
      "and vb.txtparam = vb_unique.txtparam\n",
      "and vb.\"datTime\" = vb_unique.maxdate\n",
      "\n",
      "order by\n",
      "\"txtVIN\"\n",
      "\"\"\"\n",
      "\n",
      "df = sqlio.read_frame(sql, conn)\n",
      "\n",
      "conn.close()\n",
      "\n",
      "# Let's see what the dataframe looks like and confirm we don't have duplicates.  This prints out the first 10 and last 10 records in our dataframe:\n",
      "print df.head(10)\n",
      "print df.tail(10)"
     ],
     "language": "python",
     "metadata": {},
     "outputs": [
      {
       "output_type": "stream",
       "stream": "stdout",
       "text": [
        "              txtVIN  txtparam  txtparamval  MDL_YR FCTRY_CD  MDL_NM ENG_CYL DEST_CD testYrMth\n",
        "0  1HGCR2E55DA000077  BATT_SOC         46.0    2013      MAP  ACCORD       4      KA   2012-08\n",
        "1  1HGCR2F30DA000159  BATT_SOC         72.0    2013      MAP  ACCORD       4      KA   2012-08\n",
        "2  1HGCR2F30DA000162  BATT_SOC         84.0    2013      MAP  ACCORD       4      KA   2012-08\n",
        "3  1HGCR2F30DA000176  BATT_SOC         79.0    2013      MAP  ACCORD       4      KA   2012-08\n",
        "4  1HGCR2F30DA000193  BATT_SOC         65.0    2013      MAP  ACCORD       4      KA   2012-08\n",
        "5  1HGCR2F30DA000209  BATT_SOC         66.5    2013      MAP  ACCORD       4      KA   2012-08\n",
        "6  1HGCR2F30DA000212  BATT_SOC         76.0    2013      MAP  ACCORD       4      KA   2012-09\n",
        "7  1HGCR2F30DA000582  BATT_SOC         87.5    2013      MAP  ACCORD       4      KL   2012-08\n",
        "8  1HGCR2F30DA000596  BATT_SOC         96.5    2013      MAP  ACCORD       4      KL   2012-08\n",
        "9  1HGCR2F30DA000601  BATT_SOC         81.0    2013      MAP  ACCORD       4      KL   2012-08\n",
        "                  txtVIN  txtparam  txtparamval  MDL_YR FCTRY_CD MDL_NM ENG_CYL DEST_CD testYrMth\n",
        "45814  5J6RM4H7XDL010182  BATT_SOC         72.0    2013      ELP    CRV       4      KA   2012-10\n",
        "45815  5J6RM4H7XDL010196  BATT_SOC         78.5    2013      ELP    CRV       4      KA   2012-10\n",
        "45816  5J6RM4H7XDL010201  BATT_SOC         75.5    2013      ELP    CRV       4      KA   2012-10\n",
        "45817  5J6RM4H7XDL010215  BATT_SOC         73.0    2013      ELP    CRV       4      KA   2012-10\n",
        "45818  5J6RM4H7XDL010229  BATT_SOC         70.0    2013      ELP    CRV       4      KA   2012-10\n",
        "45819  5J6RM4H7XDL010232  BATT_SOC         78.5    2013      ELP    CRV       4      KA   2012-10\n",
        "45820  5J6RM4H7XDL010313  BATT_SOC         77.5    2013      ELP    CRV       4      KA   2012-10\n",
        "45821  5J6RM4H7XDL010327  BATT_SOC         77.5    2013      ELP    CRV       4      KA   2012-10\n",
        "45822  5J6RM4H7XDL010330  BATT_SOC         78.5    2013      ELP    CRV       4      KA   2012-10\n",
        "45823  5J6RM4H7XDL010344  BATT_SOC         88.5    2013      ELP    CRV       4      KA   2012-10\n"
       ]
      }
     ],
     "prompt_number": 44
    },
    {
     "cell_type": "heading",
     "level": 3,
     "metadata": {},
     "source": [
      "Summary Statistics by Plant:"
     ]
    },
    {
     "cell_type": "code",
     "collapsed": false,
     "input": [
      "print df.groupby(['FCTRY_CD'])['txtparamval'].describe()"
     ],
     "language": "python",
     "metadata": {},
     "outputs": [
      {
       "output_type": "stream",
       "stream": "stdout",
       "text": [
        "FCTRY_CD       \n",
        "ELP       count    21807.000000\n",
        "          mean        78.489017\n",
        "          std          7.407038\n",
        "          min          0.000000\n",
        "          25%         74.000000\n",
        "          50%         78.500000\n",
        "          75%         83.000000\n",
        "          max        127.500000\n",
        "MAP       count    23835.000000\n",
        "          mean        84.564863\n",
        "          std         11.237176\n",
        "          min          0.000000\n",
        "          25%         82.000000\n",
        "          50%         87.000000\n",
        "          75%         90.500000\n",
        "          max        127.500000\n"
       ]
      }
     ],
     "prompt_number": 43
    },
    {
     "cell_type": "heading",
     "level": 3,
     "metadata": {},
     "source": [
      "Mean Battery % SOC vs LET Test Month:"
     ]
    },
    {
     "cell_type": "code",
     "collapsed": false,
     "input": [
      "print \"Mean Battery SOC:\"\n",
      "print df.groupby(['FCTRY_CD','testYrMth'])['txtparamval'].mean()"
     ],
     "language": "python",
     "metadata": {},
     "outputs": [
      {
       "output_type": "stream",
       "stream": "stdout",
       "text": [
        "Mean Battery SOC:\n",
        "FCTRY_CD  testYrMth\n",
        "ELP       2012-08      78.495317\n",
        "          2012-09      78.432438\n",
        "          2012-10      78.773088\n",
        "MAP       2012-08      84.950889\n",
        "          2012-09      84.466604\n",
        "Name: txtparamval\n"
       ]
      }
     ],
     "prompt_number": 41
    },
    {
     "cell_type": "heading",
     "level": 3,
     "metadata": {},
     "source": [
      "Histogram of % Battery SOC:"
     ]
    },
    {
     "cell_type": "code",
     "collapsed": false,
     "input": [
      "MAP = df[ (df['FCTRY_CD']=='MAP') ]['txtparamval'].values          # get just MAP values\n",
      "ELP = df[ (df['FCTRY_CD']=='ELP') ]['txtparamval'].values          # get just ELP values\n",
      "n, bins, patches = plt.hist([MAP,ELP], 30, normed=False, cumulative=False, alpha=1, label=['MAP','ELP'])\n",
      "title(\"MAP vs ELP\", weight='bold')\n",
      "xlabel(\"% SOC\")\n",
      "legend()\n",
      "show()"
     ],
     "language": "python",
     "metadata": {},
     "outputs": [
      {
       "output_type": "display_data",
       "png": "[encoded data removed]"
      }
     ],
     "prompt_number": 42
    },
    {
     "cell_type": "heading",
     "level": 3,
     "metadata": {},
     "source": [
      "Box Plot of % Battery SOC:"
     ]
    },
    {
     "cell_type": "code",
     "collapsed": false,
     "input": [
      "fig1 = figure(1, facecolor=\"white\")\n",
      "subplot(1,1,1, axisbg='#cdc9c9')\n",
      "ax = gca()\n",
      "\n",
      "boxplot([MAP,ELP], vert=0, whis=3)\n",
      "title(\"MAP vs ELP % SOC\", weight='bold')\n",
      "plt.xlabel(\"% SOC\")\n",
      "ax.set_yticklabels(['MAP', 'ELP'])\n",
      "ax.xaxis.grid(which='major', linestyle='--', linewidth=1)\n",
      "major_ticks = MultipleLocator(20)\n",
      "ax.xaxis.set_major_locator(major_ticks)\n",
      "show()"
     ],
     "language": "python",
     "metadata": {},
     "outputs": [
      {
       "output_type": "display_data",
       "png": "[encoded data removed]"
      }
     ],
     "prompt_number": 37
    }
   ],
   "metadata": {}
  }
 ]
}